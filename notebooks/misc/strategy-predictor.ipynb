{
 "cells": [
  {
   "cell_type": "code",
   "execution_count": 69,
   "id": "native-breathing",
   "metadata": {},
   "outputs": [
    {
     "name": "stdout",
     "output_type": "stream",
     "text": [
      "/Users/frederic.montet/.local/share/virtualenvs/tars-dSrcWdcW/bin/python\n"
     ]
    }
   ],
   "source": [
    "!which python"
   ]
  },
  {
   "cell_type": "code",
   "execution_count": 70,
   "id": "current-willow",
   "metadata": {
    "collapsed": false,
    "jupyter": {
     "outputs_hidden": false
    },
    "pycharm": {
     "name": "#%%\n"
    }
   },
   "outputs": [],
   "source": [
    "from src import TARS, markets, portfolios, traders, strategies\n",
    "from src import utils\n",
    "from darts import TimeSeries\n",
    "from darts.models import ExponentialSmoothing\n",
    "import pandas as pd\n",
    "\n",
    "%matplotlib inline"
   ]
  },
  {
   "cell_type": "markdown",
   "id": "suburban-retail",
   "metadata": {},
   "source": [
    "# Predictor strategy - in development\n",
    "\n",
    "Here's an example to show how you can develop your own strategy. This notebook is a template for you to start your own thing."
   ]
  },
  {
   "cell_type": "markdown",
   "id": "meaningful-parish",
   "metadata": {},
   "source": [
    "### Here's the strategy in development\n",
    "\n",
    "It's actually a copy of the TrendFollowingMACD."
   ]
  },
  {
   "cell_type": "code",
   "execution_count": 99,
   "id": "labeled-equilibrium",
   "metadata": {},
   "outputs": [
    {
     "name": "stderr",
     "output_type": "stream",
     "text": [
      "/Users/frederic.montet/.local/share/virtualenvs/tars-dSrcWdcW/lib/python3.8/site-packages/statsmodels/tsa/holtwinters/model.py:427: FutureWarning: After 0.13 initialization must be handled at model creation\n",
      "  warnings.warn(\n"
     ]
    }
   ],
   "source": [
    "from src.tars.markets.crypto_market import CryptoMarket\n",
    "market = CryptoMarket()\n",
    "\n",
    "# get last frame\n",
    "df = market.get_ohlc_data(pair='XETHZUSD', ascending=True, interval=15)[0]\n",
    "\n",
    "# preprocessing\n",
    "ts = TimeSeries.from_dataframe(df.reset_index(), 'dtime', 'close')\n",
    "\n",
    "# modeling\n",
    "model = ExponentialSmoothing()\n",
    "model.fit(ts)"
   ]
  },
  {
   "cell_type": "code",
   "execution_count": 103,
   "id": "ambient-obligation",
   "metadata": {},
   "outputs": [],
   "source": [
    "# 3. Get the relevant informations for trading decision\n",
    "prediction = model.predict(2)\n",
    "current = df.iloc[-1]['close']"
   ]
  },
  {
   "cell_type": "code",
   "execution_count": 106,
   "id": "copyrighted-passport",
   "metadata": {},
   "outputs": [
    {
     "data": {
      "image/png": "[encoded data removed]",
      "text/plain": [
       "<Figure size 432x288 with 1 Axes>"
      ]
     },
     "metadata": {
      "needs_background": "light"
     },
     "output_type": "display_data"
    }
   ],
   "source": [
    "df[-10:]['close'].plot();"
   ]
  },
  {
   "cell_type": "code",
   "execution_count": 132,
   "id": "brutal-evolution",
   "metadata": {},
   "outputs": [],
   "source": [
    "import pandas as pd\n",
    "from src.tars.evaluators.trader_evaluator import TraderEvaluator\n",
    "from src.tars.strategies.abstract_strategy import AbstractStrategy\n",
    "from src.tars.markets.crypto_market import CryptoMarket\n",
    "\n",
    "\n",
    "class PredictionStrategy(AbstractStrategy):\n",
    "    \"\"\"\n",
    "    Prediction Strategy\n",
    "\n",
    "    :param trader: Trader\n",
    "        The Trader handling a portfolio\n",
    "    :param pair: str\n",
    "        The pair e.g. XETHZUSD to buy and hold\n",
    "    :param volume: float\n",
    "        The volume of the pair's quote buy\n",
    "    :param validate: boolean\n",
    "        Safety Boolean to make sure not to trade real money by default\n",
    "\n",
    "    :ivar evaluator: AbstractEvaluator\n",
    "        Evaluator allows for the evaluation of a strategy\n",
    "    :ivar market: AbstractMarket\n",
    "        Market object to get information from\n",
    "    \"\"\"\n",
    "\n",
    "    def __init__(self, trader, pair, volume, validate=True):\n",
    "        self.name = 'Prediction'\n",
    "        self.trader = trader\n",
    "        self.pair = pair\n",
    "        self.volume = volume\n",
    "        self.validate = validate\n",
    "        self.evaluator = TraderEvaluator(self.trader)\n",
    "        self.market = CryptoMarket()    \n",
    "\n",
    "    def run(self):\n",
    "        \"\"\" Run the strategy \"\"\"\n",
    "        # 1. Add a checkpoint to the evaluator\n",
    "        balance = self.trader.portfolio.get_trade_balance().loc['eb'].ZUSD   \n",
    "        self.evaluator.add_checkpoint(pd.Timestamp.utcnow(), balance)\n",
    "        \n",
    "        # 2. Process the data\n",
    "        market = CryptoMarket()\n",
    "\n",
    "        # get last frame\n",
    "        df = market.get_ohlc_data(pair=self.pair, ascending=True, interval=15)[0]\n",
    "\n",
    "        # preprocessing\n",
    "        ts = TimeSeries.from_dataframe(df.reset_index(), 'dtime', 'close')\n",
    "\n",
    "        # modeling\n",
    "        model = ExponentialSmoothing()\n",
    "        model.fit(ts)\n",
    "\n",
    "        # 3. Get the relevant informations for trading decision\n",
    "        prediction = round(model.predict(2).last_value(),2)\n",
    "        current = df.iloc[-1]['close']\n",
    "\n",
    "        # 4. Implement the trading logic\n",
    "        if prediction < current:\n",
    "            self.trader.add_order(pair=self.pair, type='sell',\n",
    "                                  ordertype='market', volume=self.volume,\n",
    "                                  validate=self.validate)\n",
    "\n",
    "        elif prediction >= current:\n",
    "            self.trader.add_order(pair=self.pair, type='buy',\n",
    "                                  ordertype='market', volume=self.volume,\n",
    "                                  validate=self.validate)\n",
    "        else:\n",
    "            pass\n"
   ]
  },
  {
   "cell_type": "markdown",
   "id": "individual-weapon",
   "metadata": {},
   "source": [
    "## Instanciate Tars"
   ]
  },
  {
   "cell_type": "markdown",
   "id": "spiritual-interval",
   "metadata": {},
   "source": [
    "Then, it is as usual."
   ]
  },
  {
   "cell_type": "code",
   "execution_count": 133,
   "id": "considered-lottery",
   "metadata": {},
   "outputs": [],
   "source": [
    "api_key = f'../kraken.key'"
   ]
  },
  {
   "cell_type": "code",
   "execution_count": 134,
   "id": "typical-usage",
   "metadata": {},
   "outputs": [],
   "source": [
    "portfolio_1 = portfolios.VirtualPortfolio({'ZUSD': 1000})\n",
    "trader_1 = traders.VirtualCryptoTrader(portfolio_1)\n",
    "strategy_1 = strategies.BuyAndHold(trader_1, 'XETHZUSD', 0.2)\n",
    "\n",
    "portfolio_2 = portfolios.VirtualPortfolio({'ZUSD': 1000})\n",
    "trader_2 = traders.VirtualCryptoTrader(portfolio_2)\n",
    "\n",
    "# Here's where you use your newly developed strategy\n",
    "strategy_2 = PredictionStrategy(trader_2, 'XETHZUSD', 0.2)"
   ]
  },
  {
   "cell_type": "code",
   "execution_count": 135,
   "id": "crucial-houston",
   "metadata": {},
   "outputs": [
    {
     "name": "stderr",
     "output_type": "stream",
     "text": [
      "INFO:root:🤖 TARS : Welcome to Endurance! 👨‍🚀\n",
      "INFO:root:🤖 TARS : Loaded strategy ➡️ Buy and hold\n",
      "INFO:root:🤖 TARS : Loaded strategy ➡️ Prediction\n"
     ]
    }
   ],
   "source": [
    "# Create Tars and load its strategies\n",
    "tars = TARS()\n",
    "tars.load(strategy_1)\n",
    "tars.load(strategy_2)"
   ]
  },
  {
   "cell_type": "markdown",
   "id": "interested-venezuela",
   "metadata": {},
   "source": [
    "## Start the bot"
   ]
  },
  {
   "cell_type": "code",
   "execution_count": 136,
   "id": "southeast-batman",
   "metadata": {},
   "outputs": [
    {
     "name": "stderr",
     "output_type": "stream",
     "text": [
      "INFO:root:🤖 TARS : Starting trading session 📈\n",
      "INFO:root:⏱ Trading decision will be taken every : 00:00:10️ (hh:mm:ss)\n",
      "INFO:root:💪️ Loading :   \n",
      "INFO:root:  🧵 'Thread-6' ➡️ 'Buy and hold'\n",
      "INFO:root:  🧵 'Thread-7' ➡️ 'Prediction'\n",
      "/Users/frederic.montet/.local/share/virtualenvs/tars-dSrcWdcW/lib/python3.8/site-packages/statsmodels/tsa/holtwinters/model.py:427: FutureWarning: After 0.13 initialization must be handled at model creation\n",
      "  warnings.warn(\n"
     ]
    }
   ],
   "source": [
    "tars.start('00:00:10')"
   ]
  },
  {
   "cell_type": "markdown",
   "id": "seasonal-renewal",
   "metadata": {},
   "source": [
    "## Evaluate the strategy"
   ]
  },
  {
   "cell_type": "code",
   "execution_count": 181,
   "id": "european-headquarters",
   "metadata": {},
   "outputs": [
    {
     "data": {
      "image/png": "[encoded data removed]",
      "text/plain": [
       "<Figure size 432x288 with 1 Axes>"
      ]
     },
     "metadata": {
      "needs_background": "light"
     },
     "output_type": "display_data"
    },
    {
     "name": "stderr",
     "output_type": "stream",
     "text": [
      "/Users/frederic.montet/.local/share/virtualenvs/tars-dSrcWdcW/lib/python3.8/site-packages/statsmodels/tsa/holtwinters/model.py:427: FutureWarning: After 0.13 initialization must be handled at model creation\n",
      "  warnings.warn(\n"
     ]
    }
   ],
   "source": [
    "tars.plot()"
   ]
  },
  {
   "cell_type": "code",
   "execution_count": 179,
   "id": "sustainable-ground",
   "metadata": {},
   "outputs": [
    {
     "name": "stdout",
     "output_type": "stream",
     "text": [
      "attempt: 001 | ['EAPI:Rate limit exceeded']\n"
     ]
    },
    {
     "data": {
      "text/html": [
       "<div>\n",
       "<style scoped>\n",
       "    .dataframe tbody tr th:only-of-type {\n",
       "        vertical-align: middle;\n",
       "    }\n",
       "\n",
       "    .dataframe tbody tr th {\n",
       "        vertical-align: top;\n",
       "    }\n",
       "\n",
       "    .dataframe thead th {\n",
       "        text-align: right;\n",
       "    }\n",
       "</style>\n",
       "<table border=\"1\" class=\"dataframe\">\n",
       "  <thead>\n",
       "    <tr style=\"text-align: right;\">\n",
       "      <th></th>\n",
       "      <th>Buy and hold</th>\n",
       "      <th>Prediction</th>\n",
       "    </tr>\n",
       "  </thead>\n",
       "  <tbody>\n",
       "    <tr>\n",
       "      <th>2021-08-13 07:28:00+00:00</th>\n",
       "      <td>1006.00</td>\n",
       "      <td>943.01</td>\n",
       "    </tr>\n",
       "    <tr>\n",
       "      <th>2021-08-13 07:29:00+00:00</th>\n",
       "      <td>1006.17</td>\n",
       "      <td>938.30</td>\n",
       "    </tr>\n",
       "    <tr>\n",
       "      <th>2021-08-13 07:30:00+00:00</th>\n",
       "      <td>1005.79</td>\n",
       "      <td>936.63</td>\n",
       "    </tr>\n",
       "    <tr>\n",
       "      <th>2021-08-13 07:31:00+00:00</th>\n",
       "      <td>1006.83</td>\n",
       "      <td>936.36</td>\n",
       "    </tr>\n",
       "    <tr>\n",
       "      <th>2021-08-13 07:32:00+00:00</th>\n",
       "      <td>1005.71</td>\n",
       "      <td>934.88</td>\n",
       "    </tr>\n",
       "  </tbody>\n",
       "</table>\n",
       "</div>"
      ],
      "text/plain": [
       "                           Buy and hold  Prediction\n",
       "2021-08-13 07:28:00+00:00       1006.00      943.01\n",
       "2021-08-13 07:29:00+00:00       1006.17      938.30\n",
       "2021-08-13 07:30:00+00:00       1005.79      936.63\n",
       "2021-08-13 07:31:00+00:00       1006.83      936.36\n",
       "2021-08-13 07:32:00+00:00       1005.71      934.88"
      ]
     },
     "execution_count": 179,
     "metadata": {},
     "output_type": "execute_result"
    },
    {
     "name": "stderr",
     "output_type": "stream",
     "text": [
      "/Users/frederic.montet/.local/share/virtualenvs/tars-dSrcWdcW/lib/python3.8/site-packages/statsmodels/tsa/holtwinters/model.py:427: FutureWarning: After 0.13 initialization must be handled at model creation\n",
      "  warnings.warn(\n"
     ]
    },
    {
     "name": "stdout",
     "output_type": "stream",
     "text": [
      "attempt: 000 | ['EAPI:Rate limit exceeded']\n",
      "attempt: 001 | ['EAPI:Rate limit exceeded']\n",
      "attempt: 002 | ['EAPI:Rate limit exceeded']\n",
      "attempt: 003 | ['EAPI:Rate limit exceeded']\n",
      "attempt: 000 | ['EAPI:Rate limit exceeded']\n",
      "attempt: 000 | ['EAPI:Rate limit exceeded']\n",
      "attempt: 001 | ['EAPI:Rate limit exceeded']\n",
      "attempt: 000 | ['EAPI:Rate limit exceeded']\n",
      "attempt: 000 | ['EAPI:Rate limit exceeded']\n",
      "attempt: 001 | ['EAPI:Rate limit exceeded']\n",
      "attempt: 000 | ['EAPI:Rate limit exceeded']\n",
      "attempt: 001 | ['EAPI:Rate limit exceeded']\n",
      "attempt: 002 | ['EAPI:Rate limit exceeded']\n",
      "attempt: 000 | ['EAPI:Rate limit exceeded']\n",
      "attempt: 001 | ['EAPI:Rate limit exceeded']\n",
      "attempt: 000 | ['EAPI:Rate limit exceeded']\n",
      "attempt: 001 | ['EAPI:Rate limit exceeded']\n",
      "attempt: 002 | ['EAPI:Rate limit exceeded']\n",
      "attempt: 003 | ['EAPI:Rate limit exceeded']\n",
      "attempt: 004 | ['EAPI:Rate limit exceeded']\n",
      "attempt: 000 | ['EAPI:Rate limit exceeded']\n",
      "attempt: 001 | ['EAPI:Rate limit exceeded']\n",
      "attempt: 002 | ['EAPI:Rate limit exceeded']\n",
      "attempt: 000 | ['EAPI:Rate limit exceeded']\n",
      "attempt: 001 | ['EAPI:Rate limit exceeded']\n",
      "attempt: 000 | ['EAPI:Rate limit exceeded']\n",
      "attempt: 001 | ['EAPI:Rate limit exceeded']\n",
      "attempt: 000 | ['EAPI:Rate limit exceeded']\n",
      "attempt: 001 | ['EAPI:Rate limit exceeded']\n",
      "attempt: 000 | ['EAPI:Rate limit exceeded']\n",
      "attempt: 001 | ['EAPI:Rate limit exceeded']\n",
      "attempt: 000 | ['EAPI:Rate limit exceeded']\n",
      "attempt: 001 | ['EAPI:Rate limit exceeded']\n",
      "attempt: 002 | ['EAPI:Rate limit exceeded']\n",
      "attempt: 003 | ['EAPI:Rate limit exceeded']\n",
      "attempt: 000 | ['EAPI:Rate limit exceeded']\n",
      "attempt: 001 | ['EAPI:Rate limit exceeded']\n",
      "attempt: 002 | ['EAPI:Rate limit exceeded']\n",
      "attempt: 003 | ['EAPI:Rate limit exceeded']\n",
      "attempt: 004 | ['EAPI:Rate limit exceeded']\n",
      "attempt: 005 | ['EAPI:Rate limit exceeded']\n",
      "attempt: 006 | ['EAPI:Rate limit exceeded']\n",
      "attempt: 000 | ['EAPI:Rate limit exceeded']\n",
      "attempt: 001 | ['EAPI:Rate limit exceeded']\n",
      "attempt: 002 | ['EAPI:Rate limit exceeded']\n",
      "attempt: 003 | ['EAPI:Rate limit exceeded']\n",
      "attempt: 004 | ['EAPI:Rate limit exceeded']\n",
      "attempt: 000 | ['EAPI:Rate limit exceeded']\n",
      "attempt: 000 | ['EAPI:Rate limit exceeded']\n",
      "attempt: 001 | ['EAPI:Rate limit exceeded']\n",
      "attempt: 000 | ['EAPI:Rate limit exceeded']\n",
      "attempt: 001 | ['EAPI:Rate limit exceeded']\n",
      "attempt: 002 | ['EAPI:Rate limit exceeded']\n",
      "attempt: 000 | ['EAPI:Rate limit exceeded']\n",
      "attempt: 001 | ['EAPI:Rate limit exceeded']\n",
      "attempt: 002 | ['EAPI:Rate limit exceeded']\n",
      "attempt: 000 | ['EAPI:Rate limit exceeded']\n",
      "attempt: 001 | ['EAPI:Rate limit exceeded']\n",
      "attempt: 002 | ['EAPI:Rate limit exceeded']\n",
      "attempt: 003 | ['EAPI:Rate limit exceeded']\n",
      "attempt: 004 | ['EAPI:Rate limit exceeded']\n",
      "attempt: 000 | ['EAPI:Rate limit exceeded']\n",
      "attempt: 001 | ['EAPI:Rate limit exceeded']\n",
      "attempt: 002 | ['EAPI:Rate limit exceeded']\n",
      "attempt: 003 | ['EAPI:Rate limit exceeded']\n",
      "attempt: 004 | ['EAPI:Rate limit exceeded']\n",
      "attempt: 000 | ['EAPI:Rate limit exceeded']\n",
      "attempt: 001 | ['EAPI:Rate limit exceeded']\n",
      "attempt: 000 | ['EAPI:Rate limit exceeded']\n",
      "attempt: 001 | ['EAPI:Rate limit exceeded']\n",
      "attempt: 000 | ['EAPI:Rate limit exceeded']\n",
      "attempt: 000 | ['EAPI:Rate limit exceeded']\n",
      "attempt: 001 | ['EAPI:Rate limit exceeded']\n",
      "attempt: 002 | ['EAPI:Rate limit exceeded']\n",
      "attempt: 003 | ['EAPI:Rate limit exceeded']\n",
      "attempt: 000 | ['EAPI:Rate limit exceeded']\n",
      "attempt: 000 | ['EAPI:Rate limit exceeded']\n",
      "attempt: 001 | ['EAPI:Rate limit exceeded']\n",
      "attempt: 002 | ['EAPI:Rate limit exceeded']\n",
      "attempt: 003 | ['EAPI:Rate limit exceeded']\n",
      "attempt: 000 | ['EAPI:Rate limit exceeded']\n",
      "attempt: 004 | ['EAPI:Rate limit exceeded']\n",
      "attempt: 005 | ['EAPI:Rate limit exceeded']\n",
      "attempt: 006 | ['EAPI:Rate limit exceeded']\n",
      "attempt: 007 | ['EAPI:Rate limit exceeded']\n",
      "attempt: 008 | ['EAPI:Rate limit exceeded']\n",
      "attempt: 000 | ['EAPI:Rate limit exceeded']\n",
      "attempt: 001 | ['EAPI:Rate limit exceeded']\n",
      "attempt: 002 | ['EAPI:Rate limit exceeded']\n",
      "attempt: 000 | ['EAPI:Rate limit exceeded']\n",
      "attempt: 001 | ['EAPI:Rate limit exceeded']\n",
      "attempt: 002 | ['EAPI:Rate limit exceeded']\n",
      "attempt: 000 | ['EAPI:Rate limit exceeded']\n",
      "attempt: 001 | ['EAPI:Rate limit exceeded']\n",
      "attempt: 002 | ['EAPI:Rate limit exceeded']\n",
      "attempt: 003 | ['EAPI:Rate limit exceeded']\n",
      "attempt: 000 | ['EAPI:Rate limit exceeded']\n",
      "attempt: 000 | ['EAPI:Rate limit exceeded']\n",
      "attempt: 000 | ['EAPI:Rate limit exceeded']\n",
      "attempt: 001 | ['EAPI:Rate limit exceeded']\n",
      "attempt: 002 | ['EAPI:Rate limit exceeded']\n",
      "attempt: 003 | ['EAPI:Rate limit exceeded']\n",
      "attempt: 004 | ['EAPI:Rate limit exceeded']\n",
      "attempt: 005 | ['EAPI:Rate limit exceeded']\n",
      "attempt: 000 | ['EAPI:Rate limit exceeded']\n",
      "attempt: 001 | ['EAPI:Rate limit exceeded']\n",
      "attempt: 002 | ['EAPI:Rate limit exceeded']\n",
      "attempt: 003 | ['EAPI:Rate limit exceeded']\n",
      "attempt: 004 | ['EAPI:Rate limit exceeded']\n",
      "attempt: 005 | ['EAPI:Rate limit exceeded']\n",
      "attempt: 000 | ['EAPI:Rate limit exceeded']\n",
      "attempt: 006 | ['EAPI:Rate limit exceeded']\n",
      "attempt: 001 | ['EAPI:Rate limit exceeded']\n",
      "attempt: 007 |attempt: 002 | ['EAPI:Rate limit exceeded']\n",
      " ['EAPI:Rate limit exceeded']\n",
      "attempt: 003 | ['EAPI:Rate limit exceeded']\n",
      "attempt: 008 | ['EAPI:Rate limit exceeded']\n",
      "attempt: 009 | ['EAPI:Rate limit exceeded']\n",
      "attempt: 010 | ['EAPI:Rate limit exceeded']\n",
      "attempt: 011 | ['EAPI:Rate limit exceeded']\n",
      "attempt: 012 | ['EAPI:Rate limit exceeded']\n"
     ]
    }
   ],
   "source": [
    "tars.evaluate().tail()"
   ]
  },
  {
   "cell_type": "markdown",
   "id": "judicial-september",
   "metadata": {},
   "source": [
    "## Stop the bot"
   ]
  },
  {
   "cell_type": "code",
   "execution_count": 182,
   "id": "simplified-thong",
   "metadata": {},
   "outputs": [
    {
     "name": "stderr",
     "output_type": "stream",
     "text": [
      "INFO:root:🤖 TARS : ✋ Stopped all strategies\n"
     ]
    }
   ],
   "source": [
    "tars.stop()"
   ]
  },
  {
   "cell_type": "markdown",
   "id": "available-channels",
   "metadata": {},
   "source": [
    "---"
   ]
  }
 ],
 "metadata": {
  "kernelspec": {
   "display_name": "Python 3 (ipykernel)",
   "language": "python",
   "name": "python3"
  },
  "language_info": {
   "codemirror_mode": {
    "name": "ipython",
    "version": 3
   },
   "file_extension": ".py",
   "mimetype": "text/x-python",
   "name": "python",
   "nbconvert_exporter": "python",
   "pygments_lexer": "ipython3",
   "version": "3.8.7"
  }
 },
 "nbformat": 4,
 "nbformat_minor": 5
}
