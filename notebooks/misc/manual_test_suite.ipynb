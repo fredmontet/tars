{
 "cells": [
  {
   "cell_type": "code",
   "execution_count": 1,
   "id": "mechanical-thomson",
   "metadata": {
    "collapsed": false,
    "jupyter": {
     "outputs_hidden": false
    },
    "pycharm": {
     "name": "#%%\n"
    }
   },
   "outputs": [],
   "source": [
    "from tars import Tars, markets, portfolios, traders, strategies, metrics\n",
    "import pandas as pd"
   ]
  },
  {
   "cell_type": "markdown",
   "id": "mineral-butter",
   "metadata": {},
   "source": [
    "# Manual Test Suite"
   ]
  },
  {
   "cell_type": "markdown",
   "id": "announced-listing",
   "metadata": {},
   "source": [
    "## Create TARS"
   ]
  },
  {
   "cell_type": "code",
   "execution_count": 37,
   "id": "ranging-shannon",
   "metadata": {},
   "outputs": [],
   "source": [
    "root = '../'\n",
    "api_key = f'{root}kraken.key'\n",
    "tars = TARS()"
   ]
  },
  {
   "cell_type": "markdown",
   "id": "genuine-medline",
   "metadata": {},
   "source": [
    "---"
   ]
  },
  {
   "cell_type": "markdown",
   "id": "empirical-vietnamese",
   "metadata": {},
   "source": [
    "## Market Functions"
   ]
  },
  {
   "cell_type": "code",
   "execution_count": 38,
   "id": "floral-commerce",
   "metadata": {},
   "outputs": [],
   "source": [
    "# Create instance\n",
    "market = markets.CryptoMarket()"
   ]
  },
  {
   "cell_type": "code",
   "execution_count": 39,
   "id": "loving-effects",
   "metadata": {},
   "outputs": [
    {
     "data": {
      "text/html": [
       "<div>\n",
       "<style scoped>\n",
       "    .dataframe tbody tr th:only-of-type {\n",
       "        vertical-align: middle;\n",
       "    }\n",
       "\n",
       "    .dataframe tbody tr th {\n",
       "        vertical-align: top;\n",
       "    }\n",
       "\n",
       "    .dataframe thead th {\n",
       "        text-align: right;\n",
       "    }\n",
       "</style>\n",
       "<table border=\"1\" class=\"dataframe\">\n",
       "  <thead>\n",
       "    <tr style=\"text-align: right;\">\n",
       "      <th></th>\n",
       "      <th>aclass</th>\n",
       "      <th>altname</th>\n",
       "      <th>decimals</th>\n",
       "      <th>display_decimals</th>\n",
       "    </tr>\n",
       "  </thead>\n",
       "  <tbody>\n",
       "    <tr>\n",
       "      <th>AAVE</th>\n",
       "      <td>currency</td>\n",
       "      <td>AAVE</td>\n",
       "      <td>10</td>\n",
       "      <td>5</td>\n",
       "    </tr>\n",
       "    <tr>\n",
       "      <th>ADA</th>\n",
       "      <td>currency</td>\n",
       "      <td>ADA</td>\n",
       "      <td>8</td>\n",
       "      <td>6</td>\n",
       "    </tr>\n",
       "    <tr>\n",
       "      <th>ADA.S</th>\n",
       "      <td>currency</td>\n",
       "      <td>ADA.S</td>\n",
       "      <td>8</td>\n",
       "      <td>6</td>\n",
       "    </tr>\n",
       "    <tr>\n",
       "      <th>ALGO</th>\n",
       "      <td>currency</td>\n",
       "      <td>ALGO</td>\n",
       "      <td>8</td>\n",
       "      <td>5</td>\n",
       "    </tr>\n",
       "    <tr>\n",
       "      <th>ANKR</th>\n",
       "      <td>currency</td>\n",
       "      <td>ANKR</td>\n",
       "      <td>10</td>\n",
       "      <td>5</td>\n",
       "    </tr>\n",
       "  </tbody>\n",
       "</table>\n",
       "</div>"
      ],
      "text/plain": [
       "         aclass altname decimals display_decimals\n",
       "AAVE   currency    AAVE       10                5\n",
       "ADA    currency     ADA        8                6\n",
       "ADA.S  currency   ADA.S        8                6\n",
       "ALGO   currency    ALGO        8                5\n",
       "ANKR   currency    ANKR       10                5"
      ]
     },
     "execution_count": 39,
     "metadata": {},
     "output_type": "execute_result"
    }
   ],
   "source": [
    "# Get asset informations\n",
    "market.get_asset_info().head()"
   ]
  },
  {
   "cell_type": "code",
   "execution_count": 40,
   "id": "quantitative-chemical",
   "metadata": {},
   "outputs": [
    {
     "name": "stdout",
     "output_type": "stream",
     "text": [
      "public call frequency exceeded (seconds=0.582922) \n",
      " sleeping for 5 seconds\n"
     ]
    },
    {
     "data": {
      "text/html": [
       "<div>\n",
       "<style scoped>\n",
       "    .dataframe tbody tr th:only-of-type {\n",
       "        vertical-align: middle;\n",
       "    }\n",
       "\n",
       "    .dataframe tbody tr th {\n",
       "        vertical-align: top;\n",
       "    }\n",
       "\n",
       "    .dataframe thead th {\n",
       "        text-align: right;\n",
       "    }\n",
       "</style>\n",
       "<table border=\"1\" class=\"dataframe\">\n",
       "  <thead>\n",
       "    <tr style=\"text-align: right;\">\n",
       "      <th></th>\n",
       "      <th>time</th>\n",
       "      <th>open</th>\n",
       "      <th>high</th>\n",
       "      <th>low</th>\n",
       "      <th>close</th>\n",
       "      <th>vwap</th>\n",
       "      <th>volume</th>\n",
       "      <th>count</th>\n",
       "    </tr>\n",
       "    <tr>\n",
       "      <th>dtime</th>\n",
       "      <th></th>\n",
       "      <th></th>\n",
       "      <th></th>\n",
       "      <th></th>\n",
       "      <th></th>\n",
       "      <th></th>\n",
       "      <th></th>\n",
       "      <th></th>\n",
       "    </tr>\n",
       "  </thead>\n",
       "  <tbody>\n",
       "    <tr>\n",
       "      <th>2021-07-27 13:08:00</th>\n",
       "      <td>1627391280</td>\n",
       "      <td>2116.26</td>\n",
       "      <td>2116.26</td>\n",
       "      <td>2116.26</td>\n",
       "      <td>2116.26</td>\n",
       "      <td>0.0</td>\n",
       "      <td>0.0</td>\n",
       "      <td>0</td>\n",
       "    </tr>\n",
       "    <tr>\n",
       "      <th>2021-07-27 13:07:00</th>\n",
       "      <td>1627391220</td>\n",
       "      <td>2116.26</td>\n",
       "      <td>2116.26</td>\n",
       "      <td>2116.26</td>\n",
       "      <td>2116.26</td>\n",
       "      <td>0.0</td>\n",
       "      <td>0.0</td>\n",
       "      <td>0</td>\n",
       "    </tr>\n",
       "    <tr>\n",
       "      <th>2021-07-27 13:06:00</th>\n",
       "      <td>1627391160</td>\n",
       "      <td>2116.26</td>\n",
       "      <td>2116.26</td>\n",
       "      <td>2116.26</td>\n",
       "      <td>2116.26</td>\n",
       "      <td>0.0</td>\n",
       "      <td>0.0</td>\n",
       "      <td>0</td>\n",
       "    </tr>\n",
       "    <tr>\n",
       "      <th>2021-07-27 13:05:00</th>\n",
       "      <td>1627391100</td>\n",
       "      <td>2116.26</td>\n",
       "      <td>2116.26</td>\n",
       "      <td>2116.26</td>\n",
       "      <td>2116.26</td>\n",
       "      <td>0.0</td>\n",
       "      <td>0.0</td>\n",
       "      <td>0</td>\n",
       "    </tr>\n",
       "    <tr>\n",
       "      <th>2021-07-27 13:04:00</th>\n",
       "      <td>1627391040</td>\n",
       "      <td>2116.26</td>\n",
       "      <td>2116.26</td>\n",
       "      <td>2116.26</td>\n",
       "      <td>2116.26</td>\n",
       "      <td>0.0</td>\n",
       "      <td>0.0</td>\n",
       "      <td>0</td>\n",
       "    </tr>\n",
       "  </tbody>\n",
       "</table>\n",
       "</div>"
      ],
      "text/plain": [
       "                           time     open     high      low    close  vwap  \\\n",
       "dtime                                                                       \n",
       "2021-07-27 13:08:00  1627391280  2116.26  2116.26  2116.26  2116.26   0.0   \n",
       "2021-07-27 13:07:00  1627391220  2116.26  2116.26  2116.26  2116.26   0.0   \n",
       "2021-07-27 13:06:00  1627391160  2116.26  2116.26  2116.26  2116.26   0.0   \n",
       "2021-07-27 13:05:00  1627391100  2116.26  2116.26  2116.26  2116.26   0.0   \n",
       "2021-07-27 13:04:00  1627391040  2116.26  2116.26  2116.26  2116.26   0.0   \n",
       "\n",
       "                     volume  count  \n",
       "dtime                               \n",
       "2021-07-27 13:08:00     0.0      0  \n",
       "2021-07-27 13:07:00     0.0      0  \n",
       "2021-07-27 13:06:00     0.0      0  \n",
       "2021-07-27 13:05:00     0.0      0  \n",
       "2021-07-27 13:04:00     0.0      0  "
      ]
     },
     "execution_count": 40,
     "metadata": {},
     "output_type": "execute_result"
    }
   ],
   "source": [
    "# Get OHLC Data\n",
    "market.get_ohlc_data('ETHCHF')[0].head()"
   ]
  },
  {
   "cell_type": "code",
   "execution_count": 6,
   "id": "leading-louisiana",
   "metadata": {},
   "outputs": [
    {
     "data": {
      "text/html": [
       "<div>\n",
       "<style scoped>\n",
       "    .dataframe tbody tr th:only-of-type {\n",
       "        vertical-align: middle;\n",
       "    }\n",
       "\n",
       "    .dataframe tbody tr th {\n",
       "        vertical-align: top;\n",
       "    }\n",
       "\n",
       "    .dataframe thead th {\n",
       "        text-align: right;\n",
       "    }\n",
       "</style>\n",
       "<table border=\"1\" class=\"dataframe\">\n",
       "  <thead>\n",
       "    <tr style=\"text-align: right;\">\n",
       "      <th></th>\n",
       "      <th>price</th>\n",
       "      <th>volume</th>\n",
       "      <th>time</th>\n",
       "    </tr>\n",
       "    <tr>\n",
       "      <th>dtime</th>\n",
       "      <th></th>\n",
       "      <th></th>\n",
       "      <th></th>\n",
       "    </tr>\n",
       "  </thead>\n",
       "  <tbody>\n",
       "    <tr>\n",
       "      <th>2021-07-27 08:36:50</th>\n",
       "      <td>2213.60000</td>\n",
       "      <td>7.777</td>\n",
       "      <td>1627375010</td>\n",
       "    </tr>\n",
       "    <tr>\n",
       "      <th>2021-07-27 08:36:50</th>\n",
       "      <td>2214.13000</td>\n",
       "      <td>1.117</td>\n",
       "      <td>1627375010</td>\n",
       "    </tr>\n",
       "    <tr>\n",
       "      <th>2021-07-27 08:36:49</th>\n",
       "      <td>2213.62000</td>\n",
       "      <td>4.517</td>\n",
       "      <td>1627375009</td>\n",
       "    </tr>\n",
       "    <tr>\n",
       "      <th>2021-07-27 08:36:49</th>\n",
       "      <td>2213.93000</td>\n",
       "      <td>0.898</td>\n",
       "      <td>1627375009</td>\n",
       "    </tr>\n",
       "    <tr>\n",
       "      <th>2021-07-27 08:36:47</th>\n",
       "      <td>2213.82000</td>\n",
       "      <td>0.350</td>\n",
       "      <td>1627375007</td>\n",
       "    </tr>\n",
       "  </tbody>\n",
       "</table>\n",
       "</div>"
      ],
      "text/plain": [
       "                          price volume        time\n",
       "dtime                                             \n",
       "2021-07-27 08:36:50  2213.60000  7.777  1627375010\n",
       "2021-07-27 08:36:50  2214.13000  1.117  1627375010\n",
       "2021-07-27 08:36:49  2213.62000  4.517  1627375009\n",
       "2021-07-27 08:36:49  2213.93000  0.898  1627375009\n",
       "2021-07-27 08:36:47  2213.82000  0.350  1627375007"
      ]
     },
     "execution_count": 6,
     "metadata": {},
     "output_type": "execute_result"
    }
   ],
   "source": [
    "# Get main order book \n",
    "market.get_order_book('XETHZUSD', count=5)[0]"
   ]
  },
  {
   "cell_type": "code",
   "execution_count": 7,
   "id": "sharing-circulation",
   "metadata": {},
   "outputs": [
    {
     "data": {
      "text/html": [
       "<div>\n",
       "<style scoped>\n",
       "    .dataframe tbody tr th:only-of-type {\n",
       "        vertical-align: middle;\n",
       "    }\n",
       "\n",
       "    .dataframe tbody tr th {\n",
       "        vertical-align: top;\n",
       "    }\n",
       "\n",
       "    .dataframe thead th {\n",
       "        text-align: right;\n",
       "    }\n",
       "</style>\n",
       "<table border=\"1\" class=\"dataframe\">\n",
       "  <thead>\n",
       "    <tr style=\"text-align: right;\">\n",
       "      <th></th>\n",
       "      <th>time</th>\n",
       "      <th>bid</th>\n",
       "      <th>ask</th>\n",
       "      <th>spread</th>\n",
       "    </tr>\n",
       "    <tr>\n",
       "      <th>dtime</th>\n",
       "      <th></th>\n",
       "      <th></th>\n",
       "      <th></th>\n",
       "      <th></th>\n",
       "    </tr>\n",
       "  </thead>\n",
       "  <tbody>\n",
       "    <tr>\n",
       "      <th>2021-07-27 08:36:52</th>\n",
       "      <td>1627375012</td>\n",
       "      <td>2213.37</td>\n",
       "      <td>2213.6</td>\n",
       "      <td>0.23</td>\n",
       "    </tr>\n",
       "    <tr>\n",
       "      <th>2021-07-27 08:36:51</th>\n",
       "      <td>1627375011</td>\n",
       "      <td>2213.26</td>\n",
       "      <td>2213.6</td>\n",
       "      <td>0.34</td>\n",
       "    </tr>\n",
       "    <tr>\n",
       "      <th>2021-07-27 08:36:51</th>\n",
       "      <td>1627375011</td>\n",
       "      <td>2213.23</td>\n",
       "      <td>2213.6</td>\n",
       "      <td>0.37</td>\n",
       "    </tr>\n",
       "    <tr>\n",
       "      <th>2021-07-27 08:36:50</th>\n",
       "      <td>1627375010</td>\n",
       "      <td>2213.24</td>\n",
       "      <td>2213.6</td>\n",
       "      <td>0.36</td>\n",
       "    </tr>\n",
       "    <tr>\n",
       "      <th>2021-07-27 08:36:50</th>\n",
       "      <td>1627375010</td>\n",
       "      <td>2213.23</td>\n",
       "      <td>2213.6</td>\n",
       "      <td>0.37</td>\n",
       "    </tr>\n",
       "  </tbody>\n",
       "</table>\n",
       "</div>"
      ],
      "text/plain": [
       "                           time      bid     ask  spread\n",
       "dtime                                                   \n",
       "2021-07-27 08:36:52  1627375012  2213.37  2213.6    0.23\n",
       "2021-07-27 08:36:51  1627375011  2213.26  2213.6    0.34\n",
       "2021-07-27 08:36:51  1627375011  2213.23  2213.6    0.37\n",
       "2021-07-27 08:36:50  1627375010  2213.24  2213.6    0.36\n",
       "2021-07-27 08:36:50  1627375010  2213.23  2213.6    0.37"
      ]
     },
     "execution_count": 7,
     "metadata": {},
     "output_type": "execute_result"
    }
   ],
   "source": [
    "# Get recent spread of the datam \n",
    "market.get_recent_spread_data('XETHZUSD')[0].head()"
   ]
  },
  {
   "cell_type": "code",
   "execution_count": 9,
   "id": "exterior-tennis",
   "metadata": {},
   "outputs": [
    {
     "name": "stdout",
     "output_type": "stream",
     "text": [
      "public call frequency exceeded (seconds=0.900353) \n",
      " sleeping for 5 seconds\n"
     ]
    },
    {
     "data": {
      "text/html": [
       "<div>\n",
       "<style scoped>\n",
       "    .dataframe tbody tr th:only-of-type {\n",
       "        vertical-align: middle;\n",
       "    }\n",
       "\n",
       "    .dataframe tbody tr th {\n",
       "        vertical-align: top;\n",
       "    }\n",
       "\n",
       "    .dataframe thead th {\n",
       "        text-align: right;\n",
       "    }\n",
       "</style>\n",
       "<table border=\"1\" class=\"dataframe\">\n",
       "  <thead>\n",
       "    <tr style=\"text-align: right;\">\n",
       "      <th></th>\n",
       "      <th>price</th>\n",
       "      <th>volume</th>\n",
       "      <th>time</th>\n",
       "      <th>buy_sell</th>\n",
       "      <th>market_limit</th>\n",
       "      <th>misc</th>\n",
       "    </tr>\n",
       "    <tr>\n",
       "      <th>dtime</th>\n",
       "      <th></th>\n",
       "      <th></th>\n",
       "      <th></th>\n",
       "      <th></th>\n",
       "      <th></th>\n",
       "      <th></th>\n",
       "    </tr>\n",
       "  </thead>\n",
       "  <tbody>\n",
       "    <tr>\n",
       "      <th>2021-07-26 16:35:17.458200064</th>\n",
       "      <td>2371.65</td>\n",
       "      <td>0.020272</td>\n",
       "      <td>1.627317e+09</td>\n",
       "      <td>buy</td>\n",
       "      <td>market</td>\n",
       "      <td></td>\n",
       "    </tr>\n",
       "    <tr>\n",
       "      <th>2021-07-26 16:35:15.985199872</th>\n",
       "      <td>2371.64</td>\n",
       "      <td>0.000166</td>\n",
       "      <td>1.627317e+09</td>\n",
       "      <td>sell</td>\n",
       "      <td>market</td>\n",
       "      <td></td>\n",
       "    </tr>\n",
       "    <tr>\n",
       "      <th>2021-07-26 16:35:15.983300096</th>\n",
       "      <td>2371.64</td>\n",
       "      <td>0.064834</td>\n",
       "      <td>1.627317e+09</td>\n",
       "      <td>sell</td>\n",
       "      <td>market</td>\n",
       "      <td></td>\n",
       "    </tr>\n",
       "    <tr>\n",
       "      <th>2021-07-26 16:35:14.302799872</th>\n",
       "      <td>2371.21</td>\n",
       "      <td>0.000030</td>\n",
       "      <td>1.627317e+09</td>\n",
       "      <td>buy</td>\n",
       "      <td>limit</td>\n",
       "      <td></td>\n",
       "    </tr>\n",
       "    <tr>\n",
       "      <th>2021-07-26 16:35:14.287800064</th>\n",
       "      <td>2371.21</td>\n",
       "      <td>0.007900</td>\n",
       "      <td>1.627317e+09</td>\n",
       "      <td>buy</td>\n",
       "      <td>limit</td>\n",
       "      <td></td>\n",
       "    </tr>\n",
       "  </tbody>\n",
       "</table>\n",
       "</div>"
      ],
      "text/plain": [
       "                                 price    volume          time buy_sell  \\\n",
       "dtime                                                                     \n",
       "2021-07-26 16:35:17.458200064  2371.65  0.020272  1.627317e+09      buy   \n",
       "2021-07-26 16:35:15.985199872  2371.64  0.000166  1.627317e+09     sell   \n",
       "2021-07-26 16:35:15.983300096  2371.64  0.064834  1.627317e+09     sell   \n",
       "2021-07-26 16:35:14.302799872  2371.21  0.000030  1.627317e+09      buy   \n",
       "2021-07-26 16:35:14.287800064  2371.21  0.007900  1.627317e+09      buy   \n",
       "\n",
       "                              market_limit misc  \n",
       "dtime                                            \n",
       "2021-07-26 16:35:17.458200064       market       \n",
       "2021-07-26 16:35:15.985199872       market       \n",
       "2021-07-26 16:35:15.983300096       market       \n",
       "2021-07-26 16:35:14.302799872        limit       \n",
       "2021-07-26 16:35:14.287800064        limit       "
      ]
     },
     "execution_count": 9,
     "metadata": {},
     "output_type": "execute_result"
    }
   ],
   "source": [
    "# Get recent trades\n",
    "market.get_recent_trades('XETHZUSD')[0].head()"
   ]
  },
  {
   "cell_type": "code",
   "execution_count": 35,
   "id": "subjective-burning",
   "metadata": {},
   "outputs": [
    {
     "data": {
      "text/html": [
       "<div>\n",
       "<style scoped>\n",
       "    .dataframe tbody tr th:only-of-type {\n",
       "        vertical-align: middle;\n",
       "    }\n",
       "\n",
       "    .dataframe tbody tr th {\n",
       "        vertical-align: top;\n",
       "    }\n",
       "\n",
       "    .dataframe thead th {\n",
       "        text-align: right;\n",
       "    }\n",
       "</style>\n",
       "<table border=\"1\" class=\"dataframe\">\n",
       "  <thead>\n",
       "    <tr style=\"text-align: right;\">\n",
       "      <th></th>\n",
       "      <th>a</th>\n",
       "      <th>b</th>\n",
       "      <th>c</th>\n",
       "      <th>h</th>\n",
       "      <th>l</th>\n",
       "      <th>o</th>\n",
       "      <th>p</th>\n",
       "      <th>t</th>\n",
       "      <th>v</th>\n",
       "    </tr>\n",
       "  </thead>\n",
       "  <tbody>\n",
       "    <tr>\n",
       "      <th>XETHZUSD</th>\n",
       "      <td>[2201.42000, 1, 1.000]</td>\n",
       "      <td>[2201.41000, 83, 83.000]</td>\n",
       "      <td>[2201.40000, 0.11674512]</td>\n",
       "      <td>[2241.30000, 2429.81000]</td>\n",
       "      <td>[2152.00000, 2152.00000]</td>\n",
       "      <td>2228.46000</td>\n",
       "      <td>[2182.50851, 2284.14063]</td>\n",
       "      <td>[9796, 39636]</td>\n",
       "      <td>[17643.47750575, 70433.47950848]</td>\n",
       "    </tr>\n",
       "  </tbody>\n",
       "</table>\n",
       "</div>"
      ],
      "text/plain": [
       "                               a                         b  \\\n",
       "XETHZUSD  [2201.42000, 1, 1.000]  [2201.41000, 83, 83.000]   \n",
       "\n",
       "                                 c                         h  \\\n",
       "XETHZUSD  [2201.40000, 0.11674512]  [2241.30000, 2429.81000]   \n",
       "\n",
       "                                 l           o                         p  \\\n",
       "XETHZUSD  [2152.00000, 2152.00000]  2228.46000  [2182.50851, 2284.14063]   \n",
       "\n",
       "                      t                                 v  \n",
       "XETHZUSD  [9796, 39636]  [17643.47750575, 70433.47950848]  "
      ]
     },
     "execution_count": 35,
     "metadata": {},
     "output_type": "execute_result"
    }
   ],
   "source": [
    "# Get the ticker information\n",
    "market.get_ticker_information('XETHZUSD')"
   ]
  },
  {
   "cell_type": "markdown",
   "id": "artificial-advocate",
   "metadata": {},
   "source": [
    "---"
   ]
  },
  {
   "cell_type": "markdown",
   "id": "compressed-proceeding",
   "metadata": {},
   "source": [
    "## Portfolio Functions"
   ]
  },
  {
   "cell_type": "markdown",
   "id": "collect-bulletin",
   "metadata": {},
   "source": [
    "### Cryptocurrencies Portfolio"
   ]
  },
  {
   "cell_type": "code",
   "execution_count": 3,
   "id": "representative-printing",
   "metadata": {},
   "outputs": [],
   "source": [
    "# Creat instance\n",
    "portfolio = portfolios.CryptoPortfolio(api_key)"
   ]
  },
  {
   "cell_type": "code",
   "execution_count": 4,
   "id": "hindu-safety",
   "metadata": {},
   "outputs": [
    {
     "data": {
      "text/html": [
       "<div>\n",
       "<style scoped>\n",
       "    .dataframe tbody tr th:only-of-type {\n",
       "        vertical-align: middle;\n",
       "    }\n",
       "\n",
       "    .dataframe tbody tr th {\n",
       "        vertical-align: top;\n",
       "    }\n",
       "\n",
       "    .dataframe thead th {\n",
       "        text-align: right;\n",
       "    }\n",
       "</style>\n",
       "<table border=\"1\" class=\"dataframe\">\n",
       "  <thead>\n",
       "    <tr style=\"text-align: right;\">\n",
       "      <th></th>\n",
       "      <th>vol</th>\n",
       "    </tr>\n",
       "  </thead>\n",
       "  <tbody>\n",
       "    <tr>\n",
       "      <th>ZUSD</th>\n",
       "      <td>1.000000e-04</td>\n",
       "    </tr>\n",
       "    <tr>\n",
       "      <th>CHF</th>\n",
       "      <td>0.000000e+00</td>\n",
       "    </tr>\n",
       "    <tr>\n",
       "      <th>XXBT</th>\n",
       "      <td>2.680000e-07</td>\n",
       "    </tr>\n",
       "    <tr>\n",
       "      <th>XXRP</th>\n",
       "      <td>0.000000e+00</td>\n",
       "    </tr>\n",
       "    <tr>\n",
       "      <th>XXDG</th>\n",
       "      <td>0.000000e+00</td>\n",
       "    </tr>\n",
       "  </tbody>\n",
       "</table>\n",
       "</div>"
      ],
      "text/plain": [
       "               vol\n",
       "ZUSD  1.000000e-04\n",
       "CHF   0.000000e+00\n",
       "XXBT  2.680000e-07\n",
       "XXRP  0.000000e+00\n",
       "XXDG  0.000000e+00"
      ]
     },
     "execution_count": 4,
     "metadata": {},
     "output_type": "execute_result"
    }
   ],
   "source": [
    "# Get the balance of the account\n",
    "portfolio.get_account_balance().head()"
   ]
  },
  {
   "cell_type": "code",
   "execution_count": 5,
   "id": "vital-carpet",
   "metadata": {},
   "outputs": [
    {
     "data": {
      "text/html": [
       "<div>\n",
       "<style scoped>\n",
       "    .dataframe tbody tr th:only-of-type {\n",
       "        vertical-align: middle;\n",
       "    }\n",
       "\n",
       "    .dataframe tbody tr th {\n",
       "        vertical-align: top;\n",
       "    }\n",
       "\n",
       "    .dataframe thead th {\n",
       "        text-align: right;\n",
       "    }\n",
       "</style>\n",
       "<table border=\"1\" class=\"dataframe\">\n",
       "  <thead>\n",
       "    <tr style=\"text-align: right;\">\n",
       "      <th></th>\n",
       "      <th>CHF</th>\n",
       "    </tr>\n",
       "  </thead>\n",
       "  <tbody>\n",
       "    <tr>\n",
       "      <th>eb</th>\n",
       "      <td>42.5332</td>\n",
       "    </tr>\n",
       "    <tr>\n",
       "      <th>tb</th>\n",
       "      <td>21.2945</td>\n",
       "    </tr>\n",
       "    <tr>\n",
       "      <th>m</th>\n",
       "      <td>0.0000</td>\n",
       "    </tr>\n",
       "    <tr>\n",
       "      <th>n</th>\n",
       "      <td>0.0000</td>\n",
       "    </tr>\n",
       "    <tr>\n",
       "      <th>c</th>\n",
       "      <td>0.0000</td>\n",
       "    </tr>\n",
       "    <tr>\n",
       "      <th>v</th>\n",
       "      <td>0.0000</td>\n",
       "    </tr>\n",
       "    <tr>\n",
       "      <th>e</th>\n",
       "      <td>21.2945</td>\n",
       "    </tr>\n",
       "    <tr>\n",
       "      <th>mf</th>\n",
       "      <td>21.2945</td>\n",
       "    </tr>\n",
       "  </tbody>\n",
       "</table>\n",
       "</div>"
      ],
      "text/plain": [
       "        CHF\n",
       "eb  42.5332\n",
       "tb  21.2945\n",
       "m    0.0000\n",
       "n    0.0000\n",
       "c    0.0000\n",
       "v    0.0000\n",
       "e   21.2945\n",
       "mf  21.2945"
      ]
     },
     "execution_count": 5,
     "metadata": {},
     "output_type": "execute_result"
    }
   ],
   "source": [
    "# Get our trades balances\n",
    "portfolio.get_trade_balance(asset='CHF')"
   ]
  },
  {
   "cell_type": "markdown",
   "id": "progressive-amendment",
   "metadata": {},
   "source": [
    "### Virtual Portfolio"
   ]
  },
  {
   "cell_type": "code",
   "execution_count": 3,
   "id": "loose-experience",
   "metadata": {
    "collapsed": false,
    "jupyter": {
     "outputs_hidden": false
    },
    "pycharm": {
     "name": "#%%\n"
    }
   },
   "outputs": [],
   "source": [
    "# Create instance with initial deposit\n",
    "virtual_portfolio = portfolios.VirtualPortfolio({'ZUSD':100})"
   ]
  },
  {
   "cell_type": "code",
   "execution_count": 4,
   "id": "polish-seminar",
   "metadata": {
    "collapsed": false,
    "jupyter": {
     "outputs_hidden": false
    },
    "pycharm": {
     "name": "#%%\n"
    }
   },
   "outputs": [
    {
     "data": {
      "text/html": [
       "<div>\n",
       "<style scoped>\n",
       "    .dataframe tbody tr th:only-of-type {\n",
       "        vertical-align: middle;\n",
       "    }\n",
       "\n",
       "    .dataframe tbody tr th {\n",
       "        vertical-align: top;\n",
       "    }\n",
       "\n",
       "    .dataframe thead th {\n",
       "        text-align: right;\n",
       "    }\n",
       "</style>\n",
       "<table border=\"1\" class=\"dataframe\">\n",
       "  <thead>\n",
       "    <tr style=\"text-align: right;\">\n",
       "      <th></th>\n",
       "      <th>vol</th>\n",
       "    </tr>\n",
       "  </thead>\n",
       "  <tbody>\n",
       "    <tr>\n",
       "      <th>ZUSD</th>\n",
       "      <td>100</td>\n",
       "    </tr>\n",
       "  </tbody>\n",
       "</table>\n",
       "</div>"
      ],
      "text/plain": [
       "      vol\n",
       "ZUSD  100"
      ]
     },
     "execution_count": 4,
     "metadata": {},
     "output_type": "execute_result"
    }
   ],
   "source": [
    "# Get the balance of the account\n",
    "virtual_portfolio.get_account_balance()"
   ]
  },
  {
   "cell_type": "code",
   "execution_count": 5,
   "id": "finite-looking",
   "metadata": {},
   "outputs": [
    {
     "data": {
      "text/html": [
       "<div>\n",
       "<style scoped>\n",
       "    .dataframe tbody tr th:only-of-type {\n",
       "        vertical-align: middle;\n",
       "    }\n",
       "\n",
       "    .dataframe tbody tr th {\n",
       "        vertical-align: top;\n",
       "    }\n",
       "\n",
       "    .dataframe thead th {\n",
       "        text-align: right;\n",
       "    }\n",
       "</style>\n",
       "<table border=\"1\" class=\"dataframe\">\n",
       "  <thead>\n",
       "    <tr style=\"text-align: right;\">\n",
       "      <th></th>\n",
       "      <th>vol</th>\n",
       "    </tr>\n",
       "  </thead>\n",
       "  <tbody>\n",
       "    <tr>\n",
       "      <th>ZUSD</th>\n",
       "      <td>200</td>\n",
       "    </tr>\n",
       "    <tr>\n",
       "      <th>XETH</th>\n",
       "      <td>30</td>\n",
       "    </tr>\n",
       "    <tr>\n",
       "      <th>XXBT</th>\n",
       "      <td>10</td>\n",
       "    </tr>\n",
       "  </tbody>\n",
       "</table>\n",
       "</div>"
      ],
      "text/plain": [
       "      vol\n",
       "ZUSD  200\n",
       "XETH   30\n",
       "XXBT   10"
      ]
     },
     "execution_count": 5,
     "metadata": {},
     "output_type": "execute_result"
    }
   ],
   "source": [
    "# Make some deposit\n",
    "virtual_portfolio.deposit('ZUSD', 100)\n",
    "virtual_portfolio.deposit('XETH', 30)\n",
    "virtual_portfolio.deposit('XXBT', 10)\n",
    "virtual_portfolio.get_account_balance()"
   ]
  },
  {
   "cell_type": "code",
   "execution_count": 7,
   "id": "union-corner",
   "metadata": {},
   "outputs": [
    {
     "data": {
      "text/html": [
       "<div>\n",
       "<style scoped>\n",
       "    .dataframe tbody tr th:only-of-type {\n",
       "        vertical-align: middle;\n",
       "    }\n",
       "\n",
       "    .dataframe tbody tr th {\n",
       "        vertical-align: top;\n",
       "    }\n",
       "\n",
       "    .dataframe thead th {\n",
       "        text-align: right;\n",
       "    }\n",
       "</style>\n",
       "<table border=\"1\" class=\"dataframe\">\n",
       "  <thead>\n",
       "    <tr style=\"text-align: right;\">\n",
       "      <th></th>\n",
       "      <th>ZUSD</th>\n",
       "    </tr>\n",
       "  </thead>\n",
       "  <tbody>\n",
       "    <tr>\n",
       "      <th>eb</th>\n",
       "      <td>446805.4</td>\n",
       "    </tr>\n",
       "  </tbody>\n",
       "</table>\n",
       "</div>"
      ],
      "text/plain": [
       "        ZUSD\n",
       "eb  446805.4"
      ]
     },
     "execution_count": 7,
     "metadata": {},
     "output_type": "execute_result"
    }
   ],
   "source": [
    "virtual_portfolio.get_trade_balance()"
   ]
  },
  {
   "cell_type": "code",
   "execution_count": 7,
   "id": "grateful-season",
   "metadata": {},
   "outputs": [
    {
     "name": "stderr",
     "output_type": "stream",
     "text": [
      "ERROR:root:The key ETH isn't in the portfolio\n"
     ]
    }
   ],
   "source": [
    "# withdraw more funds than available\n",
    "virtual_portfolio.withdraw('ETH', 3000)"
   ]
  },
  {
   "cell_type": "code",
   "execution_count": 8,
   "id": "working-jenny",
   "metadata": {},
   "outputs": [
    {
     "name": "stderr",
     "output_type": "stream",
     "text": [
      "ERROR:root:The key AUS isn't in the portfolio\n"
     ]
    }
   ],
   "source": [
    "# withdraw an absent currency\n",
    "virtual_portfolio.withdraw('AUS', 100)"
   ]
  },
  {
   "cell_type": "markdown",
   "id": "third-toronto",
   "metadata": {},
   "source": [
    "---\n",
    "## Trader functions"
   ]
  },
  {
   "cell_type": "markdown",
   "id": "buried-architect",
   "metadata": {},
   "source": [
    "### Cryptocurrencies Trader"
   ]
  },
  {
   "cell_type": "code",
   "execution_count": 41,
   "id": "innocent-projector",
   "metadata": {},
   "outputs": [],
   "source": [
    "# Create the new instane\n",
    "trader = traders.CryptoTrader(api_key)"
   ]
  },
  {
   "cell_type": "code",
   "execution_count": 42,
   "id": "portable-scratch",
   "metadata": {},
   "outputs": [
    {
     "data": {
      "text/html": [
       "<div>\n",
       "<style scoped>\n",
       "    .dataframe tbody tr th:only-of-type {\n",
       "        vertical-align: middle;\n",
       "    }\n",
       "\n",
       "    .dataframe tbody tr th {\n",
       "        vertical-align: top;\n",
       "    }\n",
       "\n",
       "    .dataframe thead th {\n",
       "        text-align: right;\n",
       "    }\n",
       "</style>\n",
       "<table border=\"1\" class=\"dataframe\">\n",
       "  <thead>\n",
       "    <tr style=\"text-align: right;\">\n",
       "      <th></th>\n",
       "    </tr>\n",
       "  </thead>\n",
       "  <tbody>\n",
       "  </tbody>\n",
       "</table>\n",
       "</div>"
      ],
      "text/plain": [
       "Empty DataFrame\n",
       "Columns: []\n",
       "Index: []"
      ]
     },
     "execution_count": 42,
     "metadata": {},
     "output_type": "execute_result"
    }
   ],
   "source": [
    "# Get all open orders\n",
    "trader.get_open_orders()"
   ]
  },
  {
   "cell_type": "code",
   "execution_count": 46,
   "id": "reverse-canon",
   "metadata": {},
   "outputs": [
    {
     "ename": "SyntaxError",
     "evalue": "unexpected EOF while parsing (<ipython-input-46-0ba6db1ee4b0>, line 2)",
     "output_type": "error",
     "traceback": [
      "\u001b[0;36m  File \u001b[0;32m\"<ipython-input-46-0ba6db1ee4b0>\"\u001b[0;36m, line \u001b[0;32m2\u001b[0m\n\u001b[0;31m    trader.get_closed_orders()[0\u001b[0m\n\u001b[0m                                ^\u001b[0m\n\u001b[0;31mSyntaxError\u001b[0m\u001b[0;31m:\u001b[0m unexpected EOF while parsing\n"
     ]
    }
   ],
   "source": [
    "# Get all closed orders\n",
    "trader.get_closed_orders()[0]"
   ]
  },
  {
   "cell_type": "code",
   "execution_count": 48,
   "id": "figured-cancer",
   "metadata": {},
   "outputs": [
    {
     "data": {
      "text/html": [
       "<div>\n",
       "<style scoped>\n",
       "    .dataframe tbody tr th:only-of-type {\n",
       "        vertical-align: middle;\n",
       "    }\n",
       "\n",
       "    .dataframe tbody tr th {\n",
       "        vertical-align: top;\n",
       "    }\n",
       "\n",
       "    .dataframe thead th {\n",
       "        text-align: right;\n",
       "    }\n",
       "</style>\n",
       "<table border=\"1\" class=\"dataframe\">\n",
       "  <thead>\n",
       "    <tr style=\"text-align: right;\">\n",
       "      <th></th>\n",
       "      <th>txid</th>\n",
       "      <th>ordertxid</th>\n",
       "      <th>postxid</th>\n",
       "      <th>pair</th>\n",
       "      <th>time</th>\n",
       "      <th>type</th>\n",
       "      <th>ordertype</th>\n",
       "      <th>price</th>\n",
       "      <th>cost</th>\n",
       "      <th>fee</th>\n",
       "      <th>vol</th>\n",
       "      <th>margin</th>\n",
       "      <th>misc</th>\n",
       "    </tr>\n",
       "    <tr>\n",
       "      <th>dtime</th>\n",
       "      <th></th>\n",
       "      <th></th>\n",
       "      <th></th>\n",
       "      <th></th>\n",
       "      <th></th>\n",
       "      <th></th>\n",
       "      <th></th>\n",
       "      <th></th>\n",
       "      <th></th>\n",
       "      <th></th>\n",
       "      <th></th>\n",
       "      <th></th>\n",
       "      <th></th>\n",
       "    </tr>\n",
       "  </thead>\n",
       "  <tbody>\n",
       "    <tr>\n",
       "      <th>2021-06-12 22:35:48.012799978</th>\n",
       "      <td>THXHTO-FDKTU-NGQT4A</td>\n",
       "      <td>O667HS-EHA5E-Y4XAF6</td>\n",
       "      <td>TKH2SE-M7IF5-CFI7LT</td>\n",
       "      <td>ADAUSD</td>\n",
       "      <td>1.623537e+09</td>\n",
       "      <td>buy</td>\n",
       "      <td>market</td>\n",
       "      <td>1.479045</td>\n",
       "      <td>17.760974</td>\n",
       "      <td>0.046179</td>\n",
       "      <td>12.008407</td>\n",
       "      <td>0.0</td>\n",
       "      <td></td>\n",
       "    </tr>\n",
       "    <tr>\n",
       "      <th>2021-06-02 03:10:53.894099951</th>\n",
       "      <td>TGISYB-P4HPS-GPKEJ3</td>\n",
       "      <td>OENSOG-KWUJX-VJAN64</td>\n",
       "      <td>TKH2SE-M7IF5-CFI7LT</td>\n",
       "      <td>MINAUSD</td>\n",
       "      <td>1.622603e+09</td>\n",
       "      <td>buy</td>\n",
       "      <td>market</td>\n",
       "      <td>3.060000</td>\n",
       "      <td>17.971380</td>\n",
       "      <td>0.046730</td>\n",
       "      <td>5.873000</td>\n",
       "      <td>0.0</td>\n",
       "      <td></td>\n",
       "    </tr>\n",
       "    <tr>\n",
       "      <th>2021-05-15 10:30:36.510400057</th>\n",
       "      <td>T3BSVG-VQD6Y-QSPCSK</td>\n",
       "      <td>OVBZ4F-UKIVH-SEFTUK</td>\n",
       "      <td>TKH2SE-M7IF5-CFI7LT</td>\n",
       "      <td>XDGUSD</td>\n",
       "      <td>1.621075e+09</td>\n",
       "      <td>sell</td>\n",
       "      <td>stop market</td>\n",
       "      <td>0.500000</td>\n",
       "      <td>35.918673</td>\n",
       "      <td>0.093389</td>\n",
       "      <td>71.837347</td>\n",
       "      <td>0.0</td>\n",
       "      <td></td>\n",
       "    </tr>\n",
       "    <tr>\n",
       "      <th>2021-05-14 12:20:10.592700005</th>\n",
       "      <td>T4C7BX-MF7Y2-BGDQ7I</td>\n",
       "      <td>OYKRZA-BWEVV-EURJKQ</td>\n",
       "      <td>TKH2SE-M7IF5-CFI7LT</td>\n",
       "      <td>XDGUSD</td>\n",
       "      <td>1.620995e+09</td>\n",
       "      <td>buy</td>\n",
       "      <td>market</td>\n",
       "      <td>0.543457</td>\n",
       "      <td>39.040500</td>\n",
       "      <td>0.101505</td>\n",
       "      <td>71.837357</td>\n",
       "      <td>0.0</td>\n",
       "      <td></td>\n",
       "    </tr>\n",
       "    <tr>\n",
       "      <th>2021-05-14 12:19:05.484100103</th>\n",
       "      <td>TVKBPV-7JMG6-RAEHGG</td>\n",
       "      <td>OFJBSS-ZM7GS-O4QWXX</td>\n",
       "      <td>TKH2SE-M7IF5-CFI7LT</td>\n",
       "      <td>ADAUSD</td>\n",
       "      <td>1.620995e+09</td>\n",
       "      <td>sell</td>\n",
       "      <td>market</td>\n",
       "      <td>1.862000</td>\n",
       "      <td>39.176480</td>\n",
       "      <td>0.101859</td>\n",
       "      <td>21.040000</td>\n",
       "      <td>0.0</td>\n",
       "      <td></td>\n",
       "    </tr>\n",
       "  </tbody>\n",
       "</table>\n",
       "</div>"
      ],
      "text/plain": [
       "                                              txid            ordertxid  \\\n",
       "dtime                                                                     \n",
       "2021-06-12 22:35:48.012799978  THXHTO-FDKTU-NGQT4A  O667HS-EHA5E-Y4XAF6   \n",
       "2021-06-02 03:10:53.894099951  TGISYB-P4HPS-GPKEJ3  OENSOG-KWUJX-VJAN64   \n",
       "2021-05-15 10:30:36.510400057  T3BSVG-VQD6Y-QSPCSK  OVBZ4F-UKIVH-SEFTUK   \n",
       "2021-05-14 12:20:10.592700005  T4C7BX-MF7Y2-BGDQ7I  OYKRZA-BWEVV-EURJKQ   \n",
       "2021-05-14 12:19:05.484100103  TVKBPV-7JMG6-RAEHGG  OFJBSS-ZM7GS-O4QWXX   \n",
       "\n",
       "                                           postxid     pair          time  \\\n",
       "dtime                                                                       \n",
       "2021-06-12 22:35:48.012799978  TKH2SE-M7IF5-CFI7LT   ADAUSD  1.623537e+09   \n",
       "2021-06-02 03:10:53.894099951  TKH2SE-M7IF5-CFI7LT  MINAUSD  1.622603e+09   \n",
       "2021-05-15 10:30:36.510400057  TKH2SE-M7IF5-CFI7LT   XDGUSD  1.621075e+09   \n",
       "2021-05-14 12:20:10.592700005  TKH2SE-M7IF5-CFI7LT   XDGUSD  1.620995e+09   \n",
       "2021-05-14 12:19:05.484100103  TKH2SE-M7IF5-CFI7LT   ADAUSD  1.620995e+09   \n",
       "\n",
       "                               type    ordertype     price       cost  \\\n",
       "dtime                                                                   \n",
       "2021-06-12 22:35:48.012799978   buy       market  1.479045  17.760974   \n",
       "2021-06-02 03:10:53.894099951   buy       market  3.060000  17.971380   \n",
       "2021-05-15 10:30:36.510400057  sell  stop market  0.500000  35.918673   \n",
       "2021-05-14 12:20:10.592700005   buy       market  0.543457  39.040500   \n",
       "2021-05-14 12:19:05.484100103  sell       market  1.862000  39.176480   \n",
       "\n",
       "                                    fee        vol  margin misc  \n",
       "dtime                                                            \n",
       "2021-06-12 22:35:48.012799978  0.046179  12.008407     0.0       \n",
       "2021-06-02 03:10:53.894099951  0.046730   5.873000     0.0       \n",
       "2021-05-15 10:30:36.510400057  0.093389  71.837347     0.0       \n",
       "2021-05-14 12:20:10.592700005  0.101505  71.837357     0.0       \n",
       "2021-05-14 12:19:05.484100103  0.101859  21.040000     0.0       "
      ]
     },
     "execution_count": 48,
     "metadata": {},
     "output_type": "execute_result"
    }
   ],
   "source": [
    "trader.get_trades_history()[0].head()"
   ]
  },
  {
   "cell_type": "code",
   "execution_count": 44,
   "id": "objective-arlington",
   "metadata": {},
   "outputs": [
    {
     "data": {
      "text/html": [
       "<div>\n",
       "<style scoped>\n",
       "    .dataframe tbody tr th:only-of-type {\n",
       "        vertical-align: middle;\n",
       "    }\n",
       "\n",
       "    .dataframe tbody tr th {\n",
       "        vertical-align: top;\n",
       "    }\n",
       "\n",
       "    .dataframe thead th {\n",
       "        text-align: right;\n",
       "    }\n",
       "</style>\n",
       "<table border=\"1\" class=\"dataframe\">\n",
       "  <thead>\n",
       "    <tr style=\"text-align: right;\">\n",
       "      <th></th>\n",
       "      <th>txid</th>\n",
       "      <th>cost</th>\n",
       "      <th>fee</th>\n",
       "      <th>margin</th>\n",
       "      <th>misc</th>\n",
       "      <th>ordertxid</th>\n",
       "      <th>ordertype</th>\n",
       "      <th>pair</th>\n",
       "      <th>postxid</th>\n",
       "      <th>price</th>\n",
       "      <th>time</th>\n",
       "      <th>type</th>\n",
       "      <th>vol</th>\n",
       "    </tr>\n",
       "    <tr>\n",
       "      <th>dtime</th>\n",
       "      <th></th>\n",
       "      <th></th>\n",
       "      <th></th>\n",
       "      <th></th>\n",
       "      <th></th>\n",
       "      <th></th>\n",
       "      <th></th>\n",
       "      <th></th>\n",
       "      <th></th>\n",
       "      <th></th>\n",
       "      <th></th>\n",
       "      <th></th>\n",
       "      <th></th>\n",
       "    </tr>\n",
       "  </thead>\n",
       "  <tbody>\n",
       "    <tr>\n",
       "      <th>2021-06-12 22:35:48.012799978</th>\n",
       "      <td>THXHTO-FDKTU-NGQT4A</td>\n",
       "      <td>17.760974</td>\n",
       "      <td>0.046179</td>\n",
       "      <td>0.0</td>\n",
       "      <td></td>\n",
       "      <td>O667HS-EHA5E-Y4XAF6</td>\n",
       "      <td>market</td>\n",
       "      <td>ADAUSD</td>\n",
       "      <td>TKH2SE-M7IF5-CFI7LT</td>\n",
       "      <td>1.479045</td>\n",
       "      <td>1.623537e+09</td>\n",
       "      <td>buy</td>\n",
       "      <td>12.008407</td>\n",
       "    </tr>\n",
       "  </tbody>\n",
       "</table>\n",
       "</div>"
      ],
      "text/plain": [
       "                                              txid       cost       fee  \\\n",
       "dtime                                                                     \n",
       "2021-06-12 22:35:48.012799978  THXHTO-FDKTU-NGQT4A  17.760974  0.046179   \n",
       "\n",
       "                               margin misc            ordertxid ordertype  \\\n",
       "dtime                                                                       \n",
       "2021-06-12 22:35:48.012799978     0.0       O667HS-EHA5E-Y4XAF6    market   \n",
       "\n",
       "                                 pair              postxid     price  \\\n",
       "dtime                                                                  \n",
       "2021-06-12 22:35:48.012799978  ADAUSD  TKH2SE-M7IF5-CFI7LT  1.479045   \n",
       "\n",
       "                                       time type        vol  \n",
       "dtime                                                        \n",
       "2021-06-12 22:35:48.012799978  1.623537e+09  buy  12.008407  "
      ]
     },
     "execution_count": 44,
     "metadata": {},
     "output_type": "execute_result"
    }
   ],
   "source": [
    "# Get informations about a single trade\n",
    "trader.query_trades_info('THXHTO-FDKTU-NGQT4A')"
   ]
  },
  {
   "cell_type": "markdown",
   "id": "bound-husband",
   "metadata": {},
   "source": [
    "### Virtual Trader"
   ]
  },
  {
   "cell_type": "code",
   "execution_count": 45,
   "id": "blond-basics",
   "metadata": {},
   "outputs": [],
   "source": [
    "# Create the instace with a portfolio\n",
    "virtual_portfolio = portfolios.VirtualPortfolio({'ZUSD': 1000})\n",
    "fake_trader = traders.VirtualCryptoTrader(virtual_portfolio)"
   ]
  },
  {
   "cell_type": "code",
   "execution_count": 10,
   "id": "upper-steering",
   "metadata": {},
   "outputs": [
    {
     "data": {
      "text/plain": [
       "VirtualOrder(pair='XETHZUSD', type='buy', price=2272.22, cost=908.8879999999999, fee=2.3631087999999996, volume=0.4)"
      ]
     },
     "execution_count": 10,
     "metadata": {},
     "output_type": "execute_result"
    }
   ],
   "source": [
    "# Add orders\n",
    "fake_trader.add_order('XETHZUSD', 'buy', 0.2)\n",
    "fake_trader.add_order('XETHZUSD', 'sell', 0.2)\n",
    "fake_trader.add_order('XETHZUSD', 'buy', 0.4)"
   ]
  },
  {
   "cell_type": "code",
   "execution_count": 11,
   "id": "interesting-discovery",
   "metadata": {},
   "outputs": [
    {
     "data": {
      "text/plain": [
       "{'6813e27c': VirtualOrder(pair='XETHZUSD', type='buy', price=2273.44, cost=454.68800000000005, fee=1.1821888, volume=0.2),\n",
       " '7d92c62f': VirtualOrder(pair='XETHZUSD', type='sell', price=2273.44, cost=454.68800000000005, fee=1.1821888, volume=0.2),\n",
       " '1392dc0d': VirtualOrder(pair='XETHZUSD', type='buy', price=2272.22, cost=908.8879999999999, fee=2.3631087999999996, volume=0.4)}"
      ]
     },
     "execution_count": 11,
     "metadata": {},
     "output_type": "execute_result"
    }
   ],
   "source": [
    "fake_trader.order_book"
   ]
  },
  {
   "cell_type": "code",
   "execution_count": 12,
   "id": "stopped-wound",
   "metadata": {},
   "outputs": [
    {
     "data": {
      "text/html": [
       "<div>\n",
       "<style scoped>\n",
       "    .dataframe tbody tr th:only-of-type {\n",
       "        vertical-align: middle;\n",
       "    }\n",
       "\n",
       "    .dataframe tbody tr th {\n",
       "        vertical-align: top;\n",
       "    }\n",
       "\n",
       "    .dataframe thead th {\n",
       "        text-align: right;\n",
       "    }\n",
       "</style>\n",
       "<table border=\"1\" class=\"dataframe\">\n",
       "  <thead>\n",
       "    <tr style=\"text-align: right;\">\n",
       "      <th></th>\n",
       "      <th>vol</th>\n",
       "    </tr>\n",
       "  </thead>\n",
       "  <tbody>\n",
       "    <tr>\n",
       "      <th>ZUSD</th>\n",
       "      <td>86.38</td>\n",
       "    </tr>\n",
       "    <tr>\n",
       "      <th>XETH</th>\n",
       "      <td>0.40</td>\n",
       "    </tr>\n",
       "  </tbody>\n",
       "</table>\n",
       "</div>"
      ],
      "text/plain": [
       "        vol\n",
       "ZUSD  86.38\n",
       "XETH   0.40"
      ]
     },
     "execution_count": 12,
     "metadata": {},
     "output_type": "execute_result"
    }
   ],
   "source": [
    "# Check portfolio\n",
    "fake_trader.portfolio.get_account_balance()"
   ]
  },
  {
   "cell_type": "code",
   "execution_count": 13,
   "id": "significant-parliament",
   "metadata": {},
   "outputs": [],
   "source": [
    "# Cancel an order\n",
    "oid = list(fake_trader.order_book.keys())[0]\n",
    "fake_trader.cancel_order(oid)"
   ]
  },
  {
   "cell_type": "code",
   "execution_count": 14,
   "id": "neither-treatment",
   "metadata": {},
   "outputs": [
    {
     "data": {
      "text/plain": [
       "{'7d92c62f': VirtualOrder(pair='XETHZUSD', type='sell', price=2273.44, cost=454.68800000000005, fee=1.1821888, volume=0.2),\n",
       " '1392dc0d': VirtualOrder(pair='XETHZUSD', type='buy', price=2272.22, cost=908.8879999999999, fee=2.3631087999999996, volume=0.4)}"
      ]
     },
     "execution_count": 14,
     "metadata": {},
     "output_type": "execute_result"
    }
   ],
   "source": [
    "fake_trader.order_book"
   ]
  },
  {
   "cell_type": "code",
   "execution_count": 15,
   "id": "coral-flower",
   "metadata": {},
   "outputs": [
    {
     "data": {
      "text/html": [
       "<div>\n",
       "<style scoped>\n",
       "    .dataframe tbody tr th:only-of-type {\n",
       "        vertical-align: middle;\n",
       "    }\n",
       "\n",
       "    .dataframe tbody tr th {\n",
       "        vertical-align: top;\n",
       "    }\n",
       "\n",
       "    .dataframe thead th {\n",
       "        text-align: right;\n",
       "    }\n",
       "</style>\n",
       "<table border=\"1\" class=\"dataframe\">\n",
       "  <thead>\n",
       "    <tr style=\"text-align: right;\">\n",
       "      <th></th>\n",
       "      <th>vol</th>\n",
       "    </tr>\n",
       "  </thead>\n",
       "  <tbody>\n",
       "    <tr>\n",
       "      <th>ZUSD</th>\n",
       "      <td>541.07</td>\n",
       "    </tr>\n",
       "    <tr>\n",
       "      <th>XETH</th>\n",
       "      <td>0.20</td>\n",
       "    </tr>\n",
       "  </tbody>\n",
       "</table>\n",
       "</div>"
      ],
      "text/plain": [
       "         vol\n",
       "ZUSD  541.07\n",
       "XETH    0.20"
      ]
     },
     "execution_count": 15,
     "metadata": {},
     "output_type": "execute_result"
    }
   ],
   "source": [
    "fake_trader.portfolio.get_account_balance()"
   ]
  },
  {
   "cell_type": "code",
   "execution_count": 4,
   "id": "nonprofit-premium",
   "metadata": {},
   "outputs": [
    {
     "ename": "NameError",
     "evalue": "name 'fake_trader' is not defined",
     "output_type": "error",
     "traceback": [
      "\u001b[0;31m---------------------------------------------------------------------------\u001b[0m",
      "\u001b[0;31mNameError\u001b[0m                                 Traceback (most recent call last)",
      "\u001b[0;32m<ipython-input-4-35f072fc1dac>\u001b[0m in \u001b[0;36m<module>\u001b[0;34m\u001b[0m\n\u001b[0;32m----> 1\u001b[0;31m \u001b[0mfake_trader\u001b[0m\u001b[0;34m.\u001b[0m\u001b[0mget_total_fees\u001b[0m\u001b[0;34m(\u001b[0m\u001b[0;34m)\u001b[0m\u001b[0;34m\u001b[0m\u001b[0;34m\u001b[0m\u001b[0m\n\u001b[0m",
      "\u001b[0;31mNameError\u001b[0m: name 'fake_trader' is not defined"
     ]
    }
   ],
   "source": [
    "fake_trader.get_total_fees()"
   ]
  },
  {
   "cell_type": "markdown",
   "id": "intermediate-alliance",
   "metadata": {},
   "source": [
    "## Strategy Functions"
   ]
  },
  {
   "cell_type": "markdown",
   "id": "stock-opening",
   "metadata": {},
   "source": [
    "### Buy and Hold"
   ]
  },
  {
   "cell_type": "code",
   "execution_count": 51,
   "id": "demanding-bristol",
   "metadata": {},
   "outputs": [],
   "source": [
    "# Create the instace with a portfolio\n",
    "portfolio = portfolios.VirtualPortfolio({'ZUSD': 1000})\n",
    "trader = traders.VirtualCryptoTrader(portfolio)\n",
    "strategy = strategies.BuyAndHold(trader, 'XETHZUSD', 0.4)"
   ]
  },
  {
   "cell_type": "code",
   "execution_count": 4,
   "id": "printable-masters",
   "metadata": {},
   "outputs": [
    {
     "name": "stdout",
     "output_type": "stream",
     "text": [
      "public call frequency exceeded (seconds=0.533514) \n",
      " sleeping for 5 seconds\n"
     ]
    }
   ],
   "source": [
    "strategy.run()"
   ]
  },
  {
   "cell_type": "code",
   "execution_count": 5,
   "id": "varying-teddy",
   "metadata": {},
   "outputs": [],
   "source": [
    "strategy.run()"
   ]
  },
  {
   "cell_type": "code",
   "execution_count": 6,
   "id": "bigger-thompson",
   "metadata": {},
   "outputs": [
    {
     "data": {
      "text/plain": [
       "{'d5aadac3': VirtualOrder(pair='XETHZUSD', type='buy', amount=0.4, close=2357.35)}"
      ]
     },
     "execution_count": 6,
     "metadata": {},
     "output_type": "execute_result"
    }
   ],
   "source": [
    "strategy.trader.order_book"
   ]
  },
  {
   "cell_type": "code",
   "execution_count": 7,
   "id": "suburban-organizer",
   "metadata": {},
   "outputs": [
    {
     "data": {
      "text/html": [
       "<div>\n",
       "<style scoped>\n",
       "    .dataframe tbody tr th:only-of-type {\n",
       "        vertical-align: middle;\n",
       "    }\n",
       "\n",
       "    .dataframe tbody tr th {\n",
       "        vertical-align: top;\n",
       "    }\n",
       "\n",
       "    .dataframe thead th {\n",
       "        text-align: right;\n",
       "    }\n",
       "</style>\n",
       "<table border=\"1\" class=\"dataframe\">\n",
       "  <thead>\n",
       "    <tr style=\"text-align: right;\">\n",
       "      <th></th>\n",
       "      <th>vol</th>\n",
       "    </tr>\n",
       "  </thead>\n",
       "  <tbody>\n",
       "    <tr>\n",
       "      <th>ZUSD</th>\n",
       "      <td>57.06</td>\n",
       "    </tr>\n",
       "    <tr>\n",
       "      <th>XETH</th>\n",
       "      <td>0.40</td>\n",
       "    </tr>\n",
       "  </tbody>\n",
       "</table>\n",
       "</div>"
      ],
      "text/plain": [
       "        vol\n",
       "ZUSD  57.06\n",
       "XETH   0.40"
      ]
     },
     "execution_count": 7,
     "metadata": {},
     "output_type": "execute_result"
    }
   ],
   "source": [
    "strategy.trader.portfolio.get_account_balance()"
   ]
  },
  {
   "cell_type": "markdown",
   "id": "possible-hudson",
   "metadata": {},
   "source": [
    "### Sequential Investment"
   ]
  },
  {
   "cell_type": "code",
   "execution_count": 3,
   "id": "level-bangladesh",
   "metadata": {},
   "outputs": [],
   "source": [
    "# Create the instace with a portfolio\n",
    "portfolio = portfolios.VirtualPortfolio({'ZUSD': 1000})\n",
    "trader = traders.VirtualCryptoTrader(portfolio)\n",
    "strategy = strategies.SequentialInvestment(trader, 'XETHZUSD', 0.4, 2, \"00:00:20\")"
   ]
  },
  {
   "cell_type": "code",
   "execution_count": 4,
   "id": "sustainable-traveler",
   "metadata": {},
   "outputs": [],
   "source": [
    "strategy.run()"
   ]
  },
  {
   "cell_type": "code",
   "execution_count": 5,
   "id": "bacterial-newton",
   "metadata": {},
   "outputs": [
    {
     "data": {
      "text/html": [
       "<div>\n",
       "<style scoped>\n",
       "    .dataframe tbody tr th:only-of-type {\n",
       "        vertical-align: middle;\n",
       "    }\n",
       "\n",
       "    .dataframe tbody tr th {\n",
       "        vertical-align: top;\n",
       "    }\n",
       "\n",
       "    .dataframe thead th {\n",
       "        text-align: right;\n",
       "    }\n",
       "</style>\n",
       "<table border=\"1\" class=\"dataframe\">\n",
       "  <thead>\n",
       "    <tr style=\"text-align: right;\">\n",
       "      <th></th>\n",
       "      <th>vol</th>\n",
       "    </tr>\n",
       "  </thead>\n",
       "  <tbody>\n",
       "    <tr>\n",
       "      <th>ZUSD</th>\n",
       "      <td>89.28</td>\n",
       "    </tr>\n",
       "    <tr>\n",
       "      <th>XETH</th>\n",
       "      <td>0.40</td>\n",
       "    </tr>\n",
       "  </tbody>\n",
       "</table>\n",
       "</div>"
      ],
      "text/plain": [
       "        vol\n",
       "ZUSD  89.28\n",
       "XETH   0.40"
      ]
     },
     "execution_count": 5,
     "metadata": {},
     "output_type": "execute_result"
    }
   ],
   "source": [
    "strategy.trader.portfolio.get_account_balance()"
   ]
  },
  {
   "cell_type": "code",
   "execution_count": 6,
   "id": "running-syndrome",
   "metadata": {},
   "outputs": [
    {
     "data": {
      "text/plain": [
       "{'d472de3a': VirtualOrder(pair='XETHZUSD', type='buy', price=2270.89, cost=454.178, fee=1.1808627999999999, volume=0.2),\n",
       " 'cbe03e9b': VirtualOrder(pair='XETHZUSD', type='buy', price=2270.89, cost=454.178, fee=1.1808627999999999, volume=0.2)}"
      ]
     },
     "execution_count": 6,
     "metadata": {},
     "output_type": "execute_result"
    }
   ],
   "source": [
    "strategy.trader.order_book"
   ]
  },
  {
   "cell_type": "code",
   "execution_count": 7,
   "id": "great-interview",
   "metadata": {},
   "outputs": [
    {
     "data": {
      "text/plain": [
       "True"
      ]
     },
     "execution_count": 7,
     "metadata": {},
     "output_type": "execute_result"
    }
   ],
   "source": [
    "strategy.has_run"
   ]
  },
  {
   "cell_type": "code",
   "execution_count": null,
   "id": "dressed-sussex",
   "metadata": {},
   "outputs": [],
   "source": [
    "    "
   ]
  },
  {
   "cell_type": "markdown",
   "id": "spatial-sauce",
   "metadata": {},
   "source": [
    "### Random Investments"
   ]
  },
  {
   "cell_type": "code",
   "execution_count": 23,
   "id": "rotary-confusion",
   "metadata": {},
   "outputs": [],
   "source": [
    "# Create the instace with a portfolio\n",
    "portfolio = portfolios.VirtualPortfolio({'ZUSD': 1000})\n",
    "trader = traders.VirtualCryptoTrader(portfolio)\n",
    "strategy = strategies.RandomInvestment(trader, 'XETHZUSD', 0.1)"
   ]
  },
  {
   "cell_type": "code",
   "execution_count": 24,
   "id": "german-disclaimer",
   "metadata": {},
   "outputs": [
    {
     "name": "stderr",
     "output_type": "stream",
     "text": [
      "ERROR:root:The base XETH isn't available in the portfolio.\n"
     ]
    },
    {
     "name": "stdout",
     "output_type": "stream",
     "text": [
      "public call frequency exceeded (seconds=0.339398) \n",
      " sleeping for 5 seconds\n"
     ]
    },
    {
     "name": "stderr",
     "output_type": "stream",
     "text": [
      "ERROR:root:The base XETH isn't available in the portfolio.\n"
     ]
    },
    {
     "name": "stdout",
     "output_type": "stream",
     "text": [
      "public call frequency exceeded (seconds=0.31484) \n",
      " sleeping for 5 seconds\n",
      "public call frequency exceeded (seconds=0.300064) \n",
      " sleeping for 5 seconds\n"
     ]
    },
    {
     "name": "stderr",
     "output_type": "stream",
     "text": [
      "ERROR:root:The base XETH isn't available in the portfolio.\n"
     ]
    }
   ],
   "source": [
    "for i in range(5):\n",
    "    strategy.run()"
   ]
  },
  {
   "cell_type": "code",
   "execution_count": 25,
   "id": "lesbian-poland",
   "metadata": {},
   "outputs": [
    {
     "data": {
      "text/plain": [
       "{'d6f386fa': VirtualOrder(pair='XETHZUSD', type='sell', amount=0.1, close=2356.36),\n",
       " '4bc798d5': VirtualOrder(pair='XETHZUSD', type='sell', amount=0.1, close=2356.36),\n",
       " 'c18b4046': VirtualOrder(pair='XETHZUSD', type='buy', amount=0.1, close=2356.36),\n",
       " '3fbda80c': VirtualOrder(pair='XETHZUSD', type='sell', amount=0.1, close=2356.36),\n",
       " '01581177': VirtualOrder(pair='XETHZUSD', type='sell', amount=0.1, close=2355.62)}"
      ]
     },
     "execution_count": 25,
     "metadata": {},
     "output_type": "execute_result"
    }
   ],
   "source": [
    "strategy.trader.order_book"
   ]
  },
  {
   "cell_type": "code",
   "execution_count": 26,
   "id": "cross-inquiry",
   "metadata": {},
   "outputs": [
    {
     "data": {
      "text/html": [
       "<div>\n",
       "<style scoped>\n",
       "    .dataframe tbody tr th:only-of-type {\n",
       "        vertical-align: middle;\n",
       "    }\n",
       "\n",
       "    .dataframe tbody tr th {\n",
       "        vertical-align: top;\n",
       "    }\n",
       "\n",
       "    .dataframe thead th {\n",
       "        text-align: right;\n",
       "    }\n",
       "</style>\n",
       "<table border=\"1\" class=\"dataframe\">\n",
       "  <thead>\n",
       "    <tr style=\"text-align: right;\">\n",
       "      <th></th>\n",
       "      <th>vol</th>\n",
       "    </tr>\n",
       "  </thead>\n",
       "  <tbody>\n",
       "    <tr>\n",
       "      <th>ZUSD</th>\n",
       "      <td>1000.0</td>\n",
       "    </tr>\n",
       "  </tbody>\n",
       "</table>\n",
       "</div>"
      ],
      "text/plain": [
       "         vol\n",
       "ZUSD  1000.0"
      ]
     },
     "execution_count": 26,
     "metadata": {},
     "output_type": "execute_result"
    }
   ],
   "source": [
    "strategy.trader.portfolio.get_account_balance()"
   ]
  },
  {
   "cell_type": "markdown",
   "id": "nearby-prime",
   "metadata": {},
   "source": [
    "---"
   ]
  },
  {
   "cell_type": "markdown",
   "id": "handy-albuquerque",
   "metadata": {},
   "source": [
    "## Tars Functions"
   ]
  },
  {
   "cell_type": "code",
   "execution_count": 2,
   "id": "further-phoenix",
   "metadata": {},
   "outputs": [],
   "source": [
    "# Create portfolio and trader\n",
    "portfolio = portfolios.VirtualPortfolio({'ZUSD': 1000})\n",
    "trader = traders.VirtualCryptoTrader(portfolio)"
   ]
  },
  {
   "cell_type": "code",
   "execution_count": 3,
   "id": "artistic-mauritius",
   "metadata": {},
   "outputs": [],
   "source": [
    "tars = TARS()\n",
    "\n",
    "# Define strategies\n",
    "strategy_1 = strategies.BuyAndHold(trader, 'XETHZUSD', 0.2)\n",
    "strategy_2 = strategies.SequentialInvestment(trader, 'XETHZUSD', 0.2, 6, \"00:00:10\")\n",
    "\n",
    "# Load strategies\n",
    "tars.load(strategy_1)\n",
    "tars.load(strategy_2)"
   ]
  },
  {
   "cell_type": "code",
   "execution_count": 4,
   "id": "handled-seeking",
   "metadata": {},
   "outputs": [],
   "source": [
    "# Start the bot with a loop frequency of one second\n",
    "tars.start('00:00:01')"
   ]
  },
  {
   "cell_type": "code",
   "execution_count": 5,
   "id": "endangered-costume",
   "metadata": {},
   "outputs": [
    {
     "data": {
      "text/plain": [
       "True"
      ]
     },
     "execution_count": 5,
     "metadata": {},
     "output_type": "execute_result"
    }
   ],
   "source": [
    "tars.is_running"
   ]
  },
  {
   "cell_type": "code",
   "execution_count": 6,
   "id": "forward-minority",
   "metadata": {},
   "outputs": [],
   "source": [
    "# Stop the bot execution\n",
    "tars.stop()"
   ]
  },
  {
   "cell_type": "code",
   "execution_count": 7,
   "id": "breeding-display",
   "metadata": {},
   "outputs": [
    {
     "data": {
      "text/html": [
       "<div>\n",
       "<style scoped>\n",
       "    .dataframe tbody tr th:only-of-type {\n",
       "        vertical-align: middle;\n",
       "    }\n",
       "\n",
       "    .dataframe tbody tr th {\n",
       "        vertical-align: top;\n",
       "    }\n",
       "\n",
       "    .dataframe thead th {\n",
       "        text-align: right;\n",
       "    }\n",
       "</style>\n",
       "<table border=\"1\" class=\"dataframe\">\n",
       "  <thead>\n",
       "    <tr style=\"text-align: right;\">\n",
       "      <th></th>\n",
       "      <th>vol</th>\n",
       "    </tr>\n",
       "  </thead>\n",
       "  <tbody>\n",
       "    <tr>\n",
       "      <th>ZUSD</th>\n",
       "      <td>1000</td>\n",
       "    </tr>\n",
       "  </tbody>\n",
       "</table>\n",
       "</div>"
      ],
      "text/plain": [
       "       vol\n",
       "ZUSD  1000"
      ]
     },
     "execution_count": 7,
     "metadata": {},
     "output_type": "execute_result"
    }
   ],
   "source": [
    "portfolio.get_account_balance()"
   ]
  },
  {
   "cell_type": "markdown",
   "id": "third-pacific",
   "metadata": {},
   "source": [
    "## Metrics"
   ]
  },
  {
   "cell_type": "code",
   "execution_count": 30,
   "id": "activated-telescope",
   "metadata": {},
   "outputs": [],
   "source": [
    "my_metrics = metrics.TradersMetric(trader)"
   ]
  },
  {
   "cell_type": "code",
   "execution_count": 31,
   "id": "living-apparel",
   "metadata": {},
   "outputs": [
    {
     "data": {
      "text/html": [
       "<div>\n",
       "<style scoped>\n",
       "    .dataframe tbody tr th:only-of-type {\n",
       "        vertical-align: middle;\n",
       "    }\n",
       "\n",
       "    .dataframe tbody tr th {\n",
       "        vertical-align: top;\n",
       "    }\n",
       "\n",
       "    .dataframe thead th {\n",
       "        text-align: right;\n",
       "    }\n",
       "</style>\n",
       "<table border=\"1\" class=\"dataframe\">\n",
       "  <thead>\n",
       "    <tr style=\"text-align: right;\">\n",
       "      <th></th>\n",
       "      <th>ZUSD</th>\n",
       "    </tr>\n",
       "  </thead>\n",
       "  <tbody>\n",
       "    <tr>\n",
       "      <th>eb</th>\n",
       "      <td>996.992</td>\n",
       "    </tr>\n",
       "  </tbody>\n",
       "</table>\n",
       "</div>"
      ],
      "text/plain": [
       "       ZUSD\n",
       "eb  996.992"
      ]
     },
     "execution_count": 31,
     "metadata": {},
     "output_type": "execute_result"
    }
   ],
   "source": [
    "trader.portfolio.get_trade_balance()"
   ]
  },
  {
   "cell_type": "code",
   "execution_count": 32,
   "id": "double-michael",
   "metadata": {},
   "outputs": [
    {
     "data": {
      "text/plain": [
       "1000"
      ]
     },
     "execution_count": 32,
     "metadata": {},
     "output_type": "execute_result"
    }
   ],
   "source": [
    "trader.initial_portfolio_value"
   ]
  },
  {
   "cell_type": "code",
   "execution_count": 33,
   "id": "split-recommendation",
   "metadata": {},
   "outputs": [
    {
     "data": {
      "text/plain": [
       "2.4054082"
      ]
     },
     "execution_count": 33,
     "metadata": {},
     "output_type": "execute_result"
    }
   ],
   "source": [
    "trader.get_total_fees()"
   ]
  },
  {
   "cell_type": "code",
   "execution_count": 34,
   "id": "electric-enemy",
   "metadata": {},
   "outputs": [
    {
     "name": "stdout",
     "output_type": "stream",
     "text": [
      "Total net profit : 3.01\n",
      "Trade net profit : 0.43\n"
     ]
    }
   ],
   "source": [
    "my_metrics.summary()"
   ]
  },
  {
   "cell_type": "code",
   "execution_count": null,
   "id": "loaded-latex",
   "metadata": {},
   "outputs": [],
   "source": [
    "    "
   ]
  }
 ],
 "metadata": {
  "kernelspec": {
   "display_name": "Python 3 (ipykernel)",
   "language": "python",
   "name": "python3"
  },
  "language_info": {
   "codemirror_mode": {
    "name": "ipython",
    "version": 3
   },
   "file_extension": ".py",
   "mimetype": "text/x-python",
   "name": "python",
   "nbconvert_exporter": "python",
   "pygments_lexer": "ipython3",
   "version": "3.8.7"
  }
 },
 "nbformat": 4,
 "nbformat_minor": 5
}
