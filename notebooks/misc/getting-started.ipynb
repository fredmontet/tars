{
 "cells": [
  {
   "cell_type": "markdown",
   "id": "joint-burlington",
   "metadata": {},
   "source": [
    "# Getting started"
   ]
  },
  {
   "cell_type": "markdown",
   "id": "duplicate-value",
   "metadata": {},
   "source": [
    "Welcome to the getting started of TARS, a small crypto trading bot made for exploration of new tarding methods.  "
   ]
  },
  {
   "cell_type": "markdown",
   "id": "civic-flexibility",
   "metadata": {},
   "source": [
    "## Import"
   ]
  },
  {
   "cell_type": "code",
   "execution_count": 8,
   "id": "exciting-scottish",
   "metadata": {},
   "outputs": [],
   "source": [
    "from src import TARS"
   ]
  },
  {
   "cell_type": "markdown",
   "id": "educated-lingerie",
   "metadata": {},
   "source": [
    "## Constants"
   ]
  },
  {
   "cell_type": "code",
   "execution_count": 9,
   "id": "grateful-crisis",
   "metadata": {},
   "outputs": [
    {
     "name": "stdout",
     "output_type": "stream",
     "text": [
      "/Users/frederic.montet/src/project/tars/notebooks\n"
     ]
    }
   ],
   "source": [
    "!pwd"
   ]
  },
  {
   "cell_type": "code",
   "execution_count": 10,
   "id": "moving-rogers",
   "metadata": {},
   "outputs": [],
   "source": [
    "root = '../'\n",
    "api_key = f'{root}kraken.key'"
   ]
  },
  {
   "cell_type": "markdown",
   "id": "detected-tunnel",
   "metadata": {},
   "source": [
    "---"
   ]
  },
  {
   "cell_type": "markdown",
   "id": "future-turkish",
   "metadata": {},
   "source": [
    "## Create TARS"
   ]
  },
  {
   "cell_type": "code",
   "execution_count": 12,
   "id": "attempted-effect",
   "metadata": {},
   "outputs": [],
   "source": [
    "tars = TARS(api_key)"
   ]
  },
  {
   "cell_type": "markdown",
   "id": "subject-iraqi",
   "metadata": {},
   "source": [
    "### Check a public route"
   ]
  },
  {
   "cell_type": "markdown",
   "id": "electronic-bullet",
   "metadata": {},
   "source": [
    "Get the current informations of a pair"
   ]
  },
  {
   "cell_type": "code",
   "execution_count": 13,
   "id": "extraordinary-bread",
   "metadata": {},
   "outputs": [],
   "source": [
    "d, l = tars.kraken.get_ohlc_data('ETHCHF')"
   ]
  },
  {
   "cell_type": "code",
   "execution_count": 14,
   "id": "alive-jackson",
   "metadata": {},
   "outputs": [
    {
     "data": {
      "text/html": [
       "<div>\n",
       "<style scoped>\n",
       "    .dataframe tbody tr th:only-of-type {\n",
       "        vertical-align: middle;\n",
       "    }\n",
       "\n",
       "    .dataframe tbody tr th {\n",
       "        vertical-align: top;\n",
       "    }\n",
       "\n",
       "    .dataframe thead th {\n",
       "        text-align: right;\n",
       "    }\n",
       "</style>\n",
       "<table border=\"1\" class=\"dataframe\">\n",
       "  <thead>\n",
       "    <tr style=\"text-align: right;\">\n",
       "      <th></th>\n",
       "      <th>time</th>\n",
       "      <th>open</th>\n",
       "      <th>high</th>\n",
       "      <th>low</th>\n",
       "      <th>close</th>\n",
       "      <th>vwap</th>\n",
       "      <th>volume</th>\n",
       "      <th>count</th>\n",
       "    </tr>\n",
       "    <tr>\n",
       "      <th>dtime</th>\n",
       "      <th></th>\n",
       "      <th></th>\n",
       "      <th></th>\n",
       "      <th></th>\n",
       "      <th></th>\n",
       "      <th></th>\n",
       "      <th></th>\n",
       "      <th></th>\n",
       "    </tr>\n",
       "  </thead>\n",
       "  <tbody>\n",
       "    <tr>\n",
       "      <th>2021-07-19 20:53:00</th>\n",
       "      <td>1626727980</td>\n",
       "      <td>1677.32</td>\n",
       "      <td>1677.32</td>\n",
       "      <td>1677.32</td>\n",
       "      <td>1677.32</td>\n",
       "      <td>0.0</td>\n",
       "      <td>0.0</td>\n",
       "      <td>0</td>\n",
       "    </tr>\n",
       "    <tr>\n",
       "      <th>2021-07-19 20:52:00</th>\n",
       "      <td>1626727920</td>\n",
       "      <td>1677.32</td>\n",
       "      <td>1677.32</td>\n",
       "      <td>1677.32</td>\n",
       "      <td>1677.32</td>\n",
       "      <td>0.0</td>\n",
       "      <td>0.0</td>\n",
       "      <td>0</td>\n",
       "    </tr>\n",
       "    <tr>\n",
       "      <th>2021-07-19 20:51:00</th>\n",
       "      <td>1626727860</td>\n",
       "      <td>1677.32</td>\n",
       "      <td>1677.32</td>\n",
       "      <td>1677.32</td>\n",
       "      <td>1677.32</td>\n",
       "      <td>0.0</td>\n",
       "      <td>0.0</td>\n",
       "      <td>0</td>\n",
       "    </tr>\n",
       "    <tr>\n",
       "      <th>2021-07-19 20:50:00</th>\n",
       "      <td>1626727800</td>\n",
       "      <td>1677.32</td>\n",
       "      <td>1677.32</td>\n",
       "      <td>1677.32</td>\n",
       "      <td>1677.32</td>\n",
       "      <td>0.0</td>\n",
       "      <td>0.0</td>\n",
       "      <td>0</td>\n",
       "    </tr>\n",
       "    <tr>\n",
       "      <th>2021-07-19 20:49:00</th>\n",
       "      <td>1626727740</td>\n",
       "      <td>1677.32</td>\n",
       "      <td>1677.32</td>\n",
       "      <td>1677.32</td>\n",
       "      <td>1677.32</td>\n",
       "      <td>0.0</td>\n",
       "      <td>0.0</td>\n",
       "      <td>0</td>\n",
       "    </tr>\n",
       "    <tr>\n",
       "      <th>...</th>\n",
       "      <td>...</td>\n",
       "      <td>...</td>\n",
       "      <td>...</td>\n",
       "      <td>...</td>\n",
       "      <td>...</td>\n",
       "      <td>...</td>\n",
       "      <td>...</td>\n",
       "      <td>...</td>\n",
       "    </tr>\n",
       "    <tr>\n",
       "      <th>2021-07-19 08:58:00</th>\n",
       "      <td>1626685080</td>\n",
       "      <td>1741.75</td>\n",
       "      <td>1741.75</td>\n",
       "      <td>1741.75</td>\n",
       "      <td>1741.75</td>\n",
       "      <td>0.0</td>\n",
       "      <td>0.0</td>\n",
       "      <td>0</td>\n",
       "    </tr>\n",
       "    <tr>\n",
       "      <th>2021-07-19 08:57:00</th>\n",
       "      <td>1626685020</td>\n",
       "      <td>1741.75</td>\n",
       "      <td>1741.75</td>\n",
       "      <td>1741.75</td>\n",
       "      <td>1741.75</td>\n",
       "      <td>0.0</td>\n",
       "      <td>0.0</td>\n",
       "      <td>0</td>\n",
       "    </tr>\n",
       "    <tr>\n",
       "      <th>2021-07-19 08:56:00</th>\n",
       "      <td>1626684960</td>\n",
       "      <td>1741.75</td>\n",
       "      <td>1741.75</td>\n",
       "      <td>1741.75</td>\n",
       "      <td>1741.75</td>\n",
       "      <td>0.0</td>\n",
       "      <td>0.0</td>\n",
       "      <td>0</td>\n",
       "    </tr>\n",
       "    <tr>\n",
       "      <th>2021-07-19 08:55:00</th>\n",
       "      <td>1626684900</td>\n",
       "      <td>1741.75</td>\n",
       "      <td>1741.75</td>\n",
       "      <td>1741.75</td>\n",
       "      <td>1741.75</td>\n",
       "      <td>0.0</td>\n",
       "      <td>0.0</td>\n",
       "      <td>0</td>\n",
       "    </tr>\n",
       "    <tr>\n",
       "      <th>2021-07-19 08:54:00</th>\n",
       "      <td>1626684840</td>\n",
       "      <td>1741.75</td>\n",
       "      <td>1741.75</td>\n",
       "      <td>1741.75</td>\n",
       "      <td>1741.75</td>\n",
       "      <td>0.0</td>\n",
       "      <td>0.0</td>\n",
       "      <td>0</td>\n",
       "    </tr>\n",
       "  </tbody>\n",
       "</table>\n",
       "<p>720 rows × 8 columns</p>\n",
       "</div>"
      ],
      "text/plain": [
       "                           time     open     high      low    close  vwap  \\\n",
       "dtime                                                                       \n",
       "2021-07-19 20:53:00  1626727980  1677.32  1677.32  1677.32  1677.32   0.0   \n",
       "2021-07-19 20:52:00  1626727920  1677.32  1677.32  1677.32  1677.32   0.0   \n",
       "2021-07-19 20:51:00  1626727860  1677.32  1677.32  1677.32  1677.32   0.0   \n",
       "2021-07-19 20:50:00  1626727800  1677.32  1677.32  1677.32  1677.32   0.0   \n",
       "2021-07-19 20:49:00  1626727740  1677.32  1677.32  1677.32  1677.32   0.0   \n",
       "...                         ...      ...      ...      ...      ...   ...   \n",
       "2021-07-19 08:58:00  1626685080  1741.75  1741.75  1741.75  1741.75   0.0   \n",
       "2021-07-19 08:57:00  1626685020  1741.75  1741.75  1741.75  1741.75   0.0   \n",
       "2021-07-19 08:56:00  1626684960  1741.75  1741.75  1741.75  1741.75   0.0   \n",
       "2021-07-19 08:55:00  1626684900  1741.75  1741.75  1741.75  1741.75   0.0   \n",
       "2021-07-19 08:54:00  1626684840  1741.75  1741.75  1741.75  1741.75   0.0   \n",
       "\n",
       "                     volume  count  \n",
       "dtime                               \n",
       "2021-07-19 20:53:00     0.0      0  \n",
       "2021-07-19 20:52:00     0.0      0  \n",
       "2021-07-19 20:51:00     0.0      0  \n",
       "2021-07-19 20:50:00     0.0      0  \n",
       "2021-07-19 20:49:00     0.0      0  \n",
       "...                     ...    ...  \n",
       "2021-07-19 08:58:00     0.0      0  \n",
       "2021-07-19 08:57:00     0.0      0  \n",
       "2021-07-19 08:56:00     0.0      0  \n",
       "2021-07-19 08:55:00     0.0      0  \n",
       "2021-07-19 08:54:00     0.0      0  \n",
       "\n",
       "[720 rows x 8 columns]"
      ]
     },
     "execution_count": 14,
     "metadata": {},
     "output_type": "execute_result"
    }
   ],
   "source": [
    "d"
   ]
  },
  {
   "cell_type": "markdown",
   "id": "veterinary-donna",
   "metadata": {},
   "source": [
    "### Check a private route"
   ]
  },
  {
   "cell_type": "markdown",
   "id": "foster-intensity",
   "metadata": {},
   "source": [
    "Get the current balance of your account"
   ]
  },
  {
   "cell_type": "code",
   "execution_count": 25,
   "id": "disabled-course",
   "metadata": {},
   "outputs": [],
   "source": [
    "r = tars.kraken.get_account_balance()"
   ]
  },
  {
   "cell_type": "code",
   "execution_count": 29,
   "id": "descending-sport",
   "metadata": {},
   "outputs": [
    {
     "data": {
      "text/html": [
       "<div>\n",
       "<style scoped>\n",
       "    .dataframe tbody tr th:only-of-type {\n",
       "        vertical-align: middle;\n",
       "    }\n",
       "\n",
       "    .dataframe tbody tr th {\n",
       "        vertical-align: top;\n",
       "    }\n",
       "\n",
       "    .dataframe thead th {\n",
       "        text-align: right;\n",
       "    }\n",
       "</style>\n",
       "<table border=\"1\" class=\"dataframe\">\n",
       "  <thead>\n",
       "    <tr style=\"text-align: right;\">\n",
       "      <th></th>\n",
       "      <th>vol</th>\n",
       "    </tr>\n",
       "  </thead>\n",
       "  <tbody>\n",
       "    <tr>\n",
       "      <th>ZUSD</th>\n",
       "      <td>1.000000e-04</td>\n",
       "    </tr>\n",
       "    <tr>\n",
       "      <th>CHF</th>\n",
       "      <td>0.000000e+00</td>\n",
       "    </tr>\n",
       "    <tr>\n",
       "      <th>XXBT</th>\n",
       "      <td>2.680000e-07</td>\n",
       "    </tr>\n",
       "    <tr>\n",
       "      <th>XXRP</th>\n",
       "      <td>0.000000e+00</td>\n",
       "    </tr>\n",
       "    <tr>\n",
       "      <th>XXDG</th>\n",
       "      <td>0.000000e+00</td>\n",
       "    </tr>\n",
       "    <tr>\n",
       "      <th>XETH</th>\n",
       "      <td>1.038816e-02</td>\n",
       "    </tr>\n",
       "    <tr>\n",
       "      <th>XXMR</th>\n",
       "      <td>0.000000e+00</td>\n",
       "    </tr>\n",
       "    <tr>\n",
       "      <th>ADA</th>\n",
       "      <td>1.200841e+01</td>\n",
       "    </tr>\n",
       "    <tr>\n",
       "      <th>QTUM</th>\n",
       "      <td>0.000000e+00</td>\n",
       "    </tr>\n",
       "    <tr>\n",
       "      <th>FLOW</th>\n",
       "      <td>2.000000e-08</td>\n",
       "    </tr>\n",
       "    <tr>\n",
       "      <th>GRT</th>\n",
       "      <td>0.000000e+00</td>\n",
       "    </tr>\n",
       "    <tr>\n",
       "      <th>OCEAN</th>\n",
       "      <td>0.000000e+00</td>\n",
       "    </tr>\n",
       "    <tr>\n",
       "      <th>MINA</th>\n",
       "      <td>5.873000e+00</td>\n",
       "    </tr>\n",
       "  </tbody>\n",
       "</table>\n",
       "</div>"
      ],
      "text/plain": [
       "                vol\n",
       "ZUSD   1.000000e-04\n",
       "CHF    0.000000e+00\n",
       "XXBT   2.680000e-07\n",
       "XXRP   0.000000e+00\n",
       "XXDG   0.000000e+00\n",
       "XETH   1.038816e-02\n",
       "XXMR   0.000000e+00\n",
       "ADA    1.200841e+01\n",
       "QTUM   0.000000e+00\n",
       "FLOW   2.000000e-08\n",
       "GRT    0.000000e+00\n",
       "OCEAN  0.000000e+00\n",
       "MINA   5.873000e+00"
      ]
     },
     "execution_count": 29,
     "metadata": {},
     "output_type": "execute_result"
    }
   ],
   "source": [
    "r"
   ]
  },
  {
   "cell_type": "markdown",
   "id": "southern-moral",
   "metadata": {},
   "source": [
    "### Check currencies available in CHF"
   ]
  },
  {
   "cell_type": "code",
   "execution_count": 27,
   "id": "lonely-moscow",
   "metadata": {},
   "outputs": [
    {
     "data": {
      "text/plain": [
       "['ETHCHF', 'EURCHF', 'USDCHF', 'USDTCHF', 'XBTCHF']"
      ]
     },
     "execution_count": 27,
     "metadata": {},
     "output_type": "execute_result"
    }
   ],
   "source": [
    "pairs = tars.kraken.get_tradable_asset_pairs()\n",
    "pl = pairs.index.to_list()\n",
    "[s for s in pl if \"CHF\" in s]"
   ]
  },
  {
   "cell_type": "markdown",
   "id": "bulgarian-timothy",
   "metadata": {},
   "source": [
    "### Make some plots"
   ]
  },
  {
   "cell_type": "markdown",
   "id": "graduate-dimension",
   "metadata": {},
   "source": [
    "Close value with rolling windows of 1 and 2 hours"
   ]
  },
  {
   "cell_type": "code",
   "execution_count": 28,
   "id": "conceptual-performer",
   "metadata": {},
   "outputs": [
    {
     "data": {
      "image/png": "[encoded data removed]",
      "text/plain": [
       "<Figure size 432x288 with 1 Axes>"
      ]
     },
     "metadata": {
      "needs_background": "light"
     },
     "output_type": "display_data"
    }
   ],
   "source": [
    "d[['close']].plot();\n",
    "d['close'].rolling(window=60).mean().plot(label='60')\n",
    "d['close'].rolling(window=120).mean().plot();"
   ]
  },
  {
   "cell_type": "markdown",
   "id": "ambient-bronze",
   "metadata": {},
   "source": [
    "### Example methods"
   ]
  },
  {
   "cell_type": "code",
   "execution_count": 9,
   "id": "presidential-thomas",
   "metadata": {},
   "outputs": [
    {
     "name": "stdout",
     "output_type": "stream",
     "text": [
      "start\n"
     ]
    }
   ],
   "source": [
    "tars.start()"
   ]
  },
  {
   "cell_type": "code",
   "execution_count": 12,
   "id": "quality-insured",
   "metadata": {},
   "outputs": [
    {
     "name": "stdout",
     "output_type": "stream",
     "text": [
      "trade\n"
     ]
    }
   ],
   "source": [
    "tars.trade('ETHUSD')"
   ]
  },
  {
   "cell_type": "code",
   "execution_count": 13,
   "id": "thirty-wagon",
   "metadata": {},
   "outputs": [
    {
     "name": "stdout",
     "output_type": "stream",
     "text": [
      "rebalance\n"
     ]
    }
   ],
   "source": [
    "tars.rebalance()"
   ]
  },
  {
   "cell_type": "code",
   "execution_count": 16,
   "id": "reverse-grant",
   "metadata": {},
   "outputs": [
    {
     "name": "stdout",
     "output_type": "stream",
     "text": [
      "load model\n"
     ]
    }
   ],
   "source": [
    "my_model = None\n",
    "tars.load_model(my_model)"
   ]
  },
  {
   "cell_type": "code",
   "execution_count": 17,
   "id": "composed-ability",
   "metadata": {},
   "outputs": [
    {
     "name": "stdout",
     "output_type": "stream",
     "text": [
      "get performance report\n"
     ]
    }
   ],
   "source": [
    "tars.get_performance_report()"
   ]
  },
  {
   "cell_type": "code",
   "execution_count": 18,
   "id": "beneficial-sheffield",
   "metadata": {},
   "outputs": [
    {
     "name": "stdout",
     "output_type": "stream",
     "text": [
      "get portfolio\n"
     ]
    }
   ],
   "source": [
    "tars.get_portfolio()"
   ]
  },
  {
   "cell_type": "code",
   "execution_count": null,
   "id": "facial-sixth",
   "metadata": {},
   "outputs": [],
   "source": []
  }
 ],
 "metadata": {
  "kernelspec": {
   "display_name": "Python 3",
   "language": "python",
   "name": "python3"
  },
  "language_info": {
   "codemirror_mode": {
    "name": "ipython",
    "version": 3
   },
   "file_extension": ".py",
   "mimetype": "text/x-python",
   "name": "python",
   "nbconvert_exporter": "python",
   "pygments_lexer": "ipython3",
   "version": "3.8.7"
  }
 },
 "nbformat": 4,
 "nbformat_minor": 5
}
