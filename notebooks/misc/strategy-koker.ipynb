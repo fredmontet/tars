{
 "cells": [
  {
   "cell_type": "code",
   "execution_count": 52,
   "id": "fewer-brain",
   "metadata": {
    "collapsed": false,
    "jupyter": {
     "outputs_hidden": false
    },
    "pycharm": {
     "name": "#%%\n"
    }
   },
   "outputs": [],
   "source": [
    "from src import TARS, markets, portfolios, traders, strategies\n",
    "%matplotlib inline"
   ]
  },
  {
   "cell_type": "markdown",
   "id": "alive-financing",
   "metadata": {},
   "source": [
    "# Koker strategy - in development\n",
    "\n",
    "Here's an example to show how you can develop your own strategy. This notebook is a template for you to start your own thing.\n",
    "\n",
    "https://teddykoker.com/2019/06/trading-with-reinforcement-learning-in-python-part-ii-application/"
   ]
  },
  {
   "cell_type": "markdown",
   "id": "prime-celebration",
   "metadata": {},
   "source": [
    "### Here's the strategy in development"
   ]
  },
  {
   "cell_type": "code",
   "execution_count": 135,
   "id": "guided-charleston",
   "metadata": {},
   "outputs": [],
   "source": [
    "import numpy as np\n",
    "import pandas as pd\n",
    "import matplotlib.pyplot as plt\n",
    "from tqdm import tqdm\n",
    "\n",
    "\n",
    "class Koker:\n",
    "\n",
    "    def __init__(self):\n",
    "        self.x = None\n",
    "        self.x_train = None\n",
    "        self.x_test = None\n",
    "        self.theta = None\n",
    "        self.sharpes = None\n",
    "\n",
    "    def load(self, data):\n",
    "        \"\"\"\n",
    "        Load a dataframe with the data and create the training and test set.\n",
    "        The column with the timestamp must be the index and the one with\n",
    "        price, \"close\".\n",
    "\n",
    "        :param data: DataFrame\n",
    "        \"\"\"\n",
    "        data.index = pd.to_datetime(data.index, unit='s')\n",
    "        rets = data['close'].diff()[1:]\n",
    "\n",
    "        x = np.array(rets)\n",
    "        self.x = x\n",
    "\n",
    "        N = 4000\n",
    "        P = 800\n",
    "        x_train = x[-(N+P):-P]\n",
    "        x_test = x[-P:]\n",
    "\n",
    "        # Normalize with Z-Score\n",
    "        std = np.std(x_train)\n",
    "        mean = np.mean(x_train)\n",
    "\n",
    "        self.x_train = (x_train - mean) / std\n",
    "        self.x_test = (x_test - mean) / std\n",
    "\n",
    "    @staticmethod\n",
    "    def sharpe_ratio(rets):\n",
    "        return rets.mean() / rets.std()\n",
    "\n",
    "    @staticmethod\n",
    "    def positions(x, theta):\n",
    "        M = len(theta) - 2\n",
    "        T = len(x)\n",
    "        Ft = np.zeros(T)\n",
    "        for t in range(M, T):\n",
    "            xt = np.concatenate([[1], x[t - M:t], [Ft[t - 1]]])\n",
    "            Ft[t] = np.tanh(np.dot(theta, xt))\n",
    "        return Ft\n",
    "\n",
    "    @staticmethod\n",
    "    def returns(Ft, x, delta):\n",
    "        T = len(x)\n",
    "        rets = Ft[0:T - 1] * x[1:T] - delta * np.abs(Ft[1:T] - Ft[0:T - 1])\n",
    "        return np.concatenate([[0], rets])\n",
    "\n",
    "    @staticmethod\n",
    "    def gradient(x, theta, delta):\n",
    "        Ft = Koker.positions(x, theta)\n",
    "        R = Koker.returns(Ft, x, delta)\n",
    "        T = len(x)\n",
    "        M = len(theta) - 2\n",
    "\n",
    "        A = np.mean(R)\n",
    "        B = np.mean(np.square(R))\n",
    "        S = A / np.sqrt(B - A ** 2)\n",
    "\n",
    "        dSdA = S * (1 + S ** 2) / A\n",
    "        dSdB = -S ** 3 / 2 / A ** 2\n",
    "        dAdR = 1. / T\n",
    "        dBdR = 2. / T * R\n",
    "\n",
    "        grad = np.zeros(M + 2)  # initialize gradient\n",
    "        dFpdtheta = np.zeros(M + 2)  # for storing previous dFdtheta\n",
    "\n",
    "        for t in range(M, T):\n",
    "            xt = np.concatenate([[1], x[t - M:t], [Ft[t - 1]]])\n",
    "            dRdF = -delta * np.sign(Ft[t] - Ft[t - 1])\n",
    "            dRdFp = x[t] + delta * np.sign(Ft[t] - Ft[t - 1])\n",
    "            dFdtheta = (1 - Ft[t] ** 2) * (xt + theta[-1] * dFpdtheta)\n",
    "            dSdtheta = (dSdA * dAdR + dSdB * dBdR[t]) * (\n",
    "                        dRdF * dFdtheta + dRdFp * dFpdtheta)\n",
    "            grad = grad + dSdtheta\n",
    "            dFpdtheta = dFdtheta\n",
    "\n",
    "        return grad, S\n",
    "\n",
    "    def train(self, x, epochs=2000, M=8, commission=0.0025, learning_rate=0.3):\n",
    "        theta = np.random.rand(M + 2)\n",
    "        sharpes = np.zeros(epochs)  # store sharpes over time\n",
    "        for i in tqdm(range(epochs)):\n",
    "            grad, sharpe = Koker.gradient(x, theta, commission)\n",
    "            theta = theta + grad * learning_rate\n",
    "            sharpes[i] = sharpe\n",
    "        self.theta = theta\n",
    "        self.sharpes = sharpes\n",
    "\n",
    "    def plot(self, x, theta):\n",
    "        x_returns = Koker.returns(Koker.positions(x, theta), x, 0.0025)\n",
    "        plt.plot(x_returns.cumsum(), label=\"Reinforcement Learning Model\", linewidth=1)\n",
    "        plt.plot(x.cumsum(), label=\"Buy and Hold\", linewidth=1)\n",
    "        plt.xlabel('Ticks')\n",
    "        plt.ylabel('Cumulative Returns')\n",
    "        plt.legend()\n",
    "        plt.title(\"RL Model vs. Buy and Hold\")\n"
   ]
  },
  {
   "cell_type": "markdown",
   "id": "e8c6f9c6-c4ab-4d73-92eb-6ae832ac6c80",
   "metadata": {},
   "source": [
    "## Test the RL algorithm"
   ]
  },
  {
   "cell_type": "code",
   "execution_count": 136,
   "id": "ef35e27f-8edf-4045-b601-0b9720c974a4",
   "metadata": {},
   "outputs": [
    {
     "data": {
      "text/html": [
       "<div>\n",
       "<style scoped>\n",
       "    .dataframe tbody tr th:only-of-type {\n",
       "        vertical-align: middle;\n",
       "    }\n",
       "\n",
       "    .dataframe tbody tr th {\n",
       "        vertical-align: top;\n",
       "    }\n",
       "\n",
       "    .dataframe thead th {\n",
       "        text-align: right;\n",
       "    }\n",
       "</style>\n",
       "<table border=\"1\" class=\"dataframe\">\n",
       "  <thead>\n",
       "    <tr style=\"text-align: right;\">\n",
       "      <th></th>\n",
       "      <th>open</th>\n",
       "      <th>high</th>\n",
       "      <th>low</th>\n",
       "      <th>close</th>\n",
       "      <th>volume</th>\n",
       "      <th>trades</th>\n",
       "    </tr>\n",
       "    <tr>\n",
       "      <th>timestamp</th>\n",
       "      <th></th>\n",
       "      <th></th>\n",
       "      <th></th>\n",
       "      <th></th>\n",
       "      <th></th>\n",
       "      <th></th>\n",
       "    </tr>\n",
       "  </thead>\n",
       "  <tbody>\n",
       "    <tr>\n",
       "      <th>2015-08-07 14:00:00</th>\n",
       "      <td>3.00000</td>\n",
       "      <td>3.00000</td>\n",
       "      <td>3.0</td>\n",
       "      <td>3.0</td>\n",
       "      <td>81.857278</td>\n",
       "      <td>2</td>\n",
       "    </tr>\n",
       "    <tr>\n",
       "      <th>2015-08-07 17:15:00</th>\n",
       "      <td>3.00001</td>\n",
       "      <td>3.00001</td>\n",
       "      <td>3.0</td>\n",
       "      <td>3.0</td>\n",
       "      <td>42.073291</td>\n",
       "      <td>2</td>\n",
       "    </tr>\n",
       "    <tr>\n",
       "      <th>2015-08-08 06:40:00</th>\n",
       "      <td>3.00000</td>\n",
       "      <td>3.00000</td>\n",
       "      <td>3.0</td>\n",
       "      <td>3.0</td>\n",
       "      <td>0.400000</td>\n",
       "      <td>1</td>\n",
       "    </tr>\n",
       "    <tr>\n",
       "      <th>2015-08-08 09:30:00</th>\n",
       "      <td>2.00000</td>\n",
       "      <td>2.00000</td>\n",
       "      <td>2.0</td>\n",
       "      <td>2.0</td>\n",
       "      <td>125.000000</td>\n",
       "      <td>2</td>\n",
       "    </tr>\n",
       "    <tr>\n",
       "      <th>2015-08-08 16:30:00</th>\n",
       "      <td>1.20000</td>\n",
       "      <td>1.20000</td>\n",
       "      <td>1.2</td>\n",
       "      <td>1.2</td>\n",
       "      <td>148.134000</td>\n",
       "      <td>3</td>\n",
       "    </tr>\n",
       "  </tbody>\n",
       "</table>\n",
       "</div>"
      ],
      "text/plain": [
       "                        open     high  low  close      volume  trades\n",
       "timestamp                                                            \n",
       "2015-08-07 14:00:00  3.00000  3.00000  3.0    3.0   81.857278       2\n",
       "2015-08-07 17:15:00  3.00001  3.00001  3.0    3.0   42.073291       2\n",
       "2015-08-08 06:40:00  3.00000  3.00000  3.0    3.0    0.400000       1\n",
       "2015-08-08 09:30:00  2.00000  2.00000  2.0    2.0  125.000000       2\n",
       "2015-08-08 16:30:00  1.20000  1.20000  1.2    1.2  148.134000       3"
      ]
     },
     "execution_count": 136,
     "metadata": {},
     "output_type": "execute_result"
    }
   ],
   "source": [
    "from tars.utils import data \n",
    "df = data.get_historical_ohlc_data(base='ETH', quote='USD', data_folder='../../data/raw')\n",
    "df.head()"
   ]
  },
  {
   "cell_type": "markdown",
   "id": "c8f21568-3761-4060-983e-332540851dc4",
   "metadata": {},
   "source": [
    "## Model"
   ]
  },
  {
   "cell_type": "code",
   "execution_count": 137,
   "id": "be18160e-eb08-4d2a-bbda-14b8e941b323",
   "metadata": {},
   "outputs": [
    {
     "name": "stderr",
     "output_type": "stream",
     "text": [
      "100%|██████████████████████████████████████████████████████████████████████████████| 2000/2000 [03:35<00:00,  9.26it/s]\n"
     ]
    }
   ],
   "source": [
    "koker = Koker()\n",
    "koker.load(df)\n",
    "koker.train(koker.x_train)"
   ]
  },
  {
   "cell_type": "code",
   "execution_count": 139,
   "id": "0f515035-54e5-4708-8e39-a533974dd6c4",
   "metadata": {},
   "outputs": [
    {
     "data": {
      "image/png": "[encoded data removed]",
      "text/plain": [
       "<Figure size 432x288 with 1 Axes>"
      ]
     },
     "metadata": {
      "needs_background": "light"
     },
     "output_type": "display_data"
    }
   ],
   "source": [
    "plt.plot(koker.sharpes);"
   ]
  },
  {
   "cell_type": "markdown",
   "id": "aff54b09-f757-4ce8-ba88-1d9175e5a433",
   "metadata": {},
   "source": [
    "## Train"
   ]
  },
  {
   "cell_type": "code",
   "execution_count": 140,
   "id": "fc0a8773-7854-403a-b883-e204e266a116",
   "metadata": {},
   "outputs": [],
   "source": [
    "train_returns = koker.returns(koker.positions(koker.x_train, koker.theta), koker.x_train, 0.0025)"
   ]
  },
  {
   "cell_type": "code",
   "execution_count": 141,
   "id": "862c7ef4-36eb-4932-af33-891887abd4f7",
   "metadata": {},
   "outputs": [
    {
     "data": {
      "image/png": "[encoded data removed]",
      "text/plain": [
       "<Figure size 432x288 with 1 Axes>"
      ]
     },
     "metadata": {
      "needs_background": "light"
     },
     "output_type": "display_data"
    }
   ],
   "source": [
    "plt.plot(train_returns.cumsum(), label=\"RL Model\")\n",
    "plt.plot(koker.x_train.cumsum(), label=\"Buy and Hold\")\n",
    "plt.legend()\n",
    "plt.title(\"RL Model vs. Buy and Hold - Training Data\");"
   ]
  },
  {
   "cell_type": "markdown",
   "id": "9100a7e0-fbda-4366-ba6b-2fd4a77de7e8",
   "metadata": {},
   "source": [
    "## Test"
   ]
  },
  {
   "cell_type": "code",
   "execution_count": 146,
   "id": "77cc3d95-70c3-4cc4-90c0-534070e772a1",
   "metadata": {},
   "outputs": [],
   "source": [
    "test_returns = koker.returns(koker.positions(koker.x_test, koker.theta), koker.x_test, 0.0025)"
   ]
  },
  {
   "cell_type": "code",
   "execution_count": 147,
   "id": "30ace44d-c84a-4e87-b95e-56bf0f2ec81f",
   "metadata": {},
   "outputs": [
    {
     "data": {
      "image/png": "[encoded data removed]",
      "text/plain": [
       "<Figure size 432x288 with 1 Axes>"
      ]
     },
     "metadata": {
      "needs_background": "light"
     },
     "output_type": "display_data"
    }
   ],
   "source": [
    "plt.plot(test_returns.cumsum(), label=\"RL Model\")\n",
    "plt.plot(koker.x_test.cumsum(), label=\"Buy and Hold\")\n",
    "plt.legend()\n",
    "plt.title(\"RL Model vs. Buy and Hold - Test Data\");"
   ]
  },
  {
   "cell_type": "markdown",
   "id": "c33ab884-ee64-4b02-9931-6aee942122d8",
   "metadata": {},
   "source": [
    "## Get a single trading decision"
   ]
  },
  {
   "cell_type": "code",
   "execution_count": 148,
   "id": "ea277167-8272-41d1-ae04-71737e93e36e",
   "metadata": {},
   "outputs": [],
   "source": [
    "from tars import markets\n",
    "from time import sleep"
   ]
  },
  {
   "cell_type": "code",
   "execution_count": 149,
   "id": "9b0d745e-44fa-4564-ba70-f6256befcd2c",
   "metadata": {},
   "outputs": [],
   "source": [
    "market = markets.CryptoMarket()"
   ]
  },
  {
   "cell_type": "code",
   "execution_count": 150,
   "id": "28bfe7e9-bcdc-45a6-8336-df66a0286a55",
   "metadata": {},
   "outputs": [
    {
     "name": "stdout",
     "output_type": "stream",
     "text": [
      "0.0\n"
     ]
    },
    {
     "ename": "KeyboardInterrupt",
     "evalue": "",
     "output_type": "error",
     "traceback": [
      "\u001b[0;31m---------------------------------------------------------------------------\u001b[0m",
      "\u001b[0;31mKeyboardInterrupt\u001b[0m                         Traceback (most recent call last)",
      "\u001b[0;32m/var/folders/7q/1x_yx5h51ng0_25bk8sb4wcw0000gp/T/ipykernel_23164/704908964.py\u001b[0m in \u001b[0;36m<module>\u001b[0;34m\u001b[0m\n\u001b[1;32m      3\u001b[0m     \u001b[0mdecision\u001b[0m \u001b[0;34m=\u001b[0m \u001b[0mkoker\u001b[0m\u001b[0;34m.\u001b[0m\u001b[0mpositions\u001b[0m\u001b[0;34m(\u001b[0m\u001b[0mdf0\u001b[0m\u001b[0;34m[\u001b[0m\u001b[0;34m-\u001b[0m\u001b[0;36m1\u001b[0m\u001b[0;34m:\u001b[0m\u001b[0;34m]\u001b[0m\u001b[0;34m,\u001b[0m \u001b[0mkoker\u001b[0m\u001b[0;34m.\u001b[0m\u001b[0mtheta\u001b[0m\u001b[0;34m)\u001b[0m\u001b[0;34m[\u001b[0m\u001b[0;36m0\u001b[0m\u001b[0;34m]\u001b[0m\u001b[0;34m\u001b[0m\u001b[0;34m\u001b[0m\u001b[0m\n\u001b[1;32m      4\u001b[0m     \u001b[0mprint\u001b[0m\u001b[0;34m(\u001b[0m\u001b[0mdecision\u001b[0m\u001b[0;34m)\u001b[0m\u001b[0;34m\u001b[0m\u001b[0;34m\u001b[0m\u001b[0m\n\u001b[0;32m----> 5\u001b[0;31m     \u001b[0msleep\u001b[0m\u001b[0;34m(\u001b[0m\u001b[0;36m60\u001b[0m\u001b[0;34m*\u001b[0m\u001b[0;36m5\u001b[0m\u001b[0;34m)\u001b[0m\u001b[0;34m\u001b[0m\u001b[0;34m\u001b[0m\u001b[0m\n\u001b[0m",
      "\u001b[0;31mKeyboardInterrupt\u001b[0m: "
     ]
    }
   ],
   "source": [
    "while True:\n",
    "    df0 = market.get_ohlc_data(pair=\"XETHZUSD\", interval=5)[0]['close'].iloc[::-1]\n",
    "    decision = koker.positions(df0[-1:], koker.theta)[0]\n",
    "    print(decision)\n",
    "    sleep(60*5)"
   ]
  },
  {
   "cell_type": "code",
   "execution_count": 14,
   "id": "driving-fabric",
   "metadata": {},
   "outputs": [
    {
     "ename": "ModuleNotFoundError",
     "evalue": "No module named 'src'",
     "output_type": "error",
     "traceback": [
      "\u001b[0;31m---------------------------------------------------------------------------\u001b[0m",
      "\u001b[0;31mModuleNotFoundError\u001b[0m                       Traceback (most recent call last)",
      "\u001b[0;32m/var/folders/7q/1x_yx5h51ng0_25bk8sb4wcw0000gp/T/ipykernel_23164/1815004046.py\u001b[0m in \u001b[0;36m<module>\u001b[0;34m\u001b[0m\n\u001b[1;32m      2\u001b[0m \u001b[0;32mfrom\u001b[0m \u001b[0mta\u001b[0m\u001b[0;34m.\u001b[0m\u001b[0mtrend\u001b[0m \u001b[0;32mimport\u001b[0m \u001b[0mMACD\u001b[0m\u001b[0;34m\u001b[0m\u001b[0;34m\u001b[0m\u001b[0m\n\u001b[1;32m      3\u001b[0m \u001b[0;34m\u001b[0m\u001b[0m\n\u001b[0;32m----> 4\u001b[0;31m \u001b[0;32mfrom\u001b[0m \u001b[0msrc\u001b[0m\u001b[0;34m.\u001b[0m\u001b[0mtars\u001b[0m\u001b[0;34m.\u001b[0m\u001b[0mevaluators\u001b[0m\u001b[0;34m.\u001b[0m\u001b[0mtrader_evaluator\u001b[0m \u001b[0;32mimport\u001b[0m \u001b[0mTraderEvaluator\u001b[0m\u001b[0;34m\u001b[0m\u001b[0;34m\u001b[0m\u001b[0m\n\u001b[0m\u001b[1;32m      5\u001b[0m \u001b[0;32mfrom\u001b[0m \u001b[0msrc\u001b[0m\u001b[0;34m.\u001b[0m\u001b[0mtars\u001b[0m\u001b[0;34m.\u001b[0m\u001b[0mstrategies\u001b[0m\u001b[0;34m.\u001b[0m\u001b[0mabstract_strategy\u001b[0m \u001b[0;32mimport\u001b[0m \u001b[0mAbstractStrategy\u001b[0m\u001b[0;34m\u001b[0m\u001b[0;34m\u001b[0m\u001b[0m\n\u001b[1;32m      6\u001b[0m \u001b[0;32mfrom\u001b[0m \u001b[0msrc\u001b[0m\u001b[0;34m.\u001b[0m\u001b[0mtars\u001b[0m\u001b[0;34m.\u001b[0m\u001b[0mmarkets\u001b[0m\u001b[0;34m.\u001b[0m\u001b[0mcrypto_market\u001b[0m \u001b[0;32mimport\u001b[0m \u001b[0mCryptoMarket\u001b[0m\u001b[0;34m\u001b[0m\u001b[0;34m\u001b[0m\u001b[0m\n",
      "\u001b[0;31mModuleNotFoundError\u001b[0m: No module named 'src'"
     ]
    }
   ],
   "source": [
    "import pandas as pd\n",
    "from ta.trend import MACD\n",
    "\n",
    "from src.tars.evaluators.trader_evaluator import TraderEvaluator\n",
    "from src.tars.strategies.abstract_strategy import AbstractStrategy\n",
    "from src.tars.markets.crypto_market import CryptoMarket\n",
    "\n",
    "\n",
    "class KokerStrategy(AbstractStrategy):\n",
    "    \"\"\"\n",
    "    Koker Strategy\n",
    "\n",
    "    :param trader: Trader\n",
    "        The Trader handling a portfolio\n",
    "    :param pair: str\n",
    "        The pair e.g. XETHZUSD to buy and hold\n",
    "    :param volume: float\n",
    "        The volume of the pair's quote buy\n",
    "    :param validate: boolean\n",
    "        Safety Boolean to make sure not to trade real money by default\n",
    "\n",
    "    :ivar evaluator: AbstractEvaluator\n",
    "        Evaluator allows for the evaluation of a strategy\n",
    "    :ivar market: AbstractMarket\n",
    "        Market object to get information from\n",
    "    \"\"\"\n",
    "\n",
    "    def __init__(self, trader, pair, volume, validate=True):\n",
    "        self.name = 'My strategy'\n",
    "        self.trader = trader\n",
    "        self.pair = pair\n",
    "        self.volume = volume\n",
    "        self.validate = validate\n",
    "        self.evaluator = TraderEvaluator(self.trader)\n",
    "        self.market = CryptoMarket()\n",
    "\n",
    "    def run(self):\n",
    "        \"\"\" Run the strategy \"\"\"\n",
    "        # 1. Add a checkpoint to the evaluator\n",
    "        balance = self.trader.portfolio.get_trade_balance().loc['eb'].ZUSD   \n",
    "        self.evaluator.add_checkpoint(pd.Timestamp.utcnow(), balance)\n",
    "        \n",
    "        # 2. Process the data\n",
    "        market = CryptoMarket()\n",
    "        df0 = market.get_ohlc_data(pair=self.pair)[0]['close'].iloc[::-1]\n",
    "\n",
    "        # 3. Get the relevant signal informations\n",
    "        macd = MACD(df0)\n",
    "        line = macd.macd()[-1]\n",
    "        signal = macd.macd_signal()[-1]\n",
    "\n",
    "        # 4. Implement the trading logic\n",
    "        if signal < line:\n",
    "            self.trader.add_order(pair=self.pair, type='buy',\n",
    "                                  ordertype='market', volume=self.volume,\n",
    "                                  validate=self.validate)\n",
    "        elif signal >= line:\n",
    "            self.trader.add_order(pair=self.pair, type='sell',\n",
    "                                  ordertype='market', volume=self.volume,\n",
    "                                  validate=self.validate)\n",
    "        else:\n",
    "            pass\n"
   ]
  },
  {
   "cell_type": "markdown",
   "id": "reflected-cyprus",
   "metadata": {},
   "source": [
    "## Instanciate Tars"
   ]
  },
  {
   "cell_type": "markdown",
   "id": "military-hello",
   "metadata": {},
   "source": [
    "Then, it is as usual."
   ]
  },
  {
   "cell_type": "code",
   "execution_count": 3,
   "id": "intellectual-repeat",
   "metadata": {},
   "outputs": [],
   "source": [
    "api_key = f'../kraken.key'"
   ]
  },
  {
   "cell_type": "code",
   "execution_count": 4,
   "id": "elementary-quality",
   "metadata": {},
   "outputs": [],
   "source": [
    "portfolio_1 = portfolios.VirtualPortfolio({'ZUSD': 1000})\n",
    "trader_1 = traders.VirtualCryptoTrader(portfolio_1)\n",
    "strategy_1 = strategies.BuyAndHold(trader_1, 'XETHZUSD', 0.2)\n",
    "\n",
    "portfolio_2 = portfolios.VirtualPortfolio({'ZUSD': 1000})\n",
    "trader_2 = traders.VirtualCryptoTrader(portfolio_2)\n",
    "\n",
    "# Here's where you use your newly developed strategy\n",
    "strategy_2 = MyStrategy(trader_2, 'XETHZUSD', 0.2)"
   ]
  },
  {
   "cell_type": "code",
   "execution_count": 5,
   "id": "asian-belgium",
   "metadata": {},
   "outputs": [
    {
     "name": "stdout",
     "output_type": "stream",
     "text": [
      " 🤖 TARS : Welcome to Endurance! 👨‍🚀\n",
      " 🤖 TARS : Loaded strategy ➡️ Buy and hold\n",
      " 🤖 TARS : Loaded strategy ➡️ My strategy\n"
     ]
    }
   ],
   "source": [
    "# Create Tars and load its strategies\n",
    "tars = TARS()\n",
    "tars.load(strategy_1)\n",
    "tars.load(strategy_2)"
   ]
  },
  {
   "cell_type": "markdown",
   "id": "demonstrated-electric",
   "metadata": {},
   "source": [
    "## Start the bot"
   ]
  },
  {
   "cell_type": "code",
   "execution_count": 6,
   "id": "through-acquisition",
   "metadata": {},
   "outputs": [
    {
     "name": "stdout",
     "output_type": "stream",
     "text": [
      " 🤖 TARS : Starting trading session 📈\n",
      " ⏱ Trading decision will be taken every : 00:00:10️ (hh:mm:ss)\n",
      " 💪️ Loading :   \n",
      "   🧵 'Thread-4' ➡️ 'Buy and hold'\n",
      "   🧵 'Thread-5' ➡️ 'My strategy'\n"
     ]
    }
   ],
   "source": [
    "tars.start('00:00:10')"
   ]
  },
  {
   "cell_type": "markdown",
   "id": "governmental-theorem",
   "metadata": {},
   "source": [
    "## Evaluate the strategy"
   ]
  },
  {
   "cell_type": "code",
   "execution_count": 53,
   "id": "under-public",
   "metadata": {},
   "outputs": [
    {
     "data": {
      "image/png": "[encoded data removed]",
      "text/plain": [
       "<Figure size 432x288 with 1 Axes>"
      ]
     },
     "metadata": {
      "needs_background": "light"
     },
     "output_type": "display_data"
    }
   ],
   "source": [
    "tars.plot()"
   ]
  },
  {
   "cell_type": "code",
   "execution_count": 42,
   "id": "aboriginal-dialogue",
   "metadata": {},
   "outputs": [
    {
     "data": {
      "text/html": [
       "<div>\n",
       "<style scoped>\n",
       "    .dataframe tbody tr th:only-of-type {\n",
       "        vertical-align: middle;\n",
       "    }\n",
       "\n",
       "    .dataframe tbody tr th {\n",
       "        vertical-align: top;\n",
       "    }\n",
       "\n",
       "    .dataframe thead th {\n",
       "        text-align: right;\n",
       "    }\n",
       "</style>\n",
       "<table border=\"1\" class=\"dataframe\">\n",
       "  <thead>\n",
       "    <tr style=\"text-align: right;\">\n",
       "      <th></th>\n",
       "      <th>Buy and hold</th>\n",
       "      <th>My strategy</th>\n",
       "    </tr>\n",
       "  </thead>\n",
       "  <tbody>\n",
       "    <tr>\n",
       "      <th>2021-08-11 09:36:00+00:00</th>\n",
       "      <td>998.90</td>\n",
       "      <td>999.00</td>\n",
       "    </tr>\n",
       "    <tr>\n",
       "      <th>2021-08-11 09:37:00+00:00</th>\n",
       "      <td>999.67</td>\n",
       "      <td>999.81</td>\n",
       "    </tr>\n",
       "    <tr>\n",
       "      <th>2021-08-11 09:38:00+00:00</th>\n",
       "      <td>999.19</td>\n",
       "      <td>999.77</td>\n",
       "    </tr>\n",
       "    <tr>\n",
       "      <th>2021-08-11 09:39:00+00:00</th>\n",
       "      <td>999.67</td>\n",
       "      <td>999.63</td>\n",
       "    </tr>\n",
       "    <tr>\n",
       "      <th>2021-08-11 09:40:00+00:00</th>\n",
       "      <td>999.71</td>\n",
       "      <td>999.81</td>\n",
       "    </tr>\n",
       "  </tbody>\n",
       "</table>\n",
       "</div>"
      ],
      "text/plain": [
       "                           Buy and hold  My strategy\n",
       "2021-08-11 09:36:00+00:00        998.90       999.00\n",
       "2021-08-11 09:37:00+00:00        999.67       999.81\n",
       "2021-08-11 09:38:00+00:00        999.19       999.77\n",
       "2021-08-11 09:39:00+00:00        999.67       999.63\n",
       "2021-08-11 09:40:00+00:00        999.71       999.81"
      ]
     },
     "execution_count": 42,
     "metadata": {},
     "output_type": "execute_result"
    }
   ],
   "source": [
    "tars.evaluate().tail()"
   ]
  },
  {
   "cell_type": "markdown",
   "id": "animated-fruit",
   "metadata": {},
   "source": [
    "## Stop the bot"
   ]
  },
  {
   "cell_type": "code",
   "execution_count": 28,
   "id": "demonstrated-dependence",
   "metadata": {},
   "outputs": [
    {
     "name": "stdout",
     "output_type": "stream",
     "text": [
      " 🤖 TARS : ✋ Stopped all strategies\n"
     ]
    }
   ],
   "source": [
    "tars.stop()"
   ]
  },
  {
   "cell_type": "markdown",
   "id": "rough-findings",
   "metadata": {},
   "source": [
    "---"
   ]
  }
 ],
 "metadata": {
  "kernelspec": {
   "display_name": "Python 3 (ipykernel)",
   "language": "python",
   "name": "python3"
  },
  "language_info": {
   "codemirror_mode": {
    "name": "ipython",
    "version": 3
   },
   "file_extension": ".py",
   "mimetype": "text/x-python",
   "name": "python",
   "nbconvert_exporter": "python",
   "pygments_lexer": "ipython3",
   "version": "3.8.7"
  }
 },
 "nbformat": 4,
 "nbformat_minor": 5
}
