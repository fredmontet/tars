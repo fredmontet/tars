{
 "cells": [
  {
   "cell_type": "code",
   "execution_count": 2,
   "id": "fewer-brain",
   "metadata": {
    "collapsed": false,
    "jupyter": {
     "outputs_hidden": false
    },
    "pycharm": {
     "name": "#%%\n"
    }
   },
   "outputs": [
    {
     "name": "stderr",
     "output_type": "stream",
     "text": [
      "Importing plotly failed. Interactive plots will not work.\n"
     ]
    }
   ],
   "source": [
    "from tars import Tars, markets, portfolios, traders, strategies\n",
    "\n",
    "%matplotlib inline"
   ]
  },
  {
   "cell_type": "markdown",
   "id": "alive-financing",
   "metadata": {},
   "source": [
    "# Koker strategy - in development\n",
    "\n",
    "Here's an example to show how you can develop your own strategy. This notebook is a template for you to start your own thing.\n",
    "\n",
    "https://teddykoker.com/2019/06/trading-with-reinforcement-learning-in-python-part-ii-application/"
   ]
  },
  {
   "cell_type": "markdown",
   "id": "prime-celebration",
   "metadata": {},
   "source": [
    "### Here's the strategy in development"
   ]
  },
  {
   "cell_type": "code",
   "execution_count": 3,
   "id": "guided-charleston",
   "metadata": {},
   "outputs": [],
   "source": [
    "import numpy as np\n",
    "import pandas as pd\n",
    "import matplotlib.pyplot as plt\n",
    "from tqdm import tqdm\n",
    "\n",
    "\n",
    "class Koker:\n",
    "\n",
    "    def __init__(self):\n",
    "        self.x = None\n",
    "        self.x_train = None\n",
    "        self.x_test = None\n",
    "        self.theta = None\n",
    "        self.sharpes = None\n",
    "\n",
    "    def load(self, data):\n",
    "        \"\"\"\n",
    "        Load a dataframe with the data and create the training and test set.\n",
    "        The column with the timestamp must be the index and the one with\n",
    "        price, \"close\".\n",
    "\n",
    "        :param data: DataFrame\n",
    "        \"\"\"\n",
    "        data.index = pd.to_datetime(data.index, unit='s')\n",
    "        rets = data['close'].diff()[1:]\n",
    "\n",
    "        x = np.array(rets)\n",
    "        self.x = x\n",
    "\n",
    "        N = 4000\n",
    "        P = 800\n",
    "        x_train = x[-(N+P):-P]\n",
    "        x_test = x[-P:]\n",
    "\n",
    "        # Normalize with Z-Score\n",
    "        std = np.std(x_train)\n",
    "        mean = np.mean(x_train)\n",
    "\n",
    "        self.x_train = (x_train - mean) / std\n",
    "        self.x_test = (x_test - mean) / std\n",
    "\n",
    "    @staticmethod\n",
    "    def sharpe_ratio(rets):\n",
    "        return rets.mean() / rets.std()\n",
    "\n",
    "    @staticmethod\n",
    "    def positions(x, theta):\n",
    "        M = len(theta) - 2\n",
    "        T = len(x)\n",
    "        Ft = np.zeros(T)\n",
    "        for t in range(M, T):\n",
    "            xt = np.concatenate([[1], x[t - M:t], [Ft[t - 1]]])\n",
    "            Ft[t] = np.tanh(np.dot(theta, xt))\n",
    "        return Ft\n",
    "\n",
    "    @staticmethod\n",
    "    def returns(Ft, x, delta):\n",
    "        T = len(x)\n",
    "        rets = Ft[0:T - 1] * x[1:T] - delta * np.abs(Ft[1:T] - Ft[0:T - 1])\n",
    "        return np.concatenate([[0], rets])\n",
    "\n",
    "    @staticmethod\n",
    "    def gradient(x, theta, delta):\n",
    "        Ft = Koker.positions(x, theta)\n",
    "        R = Koker.returns(Ft, x, delta)\n",
    "        T = len(x)\n",
    "        M = len(theta) - 2\n",
    "\n",
    "        A = np.mean(R)\n",
    "        B = np.mean(np.square(R))\n",
    "        S = A / np.sqrt(B - A ** 2)\n",
    "\n",
    "        dSdA = S * (1 + S ** 2) / A\n",
    "        dSdB = -S ** 3 / 2 / A ** 2\n",
    "        dAdR = 1. / T\n",
    "        dBdR = 2. / T * R\n",
    "\n",
    "        grad = np.zeros(M + 2)  # initialize gradient\n",
    "        dFpdtheta = np.zeros(M + 2)  # for storing previous dFdtheta\n",
    "\n",
    "        for t in range(M, T):\n",
    "            xt = np.concatenate([[1], x[t - M:t], [Ft[t - 1]]])\n",
    "            dRdF = -delta * np.sign(Ft[t] - Ft[t - 1])\n",
    "            dRdFp = x[t] + delta * np.sign(Ft[t] - Ft[t - 1])\n",
    "            dFdtheta = (1 - Ft[t] ** 2) * (xt + theta[-1] * dFpdtheta)\n",
    "            dSdtheta = (dSdA * dAdR + dSdB * dBdR[t]) * (\n",
    "                        dRdF * dFdtheta + dRdFp * dFpdtheta)\n",
    "            grad = grad + dSdtheta\n",
    "            dFpdtheta = dFdtheta\n",
    "\n",
    "        return grad, S\n",
    "\n",
    "    def train(self, x, epochs=2000, M=8, commission=0.0025, learning_rate=0.3):\n",
    "        theta = np.random.rand(M + 2)\n",
    "        sharpes = np.zeros(epochs)  # store sharpes over time\n",
    "        for i in tqdm(range(epochs)):\n",
    "            grad, sharpe = Koker.gradient(x, theta, commission)\n",
    "            theta = theta + grad * learning_rate\n",
    "            sharpes[i] = sharpe\n",
    "        self.theta = theta\n",
    "        self.sharpes = sharpes\n",
    "\n",
    "    def plot(self, x, theta):\n",
    "        \"\"\"\n",
    "        Probably to delete\n",
    "        \"\"\"\n",
    "        x_returns = Koker.returns(Koker.positions(x, theta), x, 0.0025)\n",
    "        plt.plot(x_returns.cumsum(), label=\"Reinforcement Learning Model\", linewidth=1)\n",
    "        plt.plot(x.cumsum(), label=\"Buy and Hold\", linewidth=1)\n",
    "        plt.xlabel('Ticks')\n",
    "        plt.ylabel('Cumulative Returns')\n",
    "        plt.legend()\n",
    "        plt.title(\"RL Model vs. Buy and Hold\")\n"
   ]
  },
  {
   "cell_type": "markdown",
   "id": "e8c6f9c6-c4ab-4d73-92eb-6ae832ac6c80",
   "metadata": {},
   "source": [
    "## Test the RL algorithm"
   ]
  },
  {
   "cell_type": "code",
   "execution_count": 4,
   "id": "ef35e27f-8edf-4045-b601-0b9720c974a4",
   "metadata": {},
   "outputs": [
    {
     "data": {
      "text/plain": [
       "(501993, 6)"
      ]
     },
     "execution_count": 4,
     "metadata": {},
     "output_type": "execute_result"
    }
   ],
   "source": [
    "from tars.utils import data \n",
    "df = data.get_historical_ohlc_data(base='ETH', quote='USD', data_folder='../../data/raw')\n",
    "df.shape"
   ]
  },
  {
   "cell_type": "markdown",
   "id": "c8f21568-3761-4060-983e-332540851dc4",
   "metadata": {},
   "source": [
    "## Model"
   ]
  },
  {
   "cell_type": "code",
   "execution_count": 8,
   "id": "be18160e-eb08-4d2a-bbda-14b8e941b323",
   "metadata": {},
   "outputs": [
    {
     "name": "stderr",
     "output_type": "stream",
     "text": [
      "100%|█████████████████████████████████████████████████████████████████████████████████████████████████████████████████████████████████| 800/800 [01:42<00:00,  7.78it/s]\n"
     ]
    }
   ],
   "source": [
    "koker = Koker()\n",
    "koker.load(df)\n",
    "koker.train(koker.x_train, epochs=800)"
   ]
  },
  {
   "cell_type": "code",
   "execution_count": 12,
   "id": "0f515035-54e5-4708-8e39-a533974dd6c4",
   "metadata": {},
   "outputs": [
    {
     "data": {
      "image/png": "[encoded data removed]",
      "text/plain": [
       "<Figure size 432x288 with 1 Axes>"
      ]
     },
     "metadata": {
      "needs_background": "light"
     },
     "output_type": "display_data"
    }
   ],
   "source": [
    "plt.plot(koker.sharpes);"
   ]
  },
  {
   "cell_type": "markdown",
   "id": "aff54b09-f757-4ce8-ba88-1d9175e5a433",
   "metadata": {},
   "source": [
    "## Train"
   ]
  },
  {
   "cell_type": "code",
   "execution_count": 13,
   "id": "fc0a8773-7854-403a-b883-e204e266a116",
   "metadata": {},
   "outputs": [],
   "source": [
    "train_returns = koker.returns(koker.positions(koker.x_train, koker.theta), koker.x_train, 0.0025)"
   ]
  },
  {
   "cell_type": "code",
   "execution_count": 14,
   "id": "862c7ef4-36eb-4932-af33-891887abd4f7",
   "metadata": {},
   "outputs": [
    {
     "data": {
      "image/png": "[encoded data removed]",
      "text/plain": [
       "<Figure size 432x288 with 1 Axes>"
      ]
     },
     "metadata": {
      "needs_background": "light"
     },
     "output_type": "display_data"
    }
   ],
   "source": [
    "plt.plot(train_returns.cumsum(), label=\"RL Model\")\n",
    "plt.plot(koker.x_train.cumsum(), label=\"Buy and Hold\")\n",
    "plt.legend()\n",
    "plt.title(\"RL Model vs. Buy and Hold - Training Data\");"
   ]
  },
  {
   "cell_type": "markdown",
   "id": "9100a7e0-fbda-4366-ba6b-2fd4a77de7e8",
   "metadata": {},
   "source": [
    "## Test"
   ]
  },
  {
   "cell_type": "code",
   "execution_count": 15,
   "id": "77cc3d95-70c3-4cc4-90c0-534070e772a1",
   "metadata": {},
   "outputs": [],
   "source": [
    "test_returns = koker.returns(koker.positions(koker.x_test, koker.theta), koker.x_test, 0.0025)"
   ]
  },
  {
   "cell_type": "code",
   "execution_count": 16,
   "id": "30ace44d-c84a-4e87-b95e-56bf0f2ec81f",
   "metadata": {},
   "outputs": [
    {
     "data": {
      "image/png": "[encoded data removed]",
      "text/plain": [
       "<Figure size 432x288 with 1 Axes>"
      ]
     },
     "metadata": {
      "needs_background": "light"
     },
     "output_type": "display_data"
    }
   ],
   "source": [
    "plt.plot(test_returns.cumsum(), label=\"RL Model\")\n",
    "plt.plot(koker.x_test.cumsum(), label=\"Buy and Hold\")\n",
    "plt.legend()\n",
    "plt.title(\"RL Model vs. Buy and Hold - Test Data\");"
   ]
  },
  {
   "cell_type": "markdown",
   "id": "c33ab884-ee64-4b02-9931-6aee942122d8",
   "metadata": {},
   "source": [
    "## Create the full Koker Strategy"
   ]
  },
  {
   "cell_type": "code",
   "execution_count": 21,
   "id": "driving-fabric",
   "metadata": {},
   "outputs": [],
   "source": [
    "import pandas as pd\n",
    "from ta.trend import MACD\n",
    "\n",
    "from pandas import DataFrame, Timestamp\n",
    "\n",
    "from tars.utils import data \n",
    "from tars.evaluators.trader_evaluator import TraderEvaluator\n",
    "from tars.strategies.abstract_strategy import AbstractStrategy\n",
    "from tars.markets.crypto_market import CryptoMarket\n",
    "\n",
    "\n",
    "class KokerStrategy(AbstractStrategy):\n",
    "    \"\"\"\n",
    "    Koker Strategy\n",
    "\n",
    "    :param trader: Trader\n",
    "        The Trader handling a portfolio\n",
    "    :param pair: str\n",
    "        The pair e.g. XETHZUSD to buy and hold\n",
    "    :param volume: float\n",
    "        The volume of the pair's quote buy\n",
    "    :param validate: boolean\n",
    "        Safety Boolean to make sure not to trade real money by default\n",
    "\n",
    "    :ivar evaluator: AbstractEvaluator\n",
    "        Evaluator allows for the evaluation of a strategy\n",
    "    :ivar market: AbstractMarket\n",
    "        Market object to get information from\n",
    "    \"\"\"\n",
    "\n",
    "    def __init__(self, trader, pair, volume, validate=True):\n",
    "        self.name = 'Koker Strategy'\n",
    "        self.trader = trader\n",
    "        self.pair = pair\n",
    "        self.volume = volume\n",
    "        self.validate = validate\n",
    "        self.evaluator = TraderEvaluator(self.trader)\n",
    "        \n",
    "        self.is_trained = False\n",
    "        self.koker = None\n",
    "        self.decisions = []\n",
    "        \n",
    "    def train(self):\n",
    "        \"\"\" Train the Koker model and save it for usage in run\"\"\"\n",
    "        \n",
    "        # Get the data\n",
    "        df = data.get_historical_ohlc_data(base='ETH', quote='USD', data_folder='../../data/raw')\n",
    "        \n",
    "        # Create model\n",
    "        koker = Koker()\n",
    "        koker.load(df)\n",
    "        koker.train(koker.x_train, epochs=800)\n",
    "        \n",
    "        # Save for usage in runs\n",
    "        return koker\n",
    "        \n",
    "\n",
    "    def run(self):\n",
    "        \"\"\" Run the strategy \"\"\"\n",
    "        # 0. Train model\n",
    "        # This happens only once at the beginning of the trading session\n",
    "        if not self.is_trained:\n",
    "            self.koker = self.train()\n",
    "            self.is_trained = True\n",
    "        \n",
    "        # 1. Add a checkpoint to the evaluator\n",
    "        balance = self.trader.portfolio.get_trade_balance().loc['eb'].ZUSD   \n",
    "        self.evaluator.add_checkpoint(Timestamp.utcnow(), balance)\n",
    "        \n",
    "        # 2. Process the data\n",
    "        df0 = self.trader.market.get_ohlc_data(pair=self.pair)[0]['close'].iloc[::-1]\n",
    "        last_9_close = df0[-9:]\n",
    "\n",
    "        # 3. Get the model output given the data.\n",
    "        # the variable 'decision' is giving a value between [-1, 1] that is a ratio of the volume to buy or sell.\n",
    "        decision = self.koker.positions(last_9_close, self.koker.theta)[-1]\n",
    "        \n",
    "        \n",
    "        # 4. Implement the trading logic\n",
    "        if decision < 0:\n",
    "            volume_to_sell = self.volume * decision\n",
    "            self.trader.add_order(pair=self.pair, type='sell',\n",
    "                                  ordertype='market', volume=volume_to_sell,\n",
    "                                  validate=self.validate)\n",
    "        elif decision > 0:\n",
    "            volume_to_buy = self.volume * decision\n",
    "            self.trader.add_order(pair=self.pair, type='buy',\n",
    "                                  ordertype='market', volume=volume_to_buy,\n",
    "                                  validate=self.validate)\n",
    "        else:\n",
    "            pass\n",
    "        \n",
    "        \n",
    "    \n",
    "    def test(self, dtime: Timestamp, data: DataFrame):\n",
    "        \"\"\" test the strategy \"\"\"\n",
    "        # 0. Train model\n",
    "        # This happens only once at the beginning of the trading session\n",
    "        if not self.is_trained:\n",
    "            self.koker = self.train()\n",
    "            self.is_trained = True\n",
    "        \n",
    "        # 1. Add a checkpoint to the evaluator\n",
    "        balance = self.trader.portfolio.get_trade_balance(dtime).loc['eb'].ZUSD\n",
    "        self.evaluator.add_checkpoint(dtime, balance)\n",
    "        \n",
    "        # 2. Process the data\n",
    "        df0 = self.trader.market.get_ohlc_data(pair=self.pair)[0]['close'].iloc[::-1]\n",
    "        last_9_close = df0[-9:]\n",
    "\n",
    "        # 3. Get the model output given the data.\n",
    "        # the variable 'decision' is giving a value between [-1, 1] that is a ratio of the volume to buy or sell.\n",
    "        decision = self.koker.positions(last_9_close, self.koker.theta)[-1]\n",
    "        self.decisions.append(decision)\n",
    "        \n",
    "        # 4. Implement the trading logic\n",
    "        if decision < 0:\n",
    "            volume_to_sell = self.volume * decision\n",
    "            self.trader.add_order(dtime=dtime, pair=self.pair, type='sell',\n",
    "                                  ordertype='market', volume=volume_to_sell,\n",
    "                                  validate=self.validate)\n",
    "        elif decision > 0:\n",
    "            volume_to_buy = self.volume * decision\n",
    "            self.trader.add_order(dtime=dtime, pair=self.pair, type='buy',\n",
    "                                  ordertype='market', volume=volume_to_buy,\n",
    "                                  validate=self.validate)\n",
    "        else:\n",
    "            pass\n",
    "        \n"
   ]
  },
  {
   "cell_type": "markdown",
   "id": "reflected-cyprus",
   "metadata": {},
   "source": [
    "## Instanciate Tars"
   ]
  },
  {
   "cell_type": "markdown",
   "id": "military-hello",
   "metadata": {},
   "source": [
    "Then, it is as usual."
   ]
  },
  {
   "cell_type": "code",
   "execution_count": 22,
   "id": "intellectual-repeat",
   "metadata": {},
   "outputs": [],
   "source": [
    "api_key = f'../kraken.key'"
   ]
  },
  {
   "cell_type": "code",
   "execution_count": 23,
   "id": "b19fec32-2432-4439-8046-342ffde1fc2a",
   "metadata": {},
   "outputs": [],
   "source": [
    "my_data = data.get_historical_ohlc_data(base='ETH', quote='USD', interval=720, data_folder='../../data/raw/')['2021':]\n",
    "market = markets.HistoricalMarket()\n",
    "market.load('XETHZUSD', my_data)"
   ]
  },
  {
   "cell_type": "code",
   "execution_count": 24,
   "id": "elementary-quality",
   "metadata": {},
   "outputs": [],
   "source": [
    "portfolio_1 = portfolios.HistoricalPortfolio(market, {'ZUSD': 1000})\n",
    "trader_1 = traders.HistoricalTrader(market, portfolio_1)\n",
    "strategy_1 = KokerStrategy(trader_1, 'XETHZUSD', 0.2)\n",
    "\n",
    "portfolio_2 = portfolios.HistoricalPortfolio(market, {'ZUSD': 1000})\n",
    "trader_2 = traders.HistoricalTrader(market, portfolio_2)\n",
    "strategy_2 = strategies.BuyAndHold(trader_2, 'XETHZUSD', 0.2)"
   ]
  },
  {
   "cell_type": "code",
   "execution_count": 25,
   "id": "asian-belgium",
   "metadata": {},
   "outputs": [
    {
     "name": "stdout",
     "output_type": "stream",
     "text": [
      " 🤖 TARS : Welcome to Endurance! 👨‍🚀\n",
      " 🤖 TARS : Loaded strategy ➡️ Koker Strategy\n",
      " 🤖 TARS : Loaded strategy ➡️ Buy and hold\n"
     ]
    }
   ],
   "source": [
    "# Create Tars and load its strategies\n",
    "tars = Tars()\n",
    "tars.load(strategy_1)\n",
    "tars.load(strategy_2)"
   ]
  },
  {
   "cell_type": "markdown",
   "id": "demonstrated-electric",
   "metadata": {},
   "source": [
    "## Start the bot"
   ]
  },
  {
   "cell_type": "markdown",
   "id": "governmental-theorem",
   "metadata": {},
   "source": [
    "## Evaluate the strategy"
   ]
  },
  {
   "cell_type": "code",
   "execution_count": 26,
   "id": "under-public",
   "metadata": {},
   "outputs": [
    {
     "name": "stdout",
     "output_type": "stream",
     "text": [
      " 🤖 TARS : Starting backtesting session 📈\n",
      " 💪️ Loading :   \n",
      "   🧵 'Thread-14' ➡️ 'Koker Strategy'\n",
      "   🧵 'Thread-15' ➡️ 'Buy and hold'\n"
     ]
    },
    {
     "name": "stderr",
     "output_type": "stream",
     "text": [
      "100%|████████████████████████████████████████████| 800/800 [01:42<00:00,  7.80it/s]\n"
     ]
    },
    {
     "name": "stdout",
     "output_type": "stream",
     "text": [
      "A\n"
     ]
    }
   ],
   "source": [
    "tars.test(my_data.tail(1000))"
   ]
  },
  {
   "cell_type": "code",
   "execution_count": 13,
   "id": "340a220e-5715-4518-8c67-1960418ba6af",
   "metadata": {},
   "outputs": [
    {
     "data": {
      "image/png": "[encoded data removed]",
      "text/plain": [
       "<Figure size 432x288 with 1 Axes>"
      ]
     },
     "metadata": {
      "needs_background": "light"
     },
     "output_type": "display_data"
    }
   ],
   "source": [
    "tars.evaluate(metric='cumulative return').plot();"
   ]
  },
  {
   "cell_type": "code",
   "execution_count": 14,
   "id": "aboriginal-dialogue",
   "metadata": {},
   "outputs": [
    {
     "data": {
      "text/html": [
       "<div>\n",
       "<style scoped>\n",
       "    .dataframe tbody tr th:only-of-type {\n",
       "        vertical-align: middle;\n",
       "    }\n",
       "\n",
       "    .dataframe tbody tr th {\n",
       "        vertical-align: top;\n",
       "    }\n",
       "\n",
       "    .dataframe thead th {\n",
       "        text-align: right;\n",
       "    }\n",
       "</style>\n",
       "<table border=\"1\" class=\"dataframe\">\n",
       "  <thead>\n",
       "    <tr style=\"text-align: right;\">\n",
       "      <th></th>\n",
       "      <th>Koker Strategy</th>\n",
       "      <th>Buy and hold</th>\n",
       "    </tr>\n",
       "  </thead>\n",
       "  <tbody>\n",
       "    <tr>\n",
       "      <th>2021-06-30 11:56:00</th>\n",
       "      <td>596.84</td>\n",
       "      <td>596.84</td>\n",
       "    </tr>\n",
       "    <tr>\n",
       "      <th>2021-06-30 11:57:00</th>\n",
       "      <td>596.84</td>\n",
       "      <td>596.84</td>\n",
       "    </tr>\n",
       "    <tr>\n",
       "      <th>2021-06-30 11:58:00</th>\n",
       "      <td>596.84</td>\n",
       "      <td>596.84</td>\n",
       "    </tr>\n",
       "    <tr>\n",
       "      <th>2021-06-30 11:59:00</th>\n",
       "      <td>596.84</td>\n",
       "      <td>596.84</td>\n",
       "    </tr>\n",
       "    <tr>\n",
       "      <th>2021-06-30 12:00:00</th>\n",
       "      <td>596.84</td>\n",
       "      <td>596.84</td>\n",
       "    </tr>\n",
       "  </tbody>\n",
       "</table>\n",
       "</div>"
      ],
      "text/plain": [
       "                     Koker Strategy  Buy and hold\n",
       "2021-06-30 11:56:00          596.84        596.84\n",
       "2021-06-30 11:57:00          596.84        596.84\n",
       "2021-06-30 11:58:00          596.84        596.84\n",
       "2021-06-30 11:59:00          596.84        596.84\n",
       "2021-06-30 12:00:00          596.84        596.84"
      ]
     },
     "execution_count": 14,
     "metadata": {},
     "output_type": "execute_result"
    }
   ],
   "source": [
    "tars.evaluate().tail()"
   ]
  },
  {
   "cell_type": "markdown",
   "id": "animated-fruit",
   "metadata": {},
   "source": [
    "## Stop the bot"
   ]
  },
  {
   "cell_type": "code",
   "execution_count": 28,
   "id": "demonstrated-dependence",
   "metadata": {},
   "outputs": [
    {
     "name": "stdout",
     "output_type": "stream",
     "text": [
      " 🤖 TARS : ✋ Stopped all strategies\n"
     ]
    }
   ],
   "source": [
    "tars.stop()"
   ]
  },
  {
   "cell_type": "markdown",
   "id": "rough-findings",
   "metadata": {},
   "source": [
    "---"
   ]
  }
 ],
 "metadata": {
  "kernelspec": {
   "display_name": "Python 3 (ipykernel)",
   "language": "python",
   "name": "python3"
  },
  "language_info": {
   "codemirror_mode": {
    "name": "ipython",
    "version": 3
   },
   "file_extension": ".py",
   "mimetype": "text/x-python",
   "name": "python",
   "nbconvert_exporter": "python",
   "pygments_lexer": "ipython3",
   "version": "3.8.7"
  }
 },
 "nbformat": 4,
 "nbformat_minor": 5
}
