{
 "cells": [
  {
   "cell_type": "code",
   "execution_count": 52,
   "id": "fewer-brain",
   "metadata": {
    "collapsed": false,
    "jupyter": {
     "outputs_hidden": false
    },
    "pycharm": {
     "name": "#%%\n"
    }
   },
   "outputs": [],
   "source": [
    "from src import TARS, markets, portfolios, traders, strategies\n",
    "%matplotlib inline"
   ]
  },
  {
   "cell_type": "markdown",
   "id": "alive-financing",
   "metadata": {},
   "source": [
    "# Koker strategy - in development\n",
    "\n",
    "Here's an example to show how you can develop your own strategy. This notebook is a template for you to start your own thing."
   ]
  },
  {
   "cell_type": "markdown",
   "id": "prime-celebration",
   "metadata": {},
   "source": [
    "### Here's the strategy in development\n",
    "\n",
    "It's actually a copy of the TrendFollowingMACD."
   ]
  },
  {
   "cell_type": "code",
   "execution_count": 54,
   "id": "guided-charleston",
   "metadata": {},
   "outputs": [],
   "source": [
    "import numpy as np\n",
    "import pandas as pd\n",
    "import matplotlib.pyplot as plt\n",
    "\n",
    "\n",
    "class Koker:\n",
    "\n",
    "    def __init__(self):\n",
    "        self.x = None\n",
    "        self.x_train = None\n",
    "        self.x_test = None\n",
    "        self.theta = None\n",
    "        self.sharpes = None\n",
    "\n",
    "    def load(self, data):\n",
    "        \"\"\"\n",
    "        Load a dataframe with the data and create the training and test set.\n",
    "        The column with the timestamp must be labelled 'utc' and the one with\n",
    "        price, \"price\".\n",
    "\n",
    "        :param data: DataFrame\n",
    "        \"\"\"\n",
    "        data.index = pd.to_datetime(data.index, unit='s')\n",
    "        rets = data['price'].diff()[1:]\n",
    "\n",
    "        x = np.array(rets)\n",
    "        self.x = x\n",
    "\n",
    "        N = 1000\n",
    "        P = 200\n",
    "        x_train = x[-(N+P):-P]\n",
    "        x_test = x[-P:]\n",
    "\n",
    "        std = np.std(x_train)\n",
    "        mean = np.mean(x_train)\n",
    "\n",
    "        self.x_train = (x_train - mean) / std\n",
    "        self.x_test = (x_test - mean) / std\n",
    "\n",
    "    @staticmethod\n",
    "    def sharpe_ratio(rets):\n",
    "        return rets.mean() / rets.std()\n",
    "\n",
    "    @staticmethod\n",
    "    def positions(x, theta):\n",
    "        M = len(theta) - 2\n",
    "        T = len(x)\n",
    "        Ft = np.zeros(T)\n",
    "        for t in range(M, T):\n",
    "            xt = np.concatenate([[1], x[t - M:t], [Ft[t - 1]]])\n",
    "            Ft[t] = np.tanh(np.dot(theta, xt))\n",
    "        return Ft\n",
    "\n",
    "    @staticmethod\n",
    "    def returns(Ft, x, delta):\n",
    "        T = len(x)\n",
    "        rets = Ft[0:T - 1] * x[1:T] - delta * np.abs(Ft[1:T] - Ft[0:T - 1])\n",
    "        return np.concatenate([[0], rets])\n",
    "\n",
    "    @staticmethod\n",
    "    def gradient(x, theta, delta):\n",
    "        Ft = Koker.positions(x, theta)\n",
    "        R = Koker.returns(Ft, x, delta)\n",
    "        T = len(x)\n",
    "        M = len(theta) - 2\n",
    "\n",
    "        A = np.mean(R)\n",
    "        B = np.mean(np.square(R))\n",
    "        S = A / np.sqrt(B - A ** 2)\n",
    "\n",
    "        dSdA = S * (1 + S ** 2) / A\n",
    "        dSdB = -S ** 3 / 2 / A ** 2\n",
    "        dAdR = 1. / T\n",
    "        dBdR = 2. / T * R\n",
    "\n",
    "        grad = np.zeros(M + 2)  # initialize gradient\n",
    "        dFpdtheta = np.zeros(M + 2)  # for storing previous dFdtheta\n",
    "\n",
    "        for t in range(M, T):\n",
    "            xt = np.concatenate([[1], x[t - M:t], [Ft[t - 1]]])\n",
    "            dRdF = -delta * np.sign(Ft[t] - Ft[t - 1])\n",
    "            dRdFp = x[t] + delta * np.sign(Ft[t] - Ft[t - 1])\n",
    "            dFdtheta = (1 - Ft[t] ** 2) * (xt + theta[-1] * dFpdtheta)\n",
    "            dSdtheta = (dSdA * dAdR + dSdB * dBdR[t]) * (\n",
    "                        dRdF * dFdtheta + dRdFp * dFpdtheta)\n",
    "            grad = grad + dSdtheta\n",
    "            dFpdtheta = dFdtheta\n",
    "\n",
    "        return grad, S\n",
    "\n",
    "    def train(self, x, epochs=2000, M=8, commission=0.0025, learning_rate=0.3):\n",
    "        print(\"training : start\")\n",
    "        theta = np.random.rand(M + 2)\n",
    "        sharpes = np.zeros(epochs)  # store sharpes over time\n",
    "        for i in range(epochs):\n",
    "            grad, sharpe = Koker.gradient(x, theta, commission)\n",
    "            theta = theta + grad * learning_rate\n",
    "            sharpes[i] = sharpe\n",
    "        self.theta = theta\n",
    "        self.sharpes = sharpes\n",
    "        print(\"training : completed\")\n",
    "\n",
    "    def plot(self, x, theta):\n",
    "        x_returns = Koker.returns(Koker.positions(x, theta), x, 0.0025)\n",
    "        plt.plot(x_returns.cumsum(), label=\"Reinforcement Learning Model\", linewidth=1)\n",
    "        plt.plot(x.cumsum(), label=\"Buy and Hold\", linewidth=1)\n",
    "        plt.xlabel('Ticks')\n",
    "        plt.ylabel('Cumulative Returns')\n",
    "        plt.legend()\n",
    "        plt.title(\"RL Model vs. Buy and Hold\")\n"
   ]
  },
  {
   "cell_type": "code",
   "execution_count": 51,
   "id": "driving-fabric",
   "metadata": {},
   "outputs": [],
   "source": [
    "import pandas as pd\n",
    "from ta.trend import MACD\n",
    "\n",
    "from src.tars.evaluators.trader_evaluator import TraderEvaluator\n",
    "from src.tars.strategies.abstract_strategy import AbstractStrategy\n",
    "from src.tars.markets.crypto_market import CryptoMarket\n",
    "\n",
    "\n",
    "class KokerStrategy(AbstractStrategy):\n",
    "    \"\"\"\n",
    "    Koker Strategy\n",
    "\n",
    "    :param trader: Trader\n",
    "        The Trader handling a portfolio\n",
    "    :param pair: str\n",
    "        The pair e.g. XETHZUSD to buy and hold\n",
    "    :param volume: float\n",
    "        The volume of the pair's quote buy\n",
    "    :param validate: boolean\n",
    "        Safety Boolean to make sure not to trade real money by default\n",
    "\n",
    "    :ivar evaluator: AbstractEvaluator\n",
    "        Evaluator allows for the evaluation of a strategy\n",
    "    :ivar market: AbstractMarket\n",
    "        Market object to get information from\n",
    "    \"\"\"\n",
    "\n",
    "    def __init__(self, trader, pair, volume, validate=True):\n",
    "        self.name = 'My strategy'\n",
    "        self.trader = trader\n",
    "        self.pair = pair\n",
    "        self.volume = volume\n",
    "        self.validate = validate\n",
    "        self.evaluator = TraderEvaluator(self.trader)\n",
    "        self.market = CryptoMarket()\n",
    "\n",
    "    def run(self):\n",
    "        \"\"\" Run the strategy \"\"\"\n",
    "        # 1. Add a checkpoint to the evaluator\n",
    "        balance = self.trader.portfolio.get_trade_balance().loc['eb'].ZUSD   \n",
    "        self.evaluator.add_checkpoint(pd.Timestamp.utcnow(), balance)\n",
    "        \n",
    "        # 2. Process the data\n",
    "        market = CryptoMarket()\n",
    "        df0 = market.get_ohlc_data(pair=self.pair)[0]['close'].iloc[::-1]\n",
    "\n",
    "        # 3. Get the relevant signal informations\n",
    "        macd = MACD(df0)\n",
    "        line = macd.macd()[-1]\n",
    "        signal = macd.macd_signal()[-1]\n",
    "\n",
    "        # 4. Implement the trading logic\n",
    "        if signal < line:\n",
    "            self.trader.add_order(pair=self.pair, type='buy',\n",
    "                                  ordertype='market', volume=self.volume,\n",
    "                                  validate=self.validate)\n",
    "        elif signal >= line:\n",
    "            self.trader.add_order(pair=self.pair, type='sell',\n",
    "                                  ordertype='market', volume=self.volume,\n",
    "                                  validate=self.validate)\n",
    "        else:\n",
    "            pass\n"
   ]
  },
  {
   "cell_type": "markdown",
   "id": "reflected-cyprus",
   "metadata": {},
   "source": [
    "## Instanciate Tars"
   ]
  },
  {
   "cell_type": "markdown",
   "id": "military-hello",
   "metadata": {},
   "source": [
    "Then, it is as usual."
   ]
  },
  {
   "cell_type": "code",
   "execution_count": 3,
   "id": "intellectual-repeat",
   "metadata": {},
   "outputs": [],
   "source": [
    "api_key = f'../kraken.key'"
   ]
  },
  {
   "cell_type": "code",
   "execution_count": 4,
   "id": "elementary-quality",
   "metadata": {},
   "outputs": [],
   "source": [
    "portfolio_1 = portfolios.VirtualPortfolio({'ZUSD': 1000})\n",
    "trader_1 = traders.VirtualCryptoTrader(portfolio_1)\n",
    "strategy_1 = strategies.BuyAndHold(trader_1, 'XETHZUSD', 0.2)\n",
    "\n",
    "portfolio_2 = portfolios.VirtualPortfolio({'ZUSD': 1000})\n",
    "trader_2 = traders.VirtualCryptoTrader(portfolio_2)\n",
    "\n",
    "# Here's where you use your newly developed strategy\n",
    "strategy_2 = MyStrategy(trader_2, 'XETHZUSD', 0.2)"
   ]
  },
  {
   "cell_type": "code",
   "execution_count": 5,
   "id": "asian-belgium",
   "metadata": {},
   "outputs": [
    {
     "name": "stdout",
     "output_type": "stream",
     "text": [
      " 🤖 TARS : Welcome to Endurance! 👨‍🚀\n",
      " 🤖 TARS : Loaded strategy ➡️ Buy and hold\n",
      " 🤖 TARS : Loaded strategy ➡️ My strategy\n"
     ]
    }
   ],
   "source": [
    "# Create Tars and load its strategies\n",
    "tars = TARS()\n",
    "tars.load(strategy_1)\n",
    "tars.load(strategy_2)"
   ]
  },
  {
   "cell_type": "markdown",
   "id": "demonstrated-electric",
   "metadata": {},
   "source": [
    "## Start the bot"
   ]
  },
  {
   "cell_type": "code",
   "execution_count": 6,
   "id": "through-acquisition",
   "metadata": {},
   "outputs": [
    {
     "name": "stdout",
     "output_type": "stream",
     "text": [
      " 🤖 TARS : Starting trading session 📈\n",
      " ⏱ Trading decision will be taken every : 00:00:10️ (hh:mm:ss)\n",
      " 💪️ Loading :   \n",
      "   🧵 'Thread-4' ➡️ 'Buy and hold'\n",
      "   🧵 'Thread-5' ➡️ 'My strategy'\n"
     ]
    }
   ],
   "source": [
    "tars.start('00:00:10')"
   ]
  },
  {
   "cell_type": "markdown",
   "id": "governmental-theorem",
   "metadata": {},
   "source": [
    "## Evaluate the strategy"
   ]
  },
  {
   "cell_type": "code",
   "execution_count": 53,
   "id": "under-public",
   "metadata": {},
   "outputs": [
    {
     "data": {
      "image/png": "[encoded data removed]",
      "text/plain": [
       "<Figure size 432x288 with 1 Axes>"
      ]
     },
     "metadata": {
      "needs_background": "light"
     },
     "output_type": "display_data"
    }
   ],
   "source": [
    "tars.plot()"
   ]
  },
  {
   "cell_type": "code",
   "execution_count": 42,
   "id": "aboriginal-dialogue",
   "metadata": {},
   "outputs": [
    {
     "data": {
      "text/html": [
       "<div>\n",
       "<style scoped>\n",
       "    .dataframe tbody tr th:only-of-type {\n",
       "        vertical-align: middle;\n",
       "    }\n",
       "\n",
       "    .dataframe tbody tr th {\n",
       "        vertical-align: top;\n",
       "    }\n",
       "\n",
       "    .dataframe thead th {\n",
       "        text-align: right;\n",
       "    }\n",
       "</style>\n",
       "<table border=\"1\" class=\"dataframe\">\n",
       "  <thead>\n",
       "    <tr style=\"text-align: right;\">\n",
       "      <th></th>\n",
       "      <th>Buy and hold</th>\n",
       "      <th>My strategy</th>\n",
       "    </tr>\n",
       "  </thead>\n",
       "  <tbody>\n",
       "    <tr>\n",
       "      <th>2021-08-11 09:36:00+00:00</th>\n",
       "      <td>998.90</td>\n",
       "      <td>999.00</td>\n",
       "    </tr>\n",
       "    <tr>\n",
       "      <th>2021-08-11 09:37:00+00:00</th>\n",
       "      <td>999.67</td>\n",
       "      <td>999.81</td>\n",
       "    </tr>\n",
       "    <tr>\n",
       "      <th>2021-08-11 09:38:00+00:00</th>\n",
       "      <td>999.19</td>\n",
       "      <td>999.77</td>\n",
       "    </tr>\n",
       "    <tr>\n",
       "      <th>2021-08-11 09:39:00+00:00</th>\n",
       "      <td>999.67</td>\n",
       "      <td>999.63</td>\n",
       "    </tr>\n",
       "    <tr>\n",
       "      <th>2021-08-11 09:40:00+00:00</th>\n",
       "      <td>999.71</td>\n",
       "      <td>999.81</td>\n",
       "    </tr>\n",
       "  </tbody>\n",
       "</table>\n",
       "</div>"
      ],
      "text/plain": [
       "                           Buy and hold  My strategy\n",
       "2021-08-11 09:36:00+00:00        998.90       999.00\n",
       "2021-08-11 09:37:00+00:00        999.67       999.81\n",
       "2021-08-11 09:38:00+00:00        999.19       999.77\n",
       "2021-08-11 09:39:00+00:00        999.67       999.63\n",
       "2021-08-11 09:40:00+00:00        999.71       999.81"
      ]
     },
     "execution_count": 42,
     "metadata": {},
     "output_type": "execute_result"
    }
   ],
   "source": [
    "tars.evaluate().tail()"
   ]
  },
  {
   "cell_type": "markdown",
   "id": "animated-fruit",
   "metadata": {},
   "source": [
    "## Stop the bot"
   ]
  },
  {
   "cell_type": "code",
   "execution_count": 28,
   "id": "demonstrated-dependence",
   "metadata": {},
   "outputs": [
    {
     "name": "stdout",
     "output_type": "stream",
     "text": [
      " 🤖 TARS : ✋ Stopped all strategies\n"
     ]
    }
   ],
   "source": [
    "tars.stop()"
   ]
  },
  {
   "cell_type": "markdown",
   "id": "rough-findings",
   "metadata": {},
   "source": [
    "---"
   ]
  }
 ],
 "metadata": {
  "kernelspec": {
   "display_name": "Python 3 (ipykernel)",
   "language": "python",
   "name": "python3"
  },
  "language_info": {
   "codemirror_mode": {
    "name": "ipython",
    "version": 3
   },
   "file_extension": ".py",
   "mimetype": "text/x-python",
   "name": "python",
   "nbconvert_exporter": "python",
   "pygments_lexer": "ipython3",
   "version": "3.8.7"
  }
 },
 "nbformat": 4,
 "nbformat_minor": 5
}
