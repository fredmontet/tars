{
 "cells": [
  {
   "cell_type": "code",
   "execution_count": 1,
   "id": "congressional-serbia",
   "metadata": {
    "collapsed": false,
    "jupyter": {
     "outputs_hidden": false
    },
    "pycharm": {
     "name": "#%%\n"
    }
   },
   "outputs": [
    {
     "name": "stderr",
     "output_type": "stream",
     "text": [
      "Importing plotly failed. Interactive plots will not work.\n"
     ]
    }
   ],
   "source": [
    "from tars import Tars, markets, portfolios, traders, strategies\n",
    "from tars.utils import data\n",
    "import pandas as pd\n",
    "%matplotlib inline"
   ]
  },
  {
   "cell_type": "markdown",
   "id": "meaningful-collect",
   "metadata": {},
   "source": [
    "# Backtester"
   ]
  },
  {
   "cell_type": "markdown",
   "id": "44b9b459-e107-4aeb-bd52-484029cd3262",
   "metadata": {},
   "source": [
    "## During strategy development"
   ]
  },
  {
   "cell_type": "code",
   "execution_count": 12,
   "id": "ea8789f4-58ad-4185-a797-efcedaa71572",
   "metadata": {},
   "outputs": [],
   "source": [
    "import pandas as pd\n",
    "from tars.evaluators.trader_evaluator import TraderEvaluator\n",
    "from tars.strategies.abstract_strategy import AbstractStrategy\n",
    "from tars.markets.crypto_market import CryptoMarket\n",
    "\n",
    "\n",
    "class PredictionStrategy(AbstractStrategy):\n",
    "    \"\"\"\n",
    "    Prediction Strategy\n",
    "\n",
    "    :param trader: Trader\n",
    "        The Trader handling a portfolio\n",
    "    :param pair: str\n",
    "        The pair e.g. XETHZUSD to buy and hold\n",
    "    :param volume: float\n",
    "        The volume of the pair's quote buy\n",
    "    :param validate: boolean\n",
    "        Safety Boolean to make sure not to trade real money by default\n",
    "\n",
    "    :ivar evaluator: AbstractEvaluator\n",
    "        Evaluator allows for the evaluation of a strategy\n",
    "    :ivar market: AbstractMarket\n",
    "        Market object to get information from\n",
    "    \"\"\"\n",
    "\n",
    "    def __init__(self, trader, pair, volume, data=None, validate=True):\n",
    "        self.name = 'Prediction'\n",
    "        self.trader = trader\n",
    "        self.pair = pair\n",
    "        self.volume = volume\n",
    "        self.validate = validate\n",
    "        self.evaluator = TraderEvaluator(self.trader)\n",
    "        self.market = CryptoMarket()    \n",
    "\n",
    "    def run(self):\n",
    "        \"\"\" Run the strategy \"\"\"\n",
    "        # 1. Add a checkpoint to the evaluator\n",
    "        balance = self.trader.portfolio.get_trade_balance().loc['eb'].ZUSD   \n",
    "        self.evaluator.add_checkpoint(pd.Timestamp.utcnow(), balance)\n",
    "        \n",
    "        # 2. Process the data\n",
    "        market = CryptoMarket()\n",
    "\n",
    "        # get last frame\n",
    "        df = market.get_ohlc_data(pair=self.pair, ascending=True, interval=15)[0]\n",
    "\n",
    "        # preprocessing\n",
    "        ts = TimeSeries.from_dataframe(df.reset_index(), 'dtime', 'close')\n",
    "\n",
    "        # modeling\n",
    "        model = ExponentialSmoothing()\n",
    "        model.fit(ts)\n",
    "\n",
    "        # 3. Get the relevant informations for trading decision\n",
    "        prediction = round(model.predict(2).last_value(),2)\n",
    "        current = df.iloc[-1]['close']\n",
    "\n",
    "        # 4. Implement the trading logic\n",
    "        if prediction < current:\n",
    "            self.trader.add_order(pair=self.pair, type='sell',\n",
    "                                  ordertype='market', volume=self.volume,\n",
    "                                  validate=self.validate)\n",
    "\n",
    "        elif prediction >= current:\n",
    "            self.trader.add_order(pair=self.pair, type='buy',\n",
    "                                  ordertype='market', volume=self.volume,\n",
    "                                  validate=self.validate)\n",
    "        else:\n",
    "            pass\n",
    "        \n",
    "    def backtest(self):\n",
    "        \"\"\" Backtest the strategy \"\"\"\n",
    "\n",
    "        # 1. Add a checkpoint to the evaluator\n",
    "        balance = self.trader.portfolio.get_trade_balance().loc['eb'].ZUSD   \n",
    "        self.evaluator.add_checkpoint(data.index[0], balance)\n",
    "        \n",
    "        # 2. Process the data\n",
    "        market = CryptoMarket()\n",
    "\n",
    "        # get last frame\n",
    "        df = market.get_ohlc_data(pair=self.pair, ascending=True, interval=15)[0]\n",
    "\n",
    "        # preprocessing\n",
    "        ts = TimeSeries.from_dataframe(df.reset_index(), 'dtime', 'close')\n",
    "\n",
    "        # modeling\n",
    "        model = ExponentialSmoothing()\n",
    "        model.fit(ts)\n",
    "\n",
    "        # 3. Get the relevant informations for trading decision\n",
    "        prediction = round(model.predict(2).last_value(),2)\n",
    "        current = df.iloc[-1]['close']\n",
    "\n",
    "        # 4. Implement the trading logic\n",
    "        if prediction < current:\n",
    "            self.trader.add_order(pair=self.pair, type='sell',\n",
    "                                  ordertype='market', volume=self.volume,\n",
    "                                  validate=self.validate)\n",
    "\n",
    "        elif prediction >= current:\n",
    "            self.trader.add_order(pair=self.pair, type='buy',\n",
    "                                  ordertype='market', volume=self.volume,\n",
    "                                  validate=self.validate)\n",
    "        else:\n",
    "            pass\n"
   ]
  },
  {
   "cell_type": "markdown",
   "id": "excess-inspiration",
   "metadata": {},
   "source": [
    "## During usage"
   ]
  },
  {
   "cell_type": "code",
   "execution_count": 13,
   "id": "flexible-disclosure",
   "metadata": {},
   "outputs": [],
   "source": [
    "api_key = f'../kraken.key'"
   ]
  },
  {
   "cell_type": "code",
   "execution_count": 15,
   "id": "boring-aerospace",
   "metadata": {},
   "outputs": [],
   "source": [
    "portfolio_1 = portfolios.VirtualPortfolio({'ZUSD': 1000})\n",
    "trader_1 = traders.VirtualCryptoTrader(portfolio_1)\n",
    "strategy_1 = strategies.BuyAndHold(trader_1, 'XETHZUSD', 0.2)\n",
    "\n",
    "portfolio_2 = portfolios.VirtualPortfolio({'ZUSD': 1000})\n",
    "trader_2 = traders.VirtualCryptoTrader(portfolio_2)\n",
    "strategy_2 = PredictionStrategy(trader_2, 'XETHZUSD', 0.2)"
   ]
  },
  {
   "cell_type": "code",
   "execution_count": 16,
   "id": "committed-therapy",
   "metadata": {},
   "outputs": [
    {
     "name": "stdout",
     "output_type": "stream",
     "text": [
      " 🤖 TARS : Welcome to Endurance! 👨‍🚀\n",
      " 🤖 TARS : Loaded strategy ➡️ Buy and hold\n",
      " 🤖 TARS : Loaded strategy ➡️ Prediction\n"
     ]
    }
   ],
   "source": [
    "# Create Tars and load strategies\n",
    "tars = Tars()\n",
    "tars.load(strategy_1)\n",
    "tars.load(strategy_2)"
   ]
  },
  {
   "cell_type": "markdown",
   "id": "c8d639e9-ed5f-4fca-a3f1-4e20bfd0de23",
   "metadata": {},
   "source": [
    "### Run on a dataset to backtest"
   ]
  },
  {
   "cell_type": "code",
   "execution_count": 6,
   "id": "2c99890f-6be3-4d3f-9eaf-99655c6f43de",
   "metadata": {},
   "outputs": [],
   "source": [
    "data = data.get_historical_ohlc_data(base='ETH', quote='USD', interval=1, data_folder='../../data/raw/')['2021':]"
   ]
  },
  {
   "cell_type": "code",
   "execution_count": null,
   "id": "a1f8b204-21d4-4f84-a58a-ea1a0110f12e",
   "metadata": {},
   "outputs": [],
   "source": [
    "tars.start(data)"
   ]
  },
  {
   "cell_type": "markdown",
   "id": "aggregate-analyst",
   "metadata": {},
   "source": [
    "### Run on real time"
   ]
  },
  {
   "cell_type": "code",
   "execution_count": 5,
   "id": "simplified-shirt",
   "metadata": {},
   "outputs": [
    {
     "name": "stdout",
     "output_type": "stream",
     "text": [
      " 🤖 TARS : Starting trading session 📈\n",
      " ⏱ Trading decision will be taken every : 00:00:10️ (hh:mm:ss)\n",
      " 💪️ Loading :   \n",
      "   🧵 'Thread-4' ➡️ 'Buy and hold'\n",
      "   🧵 'Thread-5' ➡️ 'Sequential Investment'\n"
     ]
    }
   ],
   "source": [
    "tars.start('00:00:10')"
   ]
  },
  {
   "cell_type": "code",
   "execution_count": 74,
   "id": "consistent-salem",
   "metadata": {},
   "outputs": [
    {
     "data": {
      "image/png": "[encoded data removed]",
      "text/plain": [
       "<Figure size 432x288 with 1 Axes>"
      ]
     },
     "metadata": {
      "needs_background": "light"
     },
     "output_type": "display_data"
    }
   ],
   "source": [
    "tars.plot()"
   ]
  },
  {
   "cell_type": "code",
   "execution_count": 16,
   "id": "single-valley",
   "metadata": {},
   "outputs": [
    {
     "data": {
      "text/html": [
       "<div>\n",
       "<style scoped>\n",
       "    .dataframe tbody tr th:only-of-type {\n",
       "        vertical-align: middle;\n",
       "    }\n",
       "\n",
       "    .dataframe tbody tr th {\n",
       "        vertical-align: top;\n",
       "    }\n",
       "\n",
       "    .dataframe thead th {\n",
       "        text-align: right;\n",
       "    }\n",
       "</style>\n",
       "<table border=\"1\" class=\"dataframe\">\n",
       "  <thead>\n",
       "    <tr style=\"text-align: right;\">\n",
       "      <th></th>\n",
       "      <th>Buy and hold</th>\n",
       "      <th>Sequential Investment</th>\n",
       "    </tr>\n",
       "  </thead>\n",
       "  <tbody>\n",
       "    <tr>\n",
       "      <th>2021-08-11 07:39:00+00:00</th>\n",
       "      <td>1000.00</td>\n",
       "      <td>1000.00</td>\n",
       "    </tr>\n",
       "    <tr>\n",
       "      <th>2021-08-11 07:40:00+00:00</th>\n",
       "      <td>997.37</td>\n",
       "      <td>998.04</td>\n",
       "    </tr>\n",
       "    <tr>\n",
       "      <th>2021-08-11 07:41:00+00:00</th>\n",
       "      <td>997.46</td>\n",
       "      <td>998.13</td>\n",
       "    </tr>\n",
       "  </tbody>\n",
       "</table>\n",
       "</div>"
      ],
      "text/plain": [
       "                           Buy and hold  Sequential Investment\n",
       "2021-08-11 07:39:00+00:00       1000.00                1000.00\n",
       "2021-08-11 07:40:00+00:00        997.37                 998.04\n",
       "2021-08-11 07:41:00+00:00        997.46                 998.13"
      ]
     },
     "execution_count": 16,
     "metadata": {},
     "output_type": "execute_result"
    }
   ],
   "source": [
    "tars.evaluate()"
   ]
  },
  {
   "cell_type": "code",
   "execution_count": 20,
   "id": "frank-sitting",
   "metadata": {},
   "outputs": [],
   "source": [
    "tars.stop()"
   ]
  },
  {
   "cell_type": "markdown",
   "id": "adjacent-schedule",
   "metadata": {},
   "source": [
    "---"
   ]
  },
  {
   "cell_type": "code",
   "execution_count": null,
   "id": "43d227e0-718b-4da7-aaab-383e19a05223",
   "metadata": {},
   "outputs": [],
   "source": [
    "def backtest(data, frequency, duration=None) -> NoReturn:\n",
    "        \"\"\"\n",
    "        Start a backtesting session\n",
    "        :param data: DataFrame\n",
    "            OHLCV Data in a Pandas DataFrame \n",
    "        :param frequency: str\n",
    "            Frequency in the same form than a Pandas' Timedelta\n",
    "        :param duration: str\n",
    "            Frequency in the same form than a Pandas' Timedelta\n",
    "        \"\"\"\n",
    "        if self.strategies:\n",
    "            logging.info(f\"{self._tars} : Starting backtesting session 📈\")\n",
    "            logging.info(f\"⏱ Trading decision will be taken every : {frequency}️ (hh:mm:ss)\")\n",
    "            if duration is not None:\n",
    "                logging.info(f\"⏳ for a duration of : {duration} (hh:mm:ss)\")\n",
    "            logging.info(f\"💪️ Loading :   \")\n",
    "            for i, s in enumerate(self.strategies):\n",
    "                runner = BacktestRunner()\n",
    "                self.runners.append(runner)\n",
    "                thread = Thread(target=runner.start,\n",
    "                                args=(data, s.run, frequency, duration))\n",
    "                thread.start()\n",
    "                logging.info(f\"  🧵 '{thread.name}' ➡️ '{s.name}'\")\n",
    "            self.is_running = True\n",
    "        else:\n",
    "            raise Exception('There are no loaded strategies')"
   ]
  },
  {
   "cell_type": "code",
   "execution_count": null,
   "id": "72692910-e130-4b32-8961-8b7ad8d61f43",
   "metadata": {},
   "outputs": [],
   "source": [
    "import logging\n",
    "from typing import Callable, NoReturn\n",
    "from time import sleep\n",
    "\n",
    "from pandas import Timestamp, Timedelta\n",
    "\n",
    "\n",
    "class BacktestRunner:\n",
    "    \"\"\"\n",
    "    A BacktestRunner represent an object able to execute a function through time on a given dataset.\n",
    "\n",
    "    The function can be executed with a chosen frequency e.g. every 10 seconds\n",
    "    and for a optional duration e.g. 2 hours.\n",
    "\n",
    "    :ivar is_running : Boolean describing if the Runner is running or not.\n",
    "    \"\"\"\n",
    "      \n",
    "    def __init__(self):\n",
    "        self.is_running = False\n",
    "\n",
    "    def start(self, data: DataFrame, func: Callable, frequency: str, duration: str = None) \\\n",
    "            -> NoReturn:\n",
    "        \"\"\" Start the Runner\n",
    "\n",
    "        :param data: The data to use\n",
    "        :param func: The function to be executed\n",
    "        :param frequency: String representing a frequency in the same form than a Pandas' Timedelta (https://pandas.pydata.org/docs/reference/api/pandas.Timedelta.html)\n",
    "        :param duration: String representing a frequency in the same form than a Pandas' Timedelta (https://pandas.pydata.org/docs/reference/api/pandas.Timedelta.html)\n",
    "        \"\"\"\n",
    "        self.is_running = True\n",
    "        \n",
    "        # Initialize\n",
    "        start_time = curr_year.index[0]\n",
    "        end_time = curr_year.index[-1]\n",
    "        current_time = start\n",
    "\n",
    "        if duration is not None:\n",
    "            duration_end_time = start + Timedelta(duration)\n",
    "        \n",
    "        while self.is_running or current_time <= end_time:\n",
    "            if duration is not None:\n",
    "                if current_time >= duration_end_time:\n",
    "                    break\n",
    "            func()\n",
    "            current_time += Timedelta(frequency)\n",
    "\n",
    "        logging.debug(f'Runner started with frequency of {frequency} and '\n",
    "                      f'duration of {duration}')\n",
    "\n",
    "    def stop(self) -> NoReturn:\n",
    "        \"\"\" Stop the Runner \"\"\"\n",
    "        self.is_running = False\n",
    "        logging.debug(f'Runner stopped')\n"
   ]
  }
 ],
 "metadata": {
  "kernelspec": {
   "display_name": "Python 3 (ipykernel)",
   "language": "python",
   "name": "python3"
  },
  "language_info": {
   "codemirror_mode": {
    "name": "ipython",
    "version": 3
   },
   "file_extension": ".py",
   "mimetype": "text/x-python",
   "name": "python",
   "nbconvert_exporter": "python",
   "pygments_lexer": "ipython3",
   "version": "3.8.7"
  }
 },
 "nbformat": 4,
 "nbformat_minor": 5
}
