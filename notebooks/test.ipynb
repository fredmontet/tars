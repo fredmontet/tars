{
 "cells": [
  {
   "cell_type": "markdown",
   "id": "ahead-perception",
   "metadata": {},
   "source": [
    "# Connection test to Kraken API"
   ]
  },
  {
   "cell_type": "code",
   "execution_count": 8,
   "id": "convenient-faculty",
   "metadata": {},
   "outputs": [
    {
     "ename": "ModuleNotFoundError",
     "evalue": "No module named 'request'",
     "output_type": "error",
     "traceback": [
      "\u001b[0;31m---------------------------------------------------------------------------\u001b[0m",
      "\u001b[0;31mModuleNotFoundError\u001b[0m                       Traceback (most recent call last)",
      "\u001b[0;32m<ipython-input-8-9d28ea6f03f0>\u001b[0m in \u001b[0;36m<module>\u001b[0;34m\u001b[0m\n\u001b[1;32m      1\u001b[0m \u001b[0;32mimport\u001b[0m \u001b[0mrequests\u001b[0m\u001b[0;34m\u001b[0m\u001b[0;34m\u001b[0m\u001b[0m\n\u001b[0;32m----> 2\u001b[0;31m \u001b[0;32mfrom\u001b[0m \u001b[0msrc\u001b[0m\u001b[0;34m.\u001b[0m\u001b[0mtars\u001b[0m \u001b[0;32mimport\u001b[0m \u001b[0mtars\u001b[0m\u001b[0;34m\u001b[0m\u001b[0;34m\u001b[0m\u001b[0m\n\u001b[0m",
      "\u001b[0;32m~/src/personal/tars/src/tars/tars.py\u001b[0m in \u001b[0;36m<module>\u001b[0;34m\u001b[0m\n\u001b[0;32m----> 1\u001b[0;31m \u001b[0;32mimport\u001b[0m \u001b[0mrequest\u001b[0m\u001b[0;34m\u001b[0m\u001b[0;34m\u001b[0m\u001b[0m\n\u001b[0m\u001b[1;32m      2\u001b[0m \u001b[0;34m\u001b[0m\u001b[0m\n\u001b[1;32m      3\u001b[0m \u001b[0;34m\u001b[0m\u001b[0m\n\u001b[1;32m      4\u001b[0m \u001b[0;32mdef\u001b[0m \u001b[0mget_pair\u001b[0m\u001b[0;34m(\u001b[0m\u001b[0mpair\u001b[0m\u001b[0;34m)\u001b[0m\u001b[0;34m:\u001b[0m\u001b[0;34m\u001b[0m\u001b[0;34m\u001b[0m\u001b[0m\n\u001b[1;32m      5\u001b[0m     \u001b[0mr\u001b[0m \u001b[0;34m=\u001b[0m \u001b[0mrequests\u001b[0m\u001b[0;34m.\u001b[0m\u001b[0mget\u001b[0m\u001b[0;34m(\u001b[0m\u001b[0;34mf'https://api.kraken.com/0/public/Ticker?pair={pair}'\u001b[0m\u001b[0;34m)\u001b[0m\u001b[0;34m\u001b[0m\u001b[0;34m\u001b[0m\u001b[0m\n",
      "\u001b[0;31mModuleNotFoundError\u001b[0m: No module named 'request'"
     ]
    }
   ],
   "source": [
    "import requests\n",
    "from src.tars import tars"
   ]
  },
  {
   "cell_type": "code",
   "execution_count": 2,
   "id": "diverse-convenience",
   "metadata": {},
   "outputs": [
    {
     "name": "stdout",
     "output_type": "stream",
     "text": [
      "/Users/frederic.montet/.pyenv/versions/3.8.7/bin/python\n"
     ]
    }
   ],
   "source": [
    "!which python"
   ]
  },
  {
   "cell_type": "code",
   "execution_count": 10,
   "id": "hollywood-rendering",
   "metadata": {},
   "outputs": [
    {
     "name": "stdout",
     "output_type": "stream",
     "text": [
      "/Users/frederic.montet/src/personal/tars/notebooks\n"
     ]
    }
   ],
   "source": [
    "!pwd"
   ]
  },
  {
   "cell_type": "code",
   "execution_count": 6,
   "id": "appreciated-airplane",
   "metadata": {},
   "outputs": [
    {
     "data": {
      "text/plain": [
       "<module 'src.tars' from '/Users/frederic.montet/src/personal/tars/src/tars/__init__.py'>"
      ]
     },
     "execution_count": 6,
     "metadata": {},
     "output_type": "execute_result"
    }
   ],
   "source": [
    "tars"
   ]
  },
  {
   "cell_type": "markdown",
   "id": "chinese-biodiversity",
   "metadata": {},
   "source": [
    "https://support.kraken.com/hc/en-us/categories/360000080686-API"
   ]
  },
  {
   "cell_type": "code",
   "execution_count": 6,
   "id": "marine-stand",
   "metadata": {},
   "outputs": [
    {
     "data": {
      "text/plain": [
       "{'error': [],\n",
       " 'result': {'XBTCHF': {'a': ['28759.50000', '1', '1.000'],\n",
       "   'b': ['28736.30000', '1', '1.000'],\n",
       "   'c': ['28744.50000', '0.01720000'],\n",
       "   'v': ['18.37792783', '67.43261348'],\n",
       "   'p': ['28658.88514', '29633.77522'],\n",
       "   't': [690, 1956],\n",
       "   'l': ['28026.80000', '28026.80000'],\n",
       "   'h': ['30099.00000', '31000.00000'],\n",
       "   'o': '28695.90000'}}}"
      ]
     },
     "execution_count": 6,
     "metadata": {},
     "output_type": "execute_result"
    }
   ],
   "source": [
    "r = requests.get('https://api.kraken.com/0/public/Ticker?pair=xbtchf')\n",
    "r.json()"
   ]
  },
  {
   "cell_type": "code",
   "execution_count": null,
   "id": "prostate-clark",
   "metadata": {},
   "outputs": [],
   "source": []
  }
 ],
 "metadata": {
  "kernelspec": {
   "display_name": "tars",
   "language": "python",
   "name": "tars"
  },
  "language_info": {
   "codemirror_mode": {
    "name": "ipython",
    "version": 3
   },
   "file_extension": ".py",
   "mimetype": "text/x-python",
   "name": "python",
   "nbconvert_exporter": "python",
   "pygments_lexer": "ipython3",
   "version": "3.8.7"
  }
 },
 "nbformat": 4,
 "nbformat_minor": 5
}
