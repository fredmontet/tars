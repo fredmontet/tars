{
 "cells": [
  {
   "cell_type": "code",
   "execution_count": 38,
   "id": "alone-conducting",
   "metadata": {
    "collapsed": false,
    "jupyter": {
     "outputs_hidden": false
    },
    "pycharm": {
     "name": "#%%\n"
    }
   },
   "outputs": [],
   "source": [
    "from src import TARS, CryptoTrader, CryptoMarket, CryptoPortfolio, VirtualPortfolio, VirtualCryptoTrader"
   ]
  },
  {
   "cell_type": "markdown",
   "id": "careful-dispatch",
   "metadata": {},
   "source": [
    "# Function Tests"
   ]
  },
  {
   "cell_type": "markdown",
   "id": "lesser-liquid",
   "metadata": {},
   "source": [
    "## Create TARS"
   ]
  },
  {
   "cell_type": "code",
   "execution_count": 39,
   "id": "closing-passing",
   "metadata": {},
   "outputs": [],
   "source": [
    "root = '../'\n",
    "api_key = f'{root}kraken.key'\n",
    "tars = TARS()"
   ]
  },
  {
   "cell_type": "markdown",
   "id": "south-information",
   "metadata": {},
   "source": [
    "---"
   ]
  },
  {
   "cell_type": "markdown",
   "id": "friendly-tooth",
   "metadata": {},
   "source": [
    "## Market Functions"
   ]
  },
  {
   "cell_type": "code",
   "execution_count": 40,
   "id": "mobile-gardening",
   "metadata": {},
   "outputs": [],
   "source": [
    "# Create instance\n",
    "market = CryptoMarket()"
   ]
  },
  {
   "cell_type": "code",
   "execution_count": 33,
   "id": "liable-supervisor",
   "metadata": {},
   "outputs": [
    {
     "data": {
      "text/html": [
       "<div>\n",
       "<style scoped>\n",
       "    .dataframe tbody tr th:only-of-type {\n",
       "        vertical-align: middle;\n",
       "    }\n",
       "\n",
       "    .dataframe tbody tr th {\n",
       "        vertical-align: top;\n",
       "    }\n",
       "\n",
       "    .dataframe thead th {\n",
       "        text-align: right;\n",
       "    }\n",
       "</style>\n",
       "<table border=\"1\" class=\"dataframe\">\n",
       "  <thead>\n",
       "    <tr style=\"text-align: right;\">\n",
       "      <th></th>\n",
       "      <th>aclass</th>\n",
       "      <th>altname</th>\n",
       "      <th>decimals</th>\n",
       "      <th>display_decimals</th>\n",
       "    </tr>\n",
       "  </thead>\n",
       "  <tbody>\n",
       "    <tr>\n",
       "      <th>AAVE</th>\n",
       "      <td>currency</td>\n",
       "      <td>AAVE</td>\n",
       "      <td>10</td>\n",
       "      <td>5</td>\n",
       "    </tr>\n",
       "    <tr>\n",
       "      <th>ADA</th>\n",
       "      <td>currency</td>\n",
       "      <td>ADA</td>\n",
       "      <td>8</td>\n",
       "      <td>6</td>\n",
       "    </tr>\n",
       "    <tr>\n",
       "      <th>ADA.S</th>\n",
       "      <td>currency</td>\n",
       "      <td>ADA.S</td>\n",
       "      <td>8</td>\n",
       "      <td>6</td>\n",
       "    </tr>\n",
       "    <tr>\n",
       "      <th>ALGO</th>\n",
       "      <td>currency</td>\n",
       "      <td>ALGO</td>\n",
       "      <td>8</td>\n",
       "      <td>5</td>\n",
       "    </tr>\n",
       "    <tr>\n",
       "      <th>ANKR</th>\n",
       "      <td>currency</td>\n",
       "      <td>ANKR</td>\n",
       "      <td>10</td>\n",
       "      <td>5</td>\n",
       "    </tr>\n",
       "  </tbody>\n",
       "</table>\n",
       "</div>"
      ],
      "text/plain": [
       "         aclass altname decimals display_decimals\n",
       "AAVE   currency    AAVE       10                5\n",
       "ADA    currency     ADA        8                6\n",
       "ADA.S  currency   ADA.S        8                6\n",
       "ALGO   currency    ALGO        8                5\n",
       "ANKR   currency    ANKR       10                5"
      ]
     },
     "execution_count": 33,
     "metadata": {},
     "output_type": "execute_result"
    }
   ],
   "source": [
    "# Get asset informations\n",
    "market.get_asset_info().head()"
   ]
  },
  {
   "cell_type": "code",
   "execution_count": 34,
   "id": "rental-holder",
   "metadata": {},
   "outputs": [
    {
     "data": {
      "text/html": [
       "<div>\n",
       "<style scoped>\n",
       "    .dataframe tbody tr th:only-of-type {\n",
       "        vertical-align: middle;\n",
       "    }\n",
       "\n",
       "    .dataframe tbody tr th {\n",
       "        vertical-align: top;\n",
       "    }\n",
       "\n",
       "    .dataframe thead th {\n",
       "        text-align: right;\n",
       "    }\n",
       "</style>\n",
       "<table border=\"1\" class=\"dataframe\">\n",
       "  <thead>\n",
       "    <tr style=\"text-align: right;\">\n",
       "      <th></th>\n",
       "      <th>time</th>\n",
       "      <th>open</th>\n",
       "      <th>high</th>\n",
       "      <th>low</th>\n",
       "      <th>close</th>\n",
       "      <th>vwap</th>\n",
       "      <th>volume</th>\n",
       "      <th>count</th>\n",
       "    </tr>\n",
       "    <tr>\n",
       "      <th>dtime</th>\n",
       "      <th></th>\n",
       "      <th></th>\n",
       "      <th></th>\n",
       "      <th></th>\n",
       "      <th></th>\n",
       "      <th></th>\n",
       "      <th></th>\n",
       "      <th></th>\n",
       "    </tr>\n",
       "  </thead>\n",
       "  <tbody>\n",
       "    <tr>\n",
       "      <th>2021-07-25 23:00:00</th>\n",
       "      <td>1627254000</td>\n",
       "      <td>1987.0</td>\n",
       "      <td>1987.0</td>\n",
       "      <td>1987.0</td>\n",
       "      <td>1987.0</td>\n",
       "      <td>0.0</td>\n",
       "      <td>0.0</td>\n",
       "      <td>0</td>\n",
       "    </tr>\n",
       "    <tr>\n",
       "      <th>2021-07-25 22:59:00</th>\n",
       "      <td>1627253940</td>\n",
       "      <td>1987.0</td>\n",
       "      <td>1987.0</td>\n",
       "      <td>1987.0</td>\n",
       "      <td>1987.0</td>\n",
       "      <td>0.0</td>\n",
       "      <td>0.0</td>\n",
       "      <td>0</td>\n",
       "    </tr>\n",
       "    <tr>\n",
       "      <th>2021-07-25 22:58:00</th>\n",
       "      <td>1627253880</td>\n",
       "      <td>1987.0</td>\n",
       "      <td>1987.0</td>\n",
       "      <td>1987.0</td>\n",
       "      <td>1987.0</td>\n",
       "      <td>0.0</td>\n",
       "      <td>0.0</td>\n",
       "      <td>0</td>\n",
       "    </tr>\n",
       "    <tr>\n",
       "      <th>2021-07-25 22:57:00</th>\n",
       "      <td>1627253820</td>\n",
       "      <td>1987.0</td>\n",
       "      <td>1987.0</td>\n",
       "      <td>1987.0</td>\n",
       "      <td>1987.0</td>\n",
       "      <td>0.0</td>\n",
       "      <td>0.0</td>\n",
       "      <td>0</td>\n",
       "    </tr>\n",
       "    <tr>\n",
       "      <th>2021-07-25 22:56:00</th>\n",
       "      <td>1627253760</td>\n",
       "      <td>1987.0</td>\n",
       "      <td>1987.0</td>\n",
       "      <td>1987.0</td>\n",
       "      <td>1987.0</td>\n",
       "      <td>0.0</td>\n",
       "      <td>0.0</td>\n",
       "      <td>0</td>\n",
       "    </tr>\n",
       "  </tbody>\n",
       "</table>\n",
       "</div>"
      ],
      "text/plain": [
       "                           time    open    high     low   close  vwap  volume  \\\n",
       "dtime                                                                           \n",
       "2021-07-25 23:00:00  1627254000  1987.0  1987.0  1987.0  1987.0   0.0     0.0   \n",
       "2021-07-25 22:59:00  1627253940  1987.0  1987.0  1987.0  1987.0   0.0     0.0   \n",
       "2021-07-25 22:58:00  1627253880  1987.0  1987.0  1987.0  1987.0   0.0     0.0   \n",
       "2021-07-25 22:57:00  1627253820  1987.0  1987.0  1987.0  1987.0   0.0     0.0   \n",
       "2021-07-25 22:56:00  1627253760  1987.0  1987.0  1987.0  1987.0   0.0     0.0   \n",
       "\n",
       "                     count  \n",
       "dtime                       \n",
       "2021-07-25 23:00:00      0  \n",
       "2021-07-25 22:59:00      0  \n",
       "2021-07-25 22:58:00      0  \n",
       "2021-07-25 22:57:00      0  \n",
       "2021-07-25 22:56:00      0  "
      ]
     },
     "execution_count": 34,
     "metadata": {},
     "output_type": "execute_result"
    }
   ],
   "source": [
    "# Get OHLC Data\n",
    "market.get_ohlc_data('ETHCHF')[0].head()"
   ]
  },
  {
   "cell_type": "code",
   "execution_count": 35,
   "id": "approved-protection",
   "metadata": {},
   "outputs": [
    {
     "data": {
      "text/html": [
       "<div>\n",
       "<style scoped>\n",
       "    .dataframe tbody tr th:only-of-type {\n",
       "        vertical-align: middle;\n",
       "    }\n",
       "\n",
       "    .dataframe tbody tr th {\n",
       "        vertical-align: top;\n",
       "    }\n",
       "\n",
       "    .dataframe thead th {\n",
       "        text-align: right;\n",
       "    }\n",
       "</style>\n",
       "<table border=\"1\" class=\"dataframe\">\n",
       "  <thead>\n",
       "    <tr style=\"text-align: right;\">\n",
       "      <th></th>\n",
       "      <th>price</th>\n",
       "      <th>volume</th>\n",
       "      <th>time</th>\n",
       "    </tr>\n",
       "    <tr>\n",
       "      <th>dtime</th>\n",
       "      <th></th>\n",
       "      <th></th>\n",
       "      <th></th>\n",
       "    </tr>\n",
       "  </thead>\n",
       "  <tbody>\n",
       "    <tr>\n",
       "      <th>2021-07-25 23:00:18</th>\n",
       "      <td>2164.97000</td>\n",
       "      <td>0.294</td>\n",
       "      <td>1627254018</td>\n",
       "    </tr>\n",
       "    <tr>\n",
       "      <th>2021-07-25 23:00:18</th>\n",
       "      <td>2164.98000</td>\n",
       "      <td>0.240</td>\n",
       "      <td>1627254018</td>\n",
       "    </tr>\n",
       "    <tr>\n",
       "      <th>2021-07-25 22:59:55</th>\n",
       "      <td>2165.26000</td>\n",
       "      <td>0.011</td>\n",
       "      <td>1627253995</td>\n",
       "    </tr>\n",
       "    <tr>\n",
       "      <th>2021-07-25 22:59:25</th>\n",
       "      <td>2165.41000</td>\n",
       "      <td>0.006</td>\n",
       "      <td>1627253965</td>\n",
       "    </tr>\n",
       "    <tr>\n",
       "      <th>2021-07-25 22:58:52</th>\n",
       "      <td>2165.07000</td>\n",
       "      <td>0.006</td>\n",
       "      <td>1627253932</td>\n",
       "    </tr>\n",
       "  </tbody>\n",
       "</table>\n",
       "</div>"
      ],
      "text/plain": [
       "                          price volume        time\n",
       "dtime                                             \n",
       "2021-07-25 23:00:18  2164.97000  0.294  1627254018\n",
       "2021-07-25 23:00:18  2164.98000  0.240  1627254018\n",
       "2021-07-25 22:59:55  2165.26000  0.011  1627253995\n",
       "2021-07-25 22:59:25  2165.41000  0.006  1627253965\n",
       "2021-07-25 22:58:52  2165.07000  0.006  1627253932"
      ]
     },
     "execution_count": 35,
     "metadata": {},
     "output_type": "execute_result"
    }
   ],
   "source": [
    "# Get main order book \n",
    "market.get_order_book('XETHZUSD', count=5)[0]"
   ]
  },
  {
   "cell_type": "code",
   "execution_count": 37,
   "id": "small-display",
   "metadata": {},
   "outputs": [
    {
     "data": {
      "text/html": [
       "<div>\n",
       "<style scoped>\n",
       "    .dataframe tbody tr th:only-of-type {\n",
       "        vertical-align: middle;\n",
       "    }\n",
       "\n",
       "    .dataframe tbody tr th {\n",
       "        vertical-align: top;\n",
       "    }\n",
       "\n",
       "    .dataframe thead th {\n",
       "        text-align: right;\n",
       "    }\n",
       "</style>\n",
       "<table border=\"1\" class=\"dataframe\">\n",
       "  <thead>\n",
       "    <tr style=\"text-align: right;\">\n",
       "      <th></th>\n",
       "      <th>time</th>\n",
       "      <th>bid</th>\n",
       "      <th>ask</th>\n",
       "      <th>spread</th>\n",
       "    </tr>\n",
       "    <tr>\n",
       "      <th>dtime</th>\n",
       "      <th></th>\n",
       "      <th></th>\n",
       "      <th></th>\n",
       "      <th></th>\n",
       "    </tr>\n",
       "  </thead>\n",
       "  <tbody>\n",
       "    <tr>\n",
       "      <th>2021-07-25 23:00:38</th>\n",
       "      <td>1627254038</td>\n",
       "      <td>2165.05</td>\n",
       "      <td>2165.06</td>\n",
       "      <td>0.01</td>\n",
       "    </tr>\n",
       "    <tr>\n",
       "      <th>2021-07-25 23:00:38</th>\n",
       "      <td>1627254038</td>\n",
       "      <td>2164.97</td>\n",
       "      <td>2165.06</td>\n",
       "      <td>0.09</td>\n",
       "    </tr>\n",
       "    <tr>\n",
       "      <th>2021-07-25 23:00:38</th>\n",
       "      <td>1627254038</td>\n",
       "      <td>2164.96</td>\n",
       "      <td>2165.06</td>\n",
       "      <td>0.10</td>\n",
       "    </tr>\n",
       "    <tr>\n",
       "      <th>2021-07-25 23:00:38</th>\n",
       "      <td>1627254038</td>\n",
       "      <td>2164.96</td>\n",
       "      <td>2164.98</td>\n",
       "      <td>0.02</td>\n",
       "    </tr>\n",
       "    <tr>\n",
       "      <th>2021-07-25 23:00:13</th>\n",
       "      <td>1627254013</td>\n",
       "      <td>2164.77</td>\n",
       "      <td>2164.97</td>\n",
       "      <td>0.20</td>\n",
       "    </tr>\n",
       "  </tbody>\n",
       "</table>\n",
       "</div>"
      ],
      "text/plain": [
       "                           time      bid      ask  spread\n",
       "dtime                                                    \n",
       "2021-07-25 23:00:38  1627254038  2165.05  2165.06    0.01\n",
       "2021-07-25 23:00:38  1627254038  2164.97  2165.06    0.09\n",
       "2021-07-25 23:00:38  1627254038  2164.96  2165.06    0.10\n",
       "2021-07-25 23:00:38  1627254038  2164.96  2164.98    0.02\n",
       "2021-07-25 23:00:13  1627254013  2164.77  2164.97    0.20"
      ]
     },
     "execution_count": 37,
     "metadata": {},
     "output_type": "execute_result"
    }
   ],
   "source": [
    "# Get recent spread of the datam \n",
    "market.get_recent_spread_data('XETHZUSD')[0].head()"
   ]
  },
  {
   "cell_type": "code",
   "execution_count": 38,
   "id": "sharp-endorsement",
   "metadata": {},
   "outputs": [
    {
     "data": {
      "text/html": [
       "<div>\n",
       "<style scoped>\n",
       "    .dataframe tbody tr th:only-of-type {\n",
       "        vertical-align: middle;\n",
       "    }\n",
       "\n",
       "    .dataframe tbody tr th {\n",
       "        vertical-align: top;\n",
       "    }\n",
       "\n",
       "    .dataframe thead th {\n",
       "        text-align: right;\n",
       "    }\n",
       "</style>\n",
       "<table border=\"1\" class=\"dataframe\">\n",
       "  <thead>\n",
       "    <tr style=\"text-align: right;\">\n",
       "      <th></th>\n",
       "      <th>price</th>\n",
       "      <th>volume</th>\n",
       "      <th>time</th>\n",
       "      <th>buy_sell</th>\n",
       "      <th>market_limit</th>\n",
       "      <th>misc</th>\n",
       "    </tr>\n",
       "    <tr>\n",
       "      <th>dtime</th>\n",
       "      <th></th>\n",
       "      <th></th>\n",
       "      <th></th>\n",
       "      <th></th>\n",
       "      <th></th>\n",
       "      <th></th>\n",
       "    </tr>\n",
       "  </thead>\n",
       "  <tbody>\n",
       "    <tr>\n",
       "      <th>2021-07-25 23:00:50.264199936</th>\n",
       "      <td>2165.07</td>\n",
       "      <td>0.190000</td>\n",
       "      <td>1.627254e+09</td>\n",
       "      <td>buy</td>\n",
       "      <td>limit</td>\n",
       "      <td></td>\n",
       "    </tr>\n",
       "    <tr>\n",
       "      <th>2021-07-25 23:00:50.262900224</th>\n",
       "      <td>2165.07</td>\n",
       "      <td>0.005744</td>\n",
       "      <td>1.627254e+09</td>\n",
       "      <td>buy</td>\n",
       "      <td>limit</td>\n",
       "      <td></td>\n",
       "    </tr>\n",
       "    <tr>\n",
       "      <th>2021-07-25 23:00:50.261400064</th>\n",
       "      <td>2165.06</td>\n",
       "      <td>0.133000</td>\n",
       "      <td>1.627254e+09</td>\n",
       "      <td>buy</td>\n",
       "      <td>limit</td>\n",
       "      <td></td>\n",
       "    </tr>\n",
       "    <tr>\n",
       "      <th>2021-07-25 23:00:50.107099904</th>\n",
       "      <td>2165.06</td>\n",
       "      <td>0.057000</td>\n",
       "      <td>1.627254e+09</td>\n",
       "      <td>buy</td>\n",
       "      <td>limit</td>\n",
       "      <td></td>\n",
       "    </tr>\n",
       "    <tr>\n",
       "      <th>2021-07-25 23:00:42.212000000</th>\n",
       "      <td>2165.05</td>\n",
       "      <td>1.996008</td>\n",
       "      <td>1.627254e+09</td>\n",
       "      <td>sell</td>\n",
       "      <td>limit</td>\n",
       "      <td></td>\n",
       "    </tr>\n",
       "  </tbody>\n",
       "</table>\n",
       "</div>"
      ],
      "text/plain": [
       "                                 price    volume          time buy_sell  \\\n",
       "dtime                                                                     \n",
       "2021-07-25 23:00:50.264199936  2165.07  0.190000  1.627254e+09      buy   \n",
       "2021-07-25 23:00:50.262900224  2165.07  0.005744  1.627254e+09      buy   \n",
       "2021-07-25 23:00:50.261400064  2165.06  0.133000  1.627254e+09      buy   \n",
       "2021-07-25 23:00:50.107099904  2165.06  0.057000  1.627254e+09      buy   \n",
       "2021-07-25 23:00:42.212000000  2165.05  1.996008  1.627254e+09     sell   \n",
       "\n",
       "                              market_limit misc  \n",
       "dtime                                            \n",
       "2021-07-25 23:00:50.264199936        limit       \n",
       "2021-07-25 23:00:50.262900224        limit       \n",
       "2021-07-25 23:00:50.261400064        limit       \n",
       "2021-07-25 23:00:50.107099904        limit       \n",
       "2021-07-25 23:00:42.212000000        limit       "
      ]
     },
     "execution_count": 38,
     "metadata": {},
     "output_type": "execute_result"
    }
   ],
   "source": [
    "# Get recent trades\n",
    "market.get_recent_trades('XETHZUSD')[0].head()"
   ]
  },
  {
   "cell_type": "code",
   "execution_count": 39,
   "id": "center-ready",
   "metadata": {},
   "outputs": [
    {
     "data": {
      "text/html": [
       "<div>\n",
       "<style scoped>\n",
       "    .dataframe tbody tr th:only-of-type {\n",
       "        vertical-align: middle;\n",
       "    }\n",
       "\n",
       "    .dataframe tbody tr th {\n",
       "        vertical-align: top;\n",
       "    }\n",
       "\n",
       "    .dataframe thead th {\n",
       "        text-align: right;\n",
       "    }\n",
       "</style>\n",
       "<table border=\"1\" class=\"dataframe\">\n",
       "  <thead>\n",
       "    <tr style=\"text-align: right;\">\n",
       "      <th></th>\n",
       "      <th>a</th>\n",
       "      <th>b</th>\n",
       "      <th>c</th>\n",
       "      <th>h</th>\n",
       "      <th>l</th>\n",
       "      <th>o</th>\n",
       "      <th>p</th>\n",
       "      <th>t</th>\n",
       "      <th>v</th>\n",
       "    </tr>\n",
       "  </thead>\n",
       "  <tbody>\n",
       "    <tr>\n",
       "      <th>XETHZUSD</th>\n",
       "      <td>[2166.46000, 1, 1.000]</td>\n",
       "      <td>[2166.09000, 7, 7.000]</td>\n",
       "      <td>[2166.46000, 6.09681103]</td>\n",
       "      <td>[2195.53000, 2195.53000]</td>\n",
       "      <td>[2108.07000, 2108.07000]</td>\n",
       "      <td>2187.00000</td>\n",
       "      <td>[2153.35344, 2155.44540]</td>\n",
       "      <td>[16467, 17440]</td>\n",
       "      <td>[21540.89511885, 23379.36400714]</td>\n",
       "    </tr>\n",
       "  </tbody>\n",
       "</table>\n",
       "</div>"
      ],
      "text/plain": [
       "                               a                       b  \\\n",
       "XETHZUSD  [2166.46000, 1, 1.000]  [2166.09000, 7, 7.000]   \n",
       "\n",
       "                                 c                         h  \\\n",
       "XETHZUSD  [2166.46000, 6.09681103]  [2195.53000, 2195.53000]   \n",
       "\n",
       "                                 l           o                         p  \\\n",
       "XETHZUSD  [2108.07000, 2108.07000]  2187.00000  [2153.35344, 2155.44540]   \n",
       "\n",
       "                       t                                 v  \n",
       "XETHZUSD  [16467, 17440]  [21540.89511885, 23379.36400714]  "
      ]
     },
     "execution_count": 39,
     "metadata": {},
     "output_type": "execute_result"
    }
   ],
   "source": [
    "# Get the ticker information\n",
    "market.get_ticker_information('XETHZUSD')"
   ]
  },
  {
   "cell_type": "markdown",
   "id": "random-economy",
   "metadata": {},
   "source": [
    "---"
   ]
  },
  {
   "cell_type": "markdown",
   "id": "joint-irish",
   "metadata": {},
   "source": [
    "## Portfolio Functions"
   ]
  },
  {
   "cell_type": "markdown",
   "id": "filled-robert",
   "metadata": {},
   "source": [
    "### Cryptocurrencies Portfolio"
   ]
  },
  {
   "cell_type": "code",
   "execution_count": 40,
   "id": "decent-bedroom",
   "metadata": {},
   "outputs": [],
   "source": [
    "# Creat instance\n",
    "portfolio = CryptoPortfolio(api_key)"
   ]
  },
  {
   "cell_type": "code",
   "execution_count": 41,
   "id": "further-brooklyn",
   "metadata": {},
   "outputs": [
    {
     "data": {
      "text/html": [
       "<div>\n",
       "<style scoped>\n",
       "    .dataframe tbody tr th:only-of-type {\n",
       "        vertical-align: middle;\n",
       "    }\n",
       "\n",
       "    .dataframe tbody tr th {\n",
       "        vertical-align: top;\n",
       "    }\n",
       "\n",
       "    .dataframe thead th {\n",
       "        text-align: right;\n",
       "    }\n",
       "</style>\n",
       "<table border=\"1\" class=\"dataframe\">\n",
       "  <thead>\n",
       "    <tr style=\"text-align: right;\">\n",
       "      <th></th>\n",
       "      <th>vol</th>\n",
       "    </tr>\n",
       "  </thead>\n",
       "  <tbody>\n",
       "    <tr>\n",
       "      <th>ZUSD</th>\n",
       "      <td>1.000000e-04</td>\n",
       "    </tr>\n",
       "    <tr>\n",
       "      <th>CHF</th>\n",
       "      <td>0.000000e+00</td>\n",
       "    </tr>\n",
       "    <tr>\n",
       "      <th>XXBT</th>\n",
       "      <td>2.680000e-07</td>\n",
       "    </tr>\n",
       "    <tr>\n",
       "      <th>XXRP</th>\n",
       "      <td>0.000000e+00</td>\n",
       "    </tr>\n",
       "    <tr>\n",
       "      <th>XXDG</th>\n",
       "      <td>0.000000e+00</td>\n",
       "    </tr>\n",
       "  </tbody>\n",
       "</table>\n",
       "</div>"
      ],
      "text/plain": [
       "               vol\n",
       "ZUSD  1.000000e-04\n",
       "CHF   0.000000e+00\n",
       "XXBT  2.680000e-07\n",
       "XXRP  0.000000e+00\n",
       "XXDG  0.000000e+00"
      ]
     },
     "execution_count": 41,
     "metadata": {},
     "output_type": "execute_result"
    }
   ],
   "source": [
    "# Get the balance of the account\n",
    "portfolio.get_account_balance().head()"
   ]
  },
  {
   "cell_type": "code",
   "execution_count": 42,
   "id": "turned-method",
   "metadata": {},
   "outputs": [
    {
     "data": {
      "text/html": [
       "<div>\n",
       "<style scoped>\n",
       "    .dataframe tbody tr th:only-of-type {\n",
       "        vertical-align: middle;\n",
       "    }\n",
       "\n",
       "    .dataframe tbody tr th {\n",
       "        vertical-align: top;\n",
       "    }\n",
       "\n",
       "    .dataframe thead th {\n",
       "        text-align: right;\n",
       "    }\n",
       "</style>\n",
       "<table border=\"1\" class=\"dataframe\">\n",
       "  <thead>\n",
       "    <tr style=\"text-align: right;\">\n",
       "      <th></th>\n",
       "      <th>CHF</th>\n",
       "    </tr>\n",
       "  </thead>\n",
       "  <tbody>\n",
       "    <tr>\n",
       "      <th>eb</th>\n",
       "      <td>41.3522</td>\n",
       "    </tr>\n",
       "    <tr>\n",
       "      <th>tb</th>\n",
       "      <td>20.6832</td>\n",
       "    </tr>\n",
       "    <tr>\n",
       "      <th>m</th>\n",
       "      <td>0.0000</td>\n",
       "    </tr>\n",
       "    <tr>\n",
       "      <th>n</th>\n",
       "      <td>0.0000</td>\n",
       "    </tr>\n",
       "    <tr>\n",
       "      <th>c</th>\n",
       "      <td>0.0000</td>\n",
       "    </tr>\n",
       "  </tbody>\n",
       "</table>\n",
       "</div>"
      ],
      "text/plain": [
       "        CHF\n",
       "eb  41.3522\n",
       "tb  20.6832\n",
       "m    0.0000\n",
       "n    0.0000\n",
       "c    0.0000"
      ]
     },
     "execution_count": 42,
     "metadata": {},
     "output_type": "execute_result"
    }
   ],
   "source": [
    "# Get our trades balances!\n",
    "portfolio.get_trade_balance().head()"
   ]
  },
  {
   "cell_type": "markdown",
   "id": "dynamic-square",
   "metadata": {},
   "source": [
    "### Virtual Portfolio"
   ]
  },
  {
   "cell_type": "code",
   "execution_count": 3,
   "id": "swedish-wiring",
   "metadata": {
    "collapsed": false,
    "jupyter": {
     "outputs_hidden": false
    },
    "pycharm": {
     "name": "#%%\n"
    }
   },
   "outputs": [],
   "source": [
    "# Create instance with initial deposit\n",
    "virtual_portfolio = VirtualPortfolio({'CHF':100})"
   ]
  },
  {
   "cell_type": "code",
   "execution_count": 4,
   "id": "judicial-burlington",
   "metadata": {
    "collapsed": false,
    "jupyter": {
     "outputs_hidden": false
    },
    "pycharm": {
     "name": "#%%\n"
    }
   },
   "outputs": [
    {
     "data": {
      "text/html": [
       "<div>\n",
       "<style scoped>\n",
       "    .dataframe tbody tr th:only-of-type {\n",
       "        vertical-align: middle;\n",
       "    }\n",
       "\n",
       "    .dataframe tbody tr th {\n",
       "        vertical-align: top;\n",
       "    }\n",
       "\n",
       "    .dataframe thead th {\n",
       "        text-align: right;\n",
       "    }\n",
       "</style>\n",
       "<table border=\"1\" class=\"dataframe\">\n",
       "  <thead>\n",
       "    <tr style=\"text-align: right;\">\n",
       "      <th></th>\n",
       "      <th>vol</th>\n",
       "    </tr>\n",
       "  </thead>\n",
       "  <tbody>\n",
       "    <tr>\n",
       "      <th>CHF</th>\n",
       "      <td>100</td>\n",
       "    </tr>\n",
       "  </tbody>\n",
       "</table>\n",
       "</div>"
      ],
      "text/plain": [
       "     vol\n",
       "CHF  100"
      ]
     },
     "execution_count": 4,
     "metadata": {},
     "output_type": "execute_result"
    }
   ],
   "source": [
    "# Get the balance of the account\n",
    "virtual_portfolio.get_account_balance()"
   ]
  },
  {
   "cell_type": "code",
   "execution_count": 5,
   "id": "complicated-bunch",
   "metadata": {},
   "outputs": [
    {
     "data": {
      "text/html": [
       "<div>\n",
       "<style scoped>\n",
       "    .dataframe tbody tr th:only-of-type {\n",
       "        vertical-align: middle;\n",
       "    }\n",
       "\n",
       "    .dataframe tbody tr th {\n",
       "        vertical-align: top;\n",
       "    }\n",
       "\n",
       "    .dataframe thead th {\n",
       "        text-align: right;\n",
       "    }\n",
       "</style>\n",
       "<table border=\"1\" class=\"dataframe\">\n",
       "  <thead>\n",
       "    <tr style=\"text-align: right;\">\n",
       "      <th></th>\n",
       "      <th>vol</th>\n",
       "    </tr>\n",
       "  </thead>\n",
       "  <tbody>\n",
       "    <tr>\n",
       "      <th>CHF</th>\n",
       "      <td>120</td>\n",
       "    </tr>\n",
       "    <tr>\n",
       "      <th>AUS</th>\n",
       "      <td>30</td>\n",
       "    </tr>\n",
       "  </tbody>\n",
       "</table>\n",
       "</div>"
      ],
      "text/plain": [
       "     vol\n",
       "CHF  120\n",
       "AUS   30"
      ]
     },
     "execution_count": 5,
     "metadata": {},
     "output_type": "execute_result"
    }
   ],
   "source": [
    "# Make some deposit\n",
    "virtual_portfolio.deposit('CHF', 20)\n",
    "virtual_portfolio.deposit('AUS', 30)\n",
    "virtual_portfolio.get_account_balance()"
   ]
  },
  {
   "cell_type": "code",
   "execution_count": 6,
   "id": "constant-tension",
   "metadata": {},
   "outputs": [
    {
     "data": {
      "text/html": [
       "<div>\n",
       "<style scoped>\n",
       "    .dataframe tbody tr th:only-of-type {\n",
       "        vertical-align: middle;\n",
       "    }\n",
       "\n",
       "    .dataframe tbody tr th {\n",
       "        vertical-align: top;\n",
       "    }\n",
       "\n",
       "    .dataframe thead th {\n",
       "        text-align: right;\n",
       "    }\n",
       "</style>\n",
       "<table border=\"1\" class=\"dataframe\">\n",
       "  <thead>\n",
       "    <tr style=\"text-align: right;\">\n",
       "      <th></th>\n",
       "      <th>vol</th>\n",
       "    </tr>\n",
       "  </thead>\n",
       "  <tbody>\n",
       "    <tr>\n",
       "      <th>AUS</th>\n",
       "      <td>30</td>\n",
       "    </tr>\n",
       "  </tbody>\n",
       "</table>\n",
       "</div>"
      ],
      "text/plain": [
       "     vol\n",
       "AUS   30"
      ]
     },
     "execution_count": 6,
     "metadata": {},
     "output_type": "execute_result"
    }
   ],
   "source": [
    "# withdraw all available funds from a given currency\n",
    "virtual_portfolio.withdraw('CHF', 120)\n",
    "virtual_portfolio.get_account_balance()"
   ]
  },
  {
   "cell_type": "code",
   "execution_count": 7,
   "id": "sustainable-trade",
   "metadata": {},
   "outputs": [
    {
     "name": "stderr",
     "output_type": "stream",
     "text": [
      "ERROR:root:The amount to remove from the portfolio exceeds its content.\n"
     ]
    }
   ],
   "source": [
    "# withdraw more funds than available\n",
    "virtual_portfolio.withdraw('AUS', 3000)"
   ]
  },
  {
   "cell_type": "code",
   "execution_count": 10,
   "id": "occupational-patio",
   "metadata": {},
   "outputs": [
    {
     "name": "stderr",
     "output_type": "stream",
     "text": [
      "ERROR:root:The key BTC isn't in the portfolio\n"
     ]
    }
   ],
   "source": [
    "# withdraw an absent currency\n",
    "virtual_portfolio.withdraw('BTC', 100)"
   ]
  },
  {
   "cell_type": "markdown",
   "id": "comic-frontier",
   "metadata": {},
   "source": [
    "---\n",
    "## Trader functions"
   ]
  },
  {
   "cell_type": "markdown",
   "id": "blocked-pattern",
   "metadata": {},
   "source": [
    "### Cryptocurrencies Trader"
   ]
  },
  {
   "cell_type": "code",
   "execution_count": 13,
   "id": "charged-novelty",
   "metadata": {},
   "outputs": [],
   "source": [
    "# Create the new instane\n",
    "trader = CryptoTrader(api_key)"
   ]
  },
  {
   "cell_type": "code",
   "execution_count": 14,
   "id": "determined-supplier",
   "metadata": {},
   "outputs": [
    {
     "data": {
      "text/html": [
       "<div>\n",
       "<style scoped>\n",
       "    .dataframe tbody tr th:only-of-type {\n",
       "        vertical-align: middle;\n",
       "    }\n",
       "\n",
       "    .dataframe tbody tr th {\n",
       "        vertical-align: top;\n",
       "    }\n",
       "\n",
       "    .dataframe thead th {\n",
       "        text-align: right;\n",
       "    }\n",
       "</style>\n",
       "<table border=\"1\" class=\"dataframe\">\n",
       "  <thead>\n",
       "    <tr style=\"text-align: right;\">\n",
       "      <th></th>\n",
       "    </tr>\n",
       "  </thead>\n",
       "  <tbody>\n",
       "  </tbody>\n",
       "</table>\n",
       "</div>"
      ],
      "text/plain": [
       "Empty DataFrame\n",
       "Columns: []\n",
       "Index: []"
      ]
     },
     "execution_count": 14,
     "metadata": {},
     "output_type": "execute_result"
    }
   ],
   "source": [
    "# Get all open orders\n",
    "trader.get_open_orders()"
   ]
  },
  {
   "cell_type": "code",
   "execution_count": 15,
   "id": "second-wichita",
   "metadata": {},
   "outputs": [
    {
     "data": {
      "text/html": [
       "<div>\n",
       "<style scoped>\n",
       "    .dataframe tbody tr th:only-of-type {\n",
       "        vertical-align: middle;\n",
       "    }\n",
       "\n",
       "    .dataframe tbody tr th {\n",
       "        vertical-align: top;\n",
       "    }\n",
       "\n",
       "    .dataframe thead th {\n",
       "        text-align: right;\n",
       "    }\n",
       "</style>\n",
       "<table border=\"1\" class=\"dataframe\">\n",
       "  <thead>\n",
       "    <tr style=\"text-align: right;\">\n",
       "      <th></th>\n",
       "      <th>refid</th>\n",
       "      <th>userref</th>\n",
       "      <th>status</th>\n",
       "      <th>reason</th>\n",
       "      <th>opentm</th>\n",
       "      <th>closetm</th>\n",
       "      <th>starttm</th>\n",
       "      <th>expiretm</th>\n",
       "      <th>vol</th>\n",
       "      <th>vol_exec</th>\n",
       "      <th>...</th>\n",
       "      <th>oflags</th>\n",
       "      <th>trades</th>\n",
       "      <th>descr_pair</th>\n",
       "      <th>descr_type</th>\n",
       "      <th>descr_ordertype</th>\n",
       "      <th>descr_price</th>\n",
       "      <th>descr_price2</th>\n",
       "      <th>descr_leverage</th>\n",
       "      <th>descr_order</th>\n",
       "      <th>descr_close</th>\n",
       "    </tr>\n",
       "  </thead>\n",
       "  <tbody>\n",
       "    <tr>\n",
       "      <th>O667HS-EHA5E-Y4XAF6</th>\n",
       "      <td>None</td>\n",
       "      <td>0</td>\n",
       "      <td>canceled</td>\n",
       "      <td>Out of funds</td>\n",
       "      <td>1623537348</td>\n",
       "      <td>1623537348</td>\n",
       "      <td>0</td>\n",
       "      <td>0</td>\n",
       "      <td>12.030000</td>\n",
       "      <td>12.008407</td>\n",
       "      <td>...</td>\n",
       "      <td>fciq</td>\n",
       "      <td>[THXHTO-FDKTU-NGQT4A]</td>\n",
       "      <td>ADAUSD</td>\n",
       "      <td>buy</td>\n",
       "      <td>market</td>\n",
       "      <td>0.0</td>\n",
       "      <td>0.0</td>\n",
       "      <td>none</td>\n",
       "      <td>buy 12.03000000 ADAUSD @ market</td>\n",
       "      <td></td>\n",
       "    </tr>\n",
       "    <tr>\n",
       "      <th>OENSOG-KWUJX-VJAN64</th>\n",
       "      <td>None</td>\n",
       "      <td>0</td>\n",
       "      <td>closed</td>\n",
       "      <td>None</td>\n",
       "      <td>1622603453</td>\n",
       "      <td>1622603453</td>\n",
       "      <td>0</td>\n",
       "      <td>0</td>\n",
       "      <td>5.873000</td>\n",
       "      <td>5.873000</td>\n",
       "      <td>...</td>\n",
       "      <td>fciq</td>\n",
       "      <td>[TGISYB-P4HPS-GPKEJ3]</td>\n",
       "      <td>MINAUSD</td>\n",
       "      <td>buy</td>\n",
       "      <td>market</td>\n",
       "      <td>0.0</td>\n",
       "      <td>0.0</td>\n",
       "      <td>none</td>\n",
       "      <td>buy 5.87300000 MINAUSD @ market</td>\n",
       "      <td></td>\n",
       "    </tr>\n",
       "    <tr>\n",
       "      <th>OVBZ4F-UKIVH-SEFTUK</th>\n",
       "      <td>None</td>\n",
       "      <td>0</td>\n",
       "      <td>closed</td>\n",
       "      <td>None</td>\n",
       "      <td>1620994977</td>\n",
       "      <td>1621074636</td>\n",
       "      <td>0</td>\n",
       "      <td>0</td>\n",
       "      <td>71.837347</td>\n",
       "      <td>71.837347</td>\n",
       "      <td>...</td>\n",
       "      <td>fciq</td>\n",
       "      <td>[T3BSVG-VQD6Y-QSPCSK]</td>\n",
       "      <td>XDGUSD</td>\n",
       "      <td>sell</td>\n",
       "      <td>stop-loss</td>\n",
       "      <td>0.5</td>\n",
       "      <td>0.0</td>\n",
       "      <td>none</td>\n",
       "      <td>sell 71.83734696 XDGUSD @ stop loss 0.5000000</td>\n",
       "      <td></td>\n",
       "    </tr>\n",
       "    <tr>\n",
       "      <th>OYKRZA-BWEVV-EURJKQ</th>\n",
       "      <td>None</td>\n",
       "      <td>0</td>\n",
       "      <td>canceled</td>\n",
       "      <td>Out of funds</td>\n",
       "      <td>1620994810</td>\n",
       "      <td>1620994810</td>\n",
       "      <td>0</td>\n",
       "      <td>0</td>\n",
       "      <td>71.900000</td>\n",
       "      <td>71.837357</td>\n",
       "      <td>...</td>\n",
       "      <td>fciq</td>\n",
       "      <td>[T4C7BX-MF7Y2-BGDQ7I]</td>\n",
       "      <td>XDGUSD</td>\n",
       "      <td>buy</td>\n",
       "      <td>market</td>\n",
       "      <td>0.0</td>\n",
       "      <td>0.0</td>\n",
       "      <td>none</td>\n",
       "      <td>buy 71.90000000 XDGUSD @ market</td>\n",
       "      <td></td>\n",
       "    </tr>\n",
       "    <tr>\n",
       "      <th>OFJBSS-ZM7GS-O4QWXX</th>\n",
       "      <td>None</td>\n",
       "      <td>0</td>\n",
       "      <td>closed</td>\n",
       "      <td>None</td>\n",
       "      <td>1620994745</td>\n",
       "      <td>1620994745</td>\n",
       "      <td>0</td>\n",
       "      <td>0</td>\n",
       "      <td>21.040000</td>\n",
       "      <td>21.040000</td>\n",
       "      <td>...</td>\n",
       "      <td>fciq</td>\n",
       "      <td>[TVKBPV-7JMG6-RAEHGG]</td>\n",
       "      <td>ADAUSD</td>\n",
       "      <td>sell</td>\n",
       "      <td>market</td>\n",
       "      <td>0.0</td>\n",
       "      <td>0.0</td>\n",
       "      <td>none</td>\n",
       "      <td>sell 21.04000000 ADAUSD @ market</td>\n",
       "      <td></td>\n",
       "    </tr>\n",
       "  </tbody>\n",
       "</table>\n",
       "<p>5 rows × 26 columns</p>\n",
       "</div>"
      ],
      "text/plain": [
       "                    refid userref    status        reason      opentm  \\\n",
       "O667HS-EHA5E-Y4XAF6  None       0  canceled  Out of funds  1623537348   \n",
       "OENSOG-KWUJX-VJAN64  None       0    closed          None  1622603453   \n",
       "OVBZ4F-UKIVH-SEFTUK  None       0    closed          None  1620994977   \n",
       "OYKRZA-BWEVV-EURJKQ  None       0  canceled  Out of funds  1620994810   \n",
       "OFJBSS-ZM7GS-O4QWXX  None       0    closed          None  1620994745   \n",
       "\n",
       "                        closetm  starttm  expiretm        vol   vol_exec  ...  \\\n",
       "O667HS-EHA5E-Y4XAF6  1623537348        0         0  12.030000  12.008407  ...   \n",
       "OENSOG-KWUJX-VJAN64  1622603453        0         0   5.873000   5.873000  ...   \n",
       "OVBZ4F-UKIVH-SEFTUK  1621074636        0         0  71.837347  71.837347  ...   \n",
       "OYKRZA-BWEVV-EURJKQ  1620994810        0         0  71.900000  71.837357  ...   \n",
       "OFJBSS-ZM7GS-O4QWXX  1620994745        0         0  21.040000  21.040000  ...   \n",
       "\n",
       "                     oflags                 trades  descr_pair descr_type  \\\n",
       "O667HS-EHA5E-Y4XAF6    fciq  [THXHTO-FDKTU-NGQT4A]      ADAUSD        buy   \n",
       "OENSOG-KWUJX-VJAN64    fciq  [TGISYB-P4HPS-GPKEJ3]     MINAUSD        buy   \n",
       "OVBZ4F-UKIVH-SEFTUK    fciq  [T3BSVG-VQD6Y-QSPCSK]      XDGUSD       sell   \n",
       "OYKRZA-BWEVV-EURJKQ    fciq  [T4C7BX-MF7Y2-BGDQ7I]      XDGUSD        buy   \n",
       "OFJBSS-ZM7GS-O4QWXX    fciq  [TVKBPV-7JMG6-RAEHGG]      ADAUSD       sell   \n",
       "\n",
       "                    descr_ordertype descr_price descr_price2 descr_leverage  \\\n",
       "O667HS-EHA5E-Y4XAF6          market         0.0          0.0           none   \n",
       "OENSOG-KWUJX-VJAN64          market         0.0          0.0           none   \n",
       "OVBZ4F-UKIVH-SEFTUK       stop-loss         0.5          0.0           none   \n",
       "OYKRZA-BWEVV-EURJKQ          market         0.0          0.0           none   \n",
       "OFJBSS-ZM7GS-O4QWXX          market         0.0          0.0           none   \n",
       "\n",
       "                                                       descr_order descr_close  \n",
       "O667HS-EHA5E-Y4XAF6                buy 12.03000000 ADAUSD @ market              \n",
       "OENSOG-KWUJX-VJAN64                buy 5.87300000 MINAUSD @ market              \n",
       "OVBZ4F-UKIVH-SEFTUK  sell 71.83734696 XDGUSD @ stop loss 0.5000000              \n",
       "OYKRZA-BWEVV-EURJKQ                buy 71.90000000 XDGUSD @ market              \n",
       "OFJBSS-ZM7GS-O4QWXX               sell 21.04000000 ADAUSD @ market              \n",
       "\n",
       "[5 rows x 26 columns]"
      ]
     },
     "execution_count": 15,
     "metadata": {},
     "output_type": "execute_result"
    }
   ],
   "source": [
    "# Get all closed orders\n",
    "trader.get_closed_orders()[0].head()"
   ]
  },
  {
   "cell_type": "code",
   "execution_count": 16,
   "id": "partial-computer",
   "metadata": {},
   "outputs": [
    {
     "data": {
      "text/html": [
       "<div>\n",
       "<style scoped>\n",
       "    .dataframe tbody tr th:only-of-type {\n",
       "        vertical-align: middle;\n",
       "    }\n",
       "\n",
       "    .dataframe tbody tr th {\n",
       "        vertical-align: top;\n",
       "    }\n",
       "\n",
       "    .dataframe thead th {\n",
       "        text-align: right;\n",
       "    }\n",
       "</style>\n",
       "<table border=\"1\" class=\"dataframe\">\n",
       "  <thead>\n",
       "    <tr style=\"text-align: right;\">\n",
       "      <th></th>\n",
       "      <th>txid</th>\n",
       "      <th>ordertxid</th>\n",
       "      <th>postxid</th>\n",
       "      <th>pair</th>\n",
       "      <th>time</th>\n",
       "      <th>type</th>\n",
       "      <th>ordertype</th>\n",
       "      <th>price</th>\n",
       "      <th>cost</th>\n",
       "      <th>fee</th>\n",
       "      <th>vol</th>\n",
       "      <th>margin</th>\n",
       "      <th>misc</th>\n",
       "    </tr>\n",
       "    <tr>\n",
       "      <th>dtime</th>\n",
       "      <th></th>\n",
       "      <th></th>\n",
       "      <th></th>\n",
       "      <th></th>\n",
       "      <th></th>\n",
       "      <th></th>\n",
       "      <th></th>\n",
       "      <th></th>\n",
       "      <th></th>\n",
       "      <th></th>\n",
       "      <th></th>\n",
       "      <th></th>\n",
       "      <th></th>\n",
       "    </tr>\n",
       "  </thead>\n",
       "  <tbody>\n",
       "    <tr>\n",
       "      <th>2021-06-12 22:35:48.012799978</th>\n",
       "      <td>THXHTO-FDKTU-NGQT4A</td>\n",
       "      <td>O667HS-EHA5E-Y4XAF6</td>\n",
       "      <td>TKH2SE-M7IF5-CFI7LT</td>\n",
       "      <td>ADAUSD</td>\n",
       "      <td>1.623537e+09</td>\n",
       "      <td>buy</td>\n",
       "      <td>market</td>\n",
       "      <td>1.479045</td>\n",
       "      <td>17.760974</td>\n",
       "      <td>0.046179</td>\n",
       "      <td>12.008407</td>\n",
       "      <td>0.0</td>\n",
       "      <td></td>\n",
       "    </tr>\n",
       "    <tr>\n",
       "      <th>2021-06-02 03:10:53.894099951</th>\n",
       "      <td>TGISYB-P4HPS-GPKEJ3</td>\n",
       "      <td>OENSOG-KWUJX-VJAN64</td>\n",
       "      <td>TKH2SE-M7IF5-CFI7LT</td>\n",
       "      <td>MINAUSD</td>\n",
       "      <td>1.622603e+09</td>\n",
       "      <td>buy</td>\n",
       "      <td>market</td>\n",
       "      <td>3.060000</td>\n",
       "      <td>17.971380</td>\n",
       "      <td>0.046730</td>\n",
       "      <td>5.873000</td>\n",
       "      <td>0.0</td>\n",
       "      <td></td>\n",
       "    </tr>\n",
       "    <tr>\n",
       "      <th>2021-05-15 10:30:36.510400057</th>\n",
       "      <td>T3BSVG-VQD6Y-QSPCSK</td>\n",
       "      <td>OVBZ4F-UKIVH-SEFTUK</td>\n",
       "      <td>TKH2SE-M7IF5-CFI7LT</td>\n",
       "      <td>XDGUSD</td>\n",
       "      <td>1.621075e+09</td>\n",
       "      <td>sell</td>\n",
       "      <td>stop market</td>\n",
       "      <td>0.500000</td>\n",
       "      <td>35.918673</td>\n",
       "      <td>0.093389</td>\n",
       "      <td>71.837347</td>\n",
       "      <td>0.0</td>\n",
       "      <td></td>\n",
       "    </tr>\n",
       "    <tr>\n",
       "      <th>2021-05-14 12:20:10.592700005</th>\n",
       "      <td>T4C7BX-MF7Y2-BGDQ7I</td>\n",
       "      <td>OYKRZA-BWEVV-EURJKQ</td>\n",
       "      <td>TKH2SE-M7IF5-CFI7LT</td>\n",
       "      <td>XDGUSD</td>\n",
       "      <td>1.620995e+09</td>\n",
       "      <td>buy</td>\n",
       "      <td>market</td>\n",
       "      <td>0.543457</td>\n",
       "      <td>39.040500</td>\n",
       "      <td>0.101505</td>\n",
       "      <td>71.837357</td>\n",
       "      <td>0.0</td>\n",
       "      <td></td>\n",
       "    </tr>\n",
       "    <tr>\n",
       "      <th>2021-05-14 12:19:05.484100103</th>\n",
       "      <td>TVKBPV-7JMG6-RAEHGG</td>\n",
       "      <td>OFJBSS-ZM7GS-O4QWXX</td>\n",
       "      <td>TKH2SE-M7IF5-CFI7LT</td>\n",
       "      <td>ADAUSD</td>\n",
       "      <td>1.620995e+09</td>\n",
       "      <td>sell</td>\n",
       "      <td>market</td>\n",
       "      <td>1.862000</td>\n",
       "      <td>39.176480</td>\n",
       "      <td>0.101859</td>\n",
       "      <td>21.040000</td>\n",
       "      <td>0.0</td>\n",
       "      <td></td>\n",
       "    </tr>\n",
       "    <tr>\n",
       "      <th>2021-05-13 18:22:50.241100073</th>\n",
       "      <td>T33WQ3-RYSXP-5HUJQN</td>\n",
       "      <td>OC43AK-KHZMJ-QK4KPK</td>\n",
       "      <td>TKH2SE-M7IF5-CFI7LT</td>\n",
       "      <td>ADAUSD</td>\n",
       "      <td>1.620930e+09</td>\n",
       "      <td>buy</td>\n",
       "      <td>market</td>\n",
       "      <td>1.898491</td>\n",
       "      <td>39.944251</td>\n",
       "      <td>0.103855</td>\n",
       "      <td>21.040000</td>\n",
       "      <td>0.0</td>\n",
       "      <td></td>\n",
       "    </tr>\n",
       "    <tr>\n",
       "      <th>2021-05-12 16:46:04.486999989</th>\n",
       "      <td>TIMTBN-W7VXX-K2D3ME</td>\n",
       "      <td>O7XCIE-ZQ6MO-7ELM4R</td>\n",
       "      <td>TKH2SE-M7IF5-CFI7LT</td>\n",
       "      <td>XDGUSD</td>\n",
       "      <td>1.620838e+09</td>\n",
       "      <td>sell</td>\n",
       "      <td>stop market</td>\n",
       "      <td>0.450000</td>\n",
       "      <td>40.220187</td>\n",
       "      <td>0.104572</td>\n",
       "      <td>89.378194</td>\n",
       "      <td>0.0</td>\n",
       "      <td></td>\n",
       "    </tr>\n",
       "    <tr>\n",
       "      <th>2021-05-12 12:04:25.677000046</th>\n",
       "      <td>TDG2QA-4FFWG-XR3IHF</td>\n",
       "      <td>O5O2LX-KRJRA-JH4P5B</td>\n",
       "      <td>TKH2SE-M7IF5-CFI7LT</td>\n",
       "      <td>XETHZUSD</td>\n",
       "      <td>1.620821e+09</td>\n",
       "      <td>buy</td>\n",
       "      <td>market</td>\n",
       "      <td>4264.040000</td>\n",
       "      <td>44.295500</td>\n",
       "      <td>0.115170</td>\n",
       "      <td>0.010388</td>\n",
       "      <td>0.0</td>\n",
       "      <td></td>\n",
       "    </tr>\n",
       "    <tr>\n",
       "      <th>2021-05-12 10:36:20.847800016</th>\n",
       "      <td>TWTJ6V-F6RFS-FS43UR</td>\n",
       "      <td>OZHSZS-JWMKO-SZMQTD</td>\n",
       "      <td>TKH2SE-M7IF5-CFI7LT</td>\n",
       "      <td>XETHZUSD</td>\n",
       "      <td>1.620816e+09</td>\n",
       "      <td>sell</td>\n",
       "      <td>stop market</td>\n",
       "      <td>4250.000720</td>\n",
       "      <td>44.526450</td>\n",
       "      <td>0.115770</td>\n",
       "      <td>0.010477</td>\n",
       "      <td>0.0</td>\n",
       "      <td></td>\n",
       "    </tr>\n",
       "    <tr>\n",
       "      <th>2021-05-11 20:40:31.088700056</th>\n",
       "      <td>TE35Y2-7PLF4-3IVMUQ</td>\n",
       "      <td>OGE2W5-BRXCX-UMCXSC</td>\n",
       "      <td>TKH2SE-M7IF5-CFI7LT</td>\n",
       "      <td>XETHZUSD</td>\n",
       "      <td>1.620766e+09</td>\n",
       "      <td>buy</td>\n",
       "      <td>market</td>\n",
       "      <td>4119.290000</td>\n",
       "      <td>43.157000</td>\n",
       "      <td>0.112210</td>\n",
       "      <td>0.010477</td>\n",
       "      <td>0.0</td>\n",
       "      <td></td>\n",
       "    </tr>\n",
       "  </tbody>\n",
       "</table>\n",
       "</div>"
      ],
      "text/plain": [
       "                                              txid            ordertxid  \\\n",
       "dtime                                                                     \n",
       "2021-06-12 22:35:48.012799978  THXHTO-FDKTU-NGQT4A  O667HS-EHA5E-Y4XAF6   \n",
       "2021-06-02 03:10:53.894099951  TGISYB-P4HPS-GPKEJ3  OENSOG-KWUJX-VJAN64   \n",
       "2021-05-15 10:30:36.510400057  T3BSVG-VQD6Y-QSPCSK  OVBZ4F-UKIVH-SEFTUK   \n",
       "2021-05-14 12:20:10.592700005  T4C7BX-MF7Y2-BGDQ7I  OYKRZA-BWEVV-EURJKQ   \n",
       "2021-05-14 12:19:05.484100103  TVKBPV-7JMG6-RAEHGG  OFJBSS-ZM7GS-O4QWXX   \n",
       "2021-05-13 18:22:50.241100073  T33WQ3-RYSXP-5HUJQN  OC43AK-KHZMJ-QK4KPK   \n",
       "2021-05-12 16:46:04.486999989  TIMTBN-W7VXX-K2D3ME  O7XCIE-ZQ6MO-7ELM4R   \n",
       "2021-05-12 12:04:25.677000046  TDG2QA-4FFWG-XR3IHF  O5O2LX-KRJRA-JH4P5B   \n",
       "2021-05-12 10:36:20.847800016  TWTJ6V-F6RFS-FS43UR  OZHSZS-JWMKO-SZMQTD   \n",
       "2021-05-11 20:40:31.088700056  TE35Y2-7PLF4-3IVMUQ  OGE2W5-BRXCX-UMCXSC   \n",
       "\n",
       "                                           postxid      pair          time  \\\n",
       "dtime                                                                        \n",
       "2021-06-12 22:35:48.012799978  TKH2SE-M7IF5-CFI7LT    ADAUSD  1.623537e+09   \n",
       "2021-06-02 03:10:53.894099951  TKH2SE-M7IF5-CFI7LT   MINAUSD  1.622603e+09   \n",
       "2021-05-15 10:30:36.510400057  TKH2SE-M7IF5-CFI7LT    XDGUSD  1.621075e+09   \n",
       "2021-05-14 12:20:10.592700005  TKH2SE-M7IF5-CFI7LT    XDGUSD  1.620995e+09   \n",
       "2021-05-14 12:19:05.484100103  TKH2SE-M7IF5-CFI7LT    ADAUSD  1.620995e+09   \n",
       "2021-05-13 18:22:50.241100073  TKH2SE-M7IF5-CFI7LT    ADAUSD  1.620930e+09   \n",
       "2021-05-12 16:46:04.486999989  TKH2SE-M7IF5-CFI7LT    XDGUSD  1.620838e+09   \n",
       "2021-05-12 12:04:25.677000046  TKH2SE-M7IF5-CFI7LT  XETHZUSD  1.620821e+09   \n",
       "2021-05-12 10:36:20.847800016  TKH2SE-M7IF5-CFI7LT  XETHZUSD  1.620816e+09   \n",
       "2021-05-11 20:40:31.088700056  TKH2SE-M7IF5-CFI7LT  XETHZUSD  1.620766e+09   \n",
       "\n",
       "                               type    ordertype        price       cost  \\\n",
       "dtime                                                                      \n",
       "2021-06-12 22:35:48.012799978   buy       market     1.479045  17.760974   \n",
       "2021-06-02 03:10:53.894099951   buy       market     3.060000  17.971380   \n",
       "2021-05-15 10:30:36.510400057  sell  stop market     0.500000  35.918673   \n",
       "2021-05-14 12:20:10.592700005   buy       market     0.543457  39.040500   \n",
       "2021-05-14 12:19:05.484100103  sell       market     1.862000  39.176480   \n",
       "2021-05-13 18:22:50.241100073   buy       market     1.898491  39.944251   \n",
       "2021-05-12 16:46:04.486999989  sell  stop market     0.450000  40.220187   \n",
       "2021-05-12 12:04:25.677000046   buy       market  4264.040000  44.295500   \n",
       "2021-05-12 10:36:20.847800016  sell  stop market  4250.000720  44.526450   \n",
       "2021-05-11 20:40:31.088700056   buy       market  4119.290000  43.157000   \n",
       "\n",
       "                                    fee        vol  margin misc  \n",
       "dtime                                                            \n",
       "2021-06-12 22:35:48.012799978  0.046179  12.008407     0.0       \n",
       "2021-06-02 03:10:53.894099951  0.046730   5.873000     0.0       \n",
       "2021-05-15 10:30:36.510400057  0.093389  71.837347     0.0       \n",
       "2021-05-14 12:20:10.592700005  0.101505  71.837357     0.0       \n",
       "2021-05-14 12:19:05.484100103  0.101859  21.040000     0.0       \n",
       "2021-05-13 18:22:50.241100073  0.103855  21.040000     0.0       \n",
       "2021-05-12 16:46:04.486999989  0.104572  89.378194     0.0       \n",
       "2021-05-12 12:04:25.677000046  0.115170   0.010388     0.0       \n",
       "2021-05-12 10:36:20.847800016  0.115770   0.010477     0.0       \n",
       "2021-05-11 20:40:31.088700056  0.112210   0.010477     0.0       "
      ]
     },
     "execution_count": 16,
     "metadata": {},
     "output_type": "execute_result"
    }
   ],
   "source": [
    "# Get history of all trades\n",
    "trader.get_trades_history()[0].head(10)"
   ]
  },
  {
   "cell_type": "code",
   "execution_count": 18,
   "id": "considerable-habitat",
   "metadata": {},
   "outputs": [
    {
     "data": {
      "text/html": [
       "<div>\n",
       "<style scoped>\n",
       "    .dataframe tbody tr th:only-of-type {\n",
       "        vertical-align: middle;\n",
       "    }\n",
       "\n",
       "    .dataframe tbody tr th {\n",
       "        vertical-align: top;\n",
       "    }\n",
       "\n",
       "    .dataframe thead th {\n",
       "        text-align: right;\n",
       "    }\n",
       "</style>\n",
       "<table border=\"1\" class=\"dataframe\">\n",
       "  <thead>\n",
       "    <tr style=\"text-align: right;\">\n",
       "      <th></th>\n",
       "      <th>txid</th>\n",
       "      <th>cost</th>\n",
       "      <th>fee</th>\n",
       "      <th>margin</th>\n",
       "      <th>misc</th>\n",
       "      <th>ordertxid</th>\n",
       "      <th>ordertype</th>\n",
       "      <th>pair</th>\n",
       "      <th>postxid</th>\n",
       "      <th>price</th>\n",
       "      <th>time</th>\n",
       "      <th>type</th>\n",
       "      <th>vol</th>\n",
       "    </tr>\n",
       "    <tr>\n",
       "      <th>dtime</th>\n",
       "      <th></th>\n",
       "      <th></th>\n",
       "      <th></th>\n",
       "      <th></th>\n",
       "      <th></th>\n",
       "      <th></th>\n",
       "      <th></th>\n",
       "      <th></th>\n",
       "      <th></th>\n",
       "      <th></th>\n",
       "      <th></th>\n",
       "      <th></th>\n",
       "      <th></th>\n",
       "    </tr>\n",
       "  </thead>\n",
       "  <tbody>\n",
       "    <tr>\n",
       "      <th>2021-06-12 22:35:48.012799978</th>\n",
       "      <td>THXHTO-FDKTU-NGQT4A</td>\n",
       "      <td>17.760974</td>\n",
       "      <td>0.046179</td>\n",
       "      <td>0.0</td>\n",
       "      <td></td>\n",
       "      <td>O667HS-EHA5E-Y4XAF6</td>\n",
       "      <td>market</td>\n",
       "      <td>ADAUSD</td>\n",
       "      <td>TKH2SE-M7IF5-CFI7LT</td>\n",
       "      <td>1.479045</td>\n",
       "      <td>1.623537e+09</td>\n",
       "      <td>buy</td>\n",
       "      <td>12.008407</td>\n",
       "    </tr>\n",
       "  </tbody>\n",
       "</table>\n",
       "</div>"
      ],
      "text/plain": [
       "                                              txid       cost       fee  \\\n",
       "dtime                                                                     \n",
       "2021-06-12 22:35:48.012799978  THXHTO-FDKTU-NGQT4A  17.760974  0.046179   \n",
       "\n",
       "                               margin misc            ordertxid ordertype  \\\n",
       "dtime                                                                       \n",
       "2021-06-12 22:35:48.012799978     0.0       O667HS-EHA5E-Y4XAF6    market   \n",
       "\n",
       "                                 pair              postxid     price  \\\n",
       "dtime                                                                  \n",
       "2021-06-12 22:35:48.012799978  ADAUSD  TKH2SE-M7IF5-CFI7LT  1.479045   \n",
       "\n",
       "                                       time type        vol  \n",
       "dtime                                                        \n",
       "2021-06-12 22:35:48.012799978  1.623537e+09  buy  12.008407  "
      ]
     },
     "execution_count": 18,
     "metadata": {},
     "output_type": "execute_result"
    }
   ],
   "source": [
    "# Get informations about a single trade\n",
    "trader.query_trades_info('THXHTO-FDKTU-NGQT4A')"
   ]
  },
  {
   "cell_type": "markdown",
   "id": "concerned-syntax",
   "metadata": {},
   "source": [
    "### Virtual Trader"
   ]
  },
  {
   "cell_type": "code",
   "execution_count": 25,
   "id": "bound-inspiration",
   "metadata": {},
   "outputs": [],
   "source": [
    "# Create the instace with a portfolio\n",
    "virtual_portfolio = VirtualPortfolio({'ZUSD': 1000})\n",
    "fake_trader = VirtualCryptoTrader(virtual_portfolio)"
   ]
  },
  {
   "cell_type": "code",
   "execution_count": 26,
   "id": "precious-barrel",
   "metadata": {},
   "outputs": [
    {
     "name": "stdout",
     "output_type": "stream",
     "text": [
      "public call frequency exceeded (seconds=0.314651) \n",
      " sleeping for 5 seconds\n",
      "public call frequency exceeded (seconds=0.424397) \n",
      " sleeping for 5 seconds\n"
     ]
    },
    {
     "data": {
      "text/plain": [
       "VirtualOrder(pair='XETHZUSD', type='buy', amount=0.2, close=2171.2)"
      ]
     },
     "execution_count": 26,
     "metadata": {},
     "output_type": "execute_result"
    }
   ],
   "source": [
    "# Add an order\n",
    "fake_trader.add_order('XETHZUSD', 'buy', 0.2)"
   ]
  },
  {
   "cell_type": "code",
   "execution_count": 27,
   "id": "bibliographic-cargo",
   "metadata": {},
   "outputs": [
    {
     "name": "stdout",
     "output_type": "stream",
     "text": [
      "public call frequency exceeded (seconds=0.503107) \n",
      " sleeping for 5 seconds\n",
      "public call frequency exceeded (seconds=0.429177) \n",
      " sleeping for 5 seconds\n"
     ]
    },
    {
     "data": {
      "text/plain": [
       "VirtualOrder(pair='XETHZUSD', type='buy', amount=0.1, close=2170.0)"
      ]
     },
     "execution_count": 27,
     "metadata": {},
     "output_type": "execute_result"
    }
   ],
   "source": [
    "# Add a second order\n",
    "fake_trader.add_order('XETHZUSD', 'buy', 0.1)"
   ]
  },
  {
   "cell_type": "code",
   "execution_count": 28,
   "id": "short-radio",
   "metadata": {},
   "outputs": [
    {
     "data": {
      "text/html": [
       "<div>\n",
       "<style scoped>\n",
       "    .dataframe tbody tr th:only-of-type {\n",
       "        vertical-align: middle;\n",
       "    }\n",
       "\n",
       "    .dataframe tbody tr th {\n",
       "        vertical-align: top;\n",
       "    }\n",
       "\n",
       "    .dataframe thead th {\n",
       "        text-align: right;\n",
       "    }\n",
       "</style>\n",
       "<table border=\"1\" class=\"dataframe\">\n",
       "  <thead>\n",
       "    <tr style=\"text-align: right;\">\n",
       "      <th></th>\n",
       "      <th>vol</th>\n",
       "    </tr>\n",
       "  </thead>\n",
       "  <tbody>\n",
       "    <tr>\n",
       "      <th>ZUSD</th>\n",
       "      <td>348.76</td>\n",
       "    </tr>\n",
       "    <tr>\n",
       "      <th>XETH</th>\n",
       "      <td>0.30</td>\n",
       "    </tr>\n",
       "  </tbody>\n",
       "</table>\n",
       "</div>"
      ],
      "text/plain": [
       "         vol\n",
       "ZUSD  348.76\n",
       "XETH    0.30"
      ]
     },
     "execution_count": 28,
     "metadata": {},
     "output_type": "execute_result"
    }
   ],
   "source": [
    "# Check portfolio\n",
    "fake_trader.portfolio.get_account_balance()"
   ]
  },
  {
   "cell_type": "code",
   "execution_count": 31,
   "id": "korean-poland",
   "metadata": {},
   "outputs": [
    {
     "data": {
      "text/plain": [
       "{'9c489c47': VirtualOrder(pair='XETHZUSD', type='buy', amount=0.2, close=2171.2),\n",
       " '1366c759': VirtualOrder(pair='XETHZUSD', type='buy', amount=0.1, close=2170.0)}"
      ]
     },
     "execution_count": 31,
     "metadata": {},
     "output_type": "execute_result"
    }
   ],
   "source": [
    "# Read the book of all orders\n",
    "fake_trader.order_book"
   ]
  },
  {
   "cell_type": "code",
   "execution_count": 32,
   "id": "extraordinary-joining",
   "metadata": {},
   "outputs": [
    {
     "name": "stdout",
     "output_type": "stream",
     "text": [
      "public call frequency exceeded (seconds=0.626062) \n",
      " sleeping for 5 seconds\n"
     ]
    }
   ],
   "source": [
    "# Cancel an order\n",
    "fake_trader.cancel_order('1366c759')"
   ]
  },
  {
   "cell_type": "code",
   "execution_count": 34,
   "id": "backed-discharge",
   "metadata": {},
   "outputs": [
    {
     "data": {
      "text/plain": [
       "{'9c489c47': VirtualOrder(pair='XETHZUSD', type='buy', amount=0.2, close=2171.2)}"
      ]
     },
     "execution_count": 34,
     "metadata": {},
     "output_type": "execute_result"
    }
   ],
   "source": [
    "fake_trader.order_book"
   ]
  },
  {
   "cell_type": "code",
   "execution_count": 35,
   "id": "touched-wright",
   "metadata": {},
   "outputs": [
    {
     "data": {
      "text/html": [
       "<div>\n",
       "<style scoped>\n",
       "    .dataframe tbody tr th:only-of-type {\n",
       "        vertical-align: middle;\n",
       "    }\n",
       "\n",
       "    .dataframe tbody tr th {\n",
       "        vertical-align: top;\n",
       "    }\n",
       "\n",
       "    .dataframe thead th {\n",
       "        text-align: right;\n",
       "    }\n",
       "</style>\n",
       "<table border=\"1\" class=\"dataframe\">\n",
       "  <thead>\n",
       "    <tr style=\"text-align: right;\">\n",
       "      <th></th>\n",
       "      <th>vol</th>\n",
       "    </tr>\n",
       "  </thead>\n",
       "  <tbody>\n",
       "    <tr>\n",
       "      <th>ZUSD</th>\n",
       "      <td>565.76</td>\n",
       "    </tr>\n",
       "    <tr>\n",
       "      <th>XETH</th>\n",
       "      <td>0.20</td>\n",
       "    </tr>\n",
       "  </tbody>\n",
       "</table>\n",
       "</div>"
      ],
      "text/plain": [
       "         vol\n",
       "ZUSD  565.76\n",
       "XETH    0.20"
      ]
     },
     "execution_count": 35,
     "metadata": {},
     "output_type": "execute_result"
    }
   ],
   "source": [
    "# Last but not least\n",
    "fake_trader.portfolio.get_account_balance()"
   ]
  },
  {
   "cell_type": "markdown",
   "id": "upper-cinema",
   "metadata": {},
   "source": [
    "---"
   ]
  }
 ],
 "metadata": {
  "kernelspec": {
   "display_name": "Python 3",
   "language": "python",
   "name": "python3"
  },
  "language_info": {
   "codemirror_mode": {
    "name": "ipython",
    "version": 3
   },
   "file_extension": ".py",
   "mimetype": "text/x-python",
   "name": "python",
   "nbconvert_exporter": "python",
   "pygments_lexer": "ipython3",
   "version": "3.8.7"
  }
 },
 "nbformat": 4,
 "nbformat_minor": 5
}
