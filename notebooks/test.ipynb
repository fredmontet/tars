{
 "cells": [
  {
   "cell_type": "code",
   "execution_count": 2,
   "id": "affiliated-utilization",
   "metadata": {
    "collapsed": false,
    "jupyter": {
     "outputs_hidden": false
    },
    "pycharm": {
     "name": "#%%\n"
    }
   },
   "outputs": [],
   "source": [
    "from src import TARS, markets, portfolios, traders, strategies\n",
    "import pandas as pd"
   ]
  },
  {
   "cell_type": "markdown",
   "id": "divine-theater",
   "metadata": {},
   "source": [
    "# Function Tests"
   ]
  },
  {
   "cell_type": "markdown",
   "id": "sunset-flashing",
   "metadata": {},
   "source": [
    "## Create TARS"
   ]
  },
  {
   "cell_type": "code",
   "execution_count": 2,
   "id": "virtual-innocent",
   "metadata": {},
   "outputs": [],
   "source": [
    "root = '../'\n",
    "api_key = f'{root}kraken.key'\n",
    "tars = TARS()"
   ]
  },
  {
   "cell_type": "markdown",
   "id": "therapeutic-colonial",
   "metadata": {},
   "source": [
    "---"
   ]
  },
  {
   "cell_type": "markdown",
   "id": "dutch-grave",
   "metadata": {},
   "source": [
    "## Market Functions"
   ]
  },
  {
   "cell_type": "code",
   "execution_count": 4,
   "id": "spare-arctic",
   "metadata": {},
   "outputs": [],
   "source": [
    "# Create instance\n",
    "market = markets.CryptoMarket()"
   ]
  },
  {
   "cell_type": "code",
   "execution_count": 5,
   "id": "stretch-happiness",
   "metadata": {},
   "outputs": [
    {
     "data": {
      "text/html": [
       "<div>\n",
       "<style scoped>\n",
       "    .dataframe tbody tr th:only-of-type {\n",
       "        vertical-align: middle;\n",
       "    }\n",
       "\n",
       "    .dataframe tbody tr th {\n",
       "        vertical-align: top;\n",
       "    }\n",
       "\n",
       "    .dataframe thead th {\n",
       "        text-align: right;\n",
       "    }\n",
       "</style>\n",
       "<table border=\"1\" class=\"dataframe\">\n",
       "  <thead>\n",
       "    <tr style=\"text-align: right;\">\n",
       "      <th></th>\n",
       "      <th>aclass</th>\n",
       "      <th>altname</th>\n",
       "      <th>decimals</th>\n",
       "      <th>display_decimals</th>\n",
       "    </tr>\n",
       "  </thead>\n",
       "  <tbody>\n",
       "    <tr>\n",
       "      <th>AAVE</th>\n",
       "      <td>currency</td>\n",
       "      <td>AAVE</td>\n",
       "      <td>10</td>\n",
       "      <td>5</td>\n",
       "    </tr>\n",
       "    <tr>\n",
       "      <th>ADA</th>\n",
       "      <td>currency</td>\n",
       "      <td>ADA</td>\n",
       "      <td>8</td>\n",
       "      <td>6</td>\n",
       "    </tr>\n",
       "    <tr>\n",
       "      <th>ADA.S</th>\n",
       "      <td>currency</td>\n",
       "      <td>ADA.S</td>\n",
       "      <td>8</td>\n",
       "      <td>6</td>\n",
       "    </tr>\n",
       "    <tr>\n",
       "      <th>ALGO</th>\n",
       "      <td>currency</td>\n",
       "      <td>ALGO</td>\n",
       "      <td>8</td>\n",
       "      <td>5</td>\n",
       "    </tr>\n",
       "    <tr>\n",
       "      <th>ANKR</th>\n",
       "      <td>currency</td>\n",
       "      <td>ANKR</td>\n",
       "      <td>10</td>\n",
       "      <td>5</td>\n",
       "    </tr>\n",
       "  </tbody>\n",
       "</table>\n",
       "</div>"
      ],
      "text/plain": [
       "         aclass altname decimals display_decimals\n",
       "AAVE   currency    AAVE       10                5\n",
       "ADA    currency     ADA        8                6\n",
       "ADA.S  currency   ADA.S        8                6\n",
       "ALGO   currency    ALGO        8                5\n",
       "ANKR   currency    ANKR       10                5"
      ]
     },
     "execution_count": 5,
     "metadata": {},
     "output_type": "execute_result"
    }
   ],
   "source": [
    "# Get asset informations\n",
    "market.get_asset_info().head()"
   ]
  },
  {
   "cell_type": "code",
   "execution_count": 6,
   "id": "general-coral",
   "metadata": {},
   "outputs": [
    {
     "data": {
      "text/html": [
       "<div>\n",
       "<style scoped>\n",
       "    .dataframe tbody tr th:only-of-type {\n",
       "        vertical-align: middle;\n",
       "    }\n",
       "\n",
       "    .dataframe tbody tr th {\n",
       "        vertical-align: top;\n",
       "    }\n",
       "\n",
       "    .dataframe thead th {\n",
       "        text-align: right;\n",
       "    }\n",
       "</style>\n",
       "<table border=\"1\" class=\"dataframe\">\n",
       "  <thead>\n",
       "    <tr style=\"text-align: right;\">\n",
       "      <th></th>\n",
       "      <th>time</th>\n",
       "      <th>open</th>\n",
       "      <th>high</th>\n",
       "      <th>low</th>\n",
       "      <th>close</th>\n",
       "      <th>vwap</th>\n",
       "      <th>volume</th>\n",
       "      <th>count</th>\n",
       "    </tr>\n",
       "    <tr>\n",
       "      <th>dtime</th>\n",
       "      <th></th>\n",
       "      <th></th>\n",
       "      <th></th>\n",
       "      <th></th>\n",
       "      <th></th>\n",
       "      <th></th>\n",
       "      <th></th>\n",
       "      <th></th>\n",
       "    </tr>\n",
       "  </thead>\n",
       "  <tbody>\n",
       "    <tr>\n",
       "      <th>2021-07-26 16:35:00</th>\n",
       "      <td>1627317300</td>\n",
       "      <td>2174.64</td>\n",
       "      <td>2174.64</td>\n",
       "      <td>2174.64</td>\n",
       "      <td>2174.64</td>\n",
       "      <td>0.00</td>\n",
       "      <td>0.00000</td>\n",
       "      <td>0</td>\n",
       "    </tr>\n",
       "    <tr>\n",
       "      <th>2021-07-26 16:34:00</th>\n",
       "      <td>1627317240</td>\n",
       "      <td>2174.64</td>\n",
       "      <td>2174.64</td>\n",
       "      <td>2174.64</td>\n",
       "      <td>2174.64</td>\n",
       "      <td>0.00</td>\n",
       "      <td>0.00000</td>\n",
       "      <td>0</td>\n",
       "    </tr>\n",
       "    <tr>\n",
       "      <th>2021-07-26 16:33:00</th>\n",
       "      <td>1627317180</td>\n",
       "      <td>2174.64</td>\n",
       "      <td>2174.64</td>\n",
       "      <td>2174.64</td>\n",
       "      <td>2174.64</td>\n",
       "      <td>0.00</td>\n",
       "      <td>0.00000</td>\n",
       "      <td>0</td>\n",
       "    </tr>\n",
       "    <tr>\n",
       "      <th>2021-07-26 16:32:00</th>\n",
       "      <td>1627317120</td>\n",
       "      <td>2174.64</td>\n",
       "      <td>2174.64</td>\n",
       "      <td>2174.64</td>\n",
       "      <td>2174.64</td>\n",
       "      <td>0.00</td>\n",
       "      <td>0.00000</td>\n",
       "      <td>0</td>\n",
       "    </tr>\n",
       "    <tr>\n",
       "      <th>2021-07-26 16:31:00</th>\n",
       "      <td>1627317060</td>\n",
       "      <td>2174.64</td>\n",
       "      <td>2174.64</td>\n",
       "      <td>2174.64</td>\n",
       "      <td>2174.64</td>\n",
       "      <td>2174.64</td>\n",
       "      <td>0.00469</td>\n",
       "      <td>1</td>\n",
       "    </tr>\n",
       "  </tbody>\n",
       "</table>\n",
       "</div>"
      ],
      "text/plain": [
       "                           time     open     high      low    close     vwap  \\\n",
       "dtime                                                                          \n",
       "2021-07-26 16:35:00  1627317300  2174.64  2174.64  2174.64  2174.64     0.00   \n",
       "2021-07-26 16:34:00  1627317240  2174.64  2174.64  2174.64  2174.64     0.00   \n",
       "2021-07-26 16:33:00  1627317180  2174.64  2174.64  2174.64  2174.64     0.00   \n",
       "2021-07-26 16:32:00  1627317120  2174.64  2174.64  2174.64  2174.64     0.00   \n",
       "2021-07-26 16:31:00  1627317060  2174.64  2174.64  2174.64  2174.64  2174.64   \n",
       "\n",
       "                      volume  count  \n",
       "dtime                                \n",
       "2021-07-26 16:35:00  0.00000      0  \n",
       "2021-07-26 16:34:00  0.00000      0  \n",
       "2021-07-26 16:33:00  0.00000      0  \n",
       "2021-07-26 16:32:00  0.00000      0  \n",
       "2021-07-26 16:31:00  0.00469      1  "
      ]
     },
     "execution_count": 6,
     "metadata": {},
     "output_type": "execute_result"
    }
   ],
   "source": [
    "# Get OHLC Data\n",
    "market.get_ohlc_data('ETHCHF')[0].head()"
   ]
  },
  {
   "cell_type": "code",
   "execution_count": 7,
   "id": "endless-colonial",
   "metadata": {},
   "outputs": [
    {
     "data": {
      "text/html": [
       "<div>\n",
       "<style scoped>\n",
       "    .dataframe tbody tr th:only-of-type {\n",
       "        vertical-align: middle;\n",
       "    }\n",
       "\n",
       "    .dataframe tbody tr th {\n",
       "        vertical-align: top;\n",
       "    }\n",
       "\n",
       "    .dataframe thead th {\n",
       "        text-align: right;\n",
       "    }\n",
       "</style>\n",
       "<table border=\"1\" class=\"dataframe\">\n",
       "  <thead>\n",
       "    <tr style=\"text-align: right;\">\n",
       "      <th></th>\n",
       "      <th>price</th>\n",
       "      <th>volume</th>\n",
       "      <th>time</th>\n",
       "    </tr>\n",
       "    <tr>\n",
       "      <th>dtime</th>\n",
       "      <th></th>\n",
       "      <th></th>\n",
       "      <th></th>\n",
       "    </tr>\n",
       "  </thead>\n",
       "  <tbody>\n",
       "    <tr>\n",
       "      <th>2021-07-26 16:35:21</th>\n",
       "      <td>2371.65000</td>\n",
       "      <td>19.123</td>\n",
       "      <td>1627317321</td>\n",
       "    </tr>\n",
       "    <tr>\n",
       "      <th>2021-07-26 16:35:21</th>\n",
       "      <td>2371.72000</td>\n",
       "      <td>8.434</td>\n",
       "      <td>1627317321</td>\n",
       "    </tr>\n",
       "    <tr>\n",
       "      <th>2021-07-26 16:35:21</th>\n",
       "      <td>2371.79000</td>\n",
       "      <td>5.815</td>\n",
       "      <td>1627317321</td>\n",
       "    </tr>\n",
       "    <tr>\n",
       "      <th>2021-07-26 16:35:20</th>\n",
       "      <td>2371.80000</td>\n",
       "      <td>2.821</td>\n",
       "      <td>1627317320</td>\n",
       "    </tr>\n",
       "    <tr>\n",
       "      <th>2021-07-26 16:35:20</th>\n",
       "      <td>2371.82000</td>\n",
       "      <td>0.900</td>\n",
       "      <td>1627317320</td>\n",
       "    </tr>\n",
       "  </tbody>\n",
       "</table>\n",
       "</div>"
      ],
      "text/plain": [
       "                          price  volume        time\n",
       "dtime                                              \n",
       "2021-07-26 16:35:21  2371.65000  19.123  1627317321\n",
       "2021-07-26 16:35:21  2371.72000   8.434  1627317321\n",
       "2021-07-26 16:35:21  2371.79000   5.815  1627317321\n",
       "2021-07-26 16:35:20  2371.80000   2.821  1627317320\n",
       "2021-07-26 16:35:20  2371.82000   0.900  1627317320"
      ]
     },
     "execution_count": 7,
     "metadata": {},
     "output_type": "execute_result"
    }
   ],
   "source": [
    "# Get main order book \n",
    "market.get_order_book('XETHZUSD', count=5)[0]"
   ]
  },
  {
   "cell_type": "code",
   "execution_count": 8,
   "id": "indonesian-advantage",
   "metadata": {},
   "outputs": [
    {
     "data": {
      "text/html": [
       "<div>\n",
       "<style scoped>\n",
       "    .dataframe tbody tr th:only-of-type {\n",
       "        vertical-align: middle;\n",
       "    }\n",
       "\n",
       "    .dataframe tbody tr th {\n",
       "        vertical-align: top;\n",
       "    }\n",
       "\n",
       "    .dataframe thead th {\n",
       "        text-align: right;\n",
       "    }\n",
       "</style>\n",
       "<table border=\"1\" class=\"dataframe\">\n",
       "  <thead>\n",
       "    <tr style=\"text-align: right;\">\n",
       "      <th></th>\n",
       "      <th>time</th>\n",
       "      <th>bid</th>\n",
       "      <th>ask</th>\n",
       "      <th>spread</th>\n",
       "    </tr>\n",
       "    <tr>\n",
       "      <th>dtime</th>\n",
       "      <th></th>\n",
       "      <th></th>\n",
       "      <th></th>\n",
       "      <th></th>\n",
       "    </tr>\n",
       "  </thead>\n",
       "  <tbody>\n",
       "    <tr>\n",
       "      <th>2021-07-26 16:35:14</th>\n",
       "      <td>1627317314</td>\n",
       "      <td>2371.64</td>\n",
       "      <td>2371.65</td>\n",
       "      <td>0.01</td>\n",
       "    </tr>\n",
       "    <tr>\n",
       "      <th>2021-07-26 16:35:14</th>\n",
       "      <td>1627317314</td>\n",
       "      <td>2371.36</td>\n",
       "      <td>2371.65</td>\n",
       "      <td>0.29</td>\n",
       "    </tr>\n",
       "    <tr>\n",
       "      <th>2021-07-26 16:35:14</th>\n",
       "      <td>1627317314</td>\n",
       "      <td>2371.20</td>\n",
       "      <td>2371.65</td>\n",
       "      <td>0.45</td>\n",
       "    </tr>\n",
       "    <tr>\n",
       "      <th>2021-07-26 16:35:13</th>\n",
       "      <td>1627317313</td>\n",
       "      <td>2371.20</td>\n",
       "      <td>2371.21</td>\n",
       "      <td>0.01</td>\n",
       "    </tr>\n",
       "    <tr>\n",
       "      <th>2021-07-26 16:35:13</th>\n",
       "      <td>1627317313</td>\n",
       "      <td>2371.16</td>\n",
       "      <td>2371.21</td>\n",
       "      <td>0.05</td>\n",
       "    </tr>\n",
       "  </tbody>\n",
       "</table>\n",
       "</div>"
      ],
      "text/plain": [
       "                           time      bid      ask  spread\n",
       "dtime                                                    \n",
       "2021-07-26 16:35:14  1627317314  2371.64  2371.65    0.01\n",
       "2021-07-26 16:35:14  1627317314  2371.36  2371.65    0.29\n",
       "2021-07-26 16:35:14  1627317314  2371.20  2371.65    0.45\n",
       "2021-07-26 16:35:13  1627317313  2371.20  2371.21    0.01\n",
       "2021-07-26 16:35:13  1627317313  2371.16  2371.21    0.05"
      ]
     },
     "execution_count": 8,
     "metadata": {},
     "output_type": "execute_result"
    }
   ],
   "source": [
    "# Get recent spread of the datam \n",
    "market.get_recent_spread_data('XETHZUSD')[0].head()"
   ]
  },
  {
   "cell_type": "code",
   "execution_count": 9,
   "id": "specialized-dining",
   "metadata": {},
   "outputs": [
    {
     "name": "stdout",
     "output_type": "stream",
     "text": [
      "public call frequency exceeded (seconds=0.900353) \n",
      " sleeping for 5 seconds\n"
     ]
    },
    {
     "data": {
      "text/html": [
       "<div>\n",
       "<style scoped>\n",
       "    .dataframe tbody tr th:only-of-type {\n",
       "        vertical-align: middle;\n",
       "    }\n",
       "\n",
       "    .dataframe tbody tr th {\n",
       "        vertical-align: top;\n",
       "    }\n",
       "\n",
       "    .dataframe thead th {\n",
       "        text-align: right;\n",
       "    }\n",
       "</style>\n",
       "<table border=\"1\" class=\"dataframe\">\n",
       "  <thead>\n",
       "    <tr style=\"text-align: right;\">\n",
       "      <th></th>\n",
       "      <th>price</th>\n",
       "      <th>volume</th>\n",
       "      <th>time</th>\n",
       "      <th>buy_sell</th>\n",
       "      <th>market_limit</th>\n",
       "      <th>misc</th>\n",
       "    </tr>\n",
       "    <tr>\n",
       "      <th>dtime</th>\n",
       "      <th></th>\n",
       "      <th></th>\n",
       "      <th></th>\n",
       "      <th></th>\n",
       "      <th></th>\n",
       "      <th></th>\n",
       "    </tr>\n",
       "  </thead>\n",
       "  <tbody>\n",
       "    <tr>\n",
       "      <th>2021-07-26 16:35:17.458200064</th>\n",
       "      <td>2371.65</td>\n",
       "      <td>0.020272</td>\n",
       "      <td>1.627317e+09</td>\n",
       "      <td>buy</td>\n",
       "      <td>market</td>\n",
       "      <td></td>\n",
       "    </tr>\n",
       "    <tr>\n",
       "      <th>2021-07-26 16:35:15.985199872</th>\n",
       "      <td>2371.64</td>\n",
       "      <td>0.000166</td>\n",
       "      <td>1.627317e+09</td>\n",
       "      <td>sell</td>\n",
       "      <td>market</td>\n",
       "      <td></td>\n",
       "    </tr>\n",
       "    <tr>\n",
       "      <th>2021-07-26 16:35:15.983300096</th>\n",
       "      <td>2371.64</td>\n",
       "      <td>0.064834</td>\n",
       "      <td>1.627317e+09</td>\n",
       "      <td>sell</td>\n",
       "      <td>market</td>\n",
       "      <td></td>\n",
       "    </tr>\n",
       "    <tr>\n",
       "      <th>2021-07-26 16:35:14.302799872</th>\n",
       "      <td>2371.21</td>\n",
       "      <td>0.000030</td>\n",
       "      <td>1.627317e+09</td>\n",
       "      <td>buy</td>\n",
       "      <td>limit</td>\n",
       "      <td></td>\n",
       "    </tr>\n",
       "    <tr>\n",
       "      <th>2021-07-26 16:35:14.287800064</th>\n",
       "      <td>2371.21</td>\n",
       "      <td>0.007900</td>\n",
       "      <td>1.627317e+09</td>\n",
       "      <td>buy</td>\n",
       "      <td>limit</td>\n",
       "      <td></td>\n",
       "    </tr>\n",
       "  </tbody>\n",
       "</table>\n",
       "</div>"
      ],
      "text/plain": [
       "                                 price    volume          time buy_sell  \\\n",
       "dtime                                                                     \n",
       "2021-07-26 16:35:17.458200064  2371.65  0.020272  1.627317e+09      buy   \n",
       "2021-07-26 16:35:15.985199872  2371.64  0.000166  1.627317e+09     sell   \n",
       "2021-07-26 16:35:15.983300096  2371.64  0.064834  1.627317e+09     sell   \n",
       "2021-07-26 16:35:14.302799872  2371.21  0.000030  1.627317e+09      buy   \n",
       "2021-07-26 16:35:14.287800064  2371.21  0.007900  1.627317e+09      buy   \n",
       "\n",
       "                              market_limit misc  \n",
       "dtime                                            \n",
       "2021-07-26 16:35:17.458200064       market       \n",
       "2021-07-26 16:35:15.985199872       market       \n",
       "2021-07-26 16:35:15.983300096       market       \n",
       "2021-07-26 16:35:14.302799872        limit       \n",
       "2021-07-26 16:35:14.287800064        limit       "
      ]
     },
     "execution_count": 9,
     "metadata": {},
     "output_type": "execute_result"
    }
   ],
   "source": [
    "# Get recent trades\n",
    "market.get_recent_trades('XETHZUSD')[0].head()"
   ]
  },
  {
   "cell_type": "code",
   "execution_count": 10,
   "id": "advanced-trouble",
   "metadata": {},
   "outputs": [
    {
     "name": "stdout",
     "output_type": "stream",
     "text": [
      "public call frequency exceeded (seconds=0.400895) \n",
      " sleeping for 5 seconds\n"
     ]
    },
    {
     "data": {
      "text/html": [
       "<div>\n",
       "<style scoped>\n",
       "    .dataframe tbody tr th:only-of-type {\n",
       "        vertical-align: middle;\n",
       "    }\n",
       "\n",
       "    .dataframe tbody tr th {\n",
       "        vertical-align: top;\n",
       "    }\n",
       "\n",
       "    .dataframe thead th {\n",
       "        text-align: right;\n",
       "    }\n",
       "</style>\n",
       "<table border=\"1\" class=\"dataframe\">\n",
       "  <thead>\n",
       "    <tr style=\"text-align: right;\">\n",
       "      <th></th>\n",
       "      <th>a</th>\n",
       "      <th>b</th>\n",
       "      <th>c</th>\n",
       "      <th>h</th>\n",
       "      <th>l</th>\n",
       "      <th>o</th>\n",
       "      <th>p</th>\n",
       "      <th>t</th>\n",
       "      <th>v</th>\n",
       "    </tr>\n",
       "  </thead>\n",
       "  <tbody>\n",
       "    <tr>\n",
       "      <th>XETHZUSD</th>\n",
       "      <td>[2371.65000, 43, 43.000]</td>\n",
       "      <td>[2371.64000, 1, 1.000]</td>\n",
       "      <td>[2371.65000, 0.02027153]</td>\n",
       "      <td>[2390.00000, 2390.00000]</td>\n",
       "      <td>[2174.38000, 2123.85000]</td>\n",
       "      <td>2191.81000</td>\n",
       "      <td>[2307.43142, 2288.09723]</td>\n",
       "      <td>[32041, 37902]</td>\n",
       "      <td>[56159.89899077, 65123.96684717]</td>\n",
       "    </tr>\n",
       "  </tbody>\n",
       "</table>\n",
       "</div>"
      ],
      "text/plain": [
       "                                 a                       b  \\\n",
       "XETHZUSD  [2371.65000, 43, 43.000]  [2371.64000, 1, 1.000]   \n",
       "\n",
       "                                 c                         h  \\\n",
       "XETHZUSD  [2371.65000, 0.02027153]  [2390.00000, 2390.00000]   \n",
       "\n",
       "                                 l           o                         p  \\\n",
       "XETHZUSD  [2174.38000, 2123.85000]  2191.81000  [2307.43142, 2288.09723]   \n",
       "\n",
       "                       t                                 v  \n",
       "XETHZUSD  [32041, 37902]  [56159.89899077, 65123.96684717]  "
      ]
     },
     "execution_count": 10,
     "metadata": {},
     "output_type": "execute_result"
    }
   ],
   "source": [
    "# Get the ticker information\n",
    "market.get_ticker_information('XETHZUSD')"
   ]
  },
  {
   "cell_type": "markdown",
   "id": "catholic-inflation",
   "metadata": {},
   "source": [
    "---"
   ]
  },
  {
   "cell_type": "markdown",
   "id": "mathematical-swing",
   "metadata": {},
   "source": [
    "## Portfolio Functions"
   ]
  },
  {
   "cell_type": "markdown",
   "id": "hydraulic-submission",
   "metadata": {},
   "source": [
    "### Cryptocurrencies Portfolio"
   ]
  },
  {
   "cell_type": "code",
   "execution_count": 11,
   "id": "pacific-market",
   "metadata": {},
   "outputs": [],
   "source": [
    "# Creat instance\n",
    "portfolio = portfolios.CryptoPortfolio(api_key)"
   ]
  },
  {
   "cell_type": "code",
   "execution_count": 12,
   "id": "close-alignment",
   "metadata": {},
   "outputs": [
    {
     "data": {
      "text/html": [
       "<div>\n",
       "<style scoped>\n",
       "    .dataframe tbody tr th:only-of-type {\n",
       "        vertical-align: middle;\n",
       "    }\n",
       "\n",
       "    .dataframe tbody tr th {\n",
       "        vertical-align: top;\n",
       "    }\n",
       "\n",
       "    .dataframe thead th {\n",
       "        text-align: right;\n",
       "    }\n",
       "</style>\n",
       "<table border=\"1\" class=\"dataframe\">\n",
       "  <thead>\n",
       "    <tr style=\"text-align: right;\">\n",
       "      <th></th>\n",
       "      <th>vol</th>\n",
       "    </tr>\n",
       "  </thead>\n",
       "  <tbody>\n",
       "    <tr>\n",
       "      <th>ZUSD</th>\n",
       "      <td>1.000000e-04</td>\n",
       "    </tr>\n",
       "    <tr>\n",
       "      <th>CHF</th>\n",
       "      <td>0.000000e+00</td>\n",
       "    </tr>\n",
       "    <tr>\n",
       "      <th>XXBT</th>\n",
       "      <td>2.680000e-07</td>\n",
       "    </tr>\n",
       "    <tr>\n",
       "      <th>XXRP</th>\n",
       "      <td>0.000000e+00</td>\n",
       "    </tr>\n",
       "    <tr>\n",
       "      <th>XXDG</th>\n",
       "      <td>0.000000e+00</td>\n",
       "    </tr>\n",
       "  </tbody>\n",
       "</table>\n",
       "</div>"
      ],
      "text/plain": [
       "               vol\n",
       "ZUSD  1.000000e-04\n",
       "CHF   0.000000e+00\n",
       "XXBT  2.680000e-07\n",
       "XXRP  0.000000e+00\n",
       "XXDG  0.000000e+00"
      ]
     },
     "execution_count": 12,
     "metadata": {},
     "output_type": "execute_result"
    }
   ],
   "source": [
    "# Get the balance of the account\n",
    "portfolio.get_account_balance().head()"
   ]
  },
  {
   "cell_type": "code",
   "execution_count": 13,
   "id": "gross-sleeping",
   "metadata": {},
   "outputs": [
    {
     "data": {
      "text/html": [
       "<div>\n",
       "<style scoped>\n",
       "    .dataframe tbody tr th:only-of-type {\n",
       "        vertical-align: middle;\n",
       "    }\n",
       "\n",
       "    .dataframe tbody tr th {\n",
       "        vertical-align: top;\n",
       "    }\n",
       "\n",
       "    .dataframe thead th {\n",
       "        text-align: right;\n",
       "    }\n",
       "</style>\n",
       "<table border=\"1\" class=\"dataframe\">\n",
       "  <thead>\n",
       "    <tr style=\"text-align: right;\">\n",
       "      <th></th>\n",
       "      <th>CHF</th>\n",
       "    </tr>\n",
       "  </thead>\n",
       "  <tbody>\n",
       "    <tr>\n",
       "      <th>eb</th>\n",
       "      <td>45.0538</td>\n",
       "    </tr>\n",
       "    <tr>\n",
       "      <th>tb</th>\n",
       "      <td>22.5783</td>\n",
       "    </tr>\n",
       "    <tr>\n",
       "      <th>m</th>\n",
       "      <td>0.0000</td>\n",
       "    </tr>\n",
       "    <tr>\n",
       "      <th>n</th>\n",
       "      <td>0.0000</td>\n",
       "    </tr>\n",
       "    <tr>\n",
       "      <th>c</th>\n",
       "      <td>0.0000</td>\n",
       "    </tr>\n",
       "  </tbody>\n",
       "</table>\n",
       "</div>"
      ],
      "text/plain": [
       "        CHF\n",
       "eb  45.0538\n",
       "tb  22.5783\n",
       "m    0.0000\n",
       "n    0.0000\n",
       "c    0.0000"
      ]
     },
     "execution_count": 13,
     "metadata": {},
     "output_type": "execute_result"
    }
   ],
   "source": [
    "# Get our trades balances!\n",
    "portfolio.get_trade_balance().head()"
   ]
  },
  {
   "cell_type": "markdown",
   "id": "automatic-contributor",
   "metadata": {},
   "source": [
    "### Virtual Portfolio"
   ]
  },
  {
   "cell_type": "code",
   "execution_count": 15,
   "id": "raising-replica",
   "metadata": {
    "collapsed": false,
    "jupyter": {
     "outputs_hidden": false
    },
    "pycharm": {
     "name": "#%%\n"
    }
   },
   "outputs": [],
   "source": [
    "# Create instance with initial deposit\n",
    "virtual_portfolio = portfolios.VirtualPortfolio({'CHF':100})"
   ]
  },
  {
   "cell_type": "code",
   "execution_count": 16,
   "id": "enormous-sphere",
   "metadata": {
    "collapsed": false,
    "jupyter": {
     "outputs_hidden": false
    },
    "pycharm": {
     "name": "#%%\n"
    }
   },
   "outputs": [
    {
     "data": {
      "text/html": [
       "<div>\n",
       "<style scoped>\n",
       "    .dataframe tbody tr th:only-of-type {\n",
       "        vertical-align: middle;\n",
       "    }\n",
       "\n",
       "    .dataframe tbody tr th {\n",
       "        vertical-align: top;\n",
       "    }\n",
       "\n",
       "    .dataframe thead th {\n",
       "        text-align: right;\n",
       "    }\n",
       "</style>\n",
       "<table border=\"1\" class=\"dataframe\">\n",
       "  <thead>\n",
       "    <tr style=\"text-align: right;\">\n",
       "      <th></th>\n",
       "      <th>vol</th>\n",
       "    </tr>\n",
       "  </thead>\n",
       "  <tbody>\n",
       "    <tr>\n",
       "      <th>CHF</th>\n",
       "      <td>100</td>\n",
       "    </tr>\n",
       "  </tbody>\n",
       "</table>\n",
       "</div>"
      ],
      "text/plain": [
       "     vol\n",
       "CHF  100"
      ]
     },
     "execution_count": 16,
     "metadata": {},
     "output_type": "execute_result"
    }
   ],
   "source": [
    "# Get the balance of the account\n",
    "virtual_portfolio.get_account_balance()"
   ]
  },
  {
   "cell_type": "code",
   "execution_count": 17,
   "id": "worldwide-looking",
   "metadata": {},
   "outputs": [
    {
     "data": {
      "text/html": [
       "<div>\n",
       "<style scoped>\n",
       "    .dataframe tbody tr th:only-of-type {\n",
       "        vertical-align: middle;\n",
       "    }\n",
       "\n",
       "    .dataframe tbody tr th {\n",
       "        vertical-align: top;\n",
       "    }\n",
       "\n",
       "    .dataframe thead th {\n",
       "        text-align: right;\n",
       "    }\n",
       "</style>\n",
       "<table border=\"1\" class=\"dataframe\">\n",
       "  <thead>\n",
       "    <tr style=\"text-align: right;\">\n",
       "      <th></th>\n",
       "      <th>vol</th>\n",
       "    </tr>\n",
       "  </thead>\n",
       "  <tbody>\n",
       "    <tr>\n",
       "      <th>CHF</th>\n",
       "      <td>120</td>\n",
       "    </tr>\n",
       "    <tr>\n",
       "      <th>AUS</th>\n",
       "      <td>30</td>\n",
       "    </tr>\n",
       "  </tbody>\n",
       "</table>\n",
       "</div>"
      ],
      "text/plain": [
       "     vol\n",
       "CHF  120\n",
       "AUS   30"
      ]
     },
     "execution_count": 17,
     "metadata": {},
     "output_type": "execute_result"
    }
   ],
   "source": [
    "# Make some deposit\n",
    "virtual_portfolio.deposit('CHF', 20)\n",
    "virtual_portfolio.deposit('AUS', 30)\n",
    "virtual_portfolio.get_account_balance()"
   ]
  },
  {
   "cell_type": "code",
   "execution_count": 18,
   "id": "enhanced-monthly",
   "metadata": {},
   "outputs": [
    {
     "data": {
      "text/html": [
       "<div>\n",
       "<style scoped>\n",
       "    .dataframe tbody tr th:only-of-type {\n",
       "        vertical-align: middle;\n",
       "    }\n",
       "\n",
       "    .dataframe tbody tr th {\n",
       "        vertical-align: top;\n",
       "    }\n",
       "\n",
       "    .dataframe thead th {\n",
       "        text-align: right;\n",
       "    }\n",
       "</style>\n",
       "<table border=\"1\" class=\"dataframe\">\n",
       "  <thead>\n",
       "    <tr style=\"text-align: right;\">\n",
       "      <th></th>\n",
       "      <th>vol</th>\n",
       "    </tr>\n",
       "  </thead>\n",
       "  <tbody>\n",
       "    <tr>\n",
       "      <th>AUS</th>\n",
       "      <td>30</td>\n",
       "    </tr>\n",
       "  </tbody>\n",
       "</table>\n",
       "</div>"
      ],
      "text/plain": [
       "     vol\n",
       "AUS   30"
      ]
     },
     "execution_count": 18,
     "metadata": {},
     "output_type": "execute_result"
    }
   ],
   "source": [
    "# withdraw all available funds from a given currency\n",
    "virtual_portfolio.withdraw('CHF', 120)\n",
    "virtual_portfolio.get_account_balance()"
   ]
  },
  {
   "cell_type": "code",
   "execution_count": 19,
   "id": "classified-approval",
   "metadata": {},
   "outputs": [
    {
     "name": "stderr",
     "output_type": "stream",
     "text": [
      "ERROR:root:The amount to remove from the portfolio exceeds its content.\n"
     ]
    }
   ],
   "source": [
    "# withdraw more funds than available\n",
    "virtual_portfolio.withdraw('AUS', 3000)"
   ]
  },
  {
   "cell_type": "code",
   "execution_count": 20,
   "id": "unlike-surveillance",
   "metadata": {},
   "outputs": [
    {
     "name": "stderr",
     "output_type": "stream",
     "text": [
      "ERROR:root:The key BTC isn't in the portfolio\n"
     ]
    }
   ],
   "source": [
    "# withdraw an absent currency\n",
    "virtual_portfolio.withdraw('BTC', 100)"
   ]
  },
  {
   "cell_type": "markdown",
   "id": "quarterly-afghanistan",
   "metadata": {},
   "source": [
    "---\n",
    "## Trader functions"
   ]
  },
  {
   "cell_type": "markdown",
   "id": "regulation-motel",
   "metadata": {},
   "source": [
    "### Cryptocurrencies Trader"
   ]
  },
  {
   "cell_type": "code",
   "execution_count": 21,
   "id": "operational-resource",
   "metadata": {},
   "outputs": [],
   "source": [
    "# Create the new instane\n",
    "trader = traders.CryptoTrader(api_key)"
   ]
  },
  {
   "cell_type": "code",
   "execution_count": 22,
   "id": "primary-meeting",
   "metadata": {},
   "outputs": [
    {
     "data": {
      "text/html": [
       "<div>\n",
       "<style scoped>\n",
       "    .dataframe tbody tr th:only-of-type {\n",
       "        vertical-align: middle;\n",
       "    }\n",
       "\n",
       "    .dataframe tbody tr th {\n",
       "        vertical-align: top;\n",
       "    }\n",
       "\n",
       "    .dataframe thead th {\n",
       "        text-align: right;\n",
       "    }\n",
       "</style>\n",
       "<table border=\"1\" class=\"dataframe\">\n",
       "  <thead>\n",
       "    <tr style=\"text-align: right;\">\n",
       "      <th></th>\n",
       "    </tr>\n",
       "  </thead>\n",
       "  <tbody>\n",
       "  </tbody>\n",
       "</table>\n",
       "</div>"
      ],
      "text/plain": [
       "Empty DataFrame\n",
       "Columns: []\n",
       "Index: []"
      ]
     },
     "execution_count": 22,
     "metadata": {},
     "output_type": "execute_result"
    }
   ],
   "source": [
    "# Get all open orders\n",
    "trader.get_open_orders()"
   ]
  },
  {
   "cell_type": "code",
   "execution_count": 23,
   "id": "black-vietnamese",
   "metadata": {},
   "outputs": [
    {
     "data": {
      "text/html": [
       "<div>\n",
       "<style scoped>\n",
       "    .dataframe tbody tr th:only-of-type {\n",
       "        vertical-align: middle;\n",
       "    }\n",
       "\n",
       "    .dataframe tbody tr th {\n",
       "        vertical-align: top;\n",
       "    }\n",
       "\n",
       "    .dataframe thead th {\n",
       "        text-align: right;\n",
       "    }\n",
       "</style>\n",
       "<table border=\"1\" class=\"dataframe\">\n",
       "  <thead>\n",
       "    <tr style=\"text-align: right;\">\n",
       "      <th></th>\n",
       "      <th>refid</th>\n",
       "      <th>userref</th>\n",
       "      <th>status</th>\n",
       "      <th>reason</th>\n",
       "      <th>opentm</th>\n",
       "      <th>closetm</th>\n",
       "      <th>starttm</th>\n",
       "      <th>expiretm</th>\n",
       "      <th>vol</th>\n",
       "      <th>vol_exec</th>\n",
       "      <th>...</th>\n",
       "      <th>oflags</th>\n",
       "      <th>trades</th>\n",
       "      <th>descr_pair</th>\n",
       "      <th>descr_type</th>\n",
       "      <th>descr_ordertype</th>\n",
       "      <th>descr_price</th>\n",
       "      <th>descr_price2</th>\n",
       "      <th>descr_leverage</th>\n",
       "      <th>descr_order</th>\n",
       "      <th>descr_close</th>\n",
       "    </tr>\n",
       "  </thead>\n",
       "  <tbody>\n",
       "    <tr>\n",
       "      <th>O667HS-EHA5E-Y4XAF6</th>\n",
       "      <td>None</td>\n",
       "      <td>0</td>\n",
       "      <td>canceled</td>\n",
       "      <td>Out of funds</td>\n",
       "      <td>1623537348</td>\n",
       "      <td>1623537348</td>\n",
       "      <td>0</td>\n",
       "      <td>0</td>\n",
       "      <td>12.030000</td>\n",
       "      <td>12.008407</td>\n",
       "      <td>...</td>\n",
       "      <td>fciq</td>\n",
       "      <td>[THXHTO-FDKTU-NGQT4A]</td>\n",
       "      <td>ADAUSD</td>\n",
       "      <td>buy</td>\n",
       "      <td>market</td>\n",
       "      <td>0.0</td>\n",
       "      <td>0.0</td>\n",
       "      <td>none</td>\n",
       "      <td>buy 12.03000000 ADAUSD @ market</td>\n",
       "      <td></td>\n",
       "    </tr>\n",
       "    <tr>\n",
       "      <th>OENSOG-KWUJX-VJAN64</th>\n",
       "      <td>None</td>\n",
       "      <td>0</td>\n",
       "      <td>closed</td>\n",
       "      <td>None</td>\n",
       "      <td>1622603453</td>\n",
       "      <td>1622603453</td>\n",
       "      <td>0</td>\n",
       "      <td>0</td>\n",
       "      <td>5.873000</td>\n",
       "      <td>5.873000</td>\n",
       "      <td>...</td>\n",
       "      <td>fciq</td>\n",
       "      <td>[TGISYB-P4HPS-GPKEJ3]</td>\n",
       "      <td>MINAUSD</td>\n",
       "      <td>buy</td>\n",
       "      <td>market</td>\n",
       "      <td>0.0</td>\n",
       "      <td>0.0</td>\n",
       "      <td>none</td>\n",
       "      <td>buy 5.87300000 MINAUSD @ market</td>\n",
       "      <td></td>\n",
       "    </tr>\n",
       "    <tr>\n",
       "      <th>OVBZ4F-UKIVH-SEFTUK</th>\n",
       "      <td>None</td>\n",
       "      <td>0</td>\n",
       "      <td>closed</td>\n",
       "      <td>None</td>\n",
       "      <td>1620994977</td>\n",
       "      <td>1621074636</td>\n",
       "      <td>0</td>\n",
       "      <td>0</td>\n",
       "      <td>71.837347</td>\n",
       "      <td>71.837347</td>\n",
       "      <td>...</td>\n",
       "      <td>fciq</td>\n",
       "      <td>[T3BSVG-VQD6Y-QSPCSK]</td>\n",
       "      <td>XDGUSD</td>\n",
       "      <td>sell</td>\n",
       "      <td>stop-loss</td>\n",
       "      <td>0.5</td>\n",
       "      <td>0.0</td>\n",
       "      <td>none</td>\n",
       "      <td>sell 71.83734696 XDGUSD @ stop loss 0.5000000</td>\n",
       "      <td></td>\n",
       "    </tr>\n",
       "    <tr>\n",
       "      <th>OYKRZA-BWEVV-EURJKQ</th>\n",
       "      <td>None</td>\n",
       "      <td>0</td>\n",
       "      <td>canceled</td>\n",
       "      <td>Out of funds</td>\n",
       "      <td>1620994810</td>\n",
       "      <td>1620994810</td>\n",
       "      <td>0</td>\n",
       "      <td>0</td>\n",
       "      <td>71.900000</td>\n",
       "      <td>71.837357</td>\n",
       "      <td>...</td>\n",
       "      <td>fciq</td>\n",
       "      <td>[T4C7BX-MF7Y2-BGDQ7I]</td>\n",
       "      <td>XDGUSD</td>\n",
       "      <td>buy</td>\n",
       "      <td>market</td>\n",
       "      <td>0.0</td>\n",
       "      <td>0.0</td>\n",
       "      <td>none</td>\n",
       "      <td>buy 71.90000000 XDGUSD @ market</td>\n",
       "      <td></td>\n",
       "    </tr>\n",
       "    <tr>\n",
       "      <th>OFJBSS-ZM7GS-O4QWXX</th>\n",
       "      <td>None</td>\n",
       "      <td>0</td>\n",
       "      <td>closed</td>\n",
       "      <td>None</td>\n",
       "      <td>1620994745</td>\n",
       "      <td>1620994745</td>\n",
       "      <td>0</td>\n",
       "      <td>0</td>\n",
       "      <td>21.040000</td>\n",
       "      <td>21.040000</td>\n",
       "      <td>...</td>\n",
       "      <td>fciq</td>\n",
       "      <td>[TVKBPV-7JMG6-RAEHGG]</td>\n",
       "      <td>ADAUSD</td>\n",
       "      <td>sell</td>\n",
       "      <td>market</td>\n",
       "      <td>0.0</td>\n",
       "      <td>0.0</td>\n",
       "      <td>none</td>\n",
       "      <td>sell 21.04000000 ADAUSD @ market</td>\n",
       "      <td></td>\n",
       "    </tr>\n",
       "  </tbody>\n",
       "</table>\n",
       "<p>5 rows × 26 columns</p>\n",
       "</div>"
      ],
      "text/plain": [
       "                    refid userref    status        reason      opentm  \\\n",
       "O667HS-EHA5E-Y4XAF6  None       0  canceled  Out of funds  1623537348   \n",
       "OENSOG-KWUJX-VJAN64  None       0    closed          None  1622603453   \n",
       "OVBZ4F-UKIVH-SEFTUK  None       0    closed          None  1620994977   \n",
       "OYKRZA-BWEVV-EURJKQ  None       0  canceled  Out of funds  1620994810   \n",
       "OFJBSS-ZM7GS-O4QWXX  None       0    closed          None  1620994745   \n",
       "\n",
       "                        closetm  starttm  expiretm        vol   vol_exec  ...  \\\n",
       "O667HS-EHA5E-Y4XAF6  1623537348        0         0  12.030000  12.008407  ...   \n",
       "OENSOG-KWUJX-VJAN64  1622603453        0         0   5.873000   5.873000  ...   \n",
       "OVBZ4F-UKIVH-SEFTUK  1621074636        0         0  71.837347  71.837347  ...   \n",
       "OYKRZA-BWEVV-EURJKQ  1620994810        0         0  71.900000  71.837357  ...   \n",
       "OFJBSS-ZM7GS-O4QWXX  1620994745        0         0  21.040000  21.040000  ...   \n",
       "\n",
       "                     oflags                 trades  descr_pair descr_type  \\\n",
       "O667HS-EHA5E-Y4XAF6    fciq  [THXHTO-FDKTU-NGQT4A]      ADAUSD        buy   \n",
       "OENSOG-KWUJX-VJAN64    fciq  [TGISYB-P4HPS-GPKEJ3]     MINAUSD        buy   \n",
       "OVBZ4F-UKIVH-SEFTUK    fciq  [T3BSVG-VQD6Y-QSPCSK]      XDGUSD       sell   \n",
       "OYKRZA-BWEVV-EURJKQ    fciq  [T4C7BX-MF7Y2-BGDQ7I]      XDGUSD        buy   \n",
       "OFJBSS-ZM7GS-O4QWXX    fciq  [TVKBPV-7JMG6-RAEHGG]      ADAUSD       sell   \n",
       "\n",
       "                    descr_ordertype descr_price descr_price2 descr_leverage  \\\n",
       "O667HS-EHA5E-Y4XAF6          market         0.0          0.0           none   \n",
       "OENSOG-KWUJX-VJAN64          market         0.0          0.0           none   \n",
       "OVBZ4F-UKIVH-SEFTUK       stop-loss         0.5          0.0           none   \n",
       "OYKRZA-BWEVV-EURJKQ          market         0.0          0.0           none   \n",
       "OFJBSS-ZM7GS-O4QWXX          market         0.0          0.0           none   \n",
       "\n",
       "                                                       descr_order descr_close  \n",
       "O667HS-EHA5E-Y4XAF6                buy 12.03000000 ADAUSD @ market              \n",
       "OENSOG-KWUJX-VJAN64                buy 5.87300000 MINAUSD @ market              \n",
       "OVBZ4F-UKIVH-SEFTUK  sell 71.83734696 XDGUSD @ stop loss 0.5000000              \n",
       "OYKRZA-BWEVV-EURJKQ                buy 71.90000000 XDGUSD @ market              \n",
       "OFJBSS-ZM7GS-O4QWXX               sell 21.04000000 ADAUSD @ market              \n",
       "\n",
       "[5 rows x 26 columns]"
      ]
     },
     "execution_count": 23,
     "metadata": {},
     "output_type": "execute_result"
    }
   ],
   "source": [
    "# Get all closed orders\n",
    "trader.get_closed_orders()[0].head()"
   ]
  },
  {
   "cell_type": "code",
   "execution_count": 24,
   "id": "eligible-outreach",
   "metadata": {},
   "outputs": [
    {
     "data": {
      "text/html": [
       "<div>\n",
       "<style scoped>\n",
       "    .dataframe tbody tr th:only-of-type {\n",
       "        vertical-align: middle;\n",
       "    }\n",
       "\n",
       "    .dataframe tbody tr th {\n",
       "        vertical-align: top;\n",
       "    }\n",
       "\n",
       "    .dataframe thead th {\n",
       "        text-align: right;\n",
       "    }\n",
       "</style>\n",
       "<table border=\"1\" class=\"dataframe\">\n",
       "  <thead>\n",
       "    <tr style=\"text-align: right;\">\n",
       "      <th></th>\n",
       "      <th>txid</th>\n",
       "      <th>ordertxid</th>\n",
       "      <th>postxid</th>\n",
       "      <th>pair</th>\n",
       "      <th>time</th>\n",
       "      <th>type</th>\n",
       "      <th>ordertype</th>\n",
       "      <th>price</th>\n",
       "      <th>cost</th>\n",
       "      <th>fee</th>\n",
       "      <th>vol</th>\n",
       "      <th>margin</th>\n",
       "      <th>misc</th>\n",
       "    </tr>\n",
       "    <tr>\n",
       "      <th>dtime</th>\n",
       "      <th></th>\n",
       "      <th></th>\n",
       "      <th></th>\n",
       "      <th></th>\n",
       "      <th></th>\n",
       "      <th></th>\n",
       "      <th></th>\n",
       "      <th></th>\n",
       "      <th></th>\n",
       "      <th></th>\n",
       "      <th></th>\n",
       "      <th></th>\n",
       "      <th></th>\n",
       "    </tr>\n",
       "  </thead>\n",
       "  <tbody>\n",
       "    <tr>\n",
       "      <th>2021-06-12 22:35:48.012799978</th>\n",
       "      <td>THXHTO-FDKTU-NGQT4A</td>\n",
       "      <td>O667HS-EHA5E-Y4XAF6</td>\n",
       "      <td>TKH2SE-M7IF5-CFI7LT</td>\n",
       "      <td>ADAUSD</td>\n",
       "      <td>1.623537e+09</td>\n",
       "      <td>buy</td>\n",
       "      <td>market</td>\n",
       "      <td>1.479045</td>\n",
       "      <td>17.760974</td>\n",
       "      <td>0.046179</td>\n",
       "      <td>12.008407</td>\n",
       "      <td>0.0</td>\n",
       "      <td></td>\n",
       "    </tr>\n",
       "    <tr>\n",
       "      <th>2021-06-02 03:10:53.894099951</th>\n",
       "      <td>TGISYB-P4HPS-GPKEJ3</td>\n",
       "      <td>OENSOG-KWUJX-VJAN64</td>\n",
       "      <td>TKH2SE-M7IF5-CFI7LT</td>\n",
       "      <td>MINAUSD</td>\n",
       "      <td>1.622603e+09</td>\n",
       "      <td>buy</td>\n",
       "      <td>market</td>\n",
       "      <td>3.060000</td>\n",
       "      <td>17.971380</td>\n",
       "      <td>0.046730</td>\n",
       "      <td>5.873000</td>\n",
       "      <td>0.0</td>\n",
       "      <td></td>\n",
       "    </tr>\n",
       "    <tr>\n",
       "      <th>2021-05-15 10:30:36.510400057</th>\n",
       "      <td>T3BSVG-VQD6Y-QSPCSK</td>\n",
       "      <td>OVBZ4F-UKIVH-SEFTUK</td>\n",
       "      <td>TKH2SE-M7IF5-CFI7LT</td>\n",
       "      <td>XDGUSD</td>\n",
       "      <td>1.621075e+09</td>\n",
       "      <td>sell</td>\n",
       "      <td>stop market</td>\n",
       "      <td>0.500000</td>\n",
       "      <td>35.918673</td>\n",
       "      <td>0.093389</td>\n",
       "      <td>71.837347</td>\n",
       "      <td>0.0</td>\n",
       "      <td></td>\n",
       "    </tr>\n",
       "    <tr>\n",
       "      <th>2021-05-14 12:20:10.592700005</th>\n",
       "      <td>T4C7BX-MF7Y2-BGDQ7I</td>\n",
       "      <td>OYKRZA-BWEVV-EURJKQ</td>\n",
       "      <td>TKH2SE-M7IF5-CFI7LT</td>\n",
       "      <td>XDGUSD</td>\n",
       "      <td>1.620995e+09</td>\n",
       "      <td>buy</td>\n",
       "      <td>market</td>\n",
       "      <td>0.543457</td>\n",
       "      <td>39.040500</td>\n",
       "      <td>0.101505</td>\n",
       "      <td>71.837357</td>\n",
       "      <td>0.0</td>\n",
       "      <td></td>\n",
       "    </tr>\n",
       "    <tr>\n",
       "      <th>2021-05-14 12:19:05.484100103</th>\n",
       "      <td>TVKBPV-7JMG6-RAEHGG</td>\n",
       "      <td>OFJBSS-ZM7GS-O4QWXX</td>\n",
       "      <td>TKH2SE-M7IF5-CFI7LT</td>\n",
       "      <td>ADAUSD</td>\n",
       "      <td>1.620995e+09</td>\n",
       "      <td>sell</td>\n",
       "      <td>market</td>\n",
       "      <td>1.862000</td>\n",
       "      <td>39.176480</td>\n",
       "      <td>0.101859</td>\n",
       "      <td>21.040000</td>\n",
       "      <td>0.0</td>\n",
       "      <td></td>\n",
       "    </tr>\n",
       "    <tr>\n",
       "      <th>2021-05-13 18:22:50.241100073</th>\n",
       "      <td>T33WQ3-RYSXP-5HUJQN</td>\n",
       "      <td>OC43AK-KHZMJ-QK4KPK</td>\n",
       "      <td>TKH2SE-M7IF5-CFI7LT</td>\n",
       "      <td>ADAUSD</td>\n",
       "      <td>1.620930e+09</td>\n",
       "      <td>buy</td>\n",
       "      <td>market</td>\n",
       "      <td>1.898491</td>\n",
       "      <td>39.944251</td>\n",
       "      <td>0.103855</td>\n",
       "      <td>21.040000</td>\n",
       "      <td>0.0</td>\n",
       "      <td></td>\n",
       "    </tr>\n",
       "    <tr>\n",
       "      <th>2021-05-12 16:46:04.486999989</th>\n",
       "      <td>TIMTBN-W7VXX-K2D3ME</td>\n",
       "      <td>O7XCIE-ZQ6MO-7ELM4R</td>\n",
       "      <td>TKH2SE-M7IF5-CFI7LT</td>\n",
       "      <td>XDGUSD</td>\n",
       "      <td>1.620838e+09</td>\n",
       "      <td>sell</td>\n",
       "      <td>stop market</td>\n",
       "      <td>0.450000</td>\n",
       "      <td>40.220187</td>\n",
       "      <td>0.104572</td>\n",
       "      <td>89.378194</td>\n",
       "      <td>0.0</td>\n",
       "      <td></td>\n",
       "    </tr>\n",
       "    <tr>\n",
       "      <th>2021-05-12 12:04:25.677000046</th>\n",
       "      <td>TDG2QA-4FFWG-XR3IHF</td>\n",
       "      <td>O5O2LX-KRJRA-JH4P5B</td>\n",
       "      <td>TKH2SE-M7IF5-CFI7LT</td>\n",
       "      <td>XETHZUSD</td>\n",
       "      <td>1.620821e+09</td>\n",
       "      <td>buy</td>\n",
       "      <td>market</td>\n",
       "      <td>4264.040000</td>\n",
       "      <td>44.295500</td>\n",
       "      <td>0.115170</td>\n",
       "      <td>0.010388</td>\n",
       "      <td>0.0</td>\n",
       "      <td></td>\n",
       "    </tr>\n",
       "    <tr>\n",
       "      <th>2021-05-12 10:36:20.847800016</th>\n",
       "      <td>TWTJ6V-F6RFS-FS43UR</td>\n",
       "      <td>OZHSZS-JWMKO-SZMQTD</td>\n",
       "      <td>TKH2SE-M7IF5-CFI7LT</td>\n",
       "      <td>XETHZUSD</td>\n",
       "      <td>1.620816e+09</td>\n",
       "      <td>sell</td>\n",
       "      <td>stop market</td>\n",
       "      <td>4250.000720</td>\n",
       "      <td>44.526450</td>\n",
       "      <td>0.115770</td>\n",
       "      <td>0.010477</td>\n",
       "      <td>0.0</td>\n",
       "      <td></td>\n",
       "    </tr>\n",
       "    <tr>\n",
       "      <th>2021-05-11 20:40:31.088700056</th>\n",
       "      <td>TE35Y2-7PLF4-3IVMUQ</td>\n",
       "      <td>OGE2W5-BRXCX-UMCXSC</td>\n",
       "      <td>TKH2SE-M7IF5-CFI7LT</td>\n",
       "      <td>XETHZUSD</td>\n",
       "      <td>1.620766e+09</td>\n",
       "      <td>buy</td>\n",
       "      <td>market</td>\n",
       "      <td>4119.290000</td>\n",
       "      <td>43.157000</td>\n",
       "      <td>0.112210</td>\n",
       "      <td>0.010477</td>\n",
       "      <td>0.0</td>\n",
       "      <td></td>\n",
       "    </tr>\n",
       "  </tbody>\n",
       "</table>\n",
       "</div>"
      ],
      "text/plain": [
       "                                              txid            ordertxid  \\\n",
       "dtime                                                                     \n",
       "2021-06-12 22:35:48.012799978  THXHTO-FDKTU-NGQT4A  O667HS-EHA5E-Y4XAF6   \n",
       "2021-06-02 03:10:53.894099951  TGISYB-P4HPS-GPKEJ3  OENSOG-KWUJX-VJAN64   \n",
       "2021-05-15 10:30:36.510400057  T3BSVG-VQD6Y-QSPCSK  OVBZ4F-UKIVH-SEFTUK   \n",
       "2021-05-14 12:20:10.592700005  T4C7BX-MF7Y2-BGDQ7I  OYKRZA-BWEVV-EURJKQ   \n",
       "2021-05-14 12:19:05.484100103  TVKBPV-7JMG6-RAEHGG  OFJBSS-ZM7GS-O4QWXX   \n",
       "2021-05-13 18:22:50.241100073  T33WQ3-RYSXP-5HUJQN  OC43AK-KHZMJ-QK4KPK   \n",
       "2021-05-12 16:46:04.486999989  TIMTBN-W7VXX-K2D3ME  O7XCIE-ZQ6MO-7ELM4R   \n",
       "2021-05-12 12:04:25.677000046  TDG2QA-4FFWG-XR3IHF  O5O2LX-KRJRA-JH4P5B   \n",
       "2021-05-12 10:36:20.847800016  TWTJ6V-F6RFS-FS43UR  OZHSZS-JWMKO-SZMQTD   \n",
       "2021-05-11 20:40:31.088700056  TE35Y2-7PLF4-3IVMUQ  OGE2W5-BRXCX-UMCXSC   \n",
       "\n",
       "                                           postxid      pair          time  \\\n",
       "dtime                                                                        \n",
       "2021-06-12 22:35:48.012799978  TKH2SE-M7IF5-CFI7LT    ADAUSD  1.623537e+09   \n",
       "2021-06-02 03:10:53.894099951  TKH2SE-M7IF5-CFI7LT   MINAUSD  1.622603e+09   \n",
       "2021-05-15 10:30:36.510400057  TKH2SE-M7IF5-CFI7LT    XDGUSD  1.621075e+09   \n",
       "2021-05-14 12:20:10.592700005  TKH2SE-M7IF5-CFI7LT    XDGUSD  1.620995e+09   \n",
       "2021-05-14 12:19:05.484100103  TKH2SE-M7IF5-CFI7LT    ADAUSD  1.620995e+09   \n",
       "2021-05-13 18:22:50.241100073  TKH2SE-M7IF5-CFI7LT    ADAUSD  1.620930e+09   \n",
       "2021-05-12 16:46:04.486999989  TKH2SE-M7IF5-CFI7LT    XDGUSD  1.620838e+09   \n",
       "2021-05-12 12:04:25.677000046  TKH2SE-M7IF5-CFI7LT  XETHZUSD  1.620821e+09   \n",
       "2021-05-12 10:36:20.847800016  TKH2SE-M7IF5-CFI7LT  XETHZUSD  1.620816e+09   \n",
       "2021-05-11 20:40:31.088700056  TKH2SE-M7IF5-CFI7LT  XETHZUSD  1.620766e+09   \n",
       "\n",
       "                               type    ordertype        price       cost  \\\n",
       "dtime                                                                      \n",
       "2021-06-12 22:35:48.012799978   buy       market     1.479045  17.760974   \n",
       "2021-06-02 03:10:53.894099951   buy       market     3.060000  17.971380   \n",
       "2021-05-15 10:30:36.510400057  sell  stop market     0.500000  35.918673   \n",
       "2021-05-14 12:20:10.592700005   buy       market     0.543457  39.040500   \n",
       "2021-05-14 12:19:05.484100103  sell       market     1.862000  39.176480   \n",
       "2021-05-13 18:22:50.241100073   buy       market     1.898491  39.944251   \n",
       "2021-05-12 16:46:04.486999989  sell  stop market     0.450000  40.220187   \n",
       "2021-05-12 12:04:25.677000046   buy       market  4264.040000  44.295500   \n",
       "2021-05-12 10:36:20.847800016  sell  stop market  4250.000720  44.526450   \n",
       "2021-05-11 20:40:31.088700056   buy       market  4119.290000  43.157000   \n",
       "\n",
       "                                    fee        vol  margin misc  \n",
       "dtime                                                            \n",
       "2021-06-12 22:35:48.012799978  0.046179  12.008407     0.0       \n",
       "2021-06-02 03:10:53.894099951  0.046730   5.873000     0.0       \n",
       "2021-05-15 10:30:36.510400057  0.093389  71.837347     0.0       \n",
       "2021-05-14 12:20:10.592700005  0.101505  71.837357     0.0       \n",
       "2021-05-14 12:19:05.484100103  0.101859  21.040000     0.0       \n",
       "2021-05-13 18:22:50.241100073  0.103855  21.040000     0.0       \n",
       "2021-05-12 16:46:04.486999989  0.104572  89.378194     0.0       \n",
       "2021-05-12 12:04:25.677000046  0.115170   0.010388     0.0       \n",
       "2021-05-12 10:36:20.847800016  0.115770   0.010477     0.0       \n",
       "2021-05-11 20:40:31.088700056  0.112210   0.010477     0.0       "
      ]
     },
     "execution_count": 24,
     "metadata": {},
     "output_type": "execute_result"
    }
   ],
   "source": [
    "# Get history of all trades\n",
    "trader.get_trades_history()[0].head(10)"
   ]
  },
  {
   "cell_type": "code",
   "execution_count": 25,
   "id": "scientific-lambda",
   "metadata": {},
   "outputs": [
    {
     "data": {
      "text/html": [
       "<div>\n",
       "<style scoped>\n",
       "    .dataframe tbody tr th:only-of-type {\n",
       "        vertical-align: middle;\n",
       "    }\n",
       "\n",
       "    .dataframe tbody tr th {\n",
       "        vertical-align: top;\n",
       "    }\n",
       "\n",
       "    .dataframe thead th {\n",
       "        text-align: right;\n",
       "    }\n",
       "</style>\n",
       "<table border=\"1\" class=\"dataframe\">\n",
       "  <thead>\n",
       "    <tr style=\"text-align: right;\">\n",
       "      <th></th>\n",
       "      <th>txid</th>\n",
       "      <th>cost</th>\n",
       "      <th>fee</th>\n",
       "      <th>margin</th>\n",
       "      <th>misc</th>\n",
       "      <th>ordertxid</th>\n",
       "      <th>ordertype</th>\n",
       "      <th>pair</th>\n",
       "      <th>postxid</th>\n",
       "      <th>price</th>\n",
       "      <th>time</th>\n",
       "      <th>type</th>\n",
       "      <th>vol</th>\n",
       "    </tr>\n",
       "    <tr>\n",
       "      <th>dtime</th>\n",
       "      <th></th>\n",
       "      <th></th>\n",
       "      <th></th>\n",
       "      <th></th>\n",
       "      <th></th>\n",
       "      <th></th>\n",
       "      <th></th>\n",
       "      <th></th>\n",
       "      <th></th>\n",
       "      <th></th>\n",
       "      <th></th>\n",
       "      <th></th>\n",
       "      <th></th>\n",
       "    </tr>\n",
       "  </thead>\n",
       "  <tbody>\n",
       "    <tr>\n",
       "      <th>2021-06-12 22:35:48.012799978</th>\n",
       "      <td>THXHTO-FDKTU-NGQT4A</td>\n",
       "      <td>17.760974</td>\n",
       "      <td>0.046179</td>\n",
       "      <td>0.0</td>\n",
       "      <td></td>\n",
       "      <td>O667HS-EHA5E-Y4XAF6</td>\n",
       "      <td>market</td>\n",
       "      <td>ADAUSD</td>\n",
       "      <td>TKH2SE-M7IF5-CFI7LT</td>\n",
       "      <td>1.479045</td>\n",
       "      <td>1.623537e+09</td>\n",
       "      <td>buy</td>\n",
       "      <td>12.008407</td>\n",
       "    </tr>\n",
       "  </tbody>\n",
       "</table>\n",
       "</div>"
      ],
      "text/plain": [
       "                                              txid       cost       fee  \\\n",
       "dtime                                                                     \n",
       "2021-06-12 22:35:48.012799978  THXHTO-FDKTU-NGQT4A  17.760974  0.046179   \n",
       "\n",
       "                               margin misc            ordertxid ordertype  \\\n",
       "dtime                                                                       \n",
       "2021-06-12 22:35:48.012799978     0.0       O667HS-EHA5E-Y4XAF6    market   \n",
       "\n",
       "                                 pair              postxid     price  \\\n",
       "dtime                                                                  \n",
       "2021-06-12 22:35:48.012799978  ADAUSD  TKH2SE-M7IF5-CFI7LT  1.479045   \n",
       "\n",
       "                                       time type        vol  \n",
       "dtime                                                        \n",
       "2021-06-12 22:35:48.012799978  1.623537e+09  buy  12.008407  "
      ]
     },
     "execution_count": 25,
     "metadata": {},
     "output_type": "execute_result"
    }
   ],
   "source": [
    "# Get informations about a single trade\n",
    "trader.query_trades_info('THXHTO-FDKTU-NGQT4A')"
   ]
  },
  {
   "cell_type": "markdown",
   "id": "median-singer",
   "metadata": {},
   "source": [
    "### Virtual Trader"
   ]
  },
  {
   "cell_type": "code",
   "execution_count": 50,
   "id": "minute-biotechnology",
   "metadata": {},
   "outputs": [],
   "source": [
    "# Create the instace with a portfolio\n",
    "virtual_portfolio = portfolios.VirtualPortfolio({'ZUSD': 1000})\n",
    "fake_trader = traders.VirtualCryptoTrader(virtual_portfolio)"
   ]
  },
  {
   "cell_type": "code",
   "execution_count": 26,
   "id": "inappropriate-petite",
   "metadata": {},
   "outputs": [
    {
     "name": "stdout",
     "output_type": "stream",
     "text": [
      "public call frequency exceeded (seconds=0.314651) \n",
      " sleeping for 5 seconds\n",
      "public call frequency exceeded (seconds=0.424397) \n",
      " sleeping for 5 seconds\n"
     ]
    },
    {
     "data": {
      "text/plain": [
       "VirtualOrder(pair='XETHZUSD', type='buy', amount=0.2, close=2171.2)"
      ]
     },
     "execution_count": 26,
     "metadata": {},
     "output_type": "execute_result"
    }
   ],
   "source": [
    "# Add an order\n",
    "fake_trader.add_order('XETHZUSD', 'buy', 0.2)"
   ]
  },
  {
   "cell_type": "code",
   "execution_count": 28,
   "id": "liked-sarah",
   "metadata": {},
   "outputs": [
    {
     "data": {
      "text/plain": [
       "VirtualOrder(pair='XETHZUSD', type='buy', amount=0.1, close=2367.88)"
      ]
     },
     "execution_count": 28,
     "metadata": {},
     "output_type": "execute_result"
    }
   ],
   "source": [
    "# Add a second order\n",
    "fake_trader.add_order('XETHZUSD', 'buy', 0.1)"
   ]
  },
  {
   "cell_type": "code",
   "execution_count": 29,
   "id": "desperate-monitoring",
   "metadata": {},
   "outputs": [
    {
     "data": {
      "text/html": [
       "<div>\n",
       "<style scoped>\n",
       "    .dataframe tbody tr th:only-of-type {\n",
       "        vertical-align: middle;\n",
       "    }\n",
       "\n",
       "    .dataframe tbody tr th {\n",
       "        vertical-align: top;\n",
       "    }\n",
       "\n",
       "    .dataframe thead th {\n",
       "        text-align: right;\n",
       "    }\n",
       "</style>\n",
       "<table border=\"1\" class=\"dataframe\">\n",
       "  <thead>\n",
       "    <tr style=\"text-align: right;\">\n",
       "      <th></th>\n",
       "      <th>vol</th>\n",
       "    </tr>\n",
       "  </thead>\n",
       "  <tbody>\n",
       "    <tr>\n",
       "      <th>ZUSD</th>\n",
       "      <td>763.212</td>\n",
       "    </tr>\n",
       "    <tr>\n",
       "      <th>XETH</th>\n",
       "      <td>0.100</td>\n",
       "    </tr>\n",
       "  </tbody>\n",
       "</table>\n",
       "</div>"
      ],
      "text/plain": [
       "          vol\n",
       "ZUSD  763.212\n",
       "XETH    0.100"
      ]
     },
     "execution_count": 29,
     "metadata": {},
     "output_type": "execute_result"
    }
   ],
   "source": [
    "# Check portfolio\n",
    "fake_trader.portfolio.get_account_balance()"
   ]
  },
  {
   "cell_type": "code",
   "execution_count": 30,
   "id": "native-respect",
   "metadata": {},
   "outputs": [
    {
     "data": {
      "text/plain": [
       "{'3dd3dcde': VirtualOrder(pair='XETHZUSD', type='buy', amount=0.1, close=2367.88)}"
      ]
     },
     "execution_count": 30,
     "metadata": {},
     "output_type": "execute_result"
    }
   ],
   "source": [
    "# Read the book of all orders\n",
    "fake_trader.order_book"
   ]
  },
  {
   "cell_type": "code",
   "execution_count": 32,
   "id": "chinese-executive",
   "metadata": {},
   "outputs": [],
   "source": [
    "# Cancel an order\n",
    "fake_trader.cancel_order('3dd3dcde')"
   ]
  },
  {
   "cell_type": "code",
   "execution_count": 33,
   "id": "confidential-speaking",
   "metadata": {},
   "outputs": [
    {
     "data": {
      "text/plain": [
       "{}"
      ]
     },
     "execution_count": 33,
     "metadata": {},
     "output_type": "execute_result"
    }
   ],
   "source": [
    "fake_trader.order_book"
   ]
  },
  {
   "cell_type": "code",
   "execution_count": 34,
   "id": "monthly-lincoln",
   "metadata": {},
   "outputs": [
    {
     "data": {
      "text/html": [
       "<div>\n",
       "<style scoped>\n",
       "    .dataframe tbody tr th:only-of-type {\n",
       "        vertical-align: middle;\n",
       "    }\n",
       "\n",
       "    .dataframe tbody tr th {\n",
       "        vertical-align: top;\n",
       "    }\n",
       "\n",
       "    .dataframe thead th {\n",
       "        text-align: right;\n",
       "    }\n",
       "</style>\n",
       "<table border=\"1\" class=\"dataframe\">\n",
       "  <thead>\n",
       "    <tr style=\"text-align: right;\">\n",
       "      <th></th>\n",
       "      <th>vol</th>\n",
       "    </tr>\n",
       "  </thead>\n",
       "  <tbody>\n",
       "    <tr>\n",
       "      <th>ZUSD</th>\n",
       "      <td>1000.0</td>\n",
       "    </tr>\n",
       "  </tbody>\n",
       "</table>\n",
       "</div>"
      ],
      "text/plain": [
       "         vol\n",
       "ZUSD  1000.0"
      ]
     },
     "execution_count": 34,
     "metadata": {},
     "output_type": "execute_result"
    }
   ],
   "source": [
    "# Last but not least\n",
    "fake_trader.portfolio.get_account_balance()"
   ]
  },
  {
   "cell_type": "markdown",
   "id": "structured-investing",
   "metadata": {},
   "source": [
    "---"
   ]
  },
  {
   "cell_type": "markdown",
   "id": "vanilla-arabic",
   "metadata": {},
   "source": [
    "## Strategy Functions"
   ]
  },
  {
   "cell_type": "markdown",
   "id": "effective-denmark",
   "metadata": {},
   "source": [
    "### Buy and Hold"
   ]
  },
  {
   "cell_type": "code",
   "execution_count": 51,
   "id": "about-myanmar",
   "metadata": {},
   "outputs": [],
   "source": [
    "# Create the instace with a portfolio\n",
    "portfolio = portfolios.VirtualPortfolio({'ZUSD': 1000})\n",
    "trader = traders.VirtualCryptoTrader(portfolio)\n",
    "strategy = strategies.BuyAndHold(trader, 'XETHZUSD', 0.4)"
   ]
  },
  {
   "cell_type": "code",
   "execution_count": 4,
   "id": "uniform-treasure",
   "metadata": {},
   "outputs": [
    {
     "name": "stdout",
     "output_type": "stream",
     "text": [
      "public call frequency exceeded (seconds=0.533514) \n",
      " sleeping for 5 seconds\n"
     ]
    }
   ],
   "source": [
    "strategy.run()"
   ]
  },
  {
   "cell_type": "code",
   "execution_count": 5,
   "id": "dense-intersection",
   "metadata": {},
   "outputs": [],
   "source": [
    "strategy.run()"
   ]
  },
  {
   "cell_type": "code",
   "execution_count": 6,
   "id": "ignored-career",
   "metadata": {},
   "outputs": [
    {
     "data": {
      "text/plain": [
       "{'d5aadac3': VirtualOrder(pair='XETHZUSD', type='buy', amount=0.4, close=2357.35)}"
      ]
     },
     "execution_count": 6,
     "metadata": {},
     "output_type": "execute_result"
    }
   ],
   "source": [
    "strategy.trader.order_book"
   ]
  },
  {
   "cell_type": "code",
   "execution_count": 7,
   "id": "empirical-finance",
   "metadata": {},
   "outputs": [
    {
     "data": {
      "text/html": [
       "<div>\n",
       "<style scoped>\n",
       "    .dataframe tbody tr th:only-of-type {\n",
       "        vertical-align: middle;\n",
       "    }\n",
       "\n",
       "    .dataframe tbody tr th {\n",
       "        vertical-align: top;\n",
       "    }\n",
       "\n",
       "    .dataframe thead th {\n",
       "        text-align: right;\n",
       "    }\n",
       "</style>\n",
       "<table border=\"1\" class=\"dataframe\">\n",
       "  <thead>\n",
       "    <tr style=\"text-align: right;\">\n",
       "      <th></th>\n",
       "      <th>vol</th>\n",
       "    </tr>\n",
       "  </thead>\n",
       "  <tbody>\n",
       "    <tr>\n",
       "      <th>ZUSD</th>\n",
       "      <td>57.06</td>\n",
       "    </tr>\n",
       "    <tr>\n",
       "      <th>XETH</th>\n",
       "      <td>0.40</td>\n",
       "    </tr>\n",
       "  </tbody>\n",
       "</table>\n",
       "</div>"
      ],
      "text/plain": [
       "        vol\n",
       "ZUSD  57.06\n",
       "XETH   0.40"
      ]
     },
     "execution_count": 7,
     "metadata": {},
     "output_type": "execute_result"
    }
   ],
   "source": [
    "strategy.trader.portfolio.get_account_balance()"
   ]
  },
  {
   "cell_type": "markdown",
   "id": "bound-declaration",
   "metadata": {},
   "source": [
    "### Sequential Investment"
   ]
  },
  {
   "cell_type": "code",
   "execution_count": 52,
   "id": "dutch-communist",
   "metadata": {},
   "outputs": [],
   "source": [
    "# Create the instace with a portfolio\n",
    "portfolio = portfolios.VirtualPortfolio({'ZUSD': 1000})\n",
    "trader = traders.VirtualCryptoTrader(portfolio)\n",
    "strategy = strategies.SequentialInvestment(trader, 'XETHZUSD', 0.4, 2, \"00:00:20\")"
   ]
  },
  {
   "cell_type": "code",
   "execution_count": 11,
   "id": "pending-scanning",
   "metadata": {},
   "outputs": [
    {
     "name": "stdout",
     "output_type": "stream",
     "text": [
      "public call frequency exceeded (seconds=0.412577) \n",
      " sleeping for 5 seconds\n",
      "public call frequency exceeded (seconds=0.435266) \n",
      " sleeping for 5 seconds\n"
     ]
    }
   ],
   "source": [
    "strategy.run()"
   ]
  },
  {
   "cell_type": "code",
   "execution_count": 83,
   "id": "growing-conditioning",
   "metadata": {},
   "outputs": [
    {
     "data": {
      "text/html": [
       "<div>\n",
       "<style scoped>\n",
       "    .dataframe tbody tr th:only-of-type {\n",
       "        vertical-align: middle;\n",
       "    }\n",
       "\n",
       "    .dataframe tbody tr th {\n",
       "        vertical-align: top;\n",
       "    }\n",
       "\n",
       "    .dataframe thead th {\n",
       "        text-align: right;\n",
       "    }\n",
       "</style>\n",
       "<table border=\"1\" class=\"dataframe\">\n",
       "  <thead>\n",
       "    <tr style=\"text-align: right;\">\n",
       "      <th></th>\n",
       "      <th>vol</th>\n",
       "    </tr>\n",
       "  </thead>\n",
       "  <tbody>\n",
       "    <tr>\n",
       "      <th>ZUSD</th>\n",
       "      <td>60.202</td>\n",
       "    </tr>\n",
       "    <tr>\n",
       "      <th>XETH</th>\n",
       "      <td>0.400</td>\n",
       "    </tr>\n",
       "  </tbody>\n",
       "</table>\n",
       "</div>"
      ],
      "text/plain": [
       "         vol\n",
       "ZUSD  60.202\n",
       "XETH   0.400"
      ]
     },
     "execution_count": 83,
     "metadata": {},
     "output_type": "execute_result"
    }
   ],
   "source": [
    "strategy.trader.portfolio.get_account_balance()"
   ]
  },
  {
   "cell_type": "code",
   "execution_count": 12,
   "id": "coupled-examination",
   "metadata": {},
   "outputs": [
    {
     "data": {
      "text/plain": [
       "{'5ef3e1d4': VirtualOrder(pair='XETHZUSD', type='buy', amount=0.2, close=2360.28),\n",
       " '349fe5db': VirtualOrder(pair='XETHZUSD', type='buy', amount=0.2, close=2355.43)}"
      ]
     },
     "execution_count": 12,
     "metadata": {},
     "output_type": "execute_result"
    }
   ],
   "source": [
    "strategy.trader.order_book"
   ]
  },
  {
   "cell_type": "code",
   "execution_count": 13,
   "id": "exotic-specific",
   "metadata": {},
   "outputs": [
    {
     "data": {
      "text/plain": [
       "True"
      ]
     },
     "execution_count": 13,
     "metadata": {},
     "output_type": "execute_result"
    }
   ],
   "source": [
    "strategy.has_run"
   ]
  },
  {
   "cell_type": "markdown",
   "id": "amino-reverse",
   "metadata": {},
   "source": [
    "### Random Investments"
   ]
  },
  {
   "cell_type": "code",
   "execution_count": 23,
   "id": "compressed-cutting",
   "metadata": {},
   "outputs": [],
   "source": [
    "# Create the instace with a portfolio\n",
    "portfolio = portfolios.VirtualPortfolio({'ZUSD': 1000})\n",
    "trader = traders.VirtualCryptoTrader(portfolio)\n",
    "strategy = strategies.RandomInvestment(trader, 'XETHZUSD', 0.1)"
   ]
  },
  {
   "cell_type": "code",
   "execution_count": 24,
   "id": "controversial-semester",
   "metadata": {},
   "outputs": [
    {
     "name": "stderr",
     "output_type": "stream",
     "text": [
      "ERROR:root:The base XETH isn't available in the portfolio.\n"
     ]
    },
    {
     "name": "stdout",
     "output_type": "stream",
     "text": [
      "public call frequency exceeded (seconds=0.339398) \n",
      " sleeping for 5 seconds\n"
     ]
    },
    {
     "name": "stderr",
     "output_type": "stream",
     "text": [
      "ERROR:root:The base XETH isn't available in the portfolio.\n"
     ]
    },
    {
     "name": "stdout",
     "output_type": "stream",
     "text": [
      "public call frequency exceeded (seconds=0.31484) \n",
      " sleeping for 5 seconds\n",
      "public call frequency exceeded (seconds=0.300064) \n",
      " sleeping for 5 seconds\n"
     ]
    },
    {
     "name": "stderr",
     "output_type": "stream",
     "text": [
      "ERROR:root:The base XETH isn't available in the portfolio.\n"
     ]
    }
   ],
   "source": [
    "for i in range(5):\n",
    "    strategy.run()"
   ]
  },
  {
   "cell_type": "code",
   "execution_count": 25,
   "id": "improved-cleanup",
   "metadata": {},
   "outputs": [
    {
     "data": {
      "text/plain": [
       "{'d6f386fa': VirtualOrder(pair='XETHZUSD', type='sell', amount=0.1, close=2356.36),\n",
       " '4bc798d5': VirtualOrder(pair='XETHZUSD', type='sell', amount=0.1, close=2356.36),\n",
       " 'c18b4046': VirtualOrder(pair='XETHZUSD', type='buy', amount=0.1, close=2356.36),\n",
       " '3fbda80c': VirtualOrder(pair='XETHZUSD', type='sell', amount=0.1, close=2356.36),\n",
       " '01581177': VirtualOrder(pair='XETHZUSD', type='sell', amount=0.1, close=2355.62)}"
      ]
     },
     "execution_count": 25,
     "metadata": {},
     "output_type": "execute_result"
    }
   ],
   "source": [
    "strategy.trader.order_book"
   ]
  },
  {
   "cell_type": "code",
   "execution_count": 26,
   "id": "material-harris",
   "metadata": {},
   "outputs": [
    {
     "data": {
      "text/html": [
       "<div>\n",
       "<style scoped>\n",
       "    .dataframe tbody tr th:only-of-type {\n",
       "        vertical-align: middle;\n",
       "    }\n",
       "\n",
       "    .dataframe tbody tr th {\n",
       "        vertical-align: top;\n",
       "    }\n",
       "\n",
       "    .dataframe thead th {\n",
       "        text-align: right;\n",
       "    }\n",
       "</style>\n",
       "<table border=\"1\" class=\"dataframe\">\n",
       "  <thead>\n",
       "    <tr style=\"text-align: right;\">\n",
       "      <th></th>\n",
       "      <th>vol</th>\n",
       "    </tr>\n",
       "  </thead>\n",
       "  <tbody>\n",
       "    <tr>\n",
       "      <th>ZUSD</th>\n",
       "      <td>1000.0</td>\n",
       "    </tr>\n",
       "  </tbody>\n",
       "</table>\n",
       "</div>"
      ],
      "text/plain": [
       "         vol\n",
       "ZUSD  1000.0"
      ]
     },
     "execution_count": 26,
     "metadata": {},
     "output_type": "execute_result"
    }
   ],
   "source": [
    "strategy.trader.portfolio.get_account_balance()"
   ]
  },
  {
   "cell_type": "markdown",
   "id": "colonial-officer",
   "metadata": {},
   "source": [
    "---"
   ]
  },
  {
   "cell_type": "markdown",
   "id": "advisory-flavor",
   "metadata": {},
   "source": [
    "## Tars Functions"
   ]
  },
  {
   "cell_type": "code",
   "execution_count": 65,
   "id": "regulation-favor",
   "metadata": {},
   "outputs": [],
   "source": [
    "# Create portfolio and trader\n",
    "portfolio = portfolios.VirtualPortfolio({'ZUSD': 1000})\n",
    "trader = traders.VirtualCryptoTrader(portfolio)"
   ]
  },
  {
   "cell_type": "code",
   "execution_count": 66,
   "id": "married-pulse",
   "metadata": {},
   "outputs": [],
   "source": [
    "tars = TARS()\n",
    "\n",
    "# Define strategies\n",
    "strategy_1 = strategies.BuyAndHold(trader, 'XETHZUSD', 0.2)\n",
    "strategy_2 = strategies.SequentialInvestment(trader, 'XETHZUSD', 0.2, 6, \"00:00:10\")\n",
    "\n",
    "# Load strategies\n",
    "tars.load(strategy_1)\n",
    "tars.load(strategy_2)"
   ]
  },
  {
   "cell_type": "code",
   "execution_count": 67,
   "id": "disabled-waste",
   "metadata": {},
   "outputs": [
    {
     "name": "stdout",
     "output_type": "stream",
     "text": [
      "public call frequency exceeded (seconds=0.578146) \n",
      " sleeping for 5 seconds\n",
      "public call frequency exceeded (seconds=0.748891) \n",
      " sleeping for 5 seconds\n",
      "public call frequency exceeded (seconds=0.975958) \n",
      " sleeping for 5 seconds\n"
     ]
    }
   ],
   "source": [
    "# Start the bot with a loop frequency of one second\n",
    "tars.start('00:00:01')"
   ]
  },
  {
   "cell_type": "code",
   "execution_count": 69,
   "id": "interracial-accounting",
   "metadata": {},
   "outputs": [
    {
     "data": {
      "text/plain": [
       "True"
      ]
     },
     "execution_count": 69,
     "metadata": {},
     "output_type": "execute_result"
    }
   ],
   "source": [
    "tars.is_running"
   ]
  },
  {
   "cell_type": "code",
   "execution_count": 70,
   "id": "variable-delta",
   "metadata": {},
   "outputs": [],
   "source": [
    "# Stop the bot execution\n",
    "tars.stop()"
   ]
  },
  {
   "cell_type": "code",
   "execution_count": 72,
   "id": "relative-flour",
   "metadata": {},
   "outputs": [
    {
     "data": {
      "text/html": [
       "<div>\n",
       "<style scoped>\n",
       "    .dataframe tbody tr th:only-of-type {\n",
       "        vertical-align: middle;\n",
       "    }\n",
       "\n",
       "    .dataframe tbody tr th {\n",
       "        vertical-align: top;\n",
       "    }\n",
       "\n",
       "    .dataframe thead th {\n",
       "        text-align: right;\n",
       "    }\n",
       "</style>\n",
       "<table border=\"1\" class=\"dataframe\">\n",
       "  <thead>\n",
       "    <tr style=\"text-align: right;\">\n",
       "      <th></th>\n",
       "      <th>vol</th>\n",
       "    </tr>\n",
       "  </thead>\n",
       "  <tbody>\n",
       "    <tr>\n",
       "      <th>ZUSD</th>\n",
       "      <td>109.440667</td>\n",
       "    </tr>\n",
       "    <tr>\n",
       "      <th>XETH</th>\n",
       "      <td>0.400000</td>\n",
       "    </tr>\n",
       "  </tbody>\n",
       "</table>\n",
       "</div>"
      ],
      "text/plain": [
       "             vol\n",
       "ZUSD  109.440667\n",
       "XETH    0.400000"
      ]
     },
     "execution_count": 72,
     "metadata": {},
     "output_type": "execute_result"
    }
   ],
   "source": [
    "portfolio.get_account_balance()"
   ]
  },
  {
   "cell_type": "code",
   "execution_count": null,
   "id": "nearby-initial",
   "metadata": {},
   "outputs": [],
   "source": []
  }
 ],
 "metadata": {
  "kernelspec": {
   "display_name": "Python 3",
   "language": "python",
   "name": "python3"
  },
  "language_info": {
   "codemirror_mode": {
    "name": "ipython",
    "version": 3
   },
   "file_extension": ".py",
   "mimetype": "text/x-python",
   "name": "python",
   "nbconvert_exporter": "python",
   "pygments_lexer": "ipython3",
   "version": "3.8.7"
  }
 },
 "nbformat": 4,
 "nbformat_minor": 5
}
