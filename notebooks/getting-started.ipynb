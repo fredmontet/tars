{
 "cells": [
  {
   "cell_type": "code",
   "execution_count": 1,
   "id": "documentary-guess",
   "metadata": {
    "collapsed": false,
    "jupyter": {
     "outputs_hidden": false
    },
    "pycharm": {
     "name": "#%%\n"
    }
   },
   "outputs": [
    {
     "name": "stderr",
     "output_type": "stream",
     "text": [
      "Importing plotly failed. Interactive plots will not work.\n"
     ]
    }
   ],
   "source": [
    "from tars import Tars, markets, portfolios, traders, strategies\n",
    "%matplotlib inline"
   ]
  },
  {
   "cell_type": "markdown",
   "id": "engaged-davis",
   "metadata": {},
   "source": [
    "# Getting Started\n",
    "\n",
    "Welcome on Tars, the coolest crypto trading bot for research purposes. Here's a great first guide to follow to get accustomed with the different module available in Tars.\n",
    "\n",
    "We'll get familiar with :\n",
    "\n",
    "    1. Tars' concepts\n",
    "    2. the way to make the bot trade 24/7\n",
    "    3. the tutorials\n",
    "\n",
    "\n",
    "Have a good read!\n",
    "\n",
    "---"
   ]
  },
  {
   "cell_type": "markdown",
   "id": "confirmed-savings",
   "metadata": {},
   "source": [
    "## Concept\n",
    "\n",
    "The goal of Tars is to allow developers to create trading strategies with ease. The concept is composed of the following building blocks : \n",
    "\n",
    "- market\n",
    "- portfolio\n",
    "- trader\n",
    "- strategy\n",
    "\n",
    "The idea behind this decomposition is to follow the nature of the trading activity. A **strategy** is used by a **trader** to manage a **portfolio** on a **market**.\n",
    "\n",
    "When it makes sense, each object has a test version and a real version. So that it's possible to trade without financial risk.\n",
    "\n",
    "Once you have those four components, you can give them to **Tars** so that he can run them."
   ]
  },
  {
   "cell_type": "markdown",
   "id": "approximate-freedom",
   "metadata": {},
   "source": [
    "### Market object\n",
    "\n",
    "Allows to get the latest data from the market. Currently, only the cryptocurrency market is available. To get the latest OHLC data for ETHUSD : "
   ]
  },
  {
   "cell_type": "code",
   "execution_count": 2,
   "id": "possible-journey",
   "metadata": {},
   "outputs": [
    {
     "data": {
      "text/html": [
       "<div>\n",
       "<style scoped>\n",
       "    .dataframe tbody tr th:only-of-type {\n",
       "        vertical-align: middle;\n",
       "    }\n",
       "\n",
       "    .dataframe tbody tr th {\n",
       "        vertical-align: top;\n",
       "    }\n",
       "\n",
       "    .dataframe thead th {\n",
       "        text-align: right;\n",
       "    }\n",
       "</style>\n",
       "<table border=\"1\" class=\"dataframe\">\n",
       "  <thead>\n",
       "    <tr style=\"text-align: right;\">\n",
       "      <th></th>\n",
       "      <th>time</th>\n",
       "      <th>open</th>\n",
       "      <th>high</th>\n",
       "      <th>low</th>\n",
       "      <th>close</th>\n",
       "      <th>vwap</th>\n",
       "      <th>volume</th>\n",
       "      <th>count</th>\n",
       "    </tr>\n",
       "    <tr>\n",
       "      <th>dtime</th>\n",
       "      <th></th>\n",
       "      <th></th>\n",
       "      <th></th>\n",
       "      <th></th>\n",
       "      <th></th>\n",
       "      <th></th>\n",
       "      <th></th>\n",
       "      <th></th>\n",
       "    </tr>\n",
       "  </thead>\n",
       "  <tbody>\n",
       "    <tr>\n",
       "      <th>2021-09-15 15:31:00</th>\n",
       "      <td>1631719860</td>\n",
       "      <td>3484.22</td>\n",
       "      <td>3498.13</td>\n",
       "      <td>3484.22</td>\n",
       "      <td>3497.19</td>\n",
       "      <td>3489.69</td>\n",
       "      <td>223.929291</td>\n",
       "      <td>103</td>\n",
       "    </tr>\n",
       "    <tr>\n",
       "      <th>2021-09-15 15:30:00</th>\n",
       "      <td>1631719800</td>\n",
       "      <td>3483.89</td>\n",
       "      <td>3485.17</td>\n",
       "      <td>3481.12</td>\n",
       "      <td>3484.21</td>\n",
       "      <td>3483.12</td>\n",
       "      <td>50.739923</td>\n",
       "      <td>25</td>\n",
       "    </tr>\n",
       "    <tr>\n",
       "      <th>2021-09-15 15:29:00</th>\n",
       "      <td>1631719740</td>\n",
       "      <td>3482.59</td>\n",
       "      <td>3484.07</td>\n",
       "      <td>3482.59</td>\n",
       "      <td>3483.35</td>\n",
       "      <td>3482.95</td>\n",
       "      <td>4.807671</td>\n",
       "      <td>7</td>\n",
       "    </tr>\n",
       "    <tr>\n",
       "      <th>2021-09-15 15:28:00</th>\n",
       "      <td>1631719680</td>\n",
       "      <td>3480.18</td>\n",
       "      <td>3480.68</td>\n",
       "      <td>3480.18</td>\n",
       "      <td>3480.68</td>\n",
       "      <td>3480.25</td>\n",
       "      <td>12.785327</td>\n",
       "      <td>17</td>\n",
       "    </tr>\n",
       "    <tr>\n",
       "      <th>2021-09-15 15:27:00</th>\n",
       "      <td>1631719620</td>\n",
       "      <td>3478.80</td>\n",
       "      <td>3481.71</td>\n",
       "      <td>3478.79</td>\n",
       "      <td>3480.12</td>\n",
       "      <td>3480.64</td>\n",
       "      <td>3.790237</td>\n",
       "      <td>9</td>\n",
       "    </tr>\n",
       "  </tbody>\n",
       "</table>\n",
       "</div>"
      ],
      "text/plain": [
       "                           time     open     high      low    close     vwap  \\\n",
       "dtime                                                                          \n",
       "2021-09-15 15:31:00  1631719860  3484.22  3498.13  3484.22  3497.19  3489.69   \n",
       "2021-09-15 15:30:00  1631719800  3483.89  3485.17  3481.12  3484.21  3483.12   \n",
       "2021-09-15 15:29:00  1631719740  3482.59  3484.07  3482.59  3483.35  3482.95   \n",
       "2021-09-15 15:28:00  1631719680  3480.18  3480.68  3480.18  3480.68  3480.25   \n",
       "2021-09-15 15:27:00  1631719620  3478.80  3481.71  3478.79  3480.12  3480.64   \n",
       "\n",
       "                         volume  count  \n",
       "dtime                                   \n",
       "2021-09-15 15:31:00  223.929291    103  \n",
       "2021-09-15 15:30:00   50.739923     25  \n",
       "2021-09-15 15:29:00    4.807671      7  \n",
       "2021-09-15 15:28:00   12.785327     17  \n",
       "2021-09-15 15:27:00    3.790237      9  "
      ]
     },
     "execution_count": 2,
     "metadata": {},
     "output_type": "execute_result"
    }
   ],
   "source": [
    "markets.CryptoMarket().get_ohlc_data('XETHZUSD')[0].tail()"
   ]
  },
  {
   "cell_type": "markdown",
   "id": "blessed-confidence",
   "metadata": {},
   "source": [
    "### Portfolio object\n",
    "\n",
    "Represents the portfolio of currencies available for trading. Two objects are at your disposal : \n",
    "\n",
    "    - VirtualPortfolio -> for testing purposed\n",
    "    - CryptoPortfolio -> your real Kraken Exchange portfolio\n"
   ]
  },
  {
   "cell_type": "code",
   "execution_count": 3,
   "id": "specific-digest",
   "metadata": {},
   "outputs": [],
   "source": [
    "# Create a virtual portfolio\n",
    "portfolio = portfolios.VirtualPortfolio(\n",
    "    {'ZUSD': 1000,\n",
    "     'XETH': 30}\n",
    ")"
   ]
  },
  {
   "cell_type": "code",
   "execution_count": 4,
   "id": "productive-modern",
   "metadata": {},
   "outputs": [
    {
     "data": {
      "text/html": [
       "<div>\n",
       "<style scoped>\n",
       "    .dataframe tbody tr th:only-of-type {\n",
       "        vertical-align: middle;\n",
       "    }\n",
       "\n",
       "    .dataframe tbody tr th {\n",
       "        vertical-align: top;\n",
       "    }\n",
       "\n",
       "    .dataframe thead th {\n",
       "        text-align: right;\n",
       "    }\n",
       "</style>\n",
       "<table border=\"1\" class=\"dataframe\">\n",
       "  <thead>\n",
       "    <tr style=\"text-align: right;\">\n",
       "      <th></th>\n",
       "      <th>vol</th>\n",
       "    </tr>\n",
       "  </thead>\n",
       "  <tbody>\n",
       "    <tr>\n",
       "      <th>ZUSD</th>\n",
       "      <td>1000</td>\n",
       "    </tr>\n",
       "    <tr>\n",
       "      <th>XETH</th>\n",
       "      <td>30</td>\n",
       "    </tr>\n",
       "  </tbody>\n",
       "</table>\n",
       "</div>"
      ],
      "text/plain": [
       "       vol\n",
       "ZUSD  1000\n",
       "XETH    30"
      ]
     },
     "execution_count": 4,
     "metadata": {},
     "output_type": "execute_result"
    }
   ],
   "source": [
    "# Get the account balance\n",
    "portfolio.get_account_balance()"
   ]
  },
  {
   "cell_type": "code",
   "execution_count": 5,
   "id": "caroline-consultation",
   "metadata": {},
   "outputs": [
    {
     "data": {
      "text/html": [
       "<div>\n",
       "<style scoped>\n",
       "    .dataframe tbody tr th:only-of-type {\n",
       "        vertical-align: middle;\n",
       "    }\n",
       "\n",
       "    .dataframe tbody tr th {\n",
       "        vertical-align: top;\n",
       "    }\n",
       "\n",
       "    .dataframe thead th {\n",
       "        text-align: right;\n",
       "    }\n",
       "</style>\n",
       "<table border=\"1\" class=\"dataframe\">\n",
       "  <thead>\n",
       "    <tr style=\"text-align: right;\">\n",
       "      <th></th>\n",
       "      <th>ZUSD</th>\n",
       "    </tr>\n",
       "  </thead>\n",
       "  <tbody>\n",
       "    <tr>\n",
       "      <th>eb</th>\n",
       "      <td>107057.2</td>\n",
       "    </tr>\n",
       "  </tbody>\n",
       "</table>\n",
       "</div>"
      ],
      "text/plain": [
       "        ZUSD\n",
       "eb  107057.2"
      ]
     },
     "execution_count": 5,
     "metadata": {},
     "output_type": "execute_result"
    }
   ],
   "source": [
    "# Get the total available amount for trading\n",
    "portfolio.get_trade_balance()"
   ]
  },
  {
   "cell_type": "markdown",
   "id": "banner-privacy",
   "metadata": {},
   "source": [
    "### Trader object\n",
    "\n",
    "Trader is the object allowing to make orders, cancel them, etc. To create a cryptocurrency trader, you also have two objects: \n",
    "\n",
    "    - VirtualCryptoTrader -> for paper trading \n",
    "    - CryptoTrader -> connects to Kraken Exchange for real transactions\n",
    "    "
   ]
  },
  {
   "cell_type": "code",
   "execution_count": 6,
   "id": "dependent-philosophy",
   "metadata": {},
   "outputs": [],
   "source": [
    "# Create the virtual cryptocurrency trader\n",
    "trader = traders.VirtualCryptoTrader(portfolio)"
   ]
  },
  {
   "cell_type": "code",
   "execution_count": 7,
   "id": "agricultural-motel",
   "metadata": {},
   "outputs": [
    {
     "data": {
      "text/plain": [
       "VirtualOrder(dtime=Timestamp('2021-09-16 03:26:41.986200+0000', tz='UTC'), pair='XETHZUSD', ordertype='buy', type='market', price=3535.24, cost=707.048, fee=1.8383247999999999, volume=0.2)"
      ]
     },
     "execution_count": 7,
     "metadata": {},
     "output_type": "execute_result"
    }
   ],
   "source": [
    "# Add an order. Here, buy some ETH \n",
    "trader.add_order(\n",
    "    pair='XETHZUSD', \n",
    "    type='buy',\n",
    "    ordertype='market', \n",
    "    volume=0.2,\n",
    "    validate=True)"
   ]
  },
  {
   "cell_type": "code",
   "execution_count": 8,
   "id": "unknown-climate",
   "metadata": {},
   "outputs": [
    {
     "data": {
      "text/html": [
       "<div>\n",
       "<style scoped>\n",
       "    .dataframe tbody tr th:only-of-type {\n",
       "        vertical-align: middle;\n",
       "    }\n",
       "\n",
       "    .dataframe tbody tr th {\n",
       "        vertical-align: top;\n",
       "    }\n",
       "\n",
       "    .dataframe thead th {\n",
       "        text-align: right;\n",
       "    }\n",
       "</style>\n",
       "<table border=\"1\" class=\"dataframe\">\n",
       "  <thead>\n",
       "    <tr style=\"text-align: right;\">\n",
       "      <th></th>\n",
       "      <th>ordertxid</th>\n",
       "      <th>pair</th>\n",
       "      <th>ordertype</th>\n",
       "      <th>type</th>\n",
       "      <th>price</th>\n",
       "      <th>cost</th>\n",
       "      <th>fee</th>\n",
       "      <th>volume</th>\n",
       "    </tr>\n",
       "    <tr>\n",
       "      <th>dtime</th>\n",
       "      <th></th>\n",
       "      <th></th>\n",
       "      <th></th>\n",
       "      <th></th>\n",
       "      <th></th>\n",
       "      <th></th>\n",
       "      <th></th>\n",
       "      <th></th>\n",
       "    </tr>\n",
       "  </thead>\n",
       "  <tbody>\n",
       "    <tr>\n",
       "      <th>2021-09-16 03:26:41.986200+00:00</th>\n",
       "      <td>e2968d68</td>\n",
       "      <td>XETHZUSD</td>\n",
       "      <td>buy</td>\n",
       "      <td>market</td>\n",
       "      <td>3535.24</td>\n",
       "      <td>707.048</td>\n",
       "      <td>1.838325</td>\n",
       "      <td>0.2</td>\n",
       "    </tr>\n",
       "  </tbody>\n",
       "</table>\n",
       "</div>"
      ],
      "text/plain": [
       "                                 ordertxid      pair ordertype    type  \\\n",
       "dtime                                                                    \n",
       "2021-09-16 03:26:41.986200+00:00  e2968d68  XETHZUSD       buy  market   \n",
       "\n",
       "                                    price     cost       fee  volume  \n",
       "dtime                                                                 \n",
       "2021-09-16 03:26:41.986200+00:00  3535.24  707.048  1.838325     0.2  "
      ]
     },
     "execution_count": 8,
     "metadata": {},
     "output_type": "execute_result"
    }
   ],
   "source": [
    "# You can trace back the actions of a trader to see what he did\n",
    "trader.get_trades_history()[0]"
   ]
  },
  {
   "cell_type": "markdown",
   "id": "comparative-brand",
   "metadata": {},
   "source": [
    "### Strategy object\n",
    "\n",
    "This is the most interesting, this package allows you to choose different ways to trade. Among them: \n",
    "\n",
    "    - BuyAndHold\n",
    "    - RandomInvestment\n",
    "    - SequentialInvestment\n",
    "    - TrendFollowingMACD\n",
    "    - and more...\n",
    "\n",
    "For instance, to create the simplest `BuyAndHold` strategy, just do : "
   ]
  },
  {
   "cell_type": "code",
   "execution_count": 9,
   "id": "scenic-stationery",
   "metadata": {},
   "outputs": [],
   "source": [
    "strategy = strategies.BuyAndHold(\n",
    "    trader, \n",
    "    'XETHZUSD', \n",
    "    0.2)"
   ]
  },
  {
   "cell_type": "markdown",
   "id": "spatial-palace",
   "metadata": {},
   "source": [
    "And don't forget to call for help when you're unsure about the signature needed for a strategy, they are sometimes different."
   ]
  },
  {
   "cell_type": "code",
   "execution_count": 10,
   "id": "designing-italy",
   "metadata": {},
   "outputs": [
    {
     "name": "stdout",
     "output_type": "stream",
     "text": [
      "Help on class BuyAndHold in module tars.strategies.buy_and_hold_strategy:\n",
      "\n",
      "class BuyAndHold(tars.strategies.abstract_strategy.AbstractStrategy)\n",
      " |  BuyAndHold(trader, pair, volume, validate=True)\n",
      " |  \n",
      " |  The buy and hold strategy is the reference strategy needed in all\n",
      " |  scenario of comparison as it allows for setting the baseline.\n",
      " |  \n",
      " |  :param trader: Trader\n",
      " |      The Trader handling a portfolio\n",
      " |  :param pair: str\n",
      " |      The pair e.g. XETHZUSD to buy and hold\n",
      " |  :param volume: float\n",
      " |      The volume of the pair's quote buy\n",
      " |  :param validate: boolean\n",
      " |      Safety Boolean to make sure not to trade real money by default\n",
      " |  \n",
      " |  :ivar has_run: boolean\n",
      " |      Boolean describing if the strategy has run or not yet.\n",
      " |  :ivar evaluator: AbstractEvaluator\n",
      " |      Evaluator allows for the evaluation of a strategy\n",
      " |  \n",
      " |  Method resolution order:\n",
      " |      BuyAndHold\n",
      " |      tars.strategies.abstract_strategy.AbstractStrategy\n",
      " |      abc.ABC\n",
      " |      builtins.object\n",
      " |  \n",
      " |  Methods defined here:\n",
      " |  \n",
      " |  __init__(self, trader, pair, volume, validate=True)\n",
      " |      Initialize self.  See help(type(self)) for accurate signature.\n",
      " |  \n",
      " |  run(self) -> NoReturn\n",
      " |      Run the strategy\n",
      " |  \n",
      " |  ----------------------------------------------------------------------\n",
      " |  Data and other attributes defined here:\n",
      " |  \n",
      " |  __abstractmethods__ = frozenset()\n",
      " |  \n",
      " |  ----------------------------------------------------------------------\n",
      " |  Data descriptors inherited from tars.strategies.abstract_strategy.AbstractStrategy:\n",
      " |  \n",
      " |  __dict__\n",
      " |      dictionary for instance variables (if defined)\n",
      " |  \n",
      " |  __weakref__\n",
      " |      list of weak references to the object (if defined)\n",
      "\n"
     ]
    }
   ],
   "source": [
    "help(strategies.BuyAndHold)"
   ]
  },
  {
   "cell_type": "markdown",
   "id": "historical-quantity",
   "metadata": {},
   "source": [
    "#### Create your own strategy"
   ]
  },
  {
   "cell_type": "markdown",
   "id": "productive-bumper",
   "metadata": {},
   "source": [
    "It's super simple to create your own new strategy and I encourage you \n",
    "to give it a shot! \n",
    "\n",
    "To do it, you just need to inherit from \n",
    "the `AbstractStrategy`and implement a `run` function without parameters. You can check the different existing strategies to see how to do it if you have a doubt.\n",
    "\n",
    "---"
   ]
  },
  {
   "cell_type": "markdown",
   "id": "disciplinary-lightning",
   "metadata": {},
   "source": [
    "## Run a strategy with Tars"
   ]
  },
  {
   "cell_type": "code",
   "execution_count": 12,
   "id": "ranging-tobacco",
   "metadata": {},
   "outputs": [
    {
     "name": "stdout",
     "output_type": "stream",
     "text": [
      " 🤖 TARS : Welcome to Endurance! 👨‍🚀\n",
      " 🤖 TARS : Loaded strategy ➡️ Buy and hold\n"
     ]
    }
   ],
   "source": [
    "tars = Tars()\n",
    "tars.load(strategy)"
   ]
  },
  {
   "cell_type": "markdown",
   "id": "mounted-search",
   "metadata": {},
   "source": [
    "### Start the bot"
   ]
  },
  {
   "cell_type": "code",
   "execution_count": 13,
   "id": "imperial-prefix",
   "metadata": {},
   "outputs": [
    {
     "name": "stdout",
     "output_type": "stream",
     "text": [
      " 🤖 TARS : Starting trading session 📈\n",
      " ⏱ Trading decision will be taken every : 00:01:00️ (hh:mm:ss)\n",
      " 💪️ Loading :   \n",
      "   🧵 'Thread-8' ➡️ 'Buy and hold'\n"
     ]
    }
   ],
   "source": [
    "tars.start('00:01:00')"
   ]
  },
  {
   "cell_type": "markdown",
   "id": "fiscal-model",
   "metadata": {},
   "source": [
    "### Evaluate the strategy"
   ]
  },
  {
   "cell_type": "code",
   "execution_count": 26,
   "id": "important-movement",
   "metadata": {},
   "outputs": [
    {
     "data": {
      "image/png": "[encoded data removed]",
      "text/plain": [
       "<Figure size 432x288 with 1 Axes>"
      ]
     },
     "metadata": {
      "needs_background": "light"
     },
     "output_type": "display_data"
    }
   ],
   "source": [
    "tars.plot()"
   ]
  },
  {
   "cell_type": "code",
   "execution_count": 25,
   "id": "green-witness",
   "metadata": {},
   "outputs": [
    {
     "data": {
      "text/html": [
       "<div>\n",
       "<style scoped>\n",
       "    .dataframe tbody tr th:only-of-type {\n",
       "        vertical-align: middle;\n",
       "    }\n",
       "\n",
       "    .dataframe tbody tr th {\n",
       "        vertical-align: top;\n",
       "    }\n",
       "\n",
       "    .dataframe thead th {\n",
       "        text-align: right;\n",
       "    }\n",
       "</style>\n",
       "<table border=\"1\" class=\"dataframe\">\n",
       "  <thead>\n",
       "    <tr style=\"text-align: right;\">\n",
       "      <th></th>\n",
       "      <th>Buy and hold</th>\n",
       "    </tr>\n",
       "  </thead>\n",
       "  <tbody>\n",
       "    <tr>\n",
       "      <th>2021-09-16 03:27:00+00:00</th>\n",
       "      <td>107146.56</td>\n",
       "    </tr>\n",
       "    <tr>\n",
       "      <th>2021-09-16 03:28:00+00:00</th>\n",
       "      <td>107153.51</td>\n",
       "    </tr>\n",
       "    <tr>\n",
       "      <th>2021-09-16 03:29:00+00:00</th>\n",
       "      <td>106988.01</td>\n",
       "    </tr>\n",
       "  </tbody>\n",
       "</table>\n",
       "</div>"
      ],
      "text/plain": [
       "                           Buy and hold\n",
       "2021-09-16 03:27:00+00:00     107146.56\n",
       "2021-09-16 03:28:00+00:00     107153.51\n",
       "2021-09-16 03:29:00+00:00     106988.01"
      ]
     },
     "execution_count": 25,
     "metadata": {},
     "output_type": "execute_result"
    }
   ],
   "source": [
    "tars.evaluate()"
   ]
  },
  {
   "cell_type": "markdown",
   "id": "comic-fossil",
   "metadata": {},
   "source": [
    "### Stop the bot"
   ]
  },
  {
   "cell_type": "code",
   "execution_count": 27,
   "id": "sharp-plant",
   "metadata": {},
   "outputs": [
    {
     "name": "stdout",
     "output_type": "stream",
     "text": [
      " 🤖 TARS : ✋ Stopped all strategies\n"
     ]
    }
   ],
   "source": [
    "tars.stop()"
   ]
  },
  {
   "cell_type": "markdown",
   "id": "interstate-prize",
   "metadata": {},
   "source": [
    "### Trade with real money"
   ]
  },
  {
   "cell_type": "markdown",
   "id": "vocational-danger",
   "metadata": {},
   "source": [
    "To do that, just change the portfolio and trader objects as follow:\n",
    "    \n",
    "    - VirtualPortfolio should become CryptoPortfolio\n",
    "    - VirtualCryptoTrader should become CryptoTrader\n",
    "    \n",
    "Update the boolean `validating` trader arguments to `False`, run Tars and let him do his job!\n",
    "\n",
    "---"
   ]
  },
  {
   "cell_type": "markdown",
   "id": "activated-arthur",
   "metadata": {},
   "source": [
    "## What else?\n",
    "\n",
    "Some tutorials are available in the `notebooks/tutorials`folder. So far:\n",
    "\n",
    "    - One about historical data loading\n",
    "    - Trading for real\n",
    "    - Trading virtually\n",
    "    "
   ]
  },
  {
   "cell_type": "markdown",
   "id": "variable-resistance",
   "metadata": {},
   "source": [
    "### Any Questions?"
   ]
  },
  {
   "cell_type": "markdown",
   "id": "animal-house",
   "metadata": {},
   "source": [
    "If you have any questions, feel free to contact me or put an issue on GitHub."
   ]
  },
  {
   "cell_type": "markdown",
   "id": "classical-ancient",
   "metadata": {},
   "source": [
    "---"
   ]
  }
 ],
 "metadata": {
  "kernelspec": {
   "display_name": "Python 3 (ipykernel)",
   "language": "python",
   "name": "python3"
  },
  "language_info": {
   "codemirror_mode": {
    "name": "ipython",
    "version": 3
   },
   "file_extension": ".py",
   "mimetype": "text/x-python",
   "name": "python",
   "nbconvert_exporter": "python",
   "pygments_lexer": "ipython3",
   "version": "3.8.7"
  }
 },
 "nbformat": 4,
 "nbformat_minor": 5
}
