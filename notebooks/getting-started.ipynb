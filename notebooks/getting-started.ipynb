{
 "cells": [
  {
   "cell_type": "markdown",
   "id": "experienced-buying",
   "metadata": {},
   "source": [
    "# Getting started"
   ]
  },
  {
   "cell_type": "markdown",
   "id": "unnecessary-uncle",
   "metadata": {},
   "source": [
    "Welcome to the getting started of TARS, a small crypto trading bot made for exploration of new tarding methods.  "
   ]
  },
  {
   "cell_type": "markdown",
   "id": "supposed-association",
   "metadata": {},
   "source": [
    "## Import"
   ]
  },
  {
   "cell_type": "code",
   "execution_count": 1,
   "id": "destroyed-abuse",
   "metadata": {},
   "outputs": [],
   "source": [
    "from src import TARS"
   ]
  },
  {
   "cell_type": "markdown",
   "id": "saving-pharmacy",
   "metadata": {},
   "source": [
    "## Constants"
   ]
  },
  {
   "cell_type": "code",
   "execution_count": 2,
   "id": "stretch-point",
   "metadata": {},
   "outputs": [],
   "source": [
    "root = '../'\n",
    "api_key = f'{root}kraken.key'"
   ]
  },
  {
   "cell_type": "markdown",
   "id": "instant-arizona",
   "metadata": {},
   "source": [
    "---"
   ]
  },
  {
   "cell_type": "markdown",
   "id": "overhead-knitting",
   "metadata": {},
   "source": [
    "## Create TARS"
   ]
  },
  {
   "cell_type": "code",
   "execution_count": 3,
   "id": "usual-excerpt",
   "metadata": {},
   "outputs": [],
   "source": [
    "tars = TARS(api_key)"
   ]
  },
  {
   "cell_type": "markdown",
   "id": "yellow-photographer",
   "metadata": {},
   "source": [
    "### Check a public route"
   ]
  },
  {
   "cell_type": "markdown",
   "id": "remarkable-receptor",
   "metadata": {},
   "source": [
    "Get the current informations of a pair"
   ]
  },
  {
   "cell_type": "code",
   "execution_count": 4,
   "id": "departmental-comparison",
   "metadata": {},
   "outputs": [],
   "source": [
    "d, l = tars.kraken.get_ohlc_data('ETHCHF')"
   ]
  },
  {
   "cell_type": "code",
   "execution_count": 5,
   "id": "traditional-kidney",
   "metadata": {},
   "outputs": [
    {
     "data": {
      "text/html": [
       "<div>\n",
       "<style scoped>\n",
       "    .dataframe tbody tr th:only-of-type {\n",
       "        vertical-align: middle;\n",
       "    }\n",
       "\n",
       "    .dataframe tbody tr th {\n",
       "        vertical-align: top;\n",
       "    }\n",
       "\n",
       "    .dataframe thead th {\n",
       "        text-align: right;\n",
       "    }\n",
       "</style>\n",
       "<table border=\"1\" class=\"dataframe\">\n",
       "  <thead>\n",
       "    <tr style=\"text-align: right;\">\n",
       "      <th></th>\n",
       "      <th>time</th>\n",
       "      <th>open</th>\n",
       "      <th>high</th>\n",
       "      <th>low</th>\n",
       "      <th>close</th>\n",
       "      <th>vwap</th>\n",
       "      <th>volume</th>\n",
       "      <th>count</th>\n",
       "    </tr>\n",
       "    <tr>\n",
       "      <th>dtime</th>\n",
       "      <th></th>\n",
       "      <th></th>\n",
       "      <th></th>\n",
       "      <th></th>\n",
       "      <th></th>\n",
       "      <th></th>\n",
       "      <th></th>\n",
       "      <th></th>\n",
       "    </tr>\n",
       "  </thead>\n",
       "  <tbody>\n",
       "    <tr>\n",
       "      <th>2021-05-31 14:15:00</th>\n",
       "      <td>1622470500</td>\n",
       "      <td>2272.98</td>\n",
       "      <td>2282.52</td>\n",
       "      <td>2272.98</td>\n",
       "      <td>2282.52</td>\n",
       "      <td>2273.42</td>\n",
       "      <td>0.729576</td>\n",
       "      <td>2</td>\n",
       "    </tr>\n",
       "    <tr>\n",
       "      <th>2021-05-31 14:14:00</th>\n",
       "      <td>1622470440</td>\n",
       "      <td>2279.60</td>\n",
       "      <td>2279.60</td>\n",
       "      <td>2279.60</td>\n",
       "      <td>2279.60</td>\n",
       "      <td>0.00</td>\n",
       "      <td>0.000000</td>\n",
       "      <td>0</td>\n",
       "    </tr>\n",
       "    <tr>\n",
       "      <th>2021-05-31 14:13:00</th>\n",
       "      <td>1622470380</td>\n",
       "      <td>2279.60</td>\n",
       "      <td>2279.60</td>\n",
       "      <td>2279.60</td>\n",
       "      <td>2279.60</td>\n",
       "      <td>0.00</td>\n",
       "      <td>0.000000</td>\n",
       "      <td>0</td>\n",
       "    </tr>\n",
       "    <tr>\n",
       "      <th>2021-05-31 14:12:00</th>\n",
       "      <td>1622470320</td>\n",
       "      <td>2279.59</td>\n",
       "      <td>2279.60</td>\n",
       "      <td>2279.59</td>\n",
       "      <td>2279.60</td>\n",
       "      <td>2279.59</td>\n",
       "      <td>0.438235</td>\n",
       "      <td>2</td>\n",
       "    </tr>\n",
       "    <tr>\n",
       "      <th>2021-05-31 14:11:00</th>\n",
       "      <td>1622470260</td>\n",
       "      <td>2271.37</td>\n",
       "      <td>2271.37</td>\n",
       "      <td>2271.37</td>\n",
       "      <td>2271.37</td>\n",
       "      <td>0.00</td>\n",
       "      <td>0.000000</td>\n",
       "      <td>0</td>\n",
       "    </tr>\n",
       "    <tr>\n",
       "      <th>...</th>\n",
       "      <td>...</td>\n",
       "      <td>...</td>\n",
       "      <td>...</td>\n",
       "      <td>...</td>\n",
       "      <td>...</td>\n",
       "      <td>...</td>\n",
       "      <td>...</td>\n",
       "      <td>...</td>\n",
       "    </tr>\n",
       "    <tr>\n",
       "      <th>2021-05-31 02:20:00</th>\n",
       "      <td>1622427600</td>\n",
       "      <td>2089.14</td>\n",
       "      <td>2089.14</td>\n",
       "      <td>2089.14</td>\n",
       "      <td>2089.14</td>\n",
       "      <td>0.00</td>\n",
       "      <td>0.000000</td>\n",
       "      <td>0</td>\n",
       "    </tr>\n",
       "    <tr>\n",
       "      <th>2021-05-31 02:19:00</th>\n",
       "      <td>1622427540</td>\n",
       "      <td>2089.14</td>\n",
       "      <td>2089.14</td>\n",
       "      <td>2089.14</td>\n",
       "      <td>2089.14</td>\n",
       "      <td>0.00</td>\n",
       "      <td>0.000000</td>\n",
       "      <td>0</td>\n",
       "    </tr>\n",
       "    <tr>\n",
       "      <th>2021-05-31 02:18:00</th>\n",
       "      <td>1622427480</td>\n",
       "      <td>2089.14</td>\n",
       "      <td>2089.14</td>\n",
       "      <td>2089.14</td>\n",
       "      <td>2089.14</td>\n",
       "      <td>0.00</td>\n",
       "      <td>0.000000</td>\n",
       "      <td>0</td>\n",
       "    </tr>\n",
       "    <tr>\n",
       "      <th>2021-05-31 02:17:00</th>\n",
       "      <td>1622427420</td>\n",
       "      <td>2089.14</td>\n",
       "      <td>2089.14</td>\n",
       "      <td>2089.14</td>\n",
       "      <td>2089.14</td>\n",
       "      <td>0.00</td>\n",
       "      <td>0.000000</td>\n",
       "      <td>0</td>\n",
       "    </tr>\n",
       "    <tr>\n",
       "      <th>2021-05-31 02:16:00</th>\n",
       "      <td>1622427360</td>\n",
       "      <td>2089.14</td>\n",
       "      <td>2089.14</td>\n",
       "      <td>2089.14</td>\n",
       "      <td>2089.14</td>\n",
       "      <td>0.00</td>\n",
       "      <td>0.000000</td>\n",
       "      <td>0</td>\n",
       "    </tr>\n",
       "  </tbody>\n",
       "</table>\n",
       "<p>720 rows × 8 columns</p>\n",
       "</div>"
      ],
      "text/plain": [
       "                           time     open     high      low    close     vwap  \\\n",
       "dtime                                                                          \n",
       "2021-05-31 14:15:00  1622470500  2272.98  2282.52  2272.98  2282.52  2273.42   \n",
       "2021-05-31 14:14:00  1622470440  2279.60  2279.60  2279.60  2279.60     0.00   \n",
       "2021-05-31 14:13:00  1622470380  2279.60  2279.60  2279.60  2279.60     0.00   \n",
       "2021-05-31 14:12:00  1622470320  2279.59  2279.60  2279.59  2279.60  2279.59   \n",
       "2021-05-31 14:11:00  1622470260  2271.37  2271.37  2271.37  2271.37     0.00   \n",
       "...                         ...      ...      ...      ...      ...      ...   \n",
       "2021-05-31 02:20:00  1622427600  2089.14  2089.14  2089.14  2089.14     0.00   \n",
       "2021-05-31 02:19:00  1622427540  2089.14  2089.14  2089.14  2089.14     0.00   \n",
       "2021-05-31 02:18:00  1622427480  2089.14  2089.14  2089.14  2089.14     0.00   \n",
       "2021-05-31 02:17:00  1622427420  2089.14  2089.14  2089.14  2089.14     0.00   \n",
       "2021-05-31 02:16:00  1622427360  2089.14  2089.14  2089.14  2089.14     0.00   \n",
       "\n",
       "                       volume  count  \n",
       "dtime                                 \n",
       "2021-05-31 14:15:00  0.729576      2  \n",
       "2021-05-31 14:14:00  0.000000      0  \n",
       "2021-05-31 14:13:00  0.000000      0  \n",
       "2021-05-31 14:12:00  0.438235      2  \n",
       "2021-05-31 14:11:00  0.000000      0  \n",
       "...                       ...    ...  \n",
       "2021-05-31 02:20:00  0.000000      0  \n",
       "2021-05-31 02:19:00  0.000000      0  \n",
       "2021-05-31 02:18:00  0.000000      0  \n",
       "2021-05-31 02:17:00  0.000000      0  \n",
       "2021-05-31 02:16:00  0.000000      0  \n",
       "\n",
       "[720 rows x 8 columns]"
      ]
     },
     "execution_count": 5,
     "metadata": {},
     "output_type": "execute_result"
    }
   ],
   "source": [
    "d"
   ]
  },
  {
   "cell_type": "markdown",
   "id": "expanded-pledge",
   "metadata": {},
   "source": [
    "### Check a private route"
   ]
  },
  {
   "cell_type": "markdown",
   "id": "center-maintenance",
   "metadata": {},
   "source": [
    "Get the current balance of your account"
   ]
  },
  {
   "cell_type": "code",
   "execution_count": 6,
   "id": "suited-syndrome",
   "metadata": {},
   "outputs": [],
   "source": [
    "r = tars.kraken.get_account_balance()"
   ]
  },
  {
   "cell_type": "code",
   "execution_count": 7,
   "id": "satisfied-enzyme",
   "metadata": {},
   "outputs": [
    {
     "data": {
      "text/html": [
       "<div>\n",
       "<style scoped>\n",
       "    .dataframe tbody tr th:only-of-type {\n",
       "        vertical-align: middle;\n",
       "    }\n",
       "\n",
       "    .dataframe tbody tr th {\n",
       "        vertical-align: top;\n",
       "    }\n",
       "\n",
       "    .dataframe thead th {\n",
       "        text-align: right;\n",
       "    }\n",
       "</style>\n",
       "<table border=\"1\" class=\"dataframe\">\n",
       "  <thead>\n",
       "    <tr style=\"text-align: right;\">\n",
       "      <th></th>\n",
       "      <th>vol</th>\n",
       "    </tr>\n",
       "  </thead>\n",
       "  <tbody>\n",
       "    <tr>\n",
       "      <th>ZUSD</th>\n",
       "      <td>3.582530e+01</td>\n",
       "    </tr>\n",
       "    <tr>\n",
       "      <th>CHF</th>\n",
       "      <td>0.000000e+00</td>\n",
       "    </tr>\n",
       "    <tr>\n",
       "      <th>XXBT</th>\n",
       "      <td>2.680000e-07</td>\n",
       "    </tr>\n",
       "    <tr>\n",
       "      <th>XXRP</th>\n",
       "      <td>0.000000e+00</td>\n",
       "    </tr>\n",
       "    <tr>\n",
       "      <th>XXDG</th>\n",
       "      <td>0.000000e+00</td>\n",
       "    </tr>\n",
       "    <tr>\n",
       "      <th>XETH</th>\n",
       "      <td>1.038816e-02</td>\n",
       "    </tr>\n",
       "    <tr>\n",
       "      <th>XXMR</th>\n",
       "      <td>0.000000e+00</td>\n",
       "    </tr>\n",
       "    <tr>\n",
       "      <th>ADA</th>\n",
       "      <td>0.000000e+00</td>\n",
       "    </tr>\n",
       "    <tr>\n",
       "      <th>QTUM</th>\n",
       "      <td>0.000000e+00</td>\n",
       "    </tr>\n",
       "    <tr>\n",
       "      <th>FLOW</th>\n",
       "      <td>2.000000e-08</td>\n",
       "    </tr>\n",
       "    <tr>\n",
       "      <th>GRT</th>\n",
       "      <td>0.000000e+00</td>\n",
       "    </tr>\n",
       "    <tr>\n",
       "      <th>OCEAN</th>\n",
       "      <td>0.000000e+00</td>\n",
       "    </tr>\n",
       "  </tbody>\n",
       "</table>\n",
       "</div>"
      ],
      "text/plain": [
       "                vol\n",
       "ZUSD   3.582530e+01\n",
       "CHF    0.000000e+00\n",
       "XXBT   2.680000e-07\n",
       "XXRP   0.000000e+00\n",
       "XXDG   0.000000e+00\n",
       "XETH   1.038816e-02\n",
       "XXMR   0.000000e+00\n",
       "ADA    0.000000e+00\n",
       "QTUM   0.000000e+00\n",
       "FLOW   2.000000e-08\n",
       "GRT    0.000000e+00\n",
       "OCEAN  0.000000e+00"
      ]
     },
     "execution_count": 7,
     "metadata": {},
     "output_type": "execute_result"
    }
   ],
   "source": [
    "r"
   ]
  },
  {
   "cell_type": "markdown",
   "id": "specialized-indian",
   "metadata": {},
   "source": [
    "### Check currencies available in CHF"
   ]
  },
  {
   "cell_type": "code",
   "execution_count": 8,
   "id": "enclosed-psychiatry",
   "metadata": {},
   "outputs": [
    {
     "data": {
      "text/plain": [
       "['ETHCHF', 'EURCHF', 'USDCHF', 'USDTCHF', 'XBTCHF']"
      ]
     },
     "execution_count": 8,
     "metadata": {},
     "output_type": "execute_result"
    }
   ],
   "source": [
    "pairs = tars.kraken.get_tradable_asset_pairs()\n",
    "pl = pairs.index.to_list()\n",
    "[s for s in pl if \"CHF\" in s]"
   ]
  },
  {
   "cell_type": "markdown",
   "id": "polish-compound",
   "metadata": {},
   "source": [
    "### Make some plots"
   ]
  },
  {
   "cell_type": "markdown",
   "id": "pacific-norway",
   "metadata": {},
   "source": [
    "Close value with rolling windows of 1 and 2 hours"
   ]
  },
  {
   "cell_type": "code",
   "execution_count": 9,
   "id": "indoor-roommate",
   "metadata": {},
   "outputs": [
    {
     "data": {
      "image/png": "[encoded data removed]",
      "text/plain": [
       "<Figure size 432x288 with 1 Axes>"
      ]
     },
     "metadata": {
      "needs_background": "light"
     },
     "output_type": "display_data"
    }
   ],
   "source": [
    "d[['close']].plot();\n",
    "d['close'].rolling(window=60).mean().plot()\n",
    "d['close'].rolling(window=120).mean().plot();"
   ]
  },
  {
   "cell_type": "markdown",
   "id": "raising-holly",
   "metadata": {},
   "source": [
    "### Example methods"
   ]
  },
  {
   "cell_type": "code",
   "execution_count": 10,
   "id": "clean-reception",
   "metadata": {},
   "outputs": [
    {
     "name": "stdout",
     "output_type": "stream",
     "text": [
      "start\n"
     ]
    }
   ],
   "source": [
    "tars.start()"
   ]
  },
  {
   "cell_type": "code",
   "execution_count": 12,
   "id": "bottom-supplier",
   "metadata": {},
   "outputs": [
    {
     "name": "stdout",
     "output_type": "stream",
     "text": [
      "trade\n"
     ]
    }
   ],
   "source": [
    "tars.trade('ETHUSD')"
   ]
  },
  {
   "cell_type": "code",
   "execution_count": 13,
   "id": "circular-whole",
   "metadata": {},
   "outputs": [
    {
     "name": "stdout",
     "output_type": "stream",
     "text": [
      "rebalance\n"
     ]
    }
   ],
   "source": [
    "tars.rebalance()"
   ]
  },
  {
   "cell_type": "code",
   "execution_count": 16,
   "id": "greenhouse-yahoo",
   "metadata": {},
   "outputs": [
    {
     "name": "stdout",
     "output_type": "stream",
     "text": [
      "load model\n"
     ]
    }
   ],
   "source": [
    "my_model = None\n",
    "tars.load_model(my_model)"
   ]
  },
  {
   "cell_type": "code",
   "execution_count": 17,
   "id": "current-niger",
   "metadata": {},
   "outputs": [
    {
     "name": "stdout",
     "output_type": "stream",
     "text": [
      "get performance report\n"
     ]
    }
   ],
   "source": [
    "tars.get_performance_report()"
   ]
  },
  {
   "cell_type": "code",
   "execution_count": 18,
   "id": "universal-judges",
   "metadata": {},
   "outputs": [
    {
     "name": "stdout",
     "output_type": "stream",
     "text": [
      "get portfolio\n"
     ]
    }
   ],
   "source": [
    "tars.get_portfolio()"
   ]
  },
  {
   "cell_type": "code",
   "execution_count": null,
   "id": "collect-cocktail",
   "metadata": {},
   "outputs": [],
   "source": []
  }
 ],
 "metadata": {
  "kernelspec": {
   "display_name": "Python 3",
   "language": "python",
   "name": "python3"
  },
  "language_info": {
   "codemirror_mode": {
    "name": "ipython",
    "version": 3
   },
   "file_extension": ".py",
   "mimetype": "text/x-python",
   "name": "python",
   "nbconvert_exporter": "python",
   "pygments_lexer": "ipython3",
   "version": "3.8.7"
  }
 },
 "nbformat": 4,
 "nbformat_minor": 5
}
