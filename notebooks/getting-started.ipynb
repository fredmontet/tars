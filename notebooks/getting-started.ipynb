{
 "cells": [
  {
   "cell_type": "code",
   "execution_count": 2,
   "id": "maritime-spider",
   "metadata": {
    "collapsed": false,
    "jupyter": {
     "outputs_hidden": false
    },
    "pycharm": {
     "name": "#%%\n"
    }
   },
   "outputs": [],
   "source": [
    "from src import TARS, markets, portfolios, traders, strategies\n",
    "%matplotlib inline"
   ]
  },
  {
   "cell_type": "markdown",
   "id": "linear-jefferson",
   "metadata": {},
   "source": [
    "# Getting Started\n",
    "\n",
    "Welcome on Tars, the coolest crypto trading bot for research purposes. Here's a great first guide to follow to get accustomed with the different module available in Tars."
   ]
  },
  {
   "cell_type": "markdown",
   "id": "distributed-replica",
   "metadata": {},
   "source": [
    "## Concept\n",
    "\n",
    "The goal of Tars is to allow developers to create trading strategies with ease. The concept is composed of the following building blocks : \n",
    "\n",
    "- market\n",
    "- portfolio\n",
    "- trader\n",
    "- strategy\n",
    "\n",
    "The idea behind this decomposition is to follow the nature of the trading activity. A **strategy** is used by a **trader** to manage a **portfolio** on a **market**.\n",
    "\n",
    "When it makes sense, each object has a test version and a real version. So that it's possible to trade without financial risk.\n",
    "\n",
    "Once you have those four components, you can give them to **Tars** so that he can run them."
   ]
  },
  {
   "cell_type": "markdown",
   "id": "magnetic-action",
   "metadata": {},
   "source": [
    "## Market\n",
    "\n",
    "Allows to get the latest data from the market. Currently, only the cryptocurrency market is available. To get the latest OHLC data for ETHUSD : "
   ]
  },
  {
   "cell_type": "code",
   "execution_count": 26,
   "id": "visible-technology",
   "metadata": {},
   "outputs": [
    {
     "data": {
      "text/html": [
       "<div>\n",
       "<style scoped>\n",
       "    .dataframe tbody tr th:only-of-type {\n",
       "        vertical-align: middle;\n",
       "    }\n",
       "\n",
       "    .dataframe tbody tr th {\n",
       "        vertical-align: top;\n",
       "    }\n",
       "\n",
       "    .dataframe thead th {\n",
       "        text-align: right;\n",
       "    }\n",
       "</style>\n",
       "<table border=\"1\" class=\"dataframe\">\n",
       "  <thead>\n",
       "    <tr style=\"text-align: right;\">\n",
       "      <th></th>\n",
       "      <th>time</th>\n",
       "      <th>open</th>\n",
       "      <th>high</th>\n",
       "      <th>low</th>\n",
       "      <th>close</th>\n",
       "      <th>vwap</th>\n",
       "      <th>volume</th>\n",
       "      <th>count</th>\n",
       "    </tr>\n",
       "    <tr>\n",
       "      <th>dtime</th>\n",
       "      <th></th>\n",
       "      <th></th>\n",
       "      <th></th>\n",
       "      <th></th>\n",
       "      <th></th>\n",
       "      <th></th>\n",
       "      <th></th>\n",
       "      <th></th>\n",
       "    </tr>\n",
       "  </thead>\n",
       "  <tbody>\n",
       "    <tr>\n",
       "      <th>2021-08-10 09:06:00</th>\n",
       "      <td>1628586360</td>\n",
       "      <td>3168.27</td>\n",
       "      <td>3168.27</td>\n",
       "      <td>3168.01</td>\n",
       "      <td>3168.01</td>\n",
       "      <td>3168.03</td>\n",
       "      <td>1.849335</td>\n",
       "      <td>3</td>\n",
       "    </tr>\n",
       "    <tr>\n",
       "      <th>2021-08-10 09:05:00</th>\n",
       "      <td>1628586300</td>\n",
       "      <td>3168.01</td>\n",
       "      <td>3169.31</td>\n",
       "      <td>3168.00</td>\n",
       "      <td>3169.31</td>\n",
       "      <td>3168.38</td>\n",
       "      <td>22.446436</td>\n",
       "      <td>21</td>\n",
       "    </tr>\n",
       "    <tr>\n",
       "      <th>2021-08-10 09:04:00</th>\n",
       "      <td>1628586240</td>\n",
       "      <td>3168.61</td>\n",
       "      <td>3169.00</td>\n",
       "      <td>3168.01</td>\n",
       "      <td>3169.00</td>\n",
       "      <td>3168.48</td>\n",
       "      <td>4.254000</td>\n",
       "      <td>9</td>\n",
       "    </tr>\n",
       "    <tr>\n",
       "      <th>2021-08-10 09:03:00</th>\n",
       "      <td>1628586180</td>\n",
       "      <td>3167.27</td>\n",
       "      <td>3168.54</td>\n",
       "      <td>3167.27</td>\n",
       "      <td>3168.00</td>\n",
       "      <td>3168.32</td>\n",
       "      <td>13.394770</td>\n",
       "      <td>11</td>\n",
       "    </tr>\n",
       "    <tr>\n",
       "      <th>2021-08-10 09:02:00</th>\n",
       "      <td>1628586120</td>\n",
       "      <td>3167.62</td>\n",
       "      <td>3172.07</td>\n",
       "      <td>3167.54</td>\n",
       "      <td>3168.89</td>\n",
       "      <td>3169.36</td>\n",
       "      <td>85.237435</td>\n",
       "      <td>108</td>\n",
       "    </tr>\n",
       "  </tbody>\n",
       "</table>\n",
       "</div>"
      ],
      "text/plain": [
       "                           time     open     high      low    close     vwap  \\\n",
       "dtime                                                                          \n",
       "2021-08-10 09:06:00  1628586360  3168.27  3168.27  3168.01  3168.01  3168.03   \n",
       "2021-08-10 09:05:00  1628586300  3168.01  3169.31  3168.00  3169.31  3168.38   \n",
       "2021-08-10 09:04:00  1628586240  3168.61  3169.00  3168.01  3169.00  3168.48   \n",
       "2021-08-10 09:03:00  1628586180  3167.27  3168.54  3167.27  3168.00  3168.32   \n",
       "2021-08-10 09:02:00  1628586120  3167.62  3172.07  3167.54  3168.89  3169.36   \n",
       "\n",
       "                        volume  count  \n",
       "dtime                                  \n",
       "2021-08-10 09:06:00   1.849335      3  \n",
       "2021-08-10 09:05:00  22.446436     21  \n",
       "2021-08-10 09:04:00   4.254000      9  \n",
       "2021-08-10 09:03:00  13.394770     11  \n",
       "2021-08-10 09:02:00  85.237435    108  "
      ]
     },
     "execution_count": 26,
     "metadata": {},
     "output_type": "execute_result"
    }
   ],
   "source": [
    "markets.CryptoMarket().get_ohlc_data('XETHZUSD')[0].tail()"
   ]
  },
  {
   "cell_type": "markdown",
   "id": "changed-imagination",
   "metadata": {},
   "source": [
    "## Portfolio\n",
    "\n",
    "Represents the portfolio of currencies available for trading. Two objects are at your disposal : \n",
    "\n",
    "    - VirtualPortfolio -> for testing purposed\n",
    "    - CryptoPortfolio -> your real Kraken Exchange portfolio\n"
   ]
  },
  {
   "cell_type": "code",
   "execution_count": 15,
   "id": "worthy-thirty",
   "metadata": {},
   "outputs": [],
   "source": [
    "# Create a virtual portfolio\n",
    "portfolio = portfolios.VirtualPortfolio(\n",
    "    {'ZUSD': 1000,\n",
    "     'XETH': 30}\n",
    ")"
   ]
  },
  {
   "cell_type": "code",
   "execution_count": 19,
   "id": "norman-packing",
   "metadata": {},
   "outputs": [
    {
     "data": {
      "text/html": [
       "<div>\n",
       "<style scoped>\n",
       "    .dataframe tbody tr th:only-of-type {\n",
       "        vertical-align: middle;\n",
       "    }\n",
       "\n",
       "    .dataframe tbody tr th {\n",
       "        vertical-align: top;\n",
       "    }\n",
       "\n",
       "    .dataframe thead th {\n",
       "        text-align: right;\n",
       "    }\n",
       "</style>\n",
       "<table border=\"1\" class=\"dataframe\">\n",
       "  <thead>\n",
       "    <tr style=\"text-align: right;\">\n",
       "      <th></th>\n",
       "      <th>vol</th>\n",
       "    </tr>\n",
       "  </thead>\n",
       "  <tbody>\n",
       "    <tr>\n",
       "      <th>ZUSD</th>\n",
       "      <td>1000</td>\n",
       "    </tr>\n",
       "    <tr>\n",
       "      <th>XETH</th>\n",
       "      <td>30</td>\n",
       "    </tr>\n",
       "  </tbody>\n",
       "</table>\n",
       "</div>"
      ],
      "text/plain": [
       "       vol\n",
       "ZUSD  1000\n",
       "XETH    30"
      ]
     },
     "execution_count": 19,
     "metadata": {},
     "output_type": "execute_result"
    }
   ],
   "source": [
    "# Get the account balance\n",
    "portfolio.get_account_balance()"
   ]
  },
  {
   "cell_type": "code",
   "execution_count": 20,
   "id": "fatty-halloween",
   "metadata": {},
   "outputs": [
    {
     "data": {
      "text/html": [
       "<div>\n",
       "<style scoped>\n",
       "    .dataframe tbody tr th:only-of-type {\n",
       "        vertical-align: middle;\n",
       "    }\n",
       "\n",
       "    .dataframe tbody tr th {\n",
       "        vertical-align: top;\n",
       "    }\n",
       "\n",
       "    .dataframe thead th {\n",
       "        text-align: right;\n",
       "    }\n",
       "</style>\n",
       "<table border=\"1\" class=\"dataframe\">\n",
       "  <thead>\n",
       "    <tr style=\"text-align: right;\">\n",
       "      <th></th>\n",
       "      <th>ZUSD</th>\n",
       "    </tr>\n",
       "  </thead>\n",
       "  <tbody>\n",
       "    <tr>\n",
       "      <th>eb</th>\n",
       "      <td>95736.7</td>\n",
       "    </tr>\n",
       "  </tbody>\n",
       "</table>\n",
       "</div>"
      ],
      "text/plain": [
       "       ZUSD\n",
       "eb  95736.7"
      ]
     },
     "execution_count": 20,
     "metadata": {},
     "output_type": "execute_result"
    }
   ],
   "source": [
    "# Get the total available amount for trading\n",
    "portfolio.get_trade_balance()"
   ]
  },
  {
   "cell_type": "markdown",
   "id": "circular-specialist",
   "metadata": {},
   "source": [
    "## Trader\n",
    "\n",
    "Trader is the object allowing to make orders, cancel them, etc. To create a cryptocurrency trader, you also have two objects: \n",
    "\n",
    "    - VirtualCryptoTrader -> for paper trading \n",
    "    - CryptoTrader -> connects to Kraken Exchange for real transactions"
   ]
  },
  {
   "cell_type": "code",
   "execution_count": 27,
   "id": "interracial-grill",
   "metadata": {},
   "outputs": [],
   "source": [
    "# Create the virtual cryptocurrency trader\n",
    "trader = traders.VirtualCryptoTrader(portfolio)"
   ]
  },
  {
   "cell_type": "code",
   "execution_count": 28,
   "id": "artificial-reform",
   "metadata": {},
   "outputs": [
    {
     "data": {
      "text/plain": [
       "VirtualOrder(dtime=Timestamp('2021-08-10 21:03:23.323794+0000', tz='UTC'), pair='XETHZUSD', ordertype='buy', type='market', price=3159.94, cost=631.988, fee=1.6431688, volume=0.2)"
      ]
     },
     "execution_count": 28,
     "metadata": {},
     "output_type": "execute_result"
    }
   ],
   "source": [
    "# Add an order. Here, buy some ETH \n",
    "trader.add_order(\n",
    "    pair='XETHZUSD', \n",
    "    type='buy',\n",
    "    ordertype='market', \n",
    "    volume=0.2,\n",
    "    validate=True)"
   ]
  },
  {
   "cell_type": "code",
   "execution_count": 29,
   "id": "refined-segment",
   "metadata": {},
   "outputs": [
    {
     "data": {
      "text/html": [
       "<div>\n",
       "<style scoped>\n",
       "    .dataframe tbody tr th:only-of-type {\n",
       "        vertical-align: middle;\n",
       "    }\n",
       "\n",
       "    .dataframe tbody tr th {\n",
       "        vertical-align: top;\n",
       "    }\n",
       "\n",
       "    .dataframe thead th {\n",
       "        text-align: right;\n",
       "    }\n",
       "</style>\n",
       "<table border=\"1\" class=\"dataframe\">\n",
       "  <thead>\n",
       "    <tr style=\"text-align: right;\">\n",
       "      <th></th>\n",
       "      <th>ordertxid</th>\n",
       "      <th>pair</th>\n",
       "      <th>ordertype</th>\n",
       "      <th>type</th>\n",
       "      <th>price</th>\n",
       "      <th>cost</th>\n",
       "      <th>fee</th>\n",
       "      <th>volume</th>\n",
       "    </tr>\n",
       "    <tr>\n",
       "      <th>dtime</th>\n",
       "      <th></th>\n",
       "      <th></th>\n",
       "      <th></th>\n",
       "      <th></th>\n",
       "      <th></th>\n",
       "      <th></th>\n",
       "      <th></th>\n",
       "      <th></th>\n",
       "    </tr>\n",
       "  </thead>\n",
       "  <tbody>\n",
       "    <tr>\n",
       "      <th>2021-08-10 21:03:23.323794+00:00</th>\n",
       "      <td>4f5ce631</td>\n",
       "      <td>XETHZUSD</td>\n",
       "      <td>buy</td>\n",
       "      <td>market</td>\n",
       "      <td>3159.94</td>\n",
       "      <td>631.988</td>\n",
       "      <td>1.643169</td>\n",
       "      <td>0.2</td>\n",
       "    </tr>\n",
       "  </tbody>\n",
       "</table>\n",
       "</div>"
      ],
      "text/plain": [
       "                                 ordertxid      pair ordertype    type  \\\n",
       "dtime                                                                    \n",
       "2021-08-10 21:03:23.323794+00:00  4f5ce631  XETHZUSD       buy  market   \n",
       "\n",
       "                                    price     cost       fee  volume  \n",
       "dtime                                                                 \n",
       "2021-08-10 21:03:23.323794+00:00  3159.94  631.988  1.643169     0.2  "
      ]
     },
     "execution_count": 29,
     "metadata": {},
     "output_type": "execute_result"
    }
   ],
   "source": [
    "# You can trace back the actions of a trader to see what he did\n",
    "trader.get_trades_history()[0]"
   ]
  },
  {
   "cell_type": "markdown",
   "id": "lovely-stroke",
   "metadata": {},
   "source": [
    "## Strategy\n",
    "\n",
    "This is the most interesting, this package allows you to choose different ways to trade. Among them: \n",
    "\n",
    "    - BuyAndHold\n",
    "    - RandomInvestment\n",
    "    - SequentialInvestment\n",
    "    - TrendFollowingMACD\n",
    "    - and more...\n",
    "\n",
    "For instance, to create the simplest `BuyAndHold` strategy, just do : "
   ]
  },
  {
   "cell_type": "code",
   "execution_count": 33,
   "id": "younger-investment",
   "metadata": {},
   "outputs": [],
   "source": [
    "strategy = strategies.BuyAndHold(\n",
    "    trader, \n",
    "    'XETHZUSD', \n",
    "    0.2)"
   ]
  },
  {
   "cell_type": "markdown",
   "id": "quantitative-albany",
   "metadata": {},
   "source": [
    "And don't forget to call for help when you're unsure about the signature needed for a strategy, they are sometimes different."
   ]
  },
  {
   "cell_type": "code",
   "execution_count": null,
   "id": "enabling-three",
   "metadata": {},
   "outputs": [],
   "source": [
    "help(strategies.BuyAndHold)"
   ]
  },
  {
   "cell_type": "markdown",
   "id": "sunset-concentrate",
   "metadata": {},
   "source": [
    "### Create your own strategy"
   ]
  },
  {
   "cell_type": "markdown",
   "id": "fossil-palestine",
   "metadata": {},
   "source": [
    "It's super simple to create your own new strategy and I encourage you \n",
    "to give it a shot! \n",
    "\n",
    "To do it, you just need to inherit from \n",
    "the `AbstractStrategy`and implement a `run` function without parameters. You can check the different existing strategies to see how to do it if you have a doubt."
   ]
  },
  {
   "cell_type": "markdown",
   "id": "opposite-retail",
   "metadata": {},
   "source": [
    "## Instanciate Tars"
   ]
  },
  {
   "cell_type": "code",
   "execution_count": 36,
   "id": "relative-gazette",
   "metadata": {},
   "outputs": [
    {
     "name": "stdout",
     "output_type": "stream",
     "text": [
      " 🤖 TARS : Welcome to Endurance! 👨‍🚀\n",
      " 🤖 TARS : Loaded strategy ➡️ Buy and hold\n"
     ]
    }
   ],
   "source": [
    "tars = TARS()\n",
    "tars.load(strategy)"
   ]
  },
  {
   "cell_type": "markdown",
   "id": "approved-switch",
   "metadata": {},
   "source": [
    "### Start the bot"
   ]
  },
  {
   "cell_type": "code",
   "execution_count": 38,
   "id": "judicial-semester",
   "metadata": {},
   "outputs": [
    {
     "name": "stdout",
     "output_type": "stream",
     "text": [
      " 🤖 TARS : Starting trading session 📈\n",
      " ⏱ Trading decision will be taken every : 00:01:00️ (hh:mm:ss)\n",
      " 💪️ Loading :   \n",
      "   🧵 'Thread-5' ➡️ 'Buy and hold'\n"
     ]
    }
   ],
   "source": [
    "tars.start('00:01:00')"
   ]
  },
  {
   "cell_type": "markdown",
   "id": "disciplinary-middle",
   "metadata": {},
   "source": [
    "### Evaluate the strategy"
   ]
  },
  {
   "cell_type": "code",
   "execution_count": 51,
   "id": "blond-engine",
   "metadata": {},
   "outputs": [
    {
     "data": {
      "image/png": "[encoded data removed]",
      "text/plain": [
       "<Figure size 432x288 with 1 Axes>"
      ]
     },
     "metadata": {
      "needs_background": "light"
     },
     "output_type": "display_data"
    }
   ],
   "source": [
    "tars.plot()"
   ]
  },
  {
   "cell_type": "code",
   "execution_count": 49,
   "id": "reflected-tiffany",
   "metadata": {},
   "outputs": [
    {
     "data": {
      "text/html": [
       "<div>\n",
       "<style scoped>\n",
       "    .dataframe tbody tr th:only-of-type {\n",
       "        vertical-align: middle;\n",
       "    }\n",
       "\n",
       "    .dataframe tbody tr th {\n",
       "        vertical-align: top;\n",
       "    }\n",
       "\n",
       "    .dataframe thead th {\n",
       "        text-align: right;\n",
       "    }\n",
       "</style>\n",
       "<table border=\"1\" class=\"dataframe\">\n",
       "  <thead>\n",
       "    <tr style=\"text-align: right;\">\n",
       "      <th></th>\n",
       "      <th>Buy and hold</th>\n",
       "    </tr>\n",
       "  </thead>\n",
       "  <tbody>\n",
       "    <tr>\n",
       "      <th>2021-08-10 21:12:00+00:00</th>\n",
       "      <td>95741.09</td>\n",
       "    </tr>\n",
       "    <tr>\n",
       "      <th>2021-08-10 21:13:00+00:00</th>\n",
       "      <td>95712.09</td>\n",
       "    </tr>\n",
       "    <tr>\n",
       "      <th>2021-08-10 21:14:00+00:00</th>\n",
       "      <td>95684.91</td>\n",
       "    </tr>\n",
       "    <tr>\n",
       "      <th>2021-08-10 21:15:00+00:00</th>\n",
       "      <td>95718.74</td>\n",
       "    </tr>\n",
       "    <tr>\n",
       "      <th>2021-08-10 21:16:00+00:00</th>\n",
       "      <td>95446.94</td>\n",
       "    </tr>\n",
       "    <tr>\n",
       "      <th>2021-08-10 21:17:00+00:00</th>\n",
       "      <td>95298.35</td>\n",
       "    </tr>\n",
       "  </tbody>\n",
       "</table>\n",
       "</div>"
      ],
      "text/plain": [
       "                           Buy and hold\n",
       "2021-08-10 21:12:00+00:00      95741.09\n",
       "2021-08-10 21:13:00+00:00      95712.09\n",
       "2021-08-10 21:14:00+00:00      95684.91\n",
       "2021-08-10 21:15:00+00:00      95718.74\n",
       "2021-08-10 21:16:00+00:00      95446.94\n",
       "2021-08-10 21:17:00+00:00      95298.35"
      ]
     },
     "execution_count": 49,
     "metadata": {},
     "output_type": "execute_result"
    }
   ],
   "source": [
    "tars.evaluate()"
   ]
  },
  {
   "cell_type": "markdown",
   "id": "enabling-practitioner",
   "metadata": {},
   "source": [
    "### Stop the bot"
   ]
  },
  {
   "cell_type": "code",
   "execution_count": 52,
   "id": "original-officer",
   "metadata": {},
   "outputs": [
    {
     "name": "stdout",
     "output_type": "stream",
     "text": [
      " 🤖 TARS : ✋ Stopped all strategies\n"
     ]
    }
   ],
   "source": [
    "tars.stop()"
   ]
  },
  {
   "cell_type": "markdown",
   "id": "worth-viewer",
   "metadata": {},
   "source": [
    "### Trade with real money"
   ]
  },
  {
   "cell_type": "markdown",
   "id": "comparable-immune",
   "metadata": {},
   "source": [
    "To do that, just change the portfolio and trader objects as follow:\n",
    "    \n",
    "    - VirtualPortfolio should become CryptoPortfolio\n",
    "    - VirtualCryptoTrader should become CryptoTrader\n",
    "    \n",
    "Update the boolean `validating` trader arguments to `False`, run Tars and let him do his job!"
   ]
  },
  {
   "cell_type": "markdown",
   "id": "extreme-process",
   "metadata": {},
   "source": [
    "### Any Questions?"
   ]
  },
  {
   "cell_type": "markdown",
   "id": "recent-feelings",
   "metadata": {},
   "source": [
    "If you have any questions, feel free to contact me or put an issue on GitHub."
   ]
  },
  {
   "cell_type": "markdown",
   "id": "musical-cover",
   "metadata": {},
   "source": [
    "---"
   ]
  }
 ],
 "metadata": {
  "kernelspec": {
   "display_name": "Python 3",
   "language": "python",
   "name": "python3"
  },
  "language_info": {
   "codemirror_mode": {
    "name": "ipython",
    "version": 3
   },
   "file_extension": ".py",
   "mimetype": "text/x-python",
   "name": "python",
   "nbconvert_exporter": "python",
   "pygments_lexer": "ipython3",
   "version": "3.8.7"
  }
 },
 "nbformat": 4,
 "nbformat_minor": 5
}
