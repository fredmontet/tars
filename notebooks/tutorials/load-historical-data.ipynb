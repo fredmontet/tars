{
 "cells": [
  {
   "cell_type": "code",
   "execution_count": 1,
   "id": "indirect-newspaper",
   "metadata": {
    "collapsed": false,
    "jupyter": {
     "outputs_hidden": false
    },
    "pycharm": {
     "name": "#%%\n"
    }
   },
   "outputs": [],
   "source": [
    "from tars.utils import data\n",
    "%matplotlib inline"
   ]
  },
  {
   "cell_type": "markdown",
   "id": "interracial-information",
   "metadata": {},
   "source": [
    "# Load Historical Data"
   ]
  },
  {
   "cell_type": "markdown",
   "id": "fluid-variance",
   "metadata": {},
   "source": [
    "At first, go download the data as explained below :"
   ]
  },
  {
   "cell_type": "code",
   "execution_count": 2,
   "id": "linear-startup",
   "metadata": {},
   "outputs": [
    {
     "name": "stdout",
     "output_type": "stream",
     "text": [
      "To download historical data (updated every quarter) : \n",
      "\n",
      "        1. go on https://drive.google.com/drive/folders/1sqt3kvw_Y5yOfF6HLG_xfAXae0LsVZWH\n",
      "\n",
      "        2. download one of the separate zip file \n",
      "\n",
      "        3. put the file in the `data/raw/` folder.\n"
     ]
    }
   ],
   "source": [
    "data.download_historical_data()"
   ]
  },
  {
   "cell_type": "markdown",
   "id": "rental-comedy",
   "metadata": {},
   "source": [
    "Then, you can load it with this function"
   ]
  },
  {
   "cell_type": "code",
   "execution_count": 3,
   "id": "allied-still",
   "metadata": {},
   "outputs": [],
   "source": [
    "df = data.get_historical_ohlc_data(base='ETH', quote='USD', interval=5, data_folder='../../data/raw/')"
   ]
  },
  {
   "cell_type": "code",
   "execution_count": 4,
   "id": "functional-engine",
   "metadata": {},
   "outputs": [
    {
     "data": {
      "text/html": [
       "<div>\n",
       "<style scoped>\n",
       "    .dataframe tbody tr th:only-of-type {\n",
       "        vertical-align: middle;\n",
       "    }\n",
       "\n",
       "    .dataframe tbody tr th {\n",
       "        vertical-align: top;\n",
       "    }\n",
       "\n",
       "    .dataframe thead th {\n",
       "        text-align: right;\n",
       "    }\n",
       "</style>\n",
       "<table border=\"1\" class=\"dataframe\">\n",
       "  <thead>\n",
       "    <tr style=\"text-align: right;\">\n",
       "      <th></th>\n",
       "      <th>open</th>\n",
       "      <th>high</th>\n",
       "      <th>low</th>\n",
       "      <th>close</th>\n",
       "      <th>volume</th>\n",
       "      <th>trades</th>\n",
       "    </tr>\n",
       "    <tr>\n",
       "      <th>timestamp</th>\n",
       "      <th></th>\n",
       "      <th></th>\n",
       "      <th></th>\n",
       "      <th></th>\n",
       "      <th></th>\n",
       "      <th></th>\n",
       "    </tr>\n",
       "  </thead>\n",
       "  <tbody>\n",
       "    <tr>\n",
       "      <th>2015-08-07 14:00:00</th>\n",
       "      <td>3.00000</td>\n",
       "      <td>3.00000</td>\n",
       "      <td>3.00</td>\n",
       "      <td>3.00</td>\n",
       "      <td>81.857278</td>\n",
       "      <td>2</td>\n",
       "    </tr>\n",
       "    <tr>\n",
       "      <th>2015-08-07 17:15:00</th>\n",
       "      <td>3.00001</td>\n",
       "      <td>3.00001</td>\n",
       "      <td>3.00</td>\n",
       "      <td>3.00</td>\n",
       "      <td>42.073291</td>\n",
       "      <td>2</td>\n",
       "    </tr>\n",
       "    <tr>\n",
       "      <th>2015-08-08 06:40:00</th>\n",
       "      <td>3.00000</td>\n",
       "      <td>3.00000</td>\n",
       "      <td>3.00</td>\n",
       "      <td>3.00</td>\n",
       "      <td>0.400000</td>\n",
       "      <td>1</td>\n",
       "    </tr>\n",
       "    <tr>\n",
       "      <th>2015-08-08 09:30:00</th>\n",
       "      <td>2.00000</td>\n",
       "      <td>2.00000</td>\n",
       "      <td>2.00</td>\n",
       "      <td>2.00</td>\n",
       "      <td>125.000000</td>\n",
       "      <td>2</td>\n",
       "    </tr>\n",
       "    <tr>\n",
       "      <th>2015-08-08 16:30:00</th>\n",
       "      <td>1.20000</td>\n",
       "      <td>1.20000</td>\n",
       "      <td>1.20</td>\n",
       "      <td>1.20</td>\n",
       "      <td>148.134000</td>\n",
       "      <td>3</td>\n",
       "    </tr>\n",
       "    <tr>\n",
       "      <th>...</th>\n",
       "      <td>...</td>\n",
       "      <td>...</td>\n",
       "      <td>...</td>\n",
       "      <td>...</td>\n",
       "      <td>...</td>\n",
       "      <td>...</td>\n",
       "    </tr>\n",
       "    <tr>\n",
       "      <th>2021-06-30 23:35:00</th>\n",
       "      <td>2273.19000</td>\n",
       "      <td>2281.22000</td>\n",
       "      <td>2268.67</td>\n",
       "      <td>2281.22</td>\n",
       "      <td>1203.725137</td>\n",
       "      <td>318</td>\n",
       "    </tr>\n",
       "    <tr>\n",
       "      <th>2021-06-30 23:40:00</th>\n",
       "      <td>2278.34000</td>\n",
       "      <td>2280.46000</td>\n",
       "      <td>2273.91</td>\n",
       "      <td>2279.20</td>\n",
       "      <td>375.852867</td>\n",
       "      <td>127</td>\n",
       "    </tr>\n",
       "    <tr>\n",
       "      <th>2021-06-30 23:45:00</th>\n",
       "      <td>2278.68000</td>\n",
       "      <td>2282.00000</td>\n",
       "      <td>2277.83</td>\n",
       "      <td>2280.86</td>\n",
       "      <td>273.564412</td>\n",
       "      <td>116</td>\n",
       "    </tr>\n",
       "    <tr>\n",
       "      <th>2021-06-30 23:50:00</th>\n",
       "      <td>2280.10000</td>\n",
       "      <td>2280.10000</td>\n",
       "      <td>2272.52</td>\n",
       "      <td>2272.73</td>\n",
       "      <td>259.419119</td>\n",
       "      <td>96</td>\n",
       "    </tr>\n",
       "    <tr>\n",
       "      <th>2021-06-30 23:55:00</th>\n",
       "      <td>2273.17000</td>\n",
       "      <td>2276.66000</td>\n",
       "      <td>2271.51</td>\n",
       "      <td>2276.66</td>\n",
       "      <td>61.393588</td>\n",
       "      <td>56</td>\n",
       "    </tr>\n",
       "  </tbody>\n",
       "</table>\n",
       "<p>501993 rows × 6 columns</p>\n",
       "</div>"
      ],
      "text/plain": [
       "                           open        high      low    close       volume  \\\n",
       "timestamp                                                                    \n",
       "2015-08-07 14:00:00     3.00000     3.00000     3.00     3.00    81.857278   \n",
       "2015-08-07 17:15:00     3.00001     3.00001     3.00     3.00    42.073291   \n",
       "2015-08-08 06:40:00     3.00000     3.00000     3.00     3.00     0.400000   \n",
       "2015-08-08 09:30:00     2.00000     2.00000     2.00     2.00   125.000000   \n",
       "2015-08-08 16:30:00     1.20000     1.20000     1.20     1.20   148.134000   \n",
       "...                         ...         ...      ...      ...          ...   \n",
       "2021-06-30 23:35:00  2273.19000  2281.22000  2268.67  2281.22  1203.725137   \n",
       "2021-06-30 23:40:00  2278.34000  2280.46000  2273.91  2279.20   375.852867   \n",
       "2021-06-30 23:45:00  2278.68000  2282.00000  2277.83  2280.86   273.564412   \n",
       "2021-06-30 23:50:00  2280.10000  2280.10000  2272.52  2272.73   259.419119   \n",
       "2021-06-30 23:55:00  2273.17000  2276.66000  2271.51  2276.66    61.393588   \n",
       "\n",
       "                     trades  \n",
       "timestamp                    \n",
       "2015-08-07 14:00:00       2  \n",
       "2015-08-07 17:15:00       2  \n",
       "2015-08-08 06:40:00       1  \n",
       "2015-08-08 09:30:00       2  \n",
       "2015-08-08 16:30:00       3  \n",
       "...                     ...  \n",
       "2021-06-30 23:35:00     318  \n",
       "2021-06-30 23:40:00     127  \n",
       "2021-06-30 23:45:00     116  \n",
       "2021-06-30 23:50:00      96  \n",
       "2021-06-30 23:55:00      56  \n",
       "\n",
       "[501993 rows x 6 columns]"
      ]
     },
     "execution_count": 4,
     "metadata": {},
     "output_type": "execute_result"
    }
   ],
   "source": [
    "df"
   ]
  },
  {
   "cell_type": "markdown",
   "id": "c0ecadcf-3ff7-4627-b184-b35bdd7ae644",
   "metadata": {},
   "source": [
    "In case of doubt, here is a description of the columns :\n",
    "\n",
    "- **Open** : The first traded price\n",
    "- **High** : The highest traded price\n",
    "- **Low** : The lowest traded price\n",
    "- **Close** : The final traded price\n",
    "- **Volume** : The total volume traded by all trades\n",
    "- **Trades** : The number of individual trades"
   ]
  },
  {
   "cell_type": "code",
   "execution_count": 5,
   "id": "eligible-adrian",
   "metadata": {},
   "outputs": [
    {
     "data": {
      "image/png": "[encoded data removed]",
      "text/plain": [
       "<Figure size 432x288 with 1 Axes>"
      ]
     },
     "metadata": {
      "needs_background": "light"
     },
     "output_type": "display_data"
    }
   ],
   "source": [
    "df['close'].plot();"
   ]
  },
  {
   "cell_type": "markdown",
   "id": "floppy-nurse",
   "metadata": {},
   "source": [
    "---"
   ]
  }
 ],
 "metadata": {
  "kernelspec": {
   "display_name": "Python 3 (ipykernel)",
   "language": "python",
   "name": "python3"
  },
  "language_info": {
   "codemirror_mode": {
    "name": "ipython",
    "version": 3
   },
   "file_extension": ".py",
   "mimetype": "text/x-python",
   "name": "python",
   "nbconvert_exporter": "python",
   "pygments_lexer": "ipython3",
   "version": "3.8.7"
  }
 },
 "nbformat": 4,
 "nbformat_minor": 5
}
