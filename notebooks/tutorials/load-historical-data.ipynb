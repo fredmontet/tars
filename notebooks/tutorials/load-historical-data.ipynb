{
 "cells": [
  {
   "cell_type": "code",
   "execution_count": 9,
   "id": "pregnant-naples",
   "metadata": {
    "collapsed": false,
    "jupyter": {
     "outputs_hidden": false
    },
    "pycharm": {
     "name": "#%%\n"
    }
   },
   "outputs": [],
   "source": [
    "from src import TARS, markets, portfolios, traders, strategies, utils\n",
    "import pandas as pd\n",
    "%matplotlib inline"
   ]
  },
  {
   "cell_type": "markdown",
   "id": "periodic-emperor",
   "metadata": {},
   "source": [
    "# Load Historical Data"
   ]
  },
  {
   "cell_type": "markdown",
   "id": "pacific-vacuum",
   "metadata": {},
   "source": [
    "At first, go download the data as explained below :"
   ]
  },
  {
   "cell_type": "code",
   "execution_count": 10,
   "id": "noticed-output",
   "metadata": {},
   "outputs": [
    {
     "name": "stdout",
     "output_type": "stream",
     "text": [
      "To download historical data : \n",
      " \n",
      "        1. go on https://www.cryptodatadownload.com/data/binance/ \n",
      "\n",
      "        2. download the Minutes files you want, \n",
      "\n",
      "        3. put the file in the `data/raw/binance` folder.\n"
     ]
    }
   ],
   "source": [
    "utils.data.download_historical_data()"
   ]
  },
  {
   "cell_type": "markdown",
   "id": "played-crest",
   "metadata": {},
   "source": [
    "Then, you can load it with this function"
   ]
  },
  {
   "cell_type": "code",
   "execution_count": 12,
   "id": "ideal-facial",
   "metadata": {},
   "outputs": [],
   "source": [
    "df = utils.data.get_historical_ohlc_data('ETHUSDT', data_folder='../../data/raw/binance')"
   ]
  },
  {
   "cell_type": "code",
   "execution_count": 13,
   "id": "round-ferry",
   "metadata": {},
   "outputs": [
    {
     "data": {
      "text/html": [
       "<div>\n",
       "<style scoped>\n",
       "    .dataframe tbody tr th:only-of-type {\n",
       "        vertical-align: middle;\n",
       "    }\n",
       "\n",
       "    .dataframe tbody tr th {\n",
       "        vertical-align: top;\n",
       "    }\n",
       "\n",
       "    .dataframe thead th {\n",
       "        text-align: right;\n",
       "    }\n",
       "</style>\n",
       "<table border=\"1\" class=\"dataframe\">\n",
       "  <thead>\n",
       "    <tr style=\"text-align: right;\">\n",
       "      <th></th>\n",
       "      <th>time</th>\n",
       "      <th>open</th>\n",
       "      <th>high</th>\n",
       "      <th>low</th>\n",
       "      <th>close</th>\n",
       "      <th>volume</th>\n",
       "      <th>count</th>\n",
       "    </tr>\n",
       "    <tr>\n",
       "      <th>dtime</th>\n",
       "      <th></th>\n",
       "      <th></th>\n",
       "      <th></th>\n",
       "      <th></th>\n",
       "      <th></th>\n",
       "      <th></th>\n",
       "      <th></th>\n",
       "    </tr>\n",
       "  </thead>\n",
       "  <tbody>\n",
       "    <tr>\n",
       "      <th>2021-08-11 00:35:00</th>\n",
       "      <td>1628642100000</td>\n",
       "      <td>3159.98</td>\n",
       "      <td>3161.77</td>\n",
       "      <td>3155.00</td>\n",
       "      <td>3156.37</td>\n",
       "      <td>152.52249</td>\n",
       "      <td>1908</td>\n",
       "    </tr>\n",
       "    <tr>\n",
       "      <th>2021-08-11 00:34:00</th>\n",
       "      <td>1628642040000</td>\n",
       "      <td>3164.31</td>\n",
       "      <td>3165.11</td>\n",
       "      <td>3157.47</td>\n",
       "      <td>3159.98</td>\n",
       "      <td>521.58434</td>\n",
       "      <td>1669</td>\n",
       "    </tr>\n",
       "    <tr>\n",
       "      <th>2021-08-11 00:33:00</th>\n",
       "      <td>1628641980000</td>\n",
       "      <td>3161.99</td>\n",
       "      <td>3167.77</td>\n",
       "      <td>3161.77</td>\n",
       "      <td>3164.30</td>\n",
       "      <td>341.81936</td>\n",
       "      <td>1368</td>\n",
       "    </tr>\n",
       "    <tr>\n",
       "      <th>2021-08-11 00:32:00</th>\n",
       "      <td>1628641920000</td>\n",
       "      <td>3167.36</td>\n",
       "      <td>3167.36</td>\n",
       "      <td>3159.92</td>\n",
       "      <td>3161.99</td>\n",
       "      <td>519.49639</td>\n",
       "      <td>1405</td>\n",
       "    </tr>\n",
       "    <tr>\n",
       "      <th>2021-08-11 00:31:00</th>\n",
       "      <td>1628641860000</td>\n",
       "      <td>3162.36</td>\n",
       "      <td>3168.00</td>\n",
       "      <td>3161.07</td>\n",
       "      <td>3166.77</td>\n",
       "      <td>1047.09358</td>\n",
       "      <td>2193</td>\n",
       "    </tr>\n",
       "    <tr>\n",
       "      <th>...</th>\n",
       "      <td>...</td>\n",
       "      <td>...</td>\n",
       "      <td>...</td>\n",
       "      <td>...</td>\n",
       "      <td>...</td>\n",
       "      <td>...</td>\n",
       "      <td>...</td>\n",
       "    </tr>\n",
       "    <tr>\n",
       "      <th>2019-11-27 07:49:00</th>\n",
       "      <td>1574840940000</td>\n",
       "      <td>146.00</td>\n",
       "      <td>146.00</td>\n",
       "      <td>146.00</td>\n",
       "      <td>146.00</td>\n",
       "      <td>0.00000</td>\n",
       "      <td>0</td>\n",
       "    </tr>\n",
       "    <tr>\n",
       "      <th>2019-11-27 07:48:00</th>\n",
       "      <td>1574840880000</td>\n",
       "      <td>146.00</td>\n",
       "      <td>146.00</td>\n",
       "      <td>146.00</td>\n",
       "      <td>146.00</td>\n",
       "      <td>0.00000</td>\n",
       "      <td>0</td>\n",
       "    </tr>\n",
       "    <tr>\n",
       "      <th>2019-11-27 07:47:00</th>\n",
       "      <td>1574840820000</td>\n",
       "      <td>146.00</td>\n",
       "      <td>146.00</td>\n",
       "      <td>146.00</td>\n",
       "      <td>146.00</td>\n",
       "      <td>0.00000</td>\n",
       "      <td>0</td>\n",
       "    </tr>\n",
       "    <tr>\n",
       "      <th>2019-11-27 07:46:00</th>\n",
       "      <td>1574840760000</td>\n",
       "      <td>146.00</td>\n",
       "      <td>146.00</td>\n",
       "      <td>146.00</td>\n",
       "      <td>146.00</td>\n",
       "      <td>0.00000</td>\n",
       "      <td>0</td>\n",
       "    </tr>\n",
       "    <tr>\n",
       "      <th>2019-11-27 07:45:00</th>\n",
       "      <td>1574840700000</td>\n",
       "      <td>146.00</td>\n",
       "      <td>146.00</td>\n",
       "      <td>146.00</td>\n",
       "      <td>146.00</td>\n",
       "      <td>0.01000</td>\n",
       "      <td>1</td>\n",
       "    </tr>\n",
       "  </tbody>\n",
       "</table>\n",
       "<p>891673 rows × 7 columns</p>\n",
       "</div>"
      ],
      "text/plain": [
       "                              time     open     high      low    close  \\\n",
       "dtime                                                                    \n",
       "2021-08-11 00:35:00  1628642100000  3159.98  3161.77  3155.00  3156.37   \n",
       "2021-08-11 00:34:00  1628642040000  3164.31  3165.11  3157.47  3159.98   \n",
       "2021-08-11 00:33:00  1628641980000  3161.99  3167.77  3161.77  3164.30   \n",
       "2021-08-11 00:32:00  1628641920000  3167.36  3167.36  3159.92  3161.99   \n",
       "2021-08-11 00:31:00  1628641860000  3162.36  3168.00  3161.07  3166.77   \n",
       "...                            ...      ...      ...      ...      ...   \n",
       "2019-11-27 07:49:00  1574840940000   146.00   146.00   146.00   146.00   \n",
       "2019-11-27 07:48:00  1574840880000   146.00   146.00   146.00   146.00   \n",
       "2019-11-27 07:47:00  1574840820000   146.00   146.00   146.00   146.00   \n",
       "2019-11-27 07:46:00  1574840760000   146.00   146.00   146.00   146.00   \n",
       "2019-11-27 07:45:00  1574840700000   146.00   146.00   146.00   146.00   \n",
       "\n",
       "                         volume  count  \n",
       "dtime                                   \n",
       "2021-08-11 00:35:00   152.52249   1908  \n",
       "2021-08-11 00:34:00   521.58434   1669  \n",
       "2021-08-11 00:33:00   341.81936   1368  \n",
       "2021-08-11 00:32:00   519.49639   1405  \n",
       "2021-08-11 00:31:00  1047.09358   2193  \n",
       "...                         ...    ...  \n",
       "2019-11-27 07:49:00     0.00000      0  \n",
       "2019-11-27 07:48:00     0.00000      0  \n",
       "2019-11-27 07:47:00     0.00000      0  \n",
       "2019-11-27 07:46:00     0.00000      0  \n",
       "2019-11-27 07:45:00     0.01000      1  \n",
       "\n",
       "[891673 rows x 7 columns]"
      ]
     },
     "execution_count": 13,
     "metadata": {},
     "output_type": "execute_result"
    }
   ],
   "source": [
    "df"
   ]
  },
  {
   "cell_type": "code",
   "execution_count": 16,
   "id": "bottom-lunch",
   "metadata": {},
   "outputs": [
    {
     "data": {
      "image/png": "[encoded data removed]",
      "text/plain": [
       "<Figure size 432x288 with 1 Axes>"
      ]
     },
     "metadata": {
      "needs_background": "light"
     },
     "output_type": "display_data"
    }
   ],
   "source": [
    "df['close'].plot();"
   ]
  },
  {
   "cell_type": "markdown",
   "id": "revolutionary-employee",
   "metadata": {},
   "source": [
    "---"
   ]
  }
 ],
 "metadata": {
  "kernelspec": {
   "display_name": "Python 3",
   "language": "python",
   "name": "python3"
  },
  "language_info": {
   "codemirror_mode": {
    "name": "ipython",
    "version": 3
   },
   "file_extension": ".py",
   "mimetype": "text/x-python",
   "name": "python",
   "nbconvert_exporter": "python",
   "pygments_lexer": "ipython3",
   "version": "3.8.7"
  }
 },
 "nbformat": 4,
 "nbformat_minor": 5
}
