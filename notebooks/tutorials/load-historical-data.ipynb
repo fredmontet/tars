{
 "cells": [
  {
   "cell_type": "code",
   "execution_count": 1,
   "id": "indirect-newspaper",
   "metadata": {
    "collapsed": false,
    "jupyter": {
     "outputs_hidden": false
    },
    "pycharm": {
     "name": "#%%\n"
    }
   },
   "outputs": [],
   "source": [
    "from tars.utils import data\n",
    "%matplotlib inline"
   ]
  },
  {
   "cell_type": "markdown",
   "id": "interracial-information",
   "metadata": {},
   "source": [
    "# Load Historical Data"
   ]
  },
  {
   "cell_type": "markdown",
   "id": "fluid-variance",
   "metadata": {},
   "source": [
    "At first, go download the data as explained below :"
   ]
  },
  {
   "cell_type": "code",
   "execution_count": 2,
   "id": "linear-startup",
   "metadata": {},
   "outputs": [
    {
     "name": "stdout",
     "output_type": "stream",
     "text": [
      "To download historical data (updated every quarter) : \n",
      "\n",
      "        1. go on https://drive.google.com/drive/folders/1aoA6SKgPbS_p3pYStXUXFvmjqShJ2jv9\n",
      " \n",
      "        2. download one of the separate zip file \n",
      "\n",
      "        3. put the file in the `data/raw/` folder.\n",
      "\n",
      "\n",
      "        \n",
      "        The data from above comes from Kraken and can be found at this link :\n",
      " \n",
      "        https://support.kraken.com/hc/en-us/articles/360047124832-Downloadable-historical-OHLCVT-Open-High-Low-Close-Volume-Trades-data\n",
      "        \n",
      "        \n"
     ]
    }
   ],
   "source": [
    "data.download_historical_data()"
   ]
  },
  {
   "cell_type": "markdown",
   "id": "rental-comedy",
   "metadata": {},
   "source": [
    "Then, you can load it with this function"
   ]
  },
  {
   "cell_type": "code",
   "execution_count": 3,
   "id": "allied-still",
   "metadata": {},
   "outputs": [],
   "source": [
    "df = data.get_historical_ohlc_data(base='ETH', quote='USD', interval=5, data_folder='../../data/raw/')"
   ]
  },
  {
   "cell_type": "code",
   "execution_count": 4,
   "id": "functional-engine",
   "metadata": {},
   "outputs": [
    {
     "data": {
      "text/html": [
       "<div>\n",
       "<style scoped>\n",
       "    .dataframe tbody tr th:only-of-type {\n",
       "        vertical-align: middle;\n",
       "    }\n",
       "\n",
       "    .dataframe tbody tr th {\n",
       "        vertical-align: top;\n",
       "    }\n",
       "\n",
       "    .dataframe thead th {\n",
       "        text-align: right;\n",
       "    }\n",
       "</style>\n",
       "<table border=\"1\" class=\"dataframe\">\n",
       "  <thead>\n",
       "    <tr style=\"text-align: right;\">\n",
       "      <th></th>\n",
       "      <th>open</th>\n",
       "      <th>high</th>\n",
       "      <th>low</th>\n",
       "      <th>close</th>\n",
       "      <th>volume</th>\n",
       "      <th>trades</th>\n",
       "    </tr>\n",
       "    <tr>\n",
       "      <th>timestamp</th>\n",
       "      <th></th>\n",
       "      <th></th>\n",
       "      <th></th>\n",
       "      <th></th>\n",
       "      <th></th>\n",
       "      <th></th>\n",
       "    </tr>\n",
       "  </thead>\n",
       "  <tbody>\n",
       "    <tr>\n",
       "      <th>2015-08-07 14:00:00</th>\n",
       "      <td>3.00000</td>\n",
       "      <td>3.00000</td>\n",
       "      <td>3.00</td>\n",
       "      <td>3.00</td>\n",
       "      <td>81.857278</td>\n",
       "      <td>2</td>\n",
       "    </tr>\n",
       "    <tr>\n",
       "      <th>2015-08-07 17:15:00</th>\n",
       "      <td>3.00001</td>\n",
       "      <td>3.00001</td>\n",
       "      <td>3.00</td>\n",
       "      <td>3.00</td>\n",
       "      <td>42.073291</td>\n",
       "      <td>2</td>\n",
       "    </tr>\n",
       "    <tr>\n",
       "      <th>2015-08-08 06:40:00</th>\n",
       "      <td>3.00000</td>\n",
       "      <td>3.00000</td>\n",
       "      <td>3.00</td>\n",
       "      <td>3.00</td>\n",
       "      <td>0.400000</td>\n",
       "      <td>1</td>\n",
       "    </tr>\n",
       "    <tr>\n",
       "      <th>2015-08-08 09:30:00</th>\n",
       "      <td>2.00000</td>\n",
       "      <td>2.00000</td>\n",
       "      <td>2.00</td>\n",
       "      <td>2.00</td>\n",
       "      <td>125.000000</td>\n",
       "      <td>2</td>\n",
       "    </tr>\n",
       "    <tr>\n",
       "      <th>2015-08-08 16:30:00</th>\n",
       "      <td>1.20000</td>\n",
       "      <td>1.20000</td>\n",
       "      <td>1.20</td>\n",
       "      <td>1.20</td>\n",
       "      <td>148.134000</td>\n",
       "      <td>3</td>\n",
       "    </tr>\n",
       "    <tr>\n",
       "      <th>...</th>\n",
       "      <td>...</td>\n",
       "      <td>...</td>\n",
       "      <td>...</td>\n",
       "      <td>...</td>\n",
       "      <td>...</td>\n",
       "      <td>...</td>\n",
       "    </tr>\n",
       "    <tr>\n",
       "      <th>2022-03-31 23:35:00</th>\n",
       "      <td>3288.80000</td>\n",
       "      <td>3288.81000</td>\n",
       "      <td>3284.63</td>\n",
       "      <td>3284.65</td>\n",
       "      <td>5.953335</td>\n",
       "      <td>15</td>\n",
       "    </tr>\n",
       "    <tr>\n",
       "      <th>2022-03-31 23:40:00</th>\n",
       "      <td>3284.72000</td>\n",
       "      <td>3284.72000</td>\n",
       "      <td>3278.84</td>\n",
       "      <td>3279.20</td>\n",
       "      <td>73.276503</td>\n",
       "      <td>78</td>\n",
       "    </tr>\n",
       "    <tr>\n",
       "      <th>2022-03-31 23:45:00</th>\n",
       "      <td>3279.21000</td>\n",
       "      <td>3282.72000</td>\n",
       "      <td>3264.70</td>\n",
       "      <td>3282.72</td>\n",
       "      <td>1622.483178</td>\n",
       "      <td>710</td>\n",
       "    </tr>\n",
       "    <tr>\n",
       "      <th>2022-03-31 23:50:00</th>\n",
       "      <td>3282.51000</td>\n",
       "      <td>3288.38000</td>\n",
       "      <td>3270.60</td>\n",
       "      <td>3282.53</td>\n",
       "      <td>26.964058</td>\n",
       "      <td>96</td>\n",
       "    </tr>\n",
       "    <tr>\n",
       "      <th>2022-03-31 23:55:00</th>\n",
       "      <td>3280.43000</td>\n",
       "      <td>3282.60000</td>\n",
       "      <td>3279.00</td>\n",
       "      <td>3282.60</td>\n",
       "      <td>3.591632</td>\n",
       "      <td>22</td>\n",
       "    </tr>\n",
       "  </tbody>\n",
       "</table>\n",
       "<p>580749 rows × 6 columns</p>\n",
       "</div>"
      ],
      "text/plain": [
       "                           open        high      low    close       volume  \\\n",
       "timestamp                                                                    \n",
       "2015-08-07 14:00:00     3.00000     3.00000     3.00     3.00    81.857278   \n",
       "2015-08-07 17:15:00     3.00001     3.00001     3.00     3.00    42.073291   \n",
       "2015-08-08 06:40:00     3.00000     3.00000     3.00     3.00     0.400000   \n",
       "2015-08-08 09:30:00     2.00000     2.00000     2.00     2.00   125.000000   \n",
       "2015-08-08 16:30:00     1.20000     1.20000     1.20     1.20   148.134000   \n",
       "...                         ...         ...      ...      ...          ...   \n",
       "2022-03-31 23:35:00  3288.80000  3288.81000  3284.63  3284.65     5.953335   \n",
       "2022-03-31 23:40:00  3284.72000  3284.72000  3278.84  3279.20    73.276503   \n",
       "2022-03-31 23:45:00  3279.21000  3282.72000  3264.70  3282.72  1622.483178   \n",
       "2022-03-31 23:50:00  3282.51000  3288.38000  3270.60  3282.53    26.964058   \n",
       "2022-03-31 23:55:00  3280.43000  3282.60000  3279.00  3282.60     3.591632   \n",
       "\n",
       "                     trades  \n",
       "timestamp                    \n",
       "2015-08-07 14:00:00       2  \n",
       "2015-08-07 17:15:00       2  \n",
       "2015-08-08 06:40:00       1  \n",
       "2015-08-08 09:30:00       2  \n",
       "2015-08-08 16:30:00       3  \n",
       "...                     ...  \n",
       "2022-03-31 23:35:00      15  \n",
       "2022-03-31 23:40:00      78  \n",
       "2022-03-31 23:45:00     710  \n",
       "2022-03-31 23:50:00      96  \n",
       "2022-03-31 23:55:00      22  \n",
       "\n",
       "[580749 rows x 6 columns]"
      ]
     },
     "execution_count": 4,
     "metadata": {},
     "output_type": "execute_result"
    }
   ],
   "source": [
    "df"
   ]
  },
  {
   "cell_type": "markdown",
   "id": "c0ecadcf-3ff7-4627-b184-b35bdd7ae644",
   "metadata": {},
   "source": [
    "In case of doubt, here is a description of the columns :\n",
    "\n",
    "- **Open** : The first traded price\n",
    "- **High** : The highest traded price\n",
    "- **Low** : The lowest traded price\n",
    "- **Close** : The final traded price\n",
    "- **Volume** : The total volume traded by all trades\n",
    "- **Trades** : The number of individual trades"
   ]
  },
  {
   "cell_type": "code",
   "execution_count": 5,
   "id": "eligible-adrian",
   "metadata": {},
   "outputs": [
    {
     "data": {
      "image/png": "[encoded data removed]",
      "text/plain": [
       "<Figure size 432x288 with 1 Axes>"
      ]
     },
     "metadata": {
      "needs_background": "light"
     },
     "output_type": "display_data"
    }
   ],
   "source": [
    "df['close'].plot();"
   ]
  },
  {
   "cell_type": "markdown",
   "id": "floppy-nurse",
   "metadata": {},
   "source": [
    "---"
   ]
  }
 ],
 "metadata": {
  "kernelspec": {
   "display_name": "Python 3 (ipykernel)",
   "language": "python",
   "name": "python3"
  },
  "language_info": {
   "codemirror_mode": {
    "name": "ipython",
    "version": 3
   },
   "file_extension": ".py",
   "mimetype": "text/x-python",
   "name": "python",
   "nbconvert_exporter": "python",
   "pygments_lexer": "ipython3",
   "version": "3.8.7"
  }
 },
 "nbformat": 4,
 "nbformat_minor": 5
}
