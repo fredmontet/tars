{
 "cells": [
  {
   "cell_type": "code",
   "execution_count": 140,
   "id": "compact-castle",
   "metadata": {
    "collapsed": false,
    "jupyter": {
     "outputs_hidden": false
    },
    "pycharm": {
     "name": "#%%\n"
    }
   },
   "outputs": [],
   "source": [
    "from src import TARS, markets, portfolios, traders, strategies\n",
    "%matplotlib inline"
   ]
  },
  {
   "cell_type": "markdown",
   "id": "prescription-gilbert",
   "metadata": {},
   "source": [
    "# Trade Virtually\n",
    "\n",
    "Welcome on the offline testing environment from Tars. It uses the same API than the online environment, but with virtual money. It's the best place to test your strategies before going online!\n"
   ]
  },
  {
   "cell_type": "markdown",
   "id": "blessed-extreme",
   "metadata": {},
   "source": [
    "## Instanciate Tars"
   ]
  },
  {
   "cell_type": "code",
   "execution_count": 141,
   "id": "furnished-there",
   "metadata": {},
   "outputs": [],
   "source": [
    "root = '../'\n",
    "api_key = f'{root}kraken.key'"
   ]
  },
  {
   "cell_type": "code",
   "execution_count": 142,
   "id": "turned-victoria",
   "metadata": {},
   "outputs": [],
   "source": [
    "portfolio_1 = portfolios.VirtualPortfolio({'ZUSD': 1000})\n",
    "trader_1 = traders.VirtualCryptoTrader(portfolio_1)\n",
    "strategy_1 = strategies.BuyAndHold(trader_1, 'XETHZUSD', 0.2)\n",
    "\n",
    "portfolio_2 = portfolios.VirtualPortfolio({'ZUSD': 1000})\n",
    "trader_2 = traders.VirtualCryptoTrader(portfolio_2)\n",
    "strategy_2 = strategies.TrendFollowingMACD(trader_2, 'XETHZUSD', 0.2)\n",
    "\n",
    "portfolio_3 = portfolios.VirtualPortfolio({'ZUSD': 1000})\n",
    "trader_3 = traders.VirtualCryptoTrader(portfolio_3)\n",
    "strategy_3 = strategies.PredictionStrategy(trader_3, 'XETHZUSD', 0.2)"
   ]
  },
  {
   "cell_type": "code",
   "execution_count": 143,
   "id": "respective-gathering",
   "metadata": {},
   "outputs": [
    {
     "name": "stdout",
     "output_type": "stream",
     "text": [
      " 🤖 TARS : Welcome to Endurance! 👨‍🚀\n",
      " 🤖 TARS : Loaded strategy ➡️ Buy and hold\n",
      " 🤖 TARS : Loaded strategy ➡️ Trend Following with MACD\n",
      " 🤖 TARS : Loaded strategy ➡️ Prediction\n"
     ]
    }
   ],
   "source": [
    "# Create Tars and load its strategies\n",
    "tars = TARS()\n",
    "tars.load(strategy_1)\n",
    "tars.load(strategy_2)\n",
    "tars.load(strategy_3)"
   ]
  },
  {
   "cell_type": "markdown",
   "id": "continued-going",
   "metadata": {},
   "source": [
    "## Start the bot"
   ]
  },
  {
   "cell_type": "code",
   "execution_count": 144,
   "id": "august-toyota",
   "metadata": {},
   "outputs": [
    {
     "name": "stdout",
     "output_type": "stream",
     "text": [
      " 🤖 TARS : Starting trading session 📈\n",
      " ⏱ Trading decision will be taken every : 00:15:00️ (hh:mm:ss)\n",
      " 💪️ Loading :   \n",
      "   🧵 'Thread-13' ➡️ 'Buy and hold'\n",
      "   🧵 'Thread-14' ➡️ 'Trend Following with MACD'\n",
      "   🧵 'Thread-15' ➡️ 'Prediction'\n"
     ]
    },
    {
     "name": "stderr",
     "output_type": "stream",
     "text": [
      "/Users/frederic.montet/.local/share/virtualenvs/tars-dSrcWdcW/lib/python3.8/site-packages/statsmodels/tsa/holtwinters/model.py:427: FutureWarning: After 0.13 initialization must be handled at model creation\n",
      "  warnings.warn(\n"
     ]
    }
   ],
   "source": [
    "tars.start('00:15:00')"
   ]
  },
  {
   "cell_type": "markdown",
   "id": "million-sussex",
   "metadata": {},
   "source": [
    "## Evaluate the strategy"
   ]
  },
  {
   "cell_type": "code",
   "execution_count": 156,
   "id": "available-fellow",
   "metadata": {},
   "outputs": [
    {
     "data": {
      "text/plain": [
       "{'dfbde56c': VirtualOrder(dtime=Timestamp('2021-08-15 06:56:02.713420+0000', tz='UTC'), pair='XETHZUSD', ordertype='buy', type='market', price=3224.52, cost=644.904, fee=1.6767504, volume=0.2)}"
      ]
     },
     "execution_count": 156,
     "metadata": {},
     "output_type": "execute_result"
    }
   ],
   "source": [
    "strategy_1.trader.order_book"
   ]
  },
  {
   "cell_type": "code",
   "execution_count": 157,
   "id": "hourly-realtor",
   "metadata": {},
   "outputs": [
    {
     "data": {
      "text/plain": [
       "{'2a634a60': VirtualOrder(dtime=Timestamp('2021-08-15 06:56:03.269322+0000', tz='UTC'), pair='XETHZUSD', ordertype='sell', type='market', price=3224.52, cost=644.904, fee=1.6767504, volume=0.2),\n",
       " '4aa8bf79': VirtualOrder(dtime=Timestamp('2021-08-15 07:11:06.611278+0000', tz='UTC'), pair='XETHZUSD', ordertype='sell', type='market', price=3212.67, cost=642.5340000000001, fee=1.6705884000000002, volume=0.2),\n",
       " 'c8eeb306': VirtualOrder(dtime=Timestamp('2021-08-15 07:26:10.328066+0000', tz='UTC'), pair='XETHZUSD', ordertype='buy', type='market', price=3218.35, cost=643.6700000000001, fee=1.673542, volume=0.2),\n",
       " '00c84821': VirtualOrder(dtime=Timestamp('2021-08-15 07:41:14.490532+0000', tz='UTC'), pair='XETHZUSD', ordertype='sell', type='market', price=3207.0, cost=641.4000000000001, fee=1.6676400000000002, volume=0.2),\n",
       " '06e7cf95': VirtualOrder(dtime=Timestamp('2021-08-15 07:56:18.485412+0000', tz='UTC'), pair='XETHZUSD', ordertype='sell', type='market', price=3166.03, cost=633.2060000000001, fee=1.6463356000000002, volume=0.2),\n",
       " 'e14e85cb': VirtualOrder(dtime=Timestamp('2021-08-15 08:11:21.978410+0000', tz='UTC'), pair='XETHZUSD', ordertype='buy', type='market', price=3176.66, cost=635.332, fee=1.6518632, volume=0.2)}"
      ]
     },
     "execution_count": 157,
     "metadata": {},
     "output_type": "execute_result"
    }
   ],
   "source": [
    "strategy_2.trader.order_book"
   ]
  },
  {
   "cell_type": "code",
   "execution_count": 173,
   "id": "sporting-kennedy",
   "metadata": {},
   "outputs": [
    {
     "data": {
      "text/plain": [
       "{'a249309b': VirtualOrder(dtime=Timestamp('2021-08-15 06:56:03.525007+0000', tz='UTC'), pair='XETHZUSD', ordertype='sell', type='market', price=3224.52, cost=644.904, fee=1.6767504, volume=0.2),\n",
       " '5bd225b2': VirtualOrder(dtime=Timestamp('2021-08-15 07:11:07.067304+0000', tz='UTC'), pair='XETHZUSD', ordertype='sell', type='market', price=3212.9, cost=642.58, fee=1.670708, volume=0.2),\n",
       " '70f6f65a': VirtualOrder(dtime=Timestamp('2021-08-15 07:26:11.807970+0000', tz='UTC'), pair='XETHZUSD', ordertype='sell', type='market', price=3218.35, cost=643.6700000000001, fee=1.673542, volume=0.2),\n",
       " '393a03de': VirtualOrder(dtime=Timestamp('2021-08-15 07:41:16.053181+0000', tz='UTC'), pair='XETHZUSD', ordertype='buy', type='market', price=3207.0, cost=641.4000000000001, fee=1.6676400000000002, volume=0.2),\n",
       " 'bbb6a108': VirtualOrder(dtime=Timestamp('2021-08-15 07:56:20.462825+0000', tz='UTC'), pair='XETHZUSD', ordertype='buy', type='market', price=3166.03, cost=633.2060000000001, fee=1.6463356000000002, volume=0.2),\n",
       " '30f7ed00': VirtualOrder(dtime=Timestamp('2021-08-15 08:11:24.365742+0000', tz='UTC'), pair='XETHZUSD', ordertype='sell', type='market', price=3174.88, cost=634.9760000000001, fee=1.6509376000000002, volume=0.2),\n",
       " '8673baee': VirtualOrder(dtime=Timestamp('2021-08-15 08:26:28.094083+0000', tz='UTC'), pair='XETHZUSD', ordertype='sell', type='market', price=3166.37, cost=633.274, fee=1.6465124, volume=0.2),\n",
       " 'ed479a49': VirtualOrder(dtime=Timestamp('2021-08-15 08:41:31.802720+0000', tz='UTC'), pair='XETHZUSD', ordertype='buy', type='market', price=3165.88, cost=633.176, fee=1.6462576, volume=0.2),\n",
       " '4c80901c': VirtualOrder(dtime=Timestamp('2021-08-15 08:56:35.856801+0000', tz='UTC'), pair='XETHZUSD', ordertype='buy', type='market', price=3154.01, cost=630.8020000000001, fee=1.6400852000000004, volume=0.2),\n",
       " '5a0dc446': VirtualOrder(dtime=Timestamp('2021-08-15 09:11:40.879884+0000', tz='UTC'), pair='XETHZUSD', ordertype='sell', type='market', price=3158.41, cost=631.682, fee=1.6423732, volume=0.2),\n",
       " 'ab907226': VirtualOrder(dtime=Timestamp('2021-08-15 09:26:45.700971+0000', tz='UTC'), pair='XETHZUSD', ordertype='sell', type='market', price=3161.0, cost=632.2, fee=1.64372, volume=0.2),\n",
       " 'e0ad708b': VirtualOrder(dtime=Timestamp('2021-08-15 09:41:49.548276+0000', tz='UTC'), pair='XETHZUSD', ordertype='sell', type='market', price=3165.01, cost=633.0020000000001, fee=1.6458052, volume=0.2),\n",
       " 'def8d8e0': VirtualOrder(dtime=Timestamp('2021-08-15 09:56:53.254392+0000', tz='UTC'), pair='XETHZUSD', ordertype='sell', type='market', price=3166.03, cost=633.2060000000001, fee=1.6463356000000002, volume=0.2),\n",
       " '0490b1a3': VirtualOrder(dtime=Timestamp('2021-08-15 10:11:56.894516+0000', tz='UTC'), pair='XETHZUSD', ordertype='buy', type='market', price=3173.78, cost=634.7560000000001, fee=1.6503656000000002, volume=0.2),\n",
       " '663bbdd2': VirtualOrder(dtime=Timestamp('2021-08-15 10:27:01.051357+0000', tz='UTC'), pair='XETHZUSD', ordertype='sell', type='market', price=3162.0, cost=632.4000000000001, fee=1.6442400000000001, volume=0.2),\n",
       " '8f64950c': VirtualOrder(dtime=Timestamp('2021-08-15 10:42:05.155672+0000', tz='UTC'), pair='XETHZUSD', ordertype='buy', type='market', price=3163.23, cost=632.6460000000001, fee=1.6448796, volume=0.2),\n",
       " 'e423ac31': VirtualOrder(dtime=Timestamp('2021-08-15 10:57:09.399026+0000', tz='UTC'), pair='XETHZUSD', ordertype='buy', type='market', price=3153.11, cost=630.6220000000001, fee=1.6396172000000002, volume=0.2),\n",
       " '596350dd': VirtualOrder(dtime=Timestamp('2021-08-15 11:12:13.577315+0000', tz='UTC'), pair='XETHZUSD', ordertype='sell', type='market', price=3148.09, cost=629.618, fee=1.6370068, volume=0.2),\n",
       " 'd164b688': VirtualOrder(dtime=Timestamp('2021-08-15 11:27:17.447118+0000', tz='UTC'), pair='XETHZUSD', ordertype='sell', type='market', price=3153.89, cost=630.778, fee=1.6400228, volume=0.2),\n",
       " '6cc44ab7': VirtualOrder(dtime=Timestamp('2021-08-15 11:42:21.864679+0000', tz='UTC'), pair='XETHZUSD', ordertype='buy', type='market', price=3164.07, cost=632.8140000000001, fee=1.6453164000000002, volume=0.2),\n",
       " 'd484b821': VirtualOrder(dtime=Timestamp('2021-08-15 11:57:27.734649+0000', tz='UTC'), pair='XETHZUSD', ordertype='buy', type='market', price=3163.49, cost=632.698, fee=1.6450147999999998, volume=0.2),\n",
       " 'c8c9272f': VirtualOrder(dtime=Timestamp('2021-08-15 12:12:32.531564+0000', tz='UTC'), pair='XETHZUSD', ordertype='sell', type='market', price=3170.1, cost=634.02, fee=1.6484519999999998, volume=0.2),\n",
       " 'd9b9d795': VirtualOrder(dtime=Timestamp('2021-08-15 12:27:37.078794+0000', tz='UTC'), pair='XETHZUSD', ordertype='sell', type='market', price=3157.78, cost=631.556, fee=1.6420456, volume=0.2),\n",
       " 'e4676727': VirtualOrder(dtime=Timestamp('2021-08-15 12:42:41.736505+0000', tz='UTC'), pair='XETHZUSD', ordertype='sell', type='market', price=3154.0, cost=630.8000000000001, fee=1.6400800000000002, volume=0.2),\n",
       " '5ba6b5fd': VirtualOrder(dtime=Timestamp('2021-08-15 12:57:46.221160+0000', tz='UTC'), pair='XETHZUSD', ordertype='sell', type='market', price=3154.64, cost=630.928, fee=1.6404128, volume=0.2),\n",
       " '152f5247': VirtualOrder(dtime=Timestamp('2021-08-15 13:12:49.858209+0000', tz='UTC'), pair='XETHZUSD', ordertype='sell', type='market', price=3161.13, cost=632.2260000000001, fee=1.6437876000000002, volume=0.2),\n",
       " '0f87e056': VirtualOrder(dtime=Timestamp('2021-08-15 13:27:54.237551+0000', tz='UTC'), pair='XETHZUSD', ordertype='sell', type='market', price=3162.0, cost=632.4000000000001, fee=1.6442400000000001, volume=0.2)}"
      ]
     },
     "execution_count": 173,
     "metadata": {},
     "output_type": "execute_result"
    }
   ],
   "source": [
    "strategy_3.trader.order_book"
   ]
  },
  {
   "cell_type": "code",
   "execution_count": 176,
   "id": "assured-brazil",
   "metadata": {},
   "outputs": [
    {
     "data": {
      "image/png": "[encoded data removed]",
      "text/plain": [
       "<Figure size 432x288 with 1 Axes>"
      ]
     },
     "metadata": {
      "needs_background": "light"
     },
     "output_type": "display_data"
    },
    {
     "name": "stderr",
     "output_type": "stream",
     "text": [
      "/Users/frederic.montet/.local/share/virtualenvs/tars-dSrcWdcW/lib/python3.8/site-packages/statsmodels/tsa/holtwinters/model.py:427: FutureWarning: After 0.13 initialization must be handled at model creation\n",
      "  warnings.warn(\n"
     ]
    },
    {
     "name": "stdout",
     "output_type": "stream",
     "text": [
      " The base XETH isn't available in the portfolio.\n",
      " The base XETH isn't available in the portfolio.\n",
      " The base XETH isn't available in the portfolio.\n"
     ]
    }
   ],
   "source": [
    "tars.plot();"
   ]
  },
  {
   "cell_type": "code",
   "execution_count": 175,
   "id": "lined-nothing",
   "metadata": {},
   "outputs": [
    {
     "data": {
      "image/png": "[encoded data removed]",
      "text/plain": [
       "<Figure size 432x288 with 1 Axes>"
      ]
     },
     "metadata": {
      "needs_background": "light"
     },
     "output_type": "display_data"
    },
    {
     "name": "stderr",
     "output_type": "stream",
     "text": [
      "/Users/frederic.montet/.local/share/virtualenvs/tars-dSrcWdcW/lib/python3.8/site-packages/statsmodels/tsa/holtwinters/model.py:427: FutureWarning: After 0.13 initialization must be handled at model creation\n",
      "  warnings.warn(\n"
     ]
    }
   ],
   "source": [
    "markets.CryptoMarket().get_ohlc_data('XETHZUSD')[0][-100:]['close'].plot();"
   ]
  },
  {
   "cell_type": "code",
   "execution_count": 13,
   "id": "korean-sweden",
   "metadata": {},
   "outputs": [
    {
     "data": {
      "text/plain": [
       "True"
      ]
     },
     "execution_count": 13,
     "metadata": {},
     "output_type": "execute_result"
    }
   ],
   "source": [
    "tars.is_running"
   ]
  },
  {
   "cell_type": "markdown",
   "id": "periodic-speech",
   "metadata": {},
   "source": [
    "## Stop the bot"
   ]
  },
  {
   "cell_type": "code",
   "execution_count": 134,
   "id": "brutal-current",
   "metadata": {},
   "outputs": [
    {
     "name": "stdout",
     "output_type": "stream",
     "text": [
      " 🤖 TARS : ✋ Stopped all strategies\n"
     ]
    }
   ],
   "source": [
    "tars.stop()"
   ]
  },
  {
   "cell_type": "markdown",
   "id": "blind-rainbow",
   "metadata": {},
   "source": [
    "---"
   ]
  }
 ],
 "metadata": {
  "kernelspec": {
   "display_name": "Python 3",
   "language": "python",
   "name": "python3"
  },
  "language_info": {
   "codemirror_mode": {
    "name": "ipython",
    "version": 3
   },
   "file_extension": ".py",
   "mimetype": "text/x-python",
   "name": "python",
   "nbconvert_exporter": "python",
   "pygments_lexer": "ipython3",
   "version": "3.8.7"
  }
 },
 "nbformat": 4,
 "nbformat_minor": 5
}
