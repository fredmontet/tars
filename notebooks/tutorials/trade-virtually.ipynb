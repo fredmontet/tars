{
 "cells": [
  {
   "cell_type": "code",
   "execution_count": 1,
   "id": "compact-castle",
   "metadata": {
    "collapsed": false,
    "jupyter": {
     "outputs_hidden": false
    },
    "pycharm": {
     "name": "#%%\n"
    }
   },
   "outputs": [
    {
     "name": "stderr",
     "output_type": "stream",
     "text": [
      "Importing plotly failed. Interactive plots will not work.\n"
     ]
    }
   ],
   "source": [
    "from tars import Tars, markets, portfolios, traders, strategies\n",
    "%matplotlib inline"
   ]
  },
  {
   "cell_type": "markdown",
   "id": "prescription-gilbert",
   "metadata": {},
   "source": [
    "# Trade Virtually\n",
    "\n",
    "Welcome on the offline testing environment from Tars. It uses the same API than the online environment, but with virtual money. It's the best place to test your strategies before going online!\n"
   ]
  },
  {
   "cell_type": "markdown",
   "id": "blessed-extreme",
   "metadata": {},
   "source": [
    "## Instanciate Tars"
   ]
  },
  {
   "cell_type": "code",
   "execution_count": 2,
   "id": "furnished-there",
   "metadata": {},
   "outputs": [],
   "source": [
    "root = '../'\n",
    "api_key = f'{root}kraken.key'"
   ]
  },
  {
   "cell_type": "code",
   "execution_count": 3,
   "id": "turned-victoria",
   "metadata": {},
   "outputs": [],
   "source": [
    "market = markets.CryptoMarket()\n",
    "\n",
    "portfolio_1 = portfolios.VirtualPortfolio({'ZUSD': 1000})\n",
    "trader_1 = traders.VirtualCryptoTrader(market, portfolio_1)\n",
    "strategy_1 = strategies.BuyAndHold(trader_1, 'XETHZUSD', 0.2)\n",
    "\n",
    "portfolio_2 = portfolios.VirtualPortfolio({'ZUSD': 1000})\n",
    "trader_2 = traders.VirtualCryptoTrader(market, portfolio_2)\n",
    "strategy_2 = strategies.TrendFollowingMACD(trader_2, 'XETHZUSD', 0.2)"
   ]
  },
  {
   "cell_type": "code",
   "execution_count": 4,
   "id": "respective-gathering",
   "metadata": {},
   "outputs": [
    {
     "name": "stdout",
     "output_type": "stream",
     "text": [
      " 🤖 TARS : Welcome to Endurance! 👨‍🚀\n",
      " 🤖 TARS : Loaded strategy ➡️ Buy and hold\n",
      " 🤖 TARS : Loaded strategy ➡️ Trend Following with MACD\n"
     ]
    }
   ],
   "source": [
    "# Create Tars and load its strategies\n",
    "tars = Tars()\n",
    "tars.load(strategy_1)\n",
    "tars.load(strategy_2)"
   ]
  },
  {
   "cell_type": "markdown",
   "id": "continued-going",
   "metadata": {},
   "source": [
    "## Start the bot"
   ]
  },
  {
   "cell_type": "code",
   "execution_count": 14,
   "id": "august-toyota",
   "metadata": {},
   "outputs": [
    {
     "name": "stdout",
     "output_type": "stream",
     "text": [
      " 🤖 TARS : Starting trading session 📈\n",
      " ⏱ Trading decision will be taken every : 00:00:05️ (hh:mm:ss)\n",
      " 💪️ Loading :   \n",
      "   🧵 'Thread-10' ➡️ 'Buy and hold'\n",
      "   🧵 'Thread-11' ➡️ 'Trend Following with MACD'\n"
     ]
    }
   ],
   "source": [
    "tars.start('00:00:05')"
   ]
  },
  {
   "cell_type": "markdown",
   "id": "million-sussex",
   "metadata": {},
   "source": [
    "## Evaluate the strategy"
   ]
  },
  {
   "cell_type": "code",
   "execution_count": 24,
   "id": "available-fellow",
   "metadata": {},
   "outputs": [
    {
     "data": {
      "text/plain": [
       "{'3a0c8058': VirtualOrder(dtime=Timestamp('2022-03-18 22:04:42.345722+0000', tz='UTC'), pair='XETHZUSD', ordertype='buy', type='market', price=2959.02, cost=591.804, fee=1.5386904, volume=0.2)}"
      ]
     },
     "execution_count": 24,
     "metadata": {},
     "output_type": "execute_result"
    }
   ],
   "source": [
    "strategy_1.trader.order_book"
   ]
  },
  {
   "cell_type": "code",
   "execution_count": 25,
   "id": "hourly-realtor",
   "metadata": {},
   "outputs": [
    {
     "data": {
      "text/plain": [
       "{'ec0cb54a': VirtualOrder(dtime=Timestamp('2022-03-18 22:04:42.860270+0000', tz='UTC'), pair='XETHZUSD', ordertype='buy', type='market', price=2959.02, cost=591.804, fee=1.5386904, volume=0.2),\n",
       " '0a9920b6': VirtualOrder(dtime=Timestamp('2022-03-18 22:07:41.872381+0000', tz='UTC'), pair='XETHZUSD', ordertype='buy', type='market', price=2958.75, cost=591.75, fee=1.5385499999999999, volume=0.2),\n",
       " '49d71001': VirtualOrder(dtime=Timestamp('2022-03-18 22:07:51.293269+0000', tz='UTC'), pair='XETHZUSD', ordertype='buy', type='market', price=2956.8, cost=591.36, fee=1.537536, volume=0.2),\n",
       " 'b5fcf34a': VirtualOrder(dtime=Timestamp('2022-03-18 22:08:00.411116+0000', tz='UTC'), pair='XETHZUSD', ordertype='buy', type='market', price=2956.8, cost=591.36, fee=1.537536, volume=0.2),\n",
       " '00c2a8aa': VirtualOrder(dtime=Timestamp('2022-03-18 22:08:09.725347+0000', tz='UTC'), pair='XETHZUSD', ordertype='buy', type='market', price=2956.8, cost=591.36, fee=1.537536, volume=0.2),\n",
       " '32aa1b2f': VirtualOrder(dtime=Timestamp('2022-03-18 22:08:19.043535+0000', tz='UTC'), pair='XETHZUSD', ordertype='buy', type='market', price=2956.81, cost=591.362, fee=1.5375412, volume=0.2),\n",
       " '9004a68e': VirtualOrder(dtime=Timestamp('2022-03-18 22:08:28.158856+0000', tz='UTC'), pair='XETHZUSD', ordertype='buy', type='market', price=2956.81, cost=591.362, fee=1.5375412, volume=0.2),\n",
       " 'df244586': VirtualOrder(dtime=Timestamp('2022-03-18 22:08:37.070099+0000', tz='UTC'), pair='XETHZUSD', ordertype='buy', type='market', price=2956.8, cost=591.36, fee=1.537536, volume=0.2),\n",
       " 'e8150371': VirtualOrder(dtime=Timestamp('2022-03-18 22:08:46.709494+0000', tz='UTC'), pair='XETHZUSD', ordertype='buy', type='market', price=2956.8, cost=591.36, fee=1.537536, volume=0.2),\n",
       " '86f27c04': VirtualOrder(dtime=Timestamp('2022-03-18 22:08:56.726593+0000', tz='UTC'), pair='XETHZUSD', ordertype='buy', type='market', price=2956.8, cost=591.36, fee=1.537536, volume=0.2),\n",
       " '98581237': VirtualOrder(dtime=Timestamp('2022-03-18 22:09:05.845079+0000', tz='UTC'), pair='XETHZUSD', ordertype='buy', type='market', price=2957.69, cost=591.538, fee=1.5379988, volume=0.2),\n",
       " '8a10eb2d': VirtualOrder(dtime=Timestamp('2022-03-18 22:09:15.568681+0000', tz='UTC'), pair='XETHZUSD', ordertype='buy', type='market', price=2957.69, cost=591.538, fee=1.5379988, volume=0.2),\n",
       " '083e08f4': VirtualOrder(dtime=Timestamp('2022-03-18 22:09:24.784413+0000', tz='UTC'), pair='XETHZUSD', ordertype='buy', type='market', price=2957.69, cost=591.538, fee=1.5379988, volume=0.2),\n",
       " '8fbdfa4d': VirtualOrder(dtime=Timestamp('2022-03-18 22:09:33.864726+0000', tz='UTC'), pair='XETHZUSD', ordertype='buy', type='market', price=2957.69, cost=591.538, fee=1.5379988, volume=0.2)}"
      ]
     },
     "execution_count": 25,
     "metadata": {},
     "output_type": "execute_result"
    }
   ],
   "source": [
    "strategy_2.trader.order_book"
   ]
  },
  {
   "cell_type": "code",
   "execution_count": 30,
   "id": "assured-brazil",
   "metadata": {},
   "outputs": [
    {
     "data": {
      "image/png": "[encoded data removed]",
      "text/plain": [
       "<Figure size 432x288 with 1 Axes>"
      ]
     },
     "metadata": {
      "needs_background": "light"
     },
     "output_type": "display_data"
    },
    {
     "name": "stdout",
     "output_type": "stream",
     "text": [
      "public call frequency exceeded (seconds=0.192799) \n",
      " sleeping for 5 seconds\n",
      " The base XETH isn't available in the portfolio.\n",
      " The base XETH isn't available in the portfolio.\n",
      " The base XETH isn't available in the portfolio.\n",
      " The base XETH isn't available in the portfolio.\n",
      " The base XETH isn't available in the portfolio.\n",
      "public call frequency exceeded (seconds=0.174364) \n",
      " sleeping for 5 seconds\n",
      "public call frequency exceeded (seconds=0.982606) \n",
      " sleeping for 5 seconds\n"
     ]
    }
   ],
   "source": [
    "tars.plot();"
   ]
  },
  {
   "cell_type": "code",
   "execution_count": 28,
   "id": "korean-sweden",
   "metadata": {},
   "outputs": [
    {
     "data": {
      "text/plain": [
       "True"
      ]
     },
     "execution_count": 28,
     "metadata": {},
     "output_type": "execute_result"
    }
   ],
   "source": [
    "tars.is_running"
   ]
  },
  {
   "cell_type": "code",
   "execution_count": 29,
   "id": "99db0bba-524b-469d-9785-6a289ac1d819",
   "metadata": {},
   "outputs": [
    {
     "data": {
      "text/html": [
       "<div>\n",
       "<style scoped>\n",
       "    .dataframe tbody tr th:only-of-type {\n",
       "        vertical-align: middle;\n",
       "    }\n",
       "\n",
       "    .dataframe tbody tr th {\n",
       "        vertical-align: top;\n",
       "    }\n",
       "\n",
       "    .dataframe thead th {\n",
       "        text-align: right;\n",
       "    }\n",
       "</style>\n",
       "<table border=\"1\" class=\"dataframe\">\n",
       "  <thead>\n",
       "    <tr style=\"text-align: right;\">\n",
       "      <th></th>\n",
       "      <th>Buy and hold</th>\n",
       "      <th>Trend Following with MACD</th>\n",
       "    </tr>\n",
       "  </thead>\n",
       "  <tbody>\n",
       "    <tr>\n",
       "      <th>2022-03-18 22:04:00+00:00</th>\n",
       "      <td>1000.00</td>\n",
       "      <td>1000.00</td>\n",
       "    </tr>\n",
       "    <tr>\n",
       "      <th>2022-03-18 22:05:00+00:00</th>\n",
       "      <td>998.41</td>\n",
       "      <td>998.41</td>\n",
       "    </tr>\n",
       "    <tr>\n",
       "      <th>2022-03-18 22:06:00+00:00</th>\n",
       "      <td>998.41</td>\n",
       "      <td>998.41</td>\n",
       "    </tr>\n",
       "    <tr>\n",
       "      <th>2022-03-18 22:07:00+00:00</th>\n",
       "      <td>998.41</td>\n",
       "      <td>998.41</td>\n",
       "    </tr>\n",
       "    <tr>\n",
       "      <th>2022-03-18 22:08:00+00:00</th>\n",
       "      <td>998.02</td>\n",
       "      <td>998.02</td>\n",
       "    </tr>\n",
       "    <tr>\n",
       "      <th>2022-03-18 22:09:00+00:00</th>\n",
       "      <td>998.02</td>\n",
       "      <td>998.02</td>\n",
       "    </tr>\n",
       "    <tr>\n",
       "      <th>2022-03-18 22:10:00+00:00</th>\n",
       "      <td>998.19</td>\n",
       "      <td>998.19</td>\n",
       "    </tr>\n",
       "  </tbody>\n",
       "</table>\n",
       "</div>"
      ],
      "text/plain": [
       "                           Buy and hold  Trend Following with MACD\n",
       "2022-03-18 22:04:00+00:00       1000.00                    1000.00\n",
       "2022-03-18 22:05:00+00:00        998.41                     998.41\n",
       "2022-03-18 22:06:00+00:00        998.41                     998.41\n",
       "2022-03-18 22:07:00+00:00        998.41                     998.41\n",
       "2022-03-18 22:08:00+00:00        998.02                     998.02\n",
       "2022-03-18 22:09:00+00:00        998.02                     998.02\n",
       "2022-03-18 22:10:00+00:00        998.19                     998.19"
      ]
     },
     "execution_count": 29,
     "metadata": {},
     "output_type": "execute_result"
    },
    {
     "name": "stdout",
     "output_type": "stream",
     "text": [
      " The base XETH isn't available in the portfolio.\n",
      " The base XETH isn't available in the portfolio.\n",
      " The base XETH isn't available in the portfolio.\n",
      " The base XETH isn't available in the portfolio.\n",
      " The base XETH isn't available in the portfolio.\n",
      " The base XETH isn't available in the portfolio.\n",
      " The base XETH isn't available in the portfolio.\n",
      " The base XETH isn't available in the portfolio.\n",
      " The base XETH isn't available in the portfolio.\n",
      " The base XETH isn't available in the portfolio.\n",
      " The base XETH isn't available in the portfolio.\n",
      " The base XETH isn't available in the portfolio.\n",
      " The base XETH isn't available in the portfolio.\n",
      " The base XETH isn't available in the portfolio.\n",
      " The base XETH isn't available in the portfolio.\n",
      " The base XETH isn't available in the portfolio.\n",
      " The base XETH isn't available in the portfolio.\n",
      " The base XETH isn't available in the portfolio.\n",
      " The base XETH isn't available in the portfolio.\n",
      " The base XETH isn't available in the portfolio.\n",
      " The base XETH isn't available in the portfolio.\n",
      " The base XETH isn't available in the portfolio.\n",
      " The base XETH isn't available in the portfolio.\n",
      " The base XETH isn't available in the portfolio.\n",
      " The base XETH isn't available in the portfolio.\n",
      " The base XETH isn't available in the portfolio.\n",
      " The base XETH isn't available in the portfolio.\n",
      " The base XETH isn't available in the portfolio.\n",
      " The base XETH isn't available in the portfolio.\n",
      " The base XETH isn't available in the portfolio.\n",
      " The base XETH isn't available in the portfolio.\n",
      " The base XETH isn't available in the portfolio.\n",
      " The base XETH isn't available in the portfolio.\n",
      " The base XETH isn't available in the portfolio.\n",
      " The base XETH isn't available in the portfolio.\n",
      " The base XETH isn't available in the portfolio.\n",
      " The base XETH isn't available in the portfolio.\n",
      " The base XETH isn't available in the portfolio.\n",
      " The base XETH isn't available in the portfolio.\n",
      " The base XETH isn't available in the portfolio.\n",
      " The base XETH isn't available in the portfolio.\n",
      " The base XETH isn't available in the portfolio.\n",
      " The base XETH isn't available in the portfolio.\n",
      " The base XETH isn't available in the portfolio.\n",
      " The base XETH isn't available in the portfolio.\n",
      " The base XETH isn't available in the portfolio.\n",
      " The base XETH isn't available in the portfolio.\n",
      " The base XETH isn't available in the portfolio.\n",
      " The base XETH isn't available in the portfolio.\n",
      " The base XETH isn't available in the portfolio.\n",
      " The base XETH isn't available in the portfolio.\n",
      " The base XETH isn't available in the portfolio.\n",
      " The base XETH isn't available in the portfolio.\n",
      " The base XETH isn't available in the portfolio.\n",
      " The base XETH isn't available in the portfolio.\n",
      " The base XETH isn't available in the portfolio.\n",
      " The base XETH isn't available in the portfolio.\n",
      " The base XETH isn't available in the portfolio.\n",
      " The base XETH isn't available in the portfolio.\n",
      " The base XETH isn't available in the portfolio.\n",
      "public call frequency exceeded (seconds=0.006626) \n",
      " sleeping for 5 seconds\n",
      " The base XETH isn't available in the portfolio.\n",
      " The base XETH isn't available in the portfolio.\n",
      " The base XETH isn't available in the portfolio.\n",
      " The base XETH isn't available in the portfolio.\n",
      " The base XETH isn't available in the portfolio.\n",
      " The base XETH isn't available in the portfolio.\n",
      " The base XETH isn't available in the portfolio.\n",
      " The base XETH isn't available in the portfolio.\n",
      " The base XETH isn't available in the portfolio.\n",
      " The base XETH isn't available in the portfolio.\n",
      " The base XETH isn't available in the portfolio.\n",
      " The base XETH isn't available in the portfolio.\n",
      " The base XETH isn't available in the portfolio.\n",
      " The base XETH isn't available in the portfolio.\n",
      " The base XETH isn't available in the portfolio.\n",
      " The base XETH isn't available in the portfolio.\n",
      " The base XETH isn't available in the portfolio.\n",
      " The base XETH isn't available in the portfolio.\n",
      " The base XETH isn't available in the portfolio.\n",
      " The base XETH isn't available in the portfolio.\n",
      " The base XETH isn't available in the portfolio.\n",
      " The base XETH isn't available in the portfolio.\n",
      " The base XETH isn't available in the portfolio.\n",
      " The base XETH isn't available in the portfolio.\n",
      " The base XETH isn't available in the portfolio.\n",
      " The base XETH isn't available in the portfolio.\n",
      " The base XETH isn't available in the portfolio.\n",
      " The base XETH isn't available in the portfolio.\n",
      " The base XETH isn't available in the portfolio.\n",
      " The base XETH isn't available in the portfolio.\n",
      " The base XETH isn't available in the portfolio.\n",
      " The base XETH isn't available in the portfolio.\n",
      " The base XETH isn't available in the portfolio.\n",
      " The base XETH isn't available in the portfolio.\n",
      " The base XETH isn't available in the portfolio.\n",
      " The base XETH isn't available in the portfolio.\n",
      " The base XETH isn't available in the portfolio.\n",
      " The base XETH isn't available in the portfolio.\n",
      " The base XETH isn't available in the portfolio.\n",
      " The base XETH isn't available in the portfolio.\n",
      " The base XETH isn't available in the portfolio.\n",
      " The base XETH isn't available in the portfolio.\n",
      " The base XETH isn't available in the portfolio.\n",
      " The base XETH isn't available in the portfolio.\n",
      " The base XETH isn't available in the portfolio.\n",
      " The base XETH isn't available in the portfolio.\n",
      " The base XETH isn't available in the portfolio.\n",
      " The base XETH isn't available in the portfolio.\n",
      " The base XETH isn't available in the portfolio.\n",
      " The base XETH isn't available in the portfolio.\n",
      " The base XETH isn't available in the portfolio.\n",
      " The base XETH isn't available in the portfolio.\n",
      " The base XETH isn't available in the portfolio.\n",
      " The base XETH isn't available in the portfolio.\n",
      " The base XETH isn't available in the portfolio.\n",
      " The base XETH isn't available in the portfolio.\n",
      " The base XETH isn't available in the portfolio.\n",
      " The base XETH isn't available in the portfolio.\n",
      " The base XETH isn't available in the portfolio.\n",
      " The base XETH isn't available in the portfolio.\n",
      " The base XETH isn't available in the portfolio.\n",
      " The base XETH isn't available in the portfolio.\n",
      " The base XETH isn't available in the portfolio.\n",
      " The base XETH isn't available in the portfolio.\n",
      " The base XETH isn't available in the portfolio.\n",
      " The base XETH isn't available in the portfolio.\n",
      " The base XETH isn't available in the portfolio.\n",
      " The base XETH isn't available in the portfolio.\n",
      " The base XETH isn't available in the portfolio.\n",
      " The base XETH isn't available in the portfolio.\n",
      " The base XETH isn't available in the portfolio.\n",
      " The base XETH isn't available in the portfolio.\n",
      " The base XETH isn't available in the portfolio.\n",
      " The base XETH isn't available in the portfolio.\n",
      " The base XETH isn't available in the portfolio.\n",
      " The base XETH isn't available in the portfolio.\n",
      " The base XETH isn't available in the portfolio.\n",
      " The base XETH isn't available in the portfolio.\n",
      " The base XETH isn't available in the portfolio.\n",
      " The base XETH isn't available in the portfolio.\n",
      " The base XETH isn't available in the portfolio.\n",
      " The base XETH isn't available in the portfolio.\n",
      " The base XETH isn't available in the portfolio.\n",
      " The base XETH isn't available in the portfolio.\n",
      " The base XETH isn't available in the portfolio.\n",
      " The base XETH isn't available in the portfolio.\n",
      " The base XETH isn't available in the portfolio.\n",
      " The base XETH isn't available in the portfolio.\n",
      " The base XETH isn't available in the portfolio.\n",
      " The base XETH isn't available in the portfolio.\n",
      " The base XETH isn't available in the portfolio.\n",
      " The base XETH isn't available in the portfolio.\n",
      " The base XETH isn't available in the portfolio.\n",
      " The base XETH isn't available in the portfolio.\n",
      " The base XETH isn't available in the portfolio.\n",
      " The base XETH isn't available in the portfolio.\n",
      " The base XETH isn't available in the portfolio.\n",
      " The base XETH isn't available in the portfolio.\n",
      " The base XETH isn't available in the portfolio.\n",
      " The base XETH isn't available in the portfolio.\n",
      " The base XETH isn't available in the portfolio.\n",
      " The base XETH isn't available in the portfolio.\n",
      " The base XETH isn't available in the portfolio.\n",
      " The base XETH isn't available in the portfolio.\n",
      " The base XETH isn't available in the portfolio.\n",
      " The base XETH isn't available in the portfolio.\n",
      " The base XETH isn't available in the portfolio.\n",
      " The base XETH isn't available in the portfolio.\n",
      " The base XETH isn't available in the portfolio.\n",
      " The base XETH isn't available in the portfolio.\n",
      " The base XETH isn't available in the portfolio.\n",
      " The base XETH isn't available in the portfolio.\n",
      " The base XETH isn't available in the portfolio.\n",
      " The base XETH isn't available in the portfolio.\n",
      " The base XETH isn't available in the portfolio.\n",
      " The base XETH isn't available in the portfolio.\n",
      " The base XETH isn't available in the portfolio.\n",
      " The base XETH isn't available in the portfolio.\n",
      " The base XETH isn't available in the portfolio.\n",
      " The base XETH isn't available in the portfolio.\n",
      " The base XETH isn't available in the portfolio.\n",
      " The base XETH isn't available in the portfolio.\n",
      " The base XETH isn't available in the portfolio.\n",
      " The base XETH isn't available in the portfolio.\n",
      " The base XETH isn't available in the portfolio.\n",
      " The base XETH isn't available in the portfolio.\n",
      " The base XETH isn't available in the portfolio.\n",
      " The base XETH isn't available in the portfolio.\n",
      " The base XETH isn't available in the portfolio.\n",
      " The base XETH isn't available in the portfolio.\n",
      " The base XETH isn't available in the portfolio.\n",
      " The base XETH isn't available in the portfolio.\n",
      " The base XETH isn't available in the portfolio.\n",
      " The base XETH isn't available in the portfolio.\n",
      " The base XETH isn't available in the portfolio.\n",
      " The base XETH isn't available in the portfolio.\n",
      " The base XETH isn't available in the portfolio.\n",
      " The base XETH isn't available in the portfolio.\n",
      " The base XETH isn't available in the portfolio.\n",
      " The base XETH isn't available in the portfolio.\n",
      " The base XETH isn't available in the portfolio.\n",
      " The base XETH isn't available in the portfolio.\n",
      " The base XETH isn't available in the portfolio.\n"
     ]
    }
   ],
   "source": [
    "tars.evaluate()"
   ]
  },
  {
   "cell_type": "markdown",
   "id": "periodic-speech",
   "metadata": {},
   "source": [
    "## Stop the bot"
   ]
  },
  {
   "cell_type": "code",
   "execution_count": 13,
   "id": "brutal-current",
   "metadata": {},
   "outputs": [
    {
     "name": "stdout",
     "output_type": "stream",
     "text": [
      " 🤖 TARS : ✋ Stopped all strategies\n"
     ]
    }
   ],
   "source": [
    "tars.stop()"
   ]
  },
  {
   "cell_type": "markdown",
   "id": "blind-rainbow",
   "metadata": {},
   "source": [
    "---"
   ]
  }
 ],
 "metadata": {
  "kernelspec": {
   "display_name": "Python 3 (ipykernel)",
   "language": "python",
   "name": "python3"
  },
  "language_info": {
   "codemirror_mode": {
    "name": "ipython",
    "version": 3
   },
   "file_extension": ".py",
   "mimetype": "text/x-python",
   "name": "python",
   "nbconvert_exporter": "python",
   "pygments_lexer": "ipython3",
   "version": "3.8.7"
  }
 },
 "nbformat": 4,
 "nbformat_minor": 5
}
