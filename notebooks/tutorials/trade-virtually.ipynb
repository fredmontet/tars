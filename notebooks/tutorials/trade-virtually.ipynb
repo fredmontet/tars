{
 "cells": [
  {
   "cell_type": "code",
   "execution_count": 1,
   "id": "registered-leather",
   "metadata": {
    "collapsed": false,
    "jupyter": {
     "outputs_hidden": false
    },
    "pycharm": {
     "name": "#%%\n"
    }
   },
   "outputs": [
    {
     "name": "stderr",
     "output_type": "stream",
     "text": [
      "Importing plotly failed. Interactive plots will not work.\n"
     ]
    }
   ],
   "source": [
    "from src import TARS, markets, portfolios, traders, strategies\n",
    "%matplotlib inline"
   ]
  },
  {
   "cell_type": "markdown",
   "id": "expressed-benchmark",
   "metadata": {},
   "source": [
    "# Trade Virtually\n",
    "\n",
    "Welcome on the offline testing environment from Tars. It uses the same API than the online environment, but with virtual money. It's the best place to test your strategies before going online!\n"
   ]
  },
  {
   "cell_type": "markdown",
   "id": "difficult-quantum",
   "metadata": {},
   "source": [
    "## Instanciate Tars"
   ]
  },
  {
   "cell_type": "code",
   "execution_count": 2,
   "id": "latter-cursor",
   "metadata": {},
   "outputs": [],
   "source": [
    "root = '../'\n",
    "api_key = f'{root}kraken.key'"
   ]
  },
  {
   "cell_type": "code",
   "execution_count": 3,
   "id": "structured-karen",
   "metadata": {},
   "outputs": [],
   "source": [
    "portfolio_1 = portfolios.VirtualPortfolio({'ZUSD': 1000})\n",
    "trader_1 = traders.VirtualCryptoTrader(portfolio_1)\n",
    "strategy_1 = strategies.BuyAndHold(trader_1, 'XETHZUSD', 0.2)\n",
    "\n",
    "portfolio_2 = portfolios.VirtualPortfolio({'ZUSD': 1000})\n",
    "trader_2 = traders.VirtualCryptoTrader(portfolio_2)\n",
    "strategy_2 = strategies.TrendFollowingMACD(trader_2, 'XETHZUSD', 0.2)\n",
    "\n",
    "portfolio_3 = portfolios.VirtualPortfolio({'ZUSD': 1000})\n",
    "trader_3 = traders.VirtualCryptoTrader(portfolio_3)\n",
    "strategy_3 = strategies.RandomInvestment(trader_3, 'XETHZUSD', 0.2)\n",
    "\n",
    "portfolio_4 = portfolios.VirtualPortfolio({'ZUSD': 1000})\n",
    "trader_4 = traders.VirtualCryptoTrader(portfolio_4)\n",
    "strategy_4 = strategies.PredictionStrategy(trader_4, 'XETHZUSD', 0.2)"
   ]
  },
  {
   "cell_type": "code",
   "execution_count": 5,
   "id": "honest-fourth",
   "metadata": {},
   "outputs": [
    {
     "name": "stdout",
     "output_type": "stream",
     "text": [
      " 🤖 TARS : Welcome to Endurance! 👨‍🚀\n",
      " 🤖 TARS : Loaded strategy ➡️ Buy and hold\n",
      " 🤖 TARS : Loaded strategy ➡️ Trend Following with MACD\n",
      " 🤖 TARS : Loaded strategy ➡️ Random Investment\n",
      " 🤖 TARS : Loaded strategy ➡️ Prediction\n"
     ]
    }
   ],
   "source": [
    "# Create Tars and load its strategies\n",
    "tars = TARS()\n",
    "tars.load(strategy_1)\n",
    "tars.load(strategy_2)\n",
    "tars.load(strategy_3)\n",
    "tars.load(strategy_4)"
   ]
  },
  {
   "cell_type": "markdown",
   "id": "choice-debut",
   "metadata": {},
   "source": [
    "## Start the bot"
   ]
  },
  {
   "cell_type": "code",
   "execution_count": 6,
   "id": "satisfactory-electricity",
   "metadata": {},
   "outputs": [
    {
     "name": "stdout",
     "output_type": "stream",
     "text": [
      " 🤖 TARS : Starting trading session 📈\n",
      " ⏱ Trading decision will be taken every : 00:01:00️ (hh:mm:ss)\n",
      " 💪️ Loading :   \n",
      "   🧵 'Thread-4' ➡️ 'Buy and hold'\n",
      "   🧵 'Thread-5' ➡️ 'Trend Following with MACD'\n",
      "   🧵 'Thread-6' ➡️ 'Random Investment'\n",
      "   🧵 'Thread-7' ➡️ 'Prediction'\n"
     ]
    },
    {
     "name": "stderr",
     "output_type": "stream",
     "text": [
      "/Users/frederic.montet/.local/share/virtualenvs/tars-dSrcWdcW/lib/python3.8/site-packages/statsmodels/tsa/holtwinters/model.py:427: FutureWarning: After 0.13 initialization must be handled at model creation\n",
      "  warnings.warn(\n"
     ]
    }
   ],
   "source": [
    "tars.start('00:01:00')"
   ]
  },
  {
   "cell_type": "markdown",
   "id": "massive-thesis",
   "metadata": {},
   "source": [
    "## Evaluate the strategy"
   ]
  },
  {
   "cell_type": "code",
   "execution_count": 10,
   "id": "biological-contributor",
   "metadata": {},
   "outputs": [
    {
     "data": {
      "image/png": "[encoded data removed]",
      "text/plain": [
       "<Figure size 432x288 with 1 Axes>"
      ]
     },
     "metadata": {
      "needs_background": "light"
     },
     "output_type": "display_data"
    }
   ],
   "source": [
    "tars.plot()"
   ]
  },
  {
   "cell_type": "code",
   "execution_count": 9,
   "id": "ordered-history",
   "metadata": {},
   "outputs": [
    {
     "data": {
      "text/html": [
       "<div>\n",
       "<style scoped>\n",
       "    .dataframe tbody tr th:only-of-type {\n",
       "        vertical-align: middle;\n",
       "    }\n",
       "\n",
       "    .dataframe tbody tr th {\n",
       "        vertical-align: top;\n",
       "    }\n",
       "\n",
       "    .dataframe thead th {\n",
       "        text-align: right;\n",
       "    }\n",
       "</style>\n",
       "<table border=\"1\" class=\"dataframe\">\n",
       "  <thead>\n",
       "    <tr style=\"text-align: right;\">\n",
       "      <th></th>\n",
       "      <th>Buy and hold</th>\n",
       "      <th>Trend Following with MACD</th>\n",
       "      <th>Random Investment</th>\n",
       "      <th>Prediction</th>\n",
       "    </tr>\n",
       "  </thead>\n",
       "  <tbody>\n",
       "    <tr>\n",
       "      <th>2021-08-13 07:11:00+00:00</th>\n",
       "      <td>1000.0</td>\n",
       "      <td>1000.0</td>\n",
       "      <td>1000.0</td>\n",
       "      <td>1000.0</td>\n",
       "    </tr>\n",
       "  </tbody>\n",
       "</table>\n",
       "</div>"
      ],
      "text/plain": [
       "                           Buy and hold  Trend Following with MACD  \\\n",
       "2021-08-13 07:11:00+00:00        1000.0                     1000.0   \n",
       "\n",
       "                           Random Investment  Prediction  \n",
       "2021-08-13 07:11:00+00:00             1000.0      1000.0  "
      ]
     },
     "execution_count": 9,
     "metadata": {},
     "output_type": "execute_result"
    },
    {
     "name": "stderr",
     "output_type": "stream",
     "text": [
      "/Users/frederic.montet/.local/share/virtualenvs/tars-dSrcWdcW/lib/python3.8/site-packages/statsmodels/tsa/holtwinters/model.py:427: FutureWarning: After 0.13 initialization must be handled at model creation\n",
      "  warnings.warn(\n"
     ]
    },
    {
     "name": "stdout",
     "output_type": "stream",
     "text": [
      " The base XETH isn't available in the portfolio.\n",
      "attempt: 000 | ['EAPI:Rate limit exceeded']\n",
      " The base XETH isn't available in the portfolio.\n",
      "attempt: 001 | ['EAPI:Rate limit exceeded']\n",
      "attempt: 002 | ['EAPI:Rate limit exceeded']\n",
      "attempt: 003 | ['EAPI:Rate limit exceeded']\n",
      "attempt: 004 | ['EAPI:Rate limit exceeded']\n",
      "attempt: 005 | ['EAPI:Rate limit exceeded']\n",
      "attempt: 006 | ['EAPI:Rate limit exceeded']\n",
      "attempt: 007 | ['EAPI:Rate limit exceeded']\n",
      "attempt: 008 | ['EAPI:Rate limit exceeded']\n",
      "attempt: 009 | ['EAPI:Rate limit exceeded']\n",
      "attempt: 010 | ['EAPI:Rate limit exceeded']\n",
      "attempt: 011 | ['EAPI:Rate limit exceeded']\n",
      " The base XETH isn't available in the portfolio.\n",
      " The base XETH isn't available in the portfolio.\n",
      " The base XETH isn't available in the portfolio.\n",
      " The base XETH isn't available in the portfolio.\n"
     ]
    }
   ],
   "source": [
    "tars.evaluate().tail()"
   ]
  },
  {
   "cell_type": "markdown",
   "id": "quick-dictionary",
   "metadata": {},
   "source": [
    "## Stop the bot"
   ]
  },
  {
   "cell_type": "code",
   "execution_count": 18,
   "id": "ahead-reasoning",
   "metadata": {},
   "outputs": [
    {
     "name": "stdout",
     "output_type": "stream",
     "text": [
      " 🤖 TARS : ✋ Stopped all strategies\n"
     ]
    }
   ],
   "source": [
    "tars.stop()"
   ]
  },
  {
   "cell_type": "markdown",
   "id": "documentary-senior",
   "metadata": {},
   "source": [
    "---"
   ]
  }
 ],
 "metadata": {
  "kernelspec": {
   "display_name": "Python 3",
   "language": "python",
   "name": "python3"
  },
  "language_info": {
   "codemirror_mode": {
    "name": "ipython",
    "version": 3
   },
   "file_extension": ".py",
   "mimetype": "text/x-python",
   "name": "python",
   "nbconvert_exporter": "python",
   "pygments_lexer": "ipython3",
   "version": "3.8.7"
  }
 },
 "nbformat": 4,
 "nbformat_minor": 5
}
