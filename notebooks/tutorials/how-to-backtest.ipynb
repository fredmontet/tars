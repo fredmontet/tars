{
 "cells": [
  {
   "cell_type": "code",
   "execution_count": 45,
   "id": "congressional-serbia",
   "metadata": {
    "collapsed": false,
    "jupyter": {
     "outputs_hidden": false
    },
    "pycharm": {
     "name": "#%%\n"
    }
   },
   "outputs": [],
   "source": [
    "from tars import Tars, markets, portfolios, traders, strategies\n",
    "from tars.utils import data\n",
    "import pandas as pd\n",
    "import numpy as np\n",
    "%matplotlib inline"
   ]
  },
  {
   "cell_type": "markdown",
   "id": "7a0276cd-8bd9-475f-9cb6-2581026447a8",
   "metadata": {},
   "source": [
    "# Backtester"
   ]
  },
  {
   "cell_type": "markdown",
   "id": "c0fc539d-7d8a-4a7e-a744-c63e6177f296",
   "metadata": {},
   "source": [
    "Tars allows you to backtest your strategies. Below is an example where two Buy and Hold strategies are compared."
   ]
  },
  {
   "cell_type": "markdown",
   "id": "ed97fe43-97cf-4d28-84cd-5c06ce8976cb",
   "metadata": {},
   "source": [
    "## The custom strategy\n",
    "\n",
    "For the sake of the example they are actually the same and the only thing that changes is the initial amount that is invested."
   ]
  },
  {
   "cell_type": "code",
   "execution_count": 46,
   "id": "0d332138-7ab8-4466-8255-73cc84b2343d",
   "metadata": {},
   "outputs": [],
   "source": [
    "from typing import NoReturn\n",
    "\n",
    "from pandas import DataFrame, Timestamp\n",
    "\n",
    "from tars.evaluators.trader_evaluator import TraderEvaluator\n",
    "from tars.strategies.abstract_strategy import AbstractStrategy\n",
    "import logging\n",
    "\n",
    "\n",
    "\n",
    "class BuyAndHoldCustom(AbstractStrategy):\n",
    "    \"\"\"\n",
    "    The buy and hold strategy is the reference strategy needed in all\n",
    "    scenario of comparison as it allows for setting the baseline.\n",
    "\n",
    "    :param trader: Trader\n",
    "        The Trader handling a portfolio\n",
    "    :param pair: str\n",
    "        The pair e.g. XETHZUSD to buy and hold\n",
    "    :param volume: float\n",
    "        The volume of the pair's quote buy\n",
    "    :param validate: boolean\n",
    "        Safety Boolean to make sure not to trade real money by default\n",
    "\n",
    "    :ivar has_run: boolean\n",
    "        Boolean describing if the strategy has run or not yet.\n",
    "    :ivar evaluator: AbstractEvaluator\n",
    "        Evaluator allows for the evaluation of a strategy\n",
    "    \"\"\"\n",
    "\n",
    "    def __init__(self, trader, pair, volume, validate=True):\n",
    "        self.name = 'Buy and hold Custom'\n",
    "        self.trader = trader\n",
    "        self.pair = pair\n",
    "        self.volume = volume\n",
    "        self.validate = validate\n",
    "        self.has_run = False\n",
    "        self.evaluator = TraderEvaluator(self.trader)\n",
    "\n",
    "    def run(self) -> NoReturn:\n",
    "        \"\"\" Run the strategy \"\"\"\n",
    "        # Checkpoint\n",
    "        balance = self.trader.portfolio.get_trade_balance().loc['eb']   \n",
    "        self.evaluator.add_checkpoint(Timestamp.utcnow(), balance)\n",
    "        # Run strategy\n",
    "        if not self.has_run:\n",
    "            self.trader.add_order(pair=self.pair, type='buy',\n",
    "                                  ordertype='market', volume=self.volume,\n",
    "                                  validate=self.validate)\n",
    "            self.has_run = True\n",
    "\n",
    "    def test(self, dtime: Timestamp, data: DataFrame):\n",
    "        \"\"\" Run the strategy \"\"\"\n",
    "        # Checkpoint\n",
    "        balance = self.trader.portfolio.get_trade_balance(dtime).loc['eb'].ZUSD\n",
    "        self.evaluator.add_checkpoint(dtime, balance)\n",
    "        \n",
    "        # Run strategy\n",
    "        if not self.has_run:\n",
    "            self.trader.add_order(dtime=dtime, pair=self.pair, type='buy',\n",
    "                                  ordertype='market', volume=self.volume,\n",
    "                                  validate=self.validate)\n",
    "            self.has_run = True\n"
   ]
  },
  {
   "cell_type": "markdown",
   "id": "excess-inspiration",
   "metadata": {},
   "source": [
    "## Usage"
   ]
  },
  {
   "cell_type": "markdown",
   "id": "a0a22ced-eb3c-4766-9e48-31cc22181834",
   "metadata": {},
   "source": [
    "Load utility module and kraken key"
   ]
  },
  {
   "cell_type": "code",
   "execution_count": 47,
   "id": "2dbb7c98-0bd0-478f-aa98-f36c0a0c7835",
   "metadata": {},
   "outputs": [],
   "source": [
    "from tars.utils import data\n",
    "api_key = f'../kraken.key'"
   ]
  },
  {
   "cell_type": "markdown",
   "id": "752e7c81-ebde-4b22-bf0d-92afa01746b3",
   "metadata": {},
   "source": [
    "Create historical market"
   ]
  },
  {
   "cell_type": "code",
   "execution_count": 48,
   "id": "a044e8c6-c41c-4310-b122-b32b3b11e3f3",
   "metadata": {},
   "outputs": [],
   "source": [
    "my_data = data.get_historical_ohlc_data(base='ETH', quote='USD', interval=720, data_folder='../../data/raw/')['2021':]\n",
    "market = markets.HistoricalMarket()\n",
    "market.load('XETHZUSD', my_data)"
   ]
  },
  {
   "cell_type": "markdown",
   "id": "7cca3625-8142-4c51-9c6b-b6ab47f79e7c",
   "metadata": {},
   "source": [
    "Create two portfolios, traders and strategies objects"
   ]
  },
  {
   "cell_type": "code",
   "execution_count": 56,
   "id": "6d9489dc-5bcd-4b6c-97cc-ca72249d1a6f",
   "metadata": {},
   "outputs": [],
   "source": [
    "portfolio_1 = portfolios.HistoricalPortfolio(market, {'ZUSD': 1000})\n",
    "trader_1 = traders.HistoricalTrader(market, portfolio_1)\n",
    "strategy_1 = strategies.BuyAndHold(trader_1, 'XETHZUSD', 0.1)\n",
    "\n",
    "portfolio_2 = portfolios.HistoricalPortfolio(market, {'ZUSD': 1000})\n",
    "trader_2 = traders.HistoricalTrader(market, portfolio_2)\n",
    "strategy_2 = BuyAndHoldCustom(trader_2, 'XETHZUSD', 0.2)"
   ]
  },
  {
   "cell_type": "markdown",
   "id": "b93444bd-df83-4165-955c-94138c99940a",
   "metadata": {},
   "source": [
    "Create Tars and load strategies"
   ]
  },
  {
   "cell_type": "code",
   "execution_count": 57,
   "id": "committed-therapy",
   "metadata": {},
   "outputs": [
    {
     "name": "stdout",
     "output_type": "stream",
     "text": [
      " 🤖 TARS : Welcome to Endurance! 👨‍🚀\n",
      " 🤖 TARS : Loaded strategy ➡️ Buy and hold\n",
      " 🤖 TARS : Loaded strategy ➡️ Buy and hold Custom\n"
     ]
    }
   ],
   "source": [
    "tars = Tars()\n",
    "tars.load(strategy_1)\n",
    "tars.load(strategy_2)"
   ]
  },
  {
   "cell_type": "markdown",
   "id": "c8d639e9-ed5f-4fca-a3f1-4e20bfd0de23",
   "metadata": {},
   "source": [
    "### Run the backtest"
   ]
  },
  {
   "cell_type": "markdown",
   "id": "474f9aa3-5e31-45f0-8c8e-f7b62c678ffa",
   "metadata": {},
   "source": [
    "Here, you can select the slice of the DataFrame that you want to run the backtest on. Logically, this slide of data has to be in the market otherwise it can't work."
   ]
  },
  {
   "cell_type": "code",
   "execution_count": 58,
   "id": "a1f8b204-21d4-4f84-a58a-ea1a0110f12e",
   "metadata": {},
   "outputs": [
    {
     "name": "stdout",
     "output_type": "stream",
     "text": [
      " 🤖 TARS : Starting backtesting session 📈\n",
      " 💪️ Loading :   \n",
      "   🧵 'Thread-16' ➡️ 'Buy and hold'\n",
      "   🧵 'Thread-17' ➡️ 'Buy and hold Custom'\n"
     ]
    }
   ],
   "source": [
    "tars.test(my_data.tail(100))"
   ]
  },
  {
   "cell_type": "markdown",
   "id": "358ea748-47f0-4cc7-b8c4-513fb7dcb953",
   "metadata": {},
   "source": [
    "Check that the investments have been successfully bought."
   ]
  },
  {
   "cell_type": "code",
   "execution_count": 67,
   "id": "3cf27016-9321-4194-a50a-47c85dd0bed3",
   "metadata": {},
   "outputs": [
    {
     "data": {
      "text/html": [
       "<div>\n",
       "<style scoped>\n",
       "    .dataframe tbody tr th:only-of-type {\n",
       "        vertical-align: middle;\n",
       "    }\n",
       "\n",
       "    .dataframe tbody tr th {\n",
       "        vertical-align: top;\n",
       "    }\n",
       "\n",
       "    .dataframe thead th {\n",
       "        text-align: right;\n",
       "    }\n",
       "</style>\n",
       "<table border=\"1\" class=\"dataframe\">\n",
       "  <thead>\n",
       "    <tr style=\"text-align: right;\">\n",
       "      <th></th>\n",
       "      <th>vol</th>\n",
       "    </tr>\n",
       "  </thead>\n",
       "  <tbody>\n",
       "    <tr>\n",
       "      <th>ZUSD</th>\n",
       "      <td>570.76</td>\n",
       "    </tr>\n",
       "    <tr>\n",
       "      <th>XETH</th>\n",
       "      <td>0.10</td>\n",
       "    </tr>\n",
       "  </tbody>\n",
       "</table>\n",
       "</div>"
      ],
      "text/plain": [
       "         vol\n",
       "ZUSD  570.76\n",
       "XETH    0.10"
      ]
     },
     "execution_count": 67,
     "metadata": {},
     "output_type": "execute_result"
    }
   ],
   "source": [
    "portfolio_1.get_account_balance()"
   ]
  },
  {
   "cell_type": "code",
   "execution_count": 68,
   "id": "e21a460c-561b-4c8c-900f-e53435c82b1c",
   "metadata": {},
   "outputs": [
    {
     "data": {
      "text/html": [
       "<div>\n",
       "<style scoped>\n",
       "    .dataframe tbody tr th:only-of-type {\n",
       "        vertical-align: middle;\n",
       "    }\n",
       "\n",
       "    .dataframe tbody tr th {\n",
       "        vertical-align: top;\n",
       "    }\n",
       "\n",
       "    .dataframe thead th {\n",
       "        text-align: right;\n",
       "    }\n",
       "</style>\n",
       "<table border=\"1\" class=\"dataframe\">\n",
       "  <thead>\n",
       "    <tr style=\"text-align: right;\">\n",
       "      <th></th>\n",
       "      <th>vol</th>\n",
       "    </tr>\n",
       "  </thead>\n",
       "  <tbody>\n",
       "    <tr>\n",
       "      <th>ZUSD</th>\n",
       "      <td>141.51</td>\n",
       "    </tr>\n",
       "    <tr>\n",
       "      <th>XETH</th>\n",
       "      <td>0.20</td>\n",
       "    </tr>\n",
       "  </tbody>\n",
       "</table>\n",
       "</div>"
      ],
      "text/plain": [
       "         vol\n",
       "ZUSD  141.51\n",
       "XETH    0.20"
      ]
     },
     "execution_count": 68,
     "metadata": {},
     "output_type": "execute_result"
    }
   ],
   "source": [
    "portfolio_2.get_account_balance()"
   ]
  },
  {
   "cell_type": "markdown",
   "id": "0d3a97f9-bae6-4839-9097-cb5635c559b8",
   "metadata": {},
   "source": [
    "Now, Tars works as usual, you can evaluate the strategies that are (or have been) executed."
   ]
  },
  {
   "cell_type": "code",
   "execution_count": 69,
   "id": "57de4324-0e37-4d77-be48-5e4504addc3f",
   "metadata": {},
   "outputs": [
    {
     "data": {
      "text/html": [
       "<div>\n",
       "<style scoped>\n",
       "    .dataframe tbody tr th:only-of-type {\n",
       "        vertical-align: middle;\n",
       "    }\n",
       "\n",
       "    .dataframe tbody tr th {\n",
       "        vertical-align: top;\n",
       "    }\n",
       "\n",
       "    .dataframe thead th {\n",
       "        text-align: right;\n",
       "    }\n",
       "</style>\n",
       "<table border=\"1\" class=\"dataframe\">\n",
       "  <thead>\n",
       "    <tr style=\"text-align: right;\">\n",
       "      <th></th>\n",
       "      <th>Buy and hold</th>\n",
       "      <th>Buy and hold Custom</th>\n",
       "    </tr>\n",
       "  </thead>\n",
       "  <tbody>\n",
       "    <tr>\n",
       "      <th>2021-05-12 00:00:00</th>\n",
       "      <td>1000.00</td>\n",
       "      <td>1000.00</td>\n",
       "    </tr>\n",
       "    <tr>\n",
       "      <th>2021-05-12 00:01:00</th>\n",
       "      <td>956.60</td>\n",
       "      <td>913.18</td>\n",
       "    </tr>\n",
       "    <tr>\n",
       "      <th>2021-05-12 00:02:00</th>\n",
       "      <td>956.60</td>\n",
       "      <td>913.18</td>\n",
       "    </tr>\n",
       "    <tr>\n",
       "      <th>2021-05-12 00:03:00</th>\n",
       "      <td>956.60</td>\n",
       "      <td>913.18</td>\n",
       "    </tr>\n",
       "    <tr>\n",
       "      <th>2021-05-12 00:04:00</th>\n",
       "      <td>956.60</td>\n",
       "      <td>913.18</td>\n",
       "    </tr>\n",
       "    <tr>\n",
       "      <th>...</th>\n",
       "      <td>...</td>\n",
       "      <td>...</td>\n",
       "    </tr>\n",
       "    <tr>\n",
       "      <th>2021-06-30 11:56:00</th>\n",
       "      <td>798.43</td>\n",
       "      <td>596.84</td>\n",
       "    </tr>\n",
       "    <tr>\n",
       "      <th>2021-06-30 11:57:00</th>\n",
       "      <td>798.43</td>\n",
       "      <td>596.84</td>\n",
       "    </tr>\n",
       "    <tr>\n",
       "      <th>2021-06-30 11:58:00</th>\n",
       "      <td>798.43</td>\n",
       "      <td>596.84</td>\n",
       "    </tr>\n",
       "    <tr>\n",
       "      <th>2021-06-30 11:59:00</th>\n",
       "      <td>798.43</td>\n",
       "      <td>596.84</td>\n",
       "    </tr>\n",
       "    <tr>\n",
       "      <th>2021-06-30 12:00:00</th>\n",
       "      <td>798.43</td>\n",
       "      <td>596.84</td>\n",
       "    </tr>\n",
       "  </tbody>\n",
       "</table>\n",
       "<p>71281 rows × 2 columns</p>\n",
       "</div>"
      ],
      "text/plain": [
       "                     Buy and hold  Buy and hold Custom\n",
       "2021-05-12 00:00:00       1000.00              1000.00\n",
       "2021-05-12 00:01:00        956.60               913.18\n",
       "2021-05-12 00:02:00        956.60               913.18\n",
       "2021-05-12 00:03:00        956.60               913.18\n",
       "2021-05-12 00:04:00        956.60               913.18\n",
       "...                           ...                  ...\n",
       "2021-06-30 11:56:00        798.43               596.84\n",
       "2021-06-30 11:57:00        798.43               596.84\n",
       "2021-06-30 11:58:00        798.43               596.84\n",
       "2021-06-30 11:59:00        798.43               596.84\n",
       "2021-06-30 12:00:00        798.43               596.84\n",
       "\n",
       "[71281 rows x 2 columns]"
      ]
     },
     "execution_count": 69,
     "metadata": {},
     "output_type": "execute_result"
    }
   ],
   "source": [
    "tars.evaluate()"
   ]
  },
  {
   "cell_type": "code",
   "execution_count": 70,
   "id": "0c042157-12b9-408e-94c3-b6d4f4640bf6",
   "metadata": {},
   "outputs": [
    {
     "data": {
      "image/png": "[encoded data removed]",
      "text/plain": [
       "<Figure size 432x288 with 1 Axes>"
      ]
     },
     "metadata": {
      "needs_background": "light"
     },
     "output_type": "display_data"
    }
   ],
   "source": [
    "tars.plot()"
   ]
  },
  {
   "cell_type": "markdown",
   "id": "f4a2dcab-8230-4561-8627-79724fb51245",
   "metadata": {},
   "source": [
    "Since the historical runs are done completely offline, there is no need to stop the execution of Tars."
   ]
  },
  {
   "cell_type": "code",
   "execution_count": 74,
   "id": "070532ea-db9d-4882-9186-c4705d03be03",
   "metadata": {},
   "outputs": [
    {
     "data": {
      "text/plain": [
       "False"
      ]
     },
     "execution_count": 74,
     "metadata": {},
     "output_type": "execute_result"
    }
   ],
   "source": [
    "tars.is_running"
   ]
  },
  {
   "cell_type": "code",
   "execution_count": null,
   "id": "79408e6c-9531-451a-bddb-7c229e7a78dc",
   "metadata": {},
   "outputs": [],
   "source": []
  },
  {
   "cell_type": "markdown",
   "id": "adjacent-schedule",
   "metadata": {},
   "source": [
    "---"
   ]
  }
 ],
 "metadata": {
  "kernelspec": {
   "display_name": "Python 3 (ipykernel)",
   "language": "python",
   "name": "python3"
  },
  "language_info": {
   "codemirror_mode": {
    "name": "ipython",
    "version": 3
   },
   "file_extension": ".py",
   "mimetype": "text/x-python",
   "name": "python",
   "nbconvert_exporter": "python",
   "pygments_lexer": "ipython3",
   "version": "3.8.7"
  }
 },
 "nbformat": 4,
 "nbformat_minor": 5
}
