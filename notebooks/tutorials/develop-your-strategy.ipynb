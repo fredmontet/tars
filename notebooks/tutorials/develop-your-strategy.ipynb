{
 "cells": [
  {
   "cell_type": "code",
   "execution_count": 1,
   "id": "sunrise-rwanda",
   "metadata": {
    "collapsed": false,
    "jupyter": {
     "outputs_hidden": false
    },
    "pycharm": {
     "name": "#%%\n"
    }
   },
   "outputs": [],
   "source": [
    "from src import TARS, markets, portfolios, traders, strategies\n",
    "%matplotlib inline"
   ]
  },
  {
   "cell_type": "markdown",
   "id": "quarterly-moment",
   "metadata": {},
   "source": [
    "# Develop your own trading strategy\n",
    "\n",
    "Here's an example to show how you can develop your own strategy. This notebook is a template for you to start your own thing."
   ]
  },
  {
   "cell_type": "markdown",
   "id": "fabulous-therapist",
   "metadata": {},
   "source": [
    "### Here's the strategy in development\n",
    "\n",
    "It's actually a copy of the TrendFollowingMACD."
   ]
  },
  {
   "cell_type": "code",
   "execution_count": 2,
   "id": "scientific-world",
   "metadata": {},
   "outputs": [],
   "source": [
    "import pandas as pd\n",
    "from ta.trend import MACD\n",
    "\n",
    "from src.tars.evaluators.trader_evaluator import TraderEvaluator\n",
    "from src.tars.strategies.abstract_strategy import AbstractStrategy\n",
    "from src.tars.markets.crypto_market import CryptoMarket\n",
    "\n",
    "\n",
    "class MyStrategy(AbstractStrategy):\n",
    "    \"\"\"\n",
    "    The best strategy\n",
    "\n",
    "    :param trader: Trader\n",
    "        The Trader handling a portfolio\n",
    "    :param pair: str\n",
    "        The pair e.g. XETHZUSD to buy and hold\n",
    "    :param volume: float\n",
    "        The volume of the pair's quote buy\n",
    "    :param validate: boolean\n",
    "        Safety Boolean to make sure not to trade real money by default\n",
    "\n",
    "    :ivar evaluator: AbstractEvaluator\n",
    "        Evaluator allows for the evaluation of a strategy\n",
    "    :ivar market: AbstractMarket\n",
    "        Market object to get information from\n",
    "    \"\"\"\n",
    "\n",
    "    def __init__(self, trader, pair, volume, validate=True):\n",
    "        self.name = 'My strategy'\n",
    "        self.trader = trader\n",
    "        self.pair = pair\n",
    "        self.volume = volume\n",
    "        self.validate = validate\n",
    "        self.evaluator = TraderEvaluator(self.trader)\n",
    "        self.market = CryptoMarket()\n",
    "\n",
    "    def run(self):\n",
    "        \"\"\" Run the strategy \"\"\"\n",
    "        # 1. Add a checkpoint to the evaluator\n",
    "        balance = self.trader.portfolio.get_trade_balance().loc['eb'].ZUSD   \n",
    "        self.evaluator.add_checkpoint(pd.Timestamp.utcnow(), balance)\n",
    "        \n",
    "        # 2. Process the data\n",
    "        market = CryptoMarket()\n",
    "        df0 = market.get_ohlc_data(pair=self.pair)[0]['close'].iloc[::-1]\n",
    "\n",
    "        # 3. Get the relevant signal informations\n",
    "        macd = MACD(df0)\n",
    "        line = macd.macd()[-1]\n",
    "        signal = macd.macd_signal()[-1]\n",
    "\n",
    "        # 4. Implement the trading logic\n",
    "        if signal < line:\n",
    "            self.trader.add_order(pair=self.pair, type='buy',\n",
    "                                  ordertype='market', volume=self.volume,\n",
    "                                  validate=self.validate)\n",
    "        elif signal >= line:\n",
    "            self.trader.add_order(pair=self.pair, type='sell',\n",
    "                                  ordertype='market', volume=self.volume,\n",
    "                                  validate=self.validate)\n",
    "        else:\n",
    "            pass\n"
   ]
  },
  {
   "cell_type": "markdown",
   "id": "tamil-error",
   "metadata": {},
   "source": [
    "## Instanciate Tars"
   ]
  },
  {
   "cell_type": "markdown",
   "id": "anticipated-meditation",
   "metadata": {},
   "source": [
    "Then, it is as usual."
   ]
  },
  {
   "cell_type": "code",
   "execution_count": 3,
   "id": "unusual-arizona",
   "metadata": {},
   "outputs": [],
   "source": [
    "api_key = f'../kraken.key'"
   ]
  },
  {
   "cell_type": "code",
   "execution_count": 4,
   "id": "controversial-effectiveness",
   "metadata": {},
   "outputs": [],
   "source": [
    "portfolio_1 = portfolios.VirtualPortfolio({'ZUSD': 1000})\n",
    "trader_1 = traders.VirtualCryptoTrader(portfolio_1)\n",
    "strategy_1 = strategies.BuyAndHold(trader_1, 'XETHZUSD', 0.2)\n",
    "\n",
    "portfolio_2 = portfolios.VirtualPortfolio({'ZUSD': 1000})\n",
    "trader_2 = traders.VirtualCryptoTrader(portfolio_2)\n",
    "\n",
    "# Here's where you use your newly developed strategy\n",
    "strategy_2 = MyStrategy(trader_2, 'XETHZUSD', 0.2)"
   ]
  },
  {
   "cell_type": "code",
   "execution_count": 5,
   "id": "meaningful-client",
   "metadata": {},
   "outputs": [
    {
     "name": "stdout",
     "output_type": "stream",
     "text": [
      " 🤖 TARS : Welcome to Endurance! 👨‍🚀\n",
      " 🤖 TARS : Loaded strategy ➡️ Buy and hold\n",
      " 🤖 TARS : Loaded strategy ➡️ My strategy\n"
     ]
    }
   ],
   "source": [
    "# Create Tars and load its strategies\n",
    "tars = TARS()\n",
    "tars.load(strategy_1)\n",
    "tars.load(strategy_2)"
   ]
  },
  {
   "cell_type": "markdown",
   "id": "adapted-louisville",
   "metadata": {},
   "source": [
    "## Start the bot"
   ]
  },
  {
   "cell_type": "code",
   "execution_count": 6,
   "id": "relevant-thought",
   "metadata": {},
   "outputs": [
    {
     "name": "stdout",
     "output_type": "stream",
     "text": [
      " 🤖 TARS : Starting trading session 📈\n",
      " ⏱ Trading decision will be taken every : 00:00:10️ (hh:mm:ss)\n",
      " 💪️ Loading :   \n",
      "   🧵 'Thread-4' ➡️ 'Buy and hold'\n",
      "   🧵 'Thread-5' ➡️ 'My strategy'\n"
     ]
    }
   ],
   "source": [
    "tars.start('00:00:10')"
   ]
  },
  {
   "cell_type": "markdown",
   "id": "stuffed-eating",
   "metadata": {},
   "source": [
    "## Evaluate the strategy"
   ]
  },
  {
   "cell_type": "code",
   "execution_count": 20,
   "id": "brazilian-multiple",
   "metadata": {},
   "outputs": [
    {
     "data": {
      "image/png": "[encoded data removed]",
      "text/plain": [
       "<Figure size 432x288 with 1 Axes>"
      ]
     },
     "metadata": {
      "needs_background": "light"
     },
     "output_type": "display_data"
    }
   ],
   "source": [
    "tars.plot()"
   ]
  },
  {
   "cell_type": "code",
   "execution_count": 17,
   "id": "operational-tattoo",
   "metadata": {},
   "outputs": [
    {
     "data": {
      "text/html": [
       "<div>\n",
       "<style scoped>\n",
       "    .dataframe tbody tr th:only-of-type {\n",
       "        vertical-align: middle;\n",
       "    }\n",
       "\n",
       "    .dataframe tbody tr th {\n",
       "        vertical-align: top;\n",
       "    }\n",
       "\n",
       "    .dataframe thead th {\n",
       "        text-align: right;\n",
       "    }\n",
       "</style>\n",
       "<table border=\"1\" class=\"dataframe\">\n",
       "  <thead>\n",
       "    <tr style=\"text-align: right;\">\n",
       "      <th></th>\n",
       "      <th>Buy and hold</th>\n",
       "      <th>My strategy</th>\n",
       "    </tr>\n",
       "  </thead>\n",
       "  <tbody>\n",
       "    <tr>\n",
       "      <th>2021-08-11 09:30:00+00:00</th>\n",
       "      <td>1000.00</td>\n",
       "      <td>1000.00</td>\n",
       "    </tr>\n",
       "    <tr>\n",
       "      <th>2021-08-11 09:31:00+00:00</th>\n",
       "      <td>998.53</td>\n",
       "      <td>998.63</td>\n",
       "    </tr>\n",
       "    <tr>\n",
       "      <th>2021-08-11 09:32:00+00:00</th>\n",
       "      <td>998.53</td>\n",
       "      <td>998.63</td>\n",
       "    </tr>\n",
       "    <tr>\n",
       "      <th>2021-08-11 09:33:00+00:00</th>\n",
       "      <td>998.53</td>\n",
       "      <td>998.63</td>\n",
       "    </tr>\n",
       "    <tr>\n",
       "      <th>2021-08-11 09:34:00+00:00</th>\n",
       "      <td>998.06</td>\n",
       "      <td>998.16</td>\n",
       "    </tr>\n",
       "  </tbody>\n",
       "</table>\n",
       "</div>"
      ],
      "text/plain": [
       "                           Buy and hold  My strategy\n",
       "2021-08-11 09:30:00+00:00       1000.00      1000.00\n",
       "2021-08-11 09:31:00+00:00        998.53       998.63\n",
       "2021-08-11 09:32:00+00:00        998.53       998.63\n",
       "2021-08-11 09:33:00+00:00        998.53       998.63\n",
       "2021-08-11 09:34:00+00:00        998.06       998.16"
      ]
     },
     "execution_count": 17,
     "metadata": {},
     "output_type": "execute_result"
    }
   ],
   "source": [
    "tars.evaluate().tail()"
   ]
  },
  {
   "cell_type": "markdown",
   "id": "fundamental-package",
   "metadata": {},
   "source": [
    "## Stop the bot"
   ]
  },
  {
   "cell_type": "code",
   "execution_count": 28,
   "id": "closing-harvard",
   "metadata": {},
   "outputs": [
    {
     "name": "stdout",
     "output_type": "stream",
     "text": [
      " 🤖 TARS : ✋ Stopped all strategies\n"
     ]
    }
   ],
   "source": [
    "tars.stop()"
   ]
  },
  {
   "cell_type": "markdown",
   "id": "smooth-vacuum",
   "metadata": {},
   "source": [
    "---"
   ]
  }
 ],
 "metadata": {
  "kernelspec": {
   "display_name": "Python 3",
   "language": "python",
   "name": "python3"
  },
  "language_info": {
   "codemirror_mode": {
    "name": "ipython",
    "version": 3
   },
   "file_extension": ".py",
   "mimetype": "text/x-python",
   "name": "python",
   "nbconvert_exporter": "python",
   "pygments_lexer": "ipython3",
   "version": "3.8.7"
  }
 },
 "nbformat": 4,
 "nbformat_minor": 5
}
