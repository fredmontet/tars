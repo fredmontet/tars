{
 "cells": [
  {
   "cell_type": "code",
   "execution_count": 4,
   "id": "threaded-voluntary",
   "metadata": {
    "collapsed": false,
    "jupyter": {
     "outputs_hidden": false
    },
    "pycharm": {
     "name": "#%%\n"
    }
   },
   "outputs": [],
   "source": [
    "from tars import Tars, markets, portfolios, traders, strategies\n",
    "%matplotlib inline"
   ]
  },
  {
   "cell_type": "markdown",
   "id": "parliamentary-prototype",
   "metadata": {},
   "source": [
    "# Develop your own trading strategy\n",
    "\n",
    "Here's an example to show how you can develop your own strategy. This notebook is a template for you to start your own thing."
   ]
  },
  {
   "cell_type": "markdown",
   "id": "premium-reform",
   "metadata": {},
   "source": [
    "### Here's the strategy in development\n",
    "\n",
    "It's actually a copy of the TrendFollowingMACD."
   ]
  },
  {
   "cell_type": "code",
   "execution_count": 8,
   "id": "academic-cartridge",
   "metadata": {},
   "outputs": [],
   "source": [
    "import pandas as pd\n",
    "from ta.trend import MACD\n",
    "\n",
    "from tars.evaluators.trader_evaluator import TraderEvaluator\n",
    "from tars.strategies.abstract_strategy import AbstractStrategy\n",
    "\n",
    "\n",
    "class MyStrategy(AbstractStrategy):\n",
    "    \"\"\"\n",
    "    The best strategy\n",
    "\n",
    "    :param trader: Trader\n",
    "        The Trader handling a portfolio\n",
    "    :param pair: str\n",
    "        The pair e.g. XETHZUSD to buy and hold\n",
    "    :param volume: float\n",
    "        The volume of the pair's quote buy\n",
    "    :param validate: boolean\n",
    "        Safety Boolean to make sure not to trade real money by default\n",
    "\n",
    "    :ivar evaluator: AbstractEvaluator\n",
    "        Evaluator allows for the evaluation of a strategy\n",
    "    :ivar market: AbstractMarket\n",
    "        Market object to get information from\n",
    "    \"\"\"\n",
    "\n",
    "    def __init__(self, trader, pair, volume, validate=True):\n",
    "        self.name = 'My strategy'\n",
    "        self.trader = trader\n",
    "        self.pair = pair\n",
    "        self.volume = volume\n",
    "        self.validate = validate\n",
    "        self.evaluator = TraderEvaluator(self.trader)\n",
    "\n",
    "\n",
    "    def run(self):\n",
    "        \"\"\" Run the strategy \"\"\"\n",
    "        # 1. Add a checkpoint to the evaluator\n",
    "        balance = self.trader.portfolio.get_trade_balance().loc['eb'].ZUSD   \n",
    "        self.evaluator.add_checkpoint(pd.Timestamp.utcnow(), balance)\n",
    "        \n",
    "        # 2. Process the data\n",
    "        df0 = self.trader.market.get_ohlc_data(pair=self.pair)[0]['close'].iloc[::-1]\n",
    "\n",
    "        # 3. Get the relevant signal informations\n",
    "        macd = MACD(df0)\n",
    "        line = macd.macd()[-1]\n",
    "        signal = macd.macd_signal()[-1]\n",
    "\n",
    "        # 4. Implement the trading logic\n",
    "        if signal < line:\n",
    "            self.trader.add_order(pair=self.pair, type='buy',\n",
    "                                  ordertype='market', volume=self.volume,\n",
    "                                  validate=self.validate)\n",
    "        elif signal >= line:\n",
    "            self.trader.add_order(pair=self.pair, type='sell',\n",
    "                                  ordertype='market', volume=self.volume,\n",
    "                                  validate=self.validate)\n",
    "        else:\n",
    "            pass\n",
    "        \n",
    "    def test():\n",
    "        raise NotImplementedError\n"
   ]
  },
  {
   "cell_type": "markdown",
   "id": "sharp-music",
   "metadata": {},
   "source": [
    "## Instanciate Tars"
   ]
  },
  {
   "cell_type": "markdown",
   "id": "operational-prophet",
   "metadata": {},
   "source": [
    "Then, it is as usual."
   ]
  },
  {
   "cell_type": "code",
   "execution_count": 9,
   "id": "prospective-revision",
   "metadata": {},
   "outputs": [],
   "source": [
    "api_key = f'../kraken.key'"
   ]
  },
  {
   "cell_type": "code",
   "execution_count": 10,
   "id": "essential-suite",
   "metadata": {},
   "outputs": [],
   "source": [
    "market = markets.CryptoMarket()\n",
    "\n",
    "portfolio_1 = portfolios.VirtualPortfolio({'ZUSD': 1000})\n",
    "trader_1 = traders.VirtualCryptoTrader(market, portfolio_1)\n",
    "strategy_1 = strategies.BuyAndHold(trader_1, 'XETHZUSD', 0.2)\n",
    "\n",
    "portfolio_2 = portfolios.VirtualPortfolio({'ZUSD': 1000})\n",
    "trader_2 = traders.VirtualCryptoTrader(market, portfolio_2)\n",
    "\n",
    "# Here's where you use your newly developed strategy\n",
    "strategy_2 = MyStrategy(trader_2, 'XETHZUSD', 0.2)"
   ]
  },
  {
   "cell_type": "code",
   "execution_count": 11,
   "id": "patient-bulgaria",
   "metadata": {},
   "outputs": [
    {
     "name": "stdout",
     "output_type": "stream",
     "text": [
      " 🤖 TARS : Welcome to Endurance! 👨‍🚀\n",
      " 🤖 TARS : Loaded strategy ➡️ Buy and hold\n",
      " 🤖 TARS : Loaded strategy ➡️ My strategy\n"
     ]
    }
   ],
   "source": [
    "# Create Tars and load its strategies\n",
    "tars = Tars()\n",
    "tars.load(strategy_1)\n",
    "tars.load(strategy_2)"
   ]
  },
  {
   "cell_type": "markdown",
   "id": "previous-cassette",
   "metadata": {},
   "source": [
    "## Start the bot"
   ]
  },
  {
   "cell_type": "code",
   "execution_count": 12,
   "id": "approximate-nylon",
   "metadata": {},
   "outputs": [
    {
     "name": "stdout",
     "output_type": "stream",
     "text": [
      " 🤖 TARS : Starting trading session 📈\n",
      " ⏱ Trading decision will be taken every : 00:00:10️ (hh:mm:ss)\n",
      " 💪️ Loading :   \n",
      "   🧵 'Thread-8' ➡️ 'Buy and hold'\n",
      "   🧵 'Thread-9' ➡️ 'My strategy'\n",
      "public call frequency exceeded (seconds=0.002978) \n",
      " sleeping for 5 seconds\n"
     ]
    }
   ],
   "source": [
    "tars.start('00:00:10')"
   ]
  },
  {
   "cell_type": "markdown",
   "id": "billion-pennsylvania",
   "metadata": {},
   "source": [
    "## Evaluate the strategy"
   ]
  },
  {
   "cell_type": "code",
   "execution_count": 17,
   "id": "opposite-principal",
   "metadata": {},
   "outputs": [
    {
     "data": {
      "image/png": "[encoded data removed]",
      "text/plain": [
       "<Figure size 432x288 with 1 Axes>"
      ]
     },
     "metadata": {
      "needs_background": "light"
     },
     "output_type": "display_data"
    }
   ],
   "source": [
    "tars.plot()"
   ]
  },
  {
   "cell_type": "code",
   "execution_count": 19,
   "id": "sporting-registrar",
   "metadata": {},
   "outputs": [
    {
     "data": {
      "text/html": [
       "<div>\n",
       "<style scoped>\n",
       "    .dataframe tbody tr th:only-of-type {\n",
       "        vertical-align: middle;\n",
       "    }\n",
       "\n",
       "    .dataframe tbody tr th {\n",
       "        vertical-align: top;\n",
       "    }\n",
       "\n",
       "    .dataframe thead th {\n",
       "        text-align: right;\n",
       "    }\n",
       "</style>\n",
       "<table border=\"1\" class=\"dataframe\">\n",
       "  <thead>\n",
       "    <tr style=\"text-align: right;\">\n",
       "      <th></th>\n",
       "      <th>Buy and hold</th>\n",
       "      <th>My strategy</th>\n",
       "    </tr>\n",
       "  </thead>\n",
       "  <tbody>\n",
       "    <tr>\n",
       "      <th>2021-10-11 17:26:00+00:00</th>\n",
       "      <td>1000.0</td>\n",
       "      <td>1000.0</td>\n",
       "    </tr>\n",
       "  </tbody>\n",
       "</table>\n",
       "</div>"
      ],
      "text/plain": [
       "                           Buy and hold  My strategy\n",
       "2021-10-11 17:26:00+00:00        1000.0       1000.0"
      ]
     },
     "execution_count": 19,
     "metadata": {},
     "output_type": "execute_result"
    },
    {
     "name": "stdout",
     "output_type": "stream",
     "text": [
      "public call frequency exceeded (seconds=0.552415) \n",
      " sleeping for 5 seconds\n",
      " The base XETH isn't available in the portfolio.\n",
      "public call frequency exceeded (seconds=0.543514) \n",
      " sleeping for 5 seconds\n",
      " The base XETH isn't available in the portfolio.\n",
      "public call frequency exceeded (seconds=0.425912) \n",
      " sleeping for 5 seconds\n",
      "public call frequency exceeded (seconds=0.414763) \n",
      " sleeping for 5 seconds\n",
      "public call frequency exceeded (seconds=0.389411) \n",
      " sleeping for 5 seconds\n",
      "public call frequency exceeded (seconds=0.416122) \n",
      " sleeping for 5 seconds\n",
      "public call frequency exceeded (seconds=0.621665) \n",
      " sleeping for 5 seconds\n",
      "public call frequency exceeded (seconds=0.435504) \n",
      " sleeping for 5 seconds\n",
      "public call frequency exceeded (seconds=0.478558) \n",
      " sleeping for 5 seconds\n",
      "public call frequency exceeded (seconds=0.443527) \n",
      " sleeping for 5 seconds\n",
      "public call frequency exceeded (seconds=0.373051) \n",
      " sleeping for 5 seconds\n",
      "public call frequency exceeded (seconds=0.533619) \n",
      " sleeping for 5 seconds\n",
      "public call frequency exceeded (seconds=0.304828) \n",
      " sleeping for 5 seconds\n",
      " The base XETH isn't available in the portfolio.\n",
      "public call frequency exceeded (seconds=0.377388) \n",
      " sleeping for 5 seconds\n",
      " The base XETH isn't available in the portfolio.\n",
      "public call frequency exceeded (seconds=0.54512) \n",
      " sleeping for 5 seconds\n",
      " The base XETH isn't available in the portfolio.\n",
      "public call frequency exceeded (seconds=0.509048) \n",
      " sleeping for 5 seconds\n",
      " The base XETH isn't available in the portfolio.\n",
      "public call frequency exceeded (seconds=0.454494) \n",
      " sleeping for 5 seconds\n",
      " The base XETH isn't available in the portfolio.\n",
      "public call frequency exceeded (seconds=0.440672) \n",
      " sleeping for 5 seconds\n",
      " The base XETH isn't available in the portfolio.\n",
      "public call frequency exceeded (seconds=0.388358) \n",
      " sleeping for 5 seconds\n",
      " The base XETH isn't available in the portfolio.\n",
      "public call frequency exceeded (seconds=0.489844) \n",
      " sleeping for 5 seconds\n",
      " The base XETH isn't available in the portfolio.\n",
      "public call frequency exceeded (seconds=0.354324) \n",
      " sleeping for 5 seconds\n",
      " The base XETH isn't available in the portfolio.\n",
      "public call frequency exceeded (seconds=0.690195) \n",
      " sleeping for 5 seconds\n",
      " The base XETH isn't available in the portfolio.\n",
      "public call frequency exceeded (seconds=0.391484) \n",
      " sleeping for 5 seconds\n",
      " The base XETH isn't available in the portfolio.\n",
      "public call frequency exceeded (seconds=0.425134) \n",
      " sleeping for 5 seconds\n",
      " The base XETH isn't available in the portfolio.\n",
      "public call frequency exceeded (seconds=0.502448) \n",
      " sleeping for 5 seconds\n",
      " The base XETH isn't available in the portfolio.\n",
      "public call frequency exceeded (seconds=0.403282) \n",
      " sleeping for 5 seconds\n",
      " The base XETH isn't available in the portfolio.\n",
      "public call frequency exceeded (seconds=0.489799) \n",
      " sleeping for 5 seconds\n",
      " The base XETH isn't available in the portfolio.\n",
      "public call frequency exceeded (seconds=0.346624) \n",
      " sleeping for 5 seconds\n",
      " The base XETH isn't available in the portfolio.\n",
      "public call frequency exceeded (seconds=0.545484) \n",
      " sleeping for 5 seconds\n",
      " The base XETH isn't available in the portfolio.\n",
      "public call frequency exceeded (seconds=0.369001) \n",
      " sleeping for 5 seconds\n",
      " The base XETH isn't available in the portfolio.\n",
      "public call frequency exceeded (seconds=0.34313) \n",
      " sleeping for 5 seconds\n",
      " The base XETH isn't available in the portfolio.\n",
      "public call frequency exceeded (seconds=0.551409) \n",
      " sleeping for 5 seconds\n",
      " The base XETH isn't available in the portfolio.\n",
      "public call frequency exceeded (seconds=0.446629) \n",
      " sleeping for 5 seconds\n",
      " The base XETH isn't available in the portfolio.\n",
      "public call frequency exceeded (seconds=0.384979) \n",
      " sleeping for 5 seconds\n",
      " The base XETH isn't available in the portfolio.\n",
      "public call frequency exceeded (seconds=0.478308) \n",
      " sleeping for 5 seconds\n",
      " The base XETH isn't available in the portfolio.\n",
      "public call frequency exceeded (seconds=0.416652) \n",
      " sleeping for 5 seconds\n",
      " The base XETH isn't available in the portfolio.\n",
      "public call frequency exceeded (seconds=0.452344) \n",
      " sleeping for 5 seconds\n",
      " The base XETH isn't available in the portfolio.\n",
      "public call frequency exceeded (seconds=0.342708) \n",
      " sleeping for 5 seconds\n",
      " The base XETH isn't available in the portfolio.\n",
      "public call frequency exceeded (seconds=0.393589) \n",
      " sleeping for 5 seconds\n",
      " The base XETH isn't available in the portfolio.\n",
      "public call frequency exceeded (seconds=0.443456) \n",
      " sleeping for 5 seconds\n",
      " The base XETH isn't available in the portfolio.\n",
      "public call frequency exceeded (seconds=0.412058) \n",
      " sleeping for 5 seconds\n",
      " The base XETH isn't available in the portfolio.\n",
      "public call frequency exceeded (seconds=0.357877) \n",
      " sleeping for 5 seconds\n",
      " The base XETH isn't available in the portfolio.\n",
      "public call frequency exceeded (seconds=0.33815) \n",
      " sleeping for 5 seconds\n",
      " The base XETH isn't available in the portfolio.\n",
      "public call frequency exceeded (seconds=0.628672) \n",
      " sleeping for 5 seconds\n",
      " The base XETH isn't available in the portfolio.\n",
      "public call frequency exceeded (seconds=0.358904) \n",
      " sleeping for 5 seconds\n",
      " The base XETH isn't available in the portfolio.\n",
      "public call frequency exceeded (seconds=0.448124) \n",
      " sleeping for 5 seconds\n",
      " The base XETH isn't available in the portfolio.\n",
      "public call frequency exceeded (seconds=0.37846) \n",
      " sleeping for 5 seconds\n",
      " The base XETH isn't available in the portfolio.\n",
      "public call frequency exceeded (seconds=0.32471) \n",
      " sleeping for 5 seconds\n",
      " The base XETH isn't available in the portfolio.\n",
      "public call frequency exceeded (seconds=0.543368) \n",
      " sleeping for 5 seconds\n",
      " The base XETH isn't available in the portfolio.\n",
      "public call frequency exceeded (seconds=0.3782) \n",
      " sleeping for 5 seconds\n",
      " The base XETH isn't available in the portfolio.\n",
      "public call frequency exceeded (seconds=0.381747) \n",
      " sleeping for 5 seconds\n",
      " The base XETH isn't available in the portfolio.\n",
      "public call frequency exceeded (seconds=0.36927) \n",
      " sleeping for 5 seconds\n",
      " The base XETH isn't available in the portfolio.\n",
      "public call frequency exceeded (seconds=0.475117) \n",
      " sleeping for 5 seconds\n",
      " The base XETH isn't available in the portfolio.\n",
      "public call frequency exceeded (seconds=0.396858) \n",
      " sleeping for 5 seconds\n",
      "public call frequency exceeded (seconds=0.476037) \n",
      " sleeping for 5 seconds\n",
      "public call frequency exceeded (seconds=0.415323) \n",
      " sleeping for 5 seconds\n",
      "public call frequency exceeded (seconds=0.455045) \n",
      " sleeping for 5 seconds\n",
      "public call frequency exceeded (seconds=0.372907) \n",
      " sleeping for 5 seconds\n"
     ]
    }
   ],
   "source": [
    "tars.evaluate()"
   ]
  },
  {
   "cell_type": "markdown",
   "id": "efficient-cargo",
   "metadata": {},
   "source": [
    "## Stop the bot"
   ]
  },
  {
   "cell_type": "code",
   "execution_count": 16,
   "id": "worth-indianapolis",
   "metadata": {},
   "outputs": [
    {
     "name": "stdout",
     "output_type": "stream",
     "text": [
      " 🤖 TARS : ✋ Stopped all strategies\n"
     ]
    }
   ],
   "source": [
    "tars.stop()"
   ]
  },
  {
   "cell_type": "markdown",
   "id": "metropolitan-terry",
   "metadata": {},
   "source": [
    "---"
   ]
  }
 ],
 "metadata": {
  "kernelspec": {
   "display_name": "Python 3 (ipykernel)",
   "language": "python",
   "name": "python3"
  },
  "language_info": {
   "codemirror_mode": {
    "name": "ipython",
    "version": 3
   },
   "file_extension": ".py",
   "mimetype": "text/x-python",
   "name": "python",
   "nbconvert_exporter": "python",
   "pygments_lexer": "ipython3",
   "version": "3.8.7"
  }
 },
 "nbformat": 4,
 "nbformat_minor": 5
}
