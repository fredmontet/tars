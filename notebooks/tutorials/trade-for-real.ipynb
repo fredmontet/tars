{
 "cells": [
  {
   "cell_type": "code",
   "execution_count": 1,
   "id": "injured-debut",
   "metadata": {
    "collapsed": false,
    "jupyter": {
     "outputs_hidden": false
    },
    "pycharm": {
     "name": "#%%\n"
    }
   },
   "outputs": [],
   "source": [
    "from tars import Tars, markets, portfolios, traders, strategies\n",
    "import pandas as pd"
   ]
  },
  {
   "cell_type": "markdown",
   "id": "functional-bargain",
   "metadata": {},
   "source": [
    "# Trade for real\n",
    "Welcome on the online testing environment from Tars. It uses real money, be mindful about what you do, otherwise your money might vanish!\n",
    "\n",
    "## Instanciate Tars"
   ]
  },
  {
   "cell_type": "code",
   "execution_count": 2,
   "id": "owned-minute",
   "metadata": {},
   "outputs": [],
   "source": [
    "root = '../'\n",
    "api_key = f'{root}kraken.key'"
   ]
  },
  {
   "cell_type": "code",
   "execution_count": 7,
   "id": "nuclear-triple",
   "metadata": {},
   "outputs": [],
   "source": [
    "market = markets.CryptoMarket()\n",
    "portfolio = portfolios.CryptoPortfolio(api_key)\n",
    "trader = traders.CryptoTrader(market, portfolio, api_key)\n",
    "strategy = strategies.BuyAndHold(trader, 'XETHZUSD', 0.005)"
   ]
  },
  {
   "cell_type": "code",
   "execution_count": 8,
   "id": "lesser-china",
   "metadata": {},
   "outputs": [
    {
     "name": "stdout",
     "output_type": "stream",
     "text": [
      " 🤖 TARS : Welcome to Endurance! 👨‍🚀\n",
      " 🤖 TARS : Loaded strategy ➡️ Buy and hold\n"
     ]
    }
   ],
   "source": [
    "# Create Tars and load its strategies\n",
    "tars = Tars()\n",
    "tars.load(strategy)"
   ]
  },
  {
   "cell_type": "markdown",
   "id": "municipal-cologne",
   "metadata": {},
   "source": [
    "## Start the bot"
   ]
  },
  {
   "cell_type": "code",
   "execution_count": 9,
   "id": "abroad-protocol",
   "metadata": {},
   "outputs": [
    {
     "name": "stdout",
     "output_type": "stream",
     "text": [
      " 🤖 TARS : Starting trading session 📈\n",
      " ⏱ Trading decision will be taken every : 00:01:00️ (hh:mm:ss)\n",
      " 💪️ Loading :   \n",
      "   🧵 'Thread-5' ➡️ 'Buy and hold'\n"
     ]
    }
   ],
   "source": [
    "tars.start('00:01:00')"
   ]
  },
  {
   "cell_type": "markdown",
   "id": "modular-candy",
   "metadata": {},
   "source": [
    "## Evaluate the strategy"
   ]
  },
  {
   "cell_type": "code",
   "execution_count": 14,
   "id": "overhead-cotton",
   "metadata": {},
   "outputs": [],
   "source": [
    "tars.plot()"
   ]
  },
  {
   "cell_type": "code",
   "execution_count": 13,
   "id": "changed-modern",
   "metadata": {},
   "outputs": [
    {
     "data": {
      "text/html": [
       "<div>\n",
       "<style scoped>\n",
       "    .dataframe tbody tr th:only-of-type {\n",
       "        vertical-align: middle;\n",
       "    }\n",
       "\n",
       "    .dataframe tbody tr th {\n",
       "        vertical-align: top;\n",
       "    }\n",
       "\n",
       "    .dataframe thead th {\n",
       "        text-align: right;\n",
       "    }\n",
       "</style>\n",
       "<table border=\"1\" class=\"dataframe\">\n",
       "  <thead>\n",
       "    <tr style=\"text-align: right;\">\n",
       "      <th></th>\n",
       "      <th>Buy and hold</th>\n",
       "    </tr>\n",
       "  </thead>\n",
       "  <tbody>\n",
       "    <tr>\n",
       "      <th>2021-08-10 20:29:00+00:00</th>\n",
       "      <td>64.86</td>\n",
       "    </tr>\n",
       "  </tbody>\n",
       "</table>\n",
       "</div>"
      ],
      "text/plain": [
       "                           Buy and hold\n",
       "2021-08-10 20:29:00+00:00         64.86"
      ]
     },
     "execution_count": 13,
     "metadata": {},
     "output_type": "execute_result"
    }
   ],
   "source": [
    "tars.evaluate()"
   ]
  },
  {
   "cell_type": "markdown",
   "id": "guided-sterling",
   "metadata": {},
   "source": [
    "## Stop the bot"
   ]
  },
  {
   "cell_type": "code",
   "execution_count": 15,
   "id": "discrete-sheriff",
   "metadata": {},
   "outputs": [],
   "source": [
    "tars.stop()"
   ]
  },
  {
   "cell_type": "markdown",
   "id": "similar-arlington",
   "metadata": {},
   "source": [
    "---"
   ]
  }
 ],
 "metadata": {
  "kernelspec": {
   "display_name": "Python 3 (ipykernel)",
   "language": "python",
   "name": "python3"
  },
  "language_info": {
   "codemirror_mode": {
    "name": "ipython",
    "version": 3
   },
   "file_extension": ".py",
   "mimetype": "text/x-python",
   "name": "python",
   "nbconvert_exporter": "python",
   "pygments_lexer": "ipython3",
   "version": "3.8.7"
  }
 },
 "nbformat": 4,
 "nbformat_minor": 5
}
