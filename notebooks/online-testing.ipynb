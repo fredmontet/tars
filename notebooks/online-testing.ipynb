{
 "cells": [
  {
   "cell_type": "code",
   "execution_count": 11,
   "id": "focused-transsexual",
   "metadata": {
    "collapsed": false,
    "jupyter": {
     "outputs_hidden": false
    },
    "pycharm": {
     "name": "#%%\n"
    }
   },
   "outputs": [],
   "source": [
    "from src import TARS, markets, portfolios, traders, strategies\n",
    "import pandas as pd"
   ]
  },
  {
   "cell_type": "markdown",
   "id": "scientific-seeker",
   "metadata": {},
   "source": [
    "# Online Testing\n",
    "\n",
    "Welcome on the online testing environment from Tars. It uses real money, be mindful about what you do, otherwise your money might vanish!\n",
    "\n",
    "## Instanciate Tars"
   ]
  },
  {
   "cell_type": "code",
   "execution_count": 32,
   "id": "higher-begin",
   "metadata": {},
   "outputs": [],
   "source": [
    "root = '../'\n",
    "api_key = f'{root}kraken.key'"
   ]
  },
  {
   "cell_type": "code",
   "execution_count": 31,
   "id": "editorial-quick",
   "metadata": {},
   "outputs": [],
   "source": [
    "# Create Tars and its associated objects\n",
    "tars = TARS()\n",
    "portfolio = portfolios.CryptoPortfolio(api_key)\n",
    "trader = traders.CryptoTrader(portfolio, api_key)"
   ]
  },
  {
   "cell_type": "markdown",
   "id": "twelve-feature",
   "metadata": {},
   "source": [
    "## Start the bot"
   ]
  },
  {
   "cell_type": "code",
   "execution_count": 16,
   "id": "wired-hanging",
   "metadata": {},
   "outputs": [
    {
     "data": {
      "text/plain": [
       "True"
      ]
     },
     "execution_count": 16,
     "metadata": {},
     "output_type": "execute_result"
    }
   ],
   "source": [
    "# Start the bot with a loop frequency of ten second\n",
    "tars.start('00:00:10')\n",
    "tars.is_running"
   ]
  },
  {
   "cell_type": "markdown",
   "id": "antique-contributor",
   "metadata": {},
   "source": [
    "## Evaluate the strategy"
   ]
  },
  {
   "cell_type": "code",
   "execution_count": 33,
   "id": "smoking-primary",
   "metadata": {},
   "outputs": [
    {
     "data": {
      "image/png": "[encoded data removed]",
      "text/plain": [
       "<Figure size 432x288 with 1 Axes>"
      ]
     },
     "metadata": {
      "needs_background": "light"
     },
     "output_type": "display_data"
    }
   ],
   "source": [
    "col = 'value'\n",
    "#col = 'total net profit'\n",
    "#col = 'profit factor'\n",
    "#col = 'average trade net profit'\n",
    "\n",
    "s1 = strategy.evaluator.evaluate()[col]\n",
    "s1.name = 'buy and hold'\n",
    "s1.plot(legend=True);"
   ]
  },
  {
   "cell_type": "markdown",
   "id": "freelance-paragraph",
   "metadata": {},
   "source": [
    "## Stop the bot"
   ]
  },
  {
   "cell_type": "code",
   "execution_count": null,
   "id": "younger-decline",
   "metadata": {},
   "outputs": [],
   "source": [
    "tars.stop()\n",
    "tars.is_running"
   ]
  },
  {
   "cell_type": "markdown",
   "id": "endless-mississippi",
   "metadata": {},
   "source": [
    "---"
   ]
  }
 ],
 "metadata": {
  "kernelspec": {
   "display_name": "Python 3",
   "language": "python",
   "name": "python3"
  },
  "language_info": {
   "codemirror_mode": {
    "name": "ipython",
    "version": 3
   },
   "file_extension": ".py",
   "mimetype": "text/x-python",
   "name": "python",
   "nbconvert_exporter": "python",
   "pygments_lexer": "ipython3",
   "version": "3.8.7"
  }
 },
 "nbformat": 4,
 "nbformat_minor": 5
}
