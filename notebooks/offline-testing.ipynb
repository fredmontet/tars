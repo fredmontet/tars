{
 "cells": [
  {
   "cell_type": "code",
   "execution_count": 1,
   "id": "southern-minneapolis",
   "metadata": {
    "collapsed": false,
    "jupyter": {
     "outputs_hidden": false
    },
    "pycharm": {
     "name": "#%%\n"
    }
   },
   "outputs": [],
   "source": [
    "from src import TARS, markets, portfolios, traders, strategies\n",
    "import pandas as pd"
   ]
  },
  {
   "cell_type": "markdown",
   "id": "registered-sampling",
   "metadata": {},
   "source": [
    "# Offline Testing\n",
    "\n",
    "Welcome on the offline testing environment from Tars. It uses the same API than the online environment, but with virtual money. It's the best place to test your strategies before going online!\n"
   ]
  },
  {
   "cell_type": "markdown",
   "id": "fresh-sodium",
   "metadata": {},
   "source": [
    "## Instanciate Tars"
   ]
  },
  {
   "cell_type": "code",
   "execution_count": 2,
   "id": "novel-firewall",
   "metadata": {},
   "outputs": [],
   "source": [
    "root = '../'\n",
    "api_key = f'{root}kraken.key'"
   ]
  },
  {
   "cell_type": "code",
   "execution_count": 3,
   "id": "hidden-message",
   "metadata": {},
   "outputs": [],
   "source": [
    "# Create Tars and its associated objects\n",
    "tars = TARS()\n",
    "\n",
    "portfolio_1 = portfolios.VirtualPortfolio({'ZUSD': 1000})\n",
    "trader_1 = traders.VirtualCryptoTrader(portfolio_1)\n",
    "\n",
    "portfolio_2 = portfolios.VirtualPortfolio({'ZUSD': 1000})\n",
    "trader_2 = traders.VirtualCryptoTrader(portfolio_2)"
   ]
  },
  {
   "cell_type": "code",
   "execution_count": 4,
   "id": "expanded-packaging",
   "metadata": {},
   "outputs": [],
   "source": [
    "# Load strategies\n",
    "strategy_1 = strategies.BuyAndHold(trader_1, 'XETHZUSD', 0.4)\n",
    "strategy_2 = strategies.TrendFollowing(trader_2, 'XETHZUSD', 0.4)\n",
    "\n",
    "tars.load(strategy_1)\n",
    "tars.load(strategy_2)"
   ]
  },
  {
   "cell_type": "markdown",
   "id": "catholic-canyon",
   "metadata": {},
   "source": [
    "## Start the bot"
   ]
  },
  {
   "cell_type": "code",
   "execution_count": 5,
   "id": "qualified-peace",
   "metadata": {},
   "outputs": [
    {
     "data": {
      "text/plain": [
       "True"
      ]
     },
     "execution_count": 5,
     "metadata": {},
     "output_type": "execute_result"
    }
   ],
   "source": [
    "# Start the bot with a loop frequency ten second\n",
    "tars.start('00:00:10')\n",
    "tars.is_running"
   ]
  },
  {
   "cell_type": "markdown",
   "id": "needed-scientist",
   "metadata": {},
   "source": [
    "## Evaluate the strategy"
   ]
  },
  {
   "cell_type": "code",
   "execution_count": 37,
   "id": "known-affect",
   "metadata": {},
   "outputs": [
    {
     "data": {
      "image/png": "[encoded data removed]",
      "text/plain": [
       "<Figure size 432x288 with 1 Axes>"
      ]
     },
     "metadata": {
      "needs_background": "light"
     },
     "output_type": "display_data"
    },
    {
     "name": "stderr",
     "output_type": "stream",
     "text": [
      "ERROR:root:The base XETH isn't available in the portfolio.\n",
      "ERROR:root:The base XETH isn't available in the portfolio.\n",
      "ERROR:root:The base XETH isn't available in the portfolio.\n",
      "ERROR:root:The base XETH isn't available in the portfolio.\n",
      "ERROR:root:The base XETH isn't available in the portfolio.\n",
      "ERROR:root:The base XETH isn't available in the portfolio.\n",
      "ERROR:root:The base XETH isn't available in the portfolio.\n",
      "ERROR:root:The base XETH isn't available in the portfolio.\n",
      "ERROR:root:The base XETH isn't available in the portfolio.\n",
      "ERROR:root:The base XETH isn't available in the portfolio.\n",
      "ERROR:root:The base XETH isn't available in the portfolio.\n",
      "ERROR:root:The base XETH isn't available in the portfolio.\n",
      "ERROR:root:The base XETH isn't available in the portfolio.\n",
      "ERROR:root:The base XETH isn't available in the portfolio.\n",
      "ERROR:root:The base XETH isn't available in the portfolio.\n",
      "ERROR:root:The base XETH isn't available in the portfolio.\n",
      "ERROR:root:The base XETH isn't available in the portfolio.\n"
     ]
    }
   ],
   "source": [
    "col = 'value'\n",
    "#col = 'total net profit'\n",
    "#col = 'profit factor'\n",
    "#col = 'average trade net profit'\n",
    "\n",
    "s1 = strategy_1.evaluator.evaluate()[col]\n",
    "s1.name = 'buy and hold'\n",
    "\n",
    "s2 = strategy_2.evaluator.evaluate()[col]\n",
    "s2.name = 'trend following'\n",
    "\n",
    "s1.plot(legend=True)\n",
    "s2.plot(legend=True);"
   ]
  },
  {
   "cell_type": "code",
   "execution_count": 32,
   "id": "coastal-mandate",
   "metadata": {},
   "outputs": [],
   "source": [
    "#markets.CryptoMarket().get_ohlc_data(pair='XETHZUSD')[0]['close'].plot();"
   ]
  },
  {
   "cell_type": "code",
   "execution_count": 34,
   "id": "final-economics",
   "metadata": {},
   "outputs": [],
   "source": [
    "#strategy_2.trader.order_book"
   ]
  },
  {
   "cell_type": "code",
   "execution_count": 35,
   "id": "christian-court",
   "metadata": {},
   "outputs": [
    {
     "data": {
      "text/html": [
       "<div>\n",
       "<style scoped>\n",
       "    .dataframe tbody tr th:only-of-type {\n",
       "        vertical-align: middle;\n",
       "    }\n",
       "\n",
       "    .dataframe tbody tr th {\n",
       "        vertical-align: top;\n",
       "    }\n",
       "\n",
       "    .dataframe thead th {\n",
       "        text-align: right;\n",
       "    }\n",
       "</style>\n",
       "<table border=\"1\" class=\"dataframe\">\n",
       "  <thead>\n",
       "    <tr style=\"text-align: right;\">\n",
       "      <th></th>\n",
       "      <th>ZUSD</th>\n",
       "    </tr>\n",
       "  </thead>\n",
       "  <tbody>\n",
       "    <tr>\n",
       "      <th>eb</th>\n",
       "      <td>996.14</td>\n",
       "    </tr>\n",
       "  </tbody>\n",
       "</table>\n",
       "</div>"
      ],
      "text/plain": [
       "      ZUSD\n",
       "eb  996.14"
      ]
     },
     "execution_count": 35,
     "metadata": {},
     "output_type": "execute_result"
    }
   ],
   "source": [
    "strategy_1.trader.portfolio.get_trade_balance()"
   ]
  },
  {
   "cell_type": "code",
   "execution_count": 36,
   "id": "handled-fountain",
   "metadata": {},
   "outputs": [
    {
     "data": {
      "text/html": [
       "<div>\n",
       "<style scoped>\n",
       "    .dataframe tbody tr th:only-of-type {\n",
       "        vertical-align: middle;\n",
       "    }\n",
       "\n",
       "    .dataframe tbody tr th {\n",
       "        vertical-align: top;\n",
       "    }\n",
       "\n",
       "    .dataframe thead th {\n",
       "        text-align: right;\n",
       "    }\n",
       "</style>\n",
       "<table border=\"1\" class=\"dataframe\">\n",
       "  <thead>\n",
       "    <tr style=\"text-align: right;\">\n",
       "      <th></th>\n",
       "      <th>ZUSD</th>\n",
       "    </tr>\n",
       "  </thead>\n",
       "  <tbody>\n",
       "    <tr>\n",
       "      <th>eb</th>\n",
       "      <td>975.25</td>\n",
       "    </tr>\n",
       "  </tbody>\n",
       "</table>\n",
       "</div>"
      ],
      "text/plain": [
       "      ZUSD\n",
       "eb  975.25"
      ]
     },
     "execution_count": 36,
     "metadata": {},
     "output_type": "execute_result"
    },
    {
     "name": "stderr",
     "output_type": "stream",
     "text": [
      "ERROR:root:The base XETH isn't available in the portfolio.\n",
      "ERROR:root:The base XETH isn't available in the portfolio.\n",
      "ERROR:root:The base XETH isn't available in the portfolio.\n",
      "ERROR:root:The base XETH isn't available in the portfolio.\n",
      "ERROR:root:The base XETH isn't available in the portfolio.\n",
      "ERROR:root:The base XETH isn't available in the portfolio.\n",
      "ERROR:root:The base XETH isn't available in the portfolio.\n",
      "ERROR:root:The base XETH isn't available in the portfolio.\n",
      "ERROR:root:The base XETH isn't available in the portfolio.\n",
      "ERROR:root:The base XETH isn't available in the portfolio.\n",
      "ERROR:root:The base XETH isn't available in the portfolio.\n",
      "ERROR:root:The base XETH isn't available in the portfolio.\n",
      "ERROR:root:The base XETH isn't available in the portfolio.\n",
      "ERROR:root:The base XETH isn't available in the portfolio.\n",
      "ERROR:root:The base XETH isn't available in the portfolio.\n",
      "ERROR:root:The base XETH isn't available in the portfolio.\n",
      "ERROR:root:The base XETH isn't available in the portfolio.\n",
      "ERROR:root:The base XETH isn't available in the portfolio.\n",
      "ERROR:root:The base XETH isn't available in the portfolio.\n",
      "ERROR:root:The base XETH isn't available in the portfolio.\n",
      "ERROR:root:The base XETH isn't available in the portfolio.\n",
      "ERROR:root:The base XETH isn't available in the portfolio.\n",
      "ERROR:root:The base XETH isn't available in the portfolio.\n",
      "ERROR:root:The base XETH isn't available in the portfolio.\n",
      "ERROR:root:The base XETH isn't available in the portfolio.\n",
      "ERROR:root:The base XETH isn't available in the portfolio.\n",
      "ERROR:root:The base XETH isn't available in the portfolio.\n",
      "ERROR:root:The base XETH isn't available in the portfolio.\n"
     ]
    }
   ],
   "source": [
    "strategy_2.trader.portfolio.get_trade_balance()"
   ]
  },
  {
   "cell_type": "code",
   "execution_count": 17,
   "id": "developmental-cabinet",
   "metadata": {},
   "outputs": [
    {
     "data": {
      "text/plain": [
       "True"
      ]
     },
     "execution_count": 17,
     "metadata": {},
     "output_type": "execute_result"
    }
   ],
   "source": [
    "tars.is_running"
   ]
  },
  {
   "cell_type": "markdown",
   "id": "instructional-contents",
   "metadata": {},
   "source": [
    "## Stop the bot"
   ]
  },
  {
   "cell_type": "code",
   "execution_count": null,
   "id": "faced-regulation",
   "metadata": {},
   "outputs": [],
   "source": [
    "tars.stop()\n",
    "tars.is_running"
   ]
  },
  {
   "cell_type": "markdown",
   "id": "rough-brown",
   "metadata": {},
   "source": [
    "---"
   ]
  }
 ],
 "metadata": {
  "kernelspec": {
   "display_name": "Python 3",
   "language": "python",
   "name": "python3"
  },
  "language_info": {
   "codemirror_mode": {
    "name": "ipython",
    "version": 3
   },
   "file_extension": ".py",
   "mimetype": "text/x-python",
   "name": "python",
   "nbconvert_exporter": "python",
   "pygments_lexer": "ipython3",
   "version": "3.8.7"
  }
 },
 "nbformat": 4,
 "nbformat_minor": 5
}
