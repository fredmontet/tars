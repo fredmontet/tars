{
 "cells": [
  {
   "cell_type": "code",
   "execution_count": 11,
   "id": "identified-essay",
   "metadata": {
    "collapsed": false,
    "jupyter": {
     "outputs_hidden": false
    },
    "pycharm": {
     "name": "#%%\n"
    }
   },
   "outputs": [],
   "source": [
    "from src import TARS, markets, portfolios, traders, strategies\n",
    "import pandas as pd"
   ]
  },
  {
   "cell_type": "markdown",
   "id": "accessory-maker",
   "metadata": {},
   "source": [
    "# Offline Testing\n",
    "\n",
    "Welcome on the offline testing environment from Tars. It uses the same API than the online environment, but with virtual money. It's the best place to test your strategies before going online!\n"
   ]
  },
  {
   "cell_type": "markdown",
   "id": "furnished-differential",
   "metadata": {},
   "source": [
    "## Instanciate Tars"
   ]
  },
  {
   "cell_type": "code",
   "execution_count": 80,
   "id": "fluid-canon",
   "metadata": {},
   "outputs": [],
   "source": [
    "root = '../'\n",
    "api_key = f'{root}kraken.key'"
   ]
  },
  {
   "cell_type": "code",
   "execution_count": 81,
   "id": "french-compilation",
   "metadata": {},
   "outputs": [],
   "source": [
    "# Create Tars and its associated objects\n",
    "tars = TARS()\n",
    "\n",
    "portfolio_1 = portfolios.VirtualPortfolio({'ZUSD': 1000})\n",
    "trader_1 = traders.VirtualCryptoTrader(portfolio_1)\n",
    "\n",
    "portfolio_2 = portfolios.VirtualPortfolio({'ZUSD': 1000})\n",
    "trader_2 = traders.VirtualCryptoTrader(portfolio_2)"
   ]
  },
  {
   "cell_type": "code",
   "execution_count": 82,
   "id": "registered-meditation",
   "metadata": {},
   "outputs": [],
   "source": [
    "# Load strategies\n",
    "strategy_1 = strategies.BuyAndHold(trader_1, 'XETHZUSD', 0.4)\n",
    "strategy_2 = strategies.TrendFollowing(trader_2, 'XETHZUSD', 0.02)\n",
    "\n",
    "tars.load(strategy_1)\n",
    "tars.load(strategy_2)"
   ]
  },
  {
   "cell_type": "markdown",
   "id": "basic-economics",
   "metadata": {},
   "source": [
    "## Start the bot"
   ]
  },
  {
   "cell_type": "code",
   "execution_count": 83,
   "id": "daily-locking",
   "metadata": {},
   "outputs": [
    {
     "data": {
      "text/plain": [
       "True"
      ]
     },
     "execution_count": 83,
     "metadata": {},
     "output_type": "execute_result"
    },
    {
     "name": "stdout",
     "output_type": "stream",
     "text": [
      "attempt: 000 | ['EAPI:Rate limit exceeded']\n",
      "attempt: 001 | ['EAPI:Rate limit exceeded']\n"
     ]
    }
   ],
   "source": [
    "# Start the bot with a loop frequency ten second\n",
    "tars.start('00:00:10')\n",
    "tars.is_running"
   ]
  },
  {
   "cell_type": "markdown",
   "id": "novel-plaintiff",
   "metadata": {},
   "source": [
    "## Evaluate the strategy"
   ]
  },
  {
   "cell_type": "code",
   "execution_count": 84,
   "id": "modern-heater",
   "metadata": {},
   "outputs": [
    {
     "ename": "KeyError",
     "evalue": "\"None of ['dtime'] are in the columns\"",
     "output_type": "error",
     "traceback": [
      "\u001b[0;31m---------------------------------------------------------------------------\u001b[0m",
      "\u001b[0;31mKeyError\u001b[0m                                  Traceback (most recent call last)",
      "\u001b[0;32m<ipython-input-84-fa863d89d012>\u001b[0m in \u001b[0;36m<module>\u001b[0;34m\u001b[0m\n\u001b[1;32m      5\u001b[0m \u001b[0;34m\u001b[0m\u001b[0m\n\u001b[1;32m      6\u001b[0m \u001b[0;34m\u001b[0m\u001b[0m\n\u001b[0;32m----> 7\u001b[0;31m \u001b[0ms1\u001b[0m \u001b[0;34m=\u001b[0m \u001b[0mstrategy_1\u001b[0m\u001b[0;34m.\u001b[0m\u001b[0mevaluator\u001b[0m\u001b[0;34m.\u001b[0m\u001b[0mevaluate\u001b[0m\u001b[0;34m(\u001b[0m\u001b[0;34m)\u001b[0m\u001b[0;34m[\u001b[0m\u001b[0mcol\u001b[0m\u001b[0;34m]\u001b[0m\u001b[0;34m\u001b[0m\u001b[0;34m\u001b[0m\u001b[0m\n\u001b[0m\u001b[1;32m      8\u001b[0m \u001b[0ms1\u001b[0m\u001b[0;34m.\u001b[0m\u001b[0mname\u001b[0m \u001b[0;34m=\u001b[0m \u001b[0;34m'buy and hold'\u001b[0m\u001b[0;34m\u001b[0m\u001b[0;34m\u001b[0m\u001b[0m\n\u001b[1;32m      9\u001b[0m \u001b[0;34m\u001b[0m\u001b[0m\n",
      "\u001b[0;32m~/src/project/tars/src/tars/evaluators/trader_evaluator.py\u001b[0m in \u001b[0;36mevaluate\u001b[0;34m(self)\u001b[0m\n\u001b[1;32m     16\u001b[0m         \u001b[0mdf\u001b[0m\u001b[0;34m[\u001b[0m\u001b[0;34m'total net profit'\u001b[0m\u001b[0;34m]\u001b[0m \u001b[0;34m=\u001b[0m \u001b[0mdf\u001b[0m\u001b[0;34m.\u001b[0m\u001b[0mapply\u001b[0m\u001b[0;34m(\u001b[0m\u001b[0;32mlambda\u001b[0m \u001b[0mrow\u001b[0m\u001b[0;34m:\u001b[0m \u001b[0mtotal_net_profit\u001b[0m\u001b[0;34m(\u001b[0m\u001b[0mrow\u001b[0m\u001b[0;34m[\u001b[0m\u001b[0;34m'value'\u001b[0m\u001b[0;34m]\u001b[0m\u001b[0;34m,\u001b[0m \u001b[0mdf\u001b[0m\u001b[0;34m.\u001b[0m\u001b[0miloc\u001b[0m\u001b[0;34m[\u001b[0m\u001b[0;36m0\u001b[0m\u001b[0;34m]\u001b[0m\u001b[0;34m[\u001b[0m\u001b[0;36m0\u001b[0m\u001b[0;34m]\u001b[0m\u001b[0;34m)\u001b[0m\u001b[0;34m,\u001b[0m \u001b[0maxis\u001b[0m\u001b[0;34m=\u001b[0m\u001b[0;36m1\u001b[0m\u001b[0;34m)\u001b[0m\u001b[0;34m\u001b[0m\u001b[0;34m\u001b[0m\u001b[0m\n\u001b[1;32m     17\u001b[0m         \u001b[0mdf\u001b[0m\u001b[0;34m[\u001b[0m\u001b[0;34m'profit factor'\u001b[0m\u001b[0;34m]\u001b[0m \u001b[0;34m=\u001b[0m \u001b[0mdf\u001b[0m\u001b[0;34m.\u001b[0m\u001b[0mapply\u001b[0m\u001b[0;34m(\u001b[0m\u001b[0;32mlambda\u001b[0m \u001b[0mrow\u001b[0m\u001b[0;34m:\u001b[0m \u001b[0mprofit_factor\u001b[0m\u001b[0;34m(\u001b[0m\u001b[0mrow\u001b[0m\u001b[0;34m[\u001b[0m\u001b[0;34m'value'\u001b[0m\u001b[0;34m]\u001b[0m\u001b[0;34m,\u001b[0m \u001b[0mdf\u001b[0m\u001b[0;34m.\u001b[0m\u001b[0miloc\u001b[0m\u001b[0;34m[\u001b[0m\u001b[0;36m0\u001b[0m\u001b[0;34m]\u001b[0m\u001b[0;34m[\u001b[0m\u001b[0;36m0\u001b[0m\u001b[0;34m]\u001b[0m\u001b[0;34m)\u001b[0m\u001b[0;34m,\u001b[0m \u001b[0maxis\u001b[0m\u001b[0;34m=\u001b[0m\u001b[0;36m1\u001b[0m\u001b[0;34m)\u001b[0m\u001b[0;34m\u001b[0m\u001b[0;34m\u001b[0m\u001b[0m\n\u001b[0;32m---> 18\u001b[0;31m         \u001b[0mn_trades\u001b[0m \u001b[0;34m=\u001b[0m \u001b[0mlen\u001b[0m\u001b[0;34m(\u001b[0m\u001b[0mself\u001b[0m\u001b[0;34m.\u001b[0m\u001b[0mtrader\u001b[0m\u001b[0;34m.\u001b[0m\u001b[0mget_trades_history\u001b[0m\u001b[0;34m(\u001b[0m\u001b[0;34m)\u001b[0m\u001b[0;34m[\u001b[0m\u001b[0;36m0\u001b[0m\u001b[0;34m]\u001b[0m\u001b[0;34m)\u001b[0m\u001b[0;34m\u001b[0m\u001b[0;34m\u001b[0m\u001b[0m\n\u001b[0m\u001b[1;32m     19\u001b[0m         \u001b[0mdf\u001b[0m\u001b[0;34m[\u001b[0m\u001b[0;34m'average trade net profit'\u001b[0m\u001b[0;34m]\u001b[0m \u001b[0;34m=\u001b[0m \u001b[0mdf\u001b[0m\u001b[0;34m.\u001b[0m\u001b[0mapply\u001b[0m\u001b[0;34m(\u001b[0m\u001b[0;32mlambda\u001b[0m \u001b[0mrow\u001b[0m\u001b[0;34m:\u001b[0m \u001b[0maverage_trade_net_profit\u001b[0m\u001b[0;34m(\u001b[0m\u001b[0mrow\u001b[0m\u001b[0;34m[\u001b[0m\u001b[0;34m'total net profit'\u001b[0m\u001b[0;34m]\u001b[0m\u001b[0;34m,\u001b[0m \u001b[0mn_trades\u001b[0m\u001b[0;34m)\u001b[0m\u001b[0;34m,\u001b[0m \u001b[0maxis\u001b[0m\u001b[0;34m=\u001b[0m\u001b[0;36m1\u001b[0m\u001b[0;34m)\u001b[0m\u001b[0;34m\u001b[0m\u001b[0;34m\u001b[0m\u001b[0m\n\u001b[1;32m     20\u001b[0m         \u001b[0;32mreturn\u001b[0m \u001b[0mdf\u001b[0m\u001b[0;34m\u001b[0m\u001b[0;34m\u001b[0m\u001b[0m\n",
      "\u001b[0;32m~/src/project/tars/src/tars/traders/virtual_crypto_trader.py\u001b[0m in \u001b[0;36mget_trades_history\u001b[0;34m(self)\u001b[0m\n\u001b[1;32m     89\u001b[0m         \u001b[0mdf\u001b[0m\u001b[0;34m.\u001b[0m\u001b[0mreset_index\u001b[0m\u001b[0;34m(\u001b[0m\u001b[0minplace\u001b[0m\u001b[0;34m=\u001b[0m\u001b[0;32mTrue\u001b[0m\u001b[0;34m)\u001b[0m\u001b[0;34m\u001b[0m\u001b[0;34m\u001b[0m\u001b[0m\n\u001b[1;32m     90\u001b[0m         \u001b[0mdf\u001b[0m \u001b[0;34m=\u001b[0m    \u001b[0mdf\u001b[0m\u001b[0;34m.\u001b[0m\u001b[0mrename\u001b[0m\u001b[0;34m(\u001b[0m\u001b[0mcolumns\u001b[0m\u001b[0;34m=\u001b[0m\u001b[0;34m{\u001b[0m\u001b[0;34m'index'\u001b[0m\u001b[0;34m:\u001b[0m\u001b[0;34m'ordertxid'\u001b[0m\u001b[0;34m}\u001b[0m\u001b[0;34m)\u001b[0m\u001b[0;34m\u001b[0m\u001b[0;34m\u001b[0m\u001b[0m\n\u001b[0;32m---> 91\u001b[0;31m         \u001b[0mdf\u001b[0m \u001b[0;34m=\u001b[0m \u001b[0mdf\u001b[0m\u001b[0;34m.\u001b[0m\u001b[0mset_index\u001b[0m\u001b[0;34m(\u001b[0m\u001b[0;34m'dtime'\u001b[0m\u001b[0;34m)\u001b[0m\u001b[0;34m\u001b[0m\u001b[0;34m\u001b[0m\u001b[0m\n\u001b[0m\u001b[1;32m     92\u001b[0m         \u001b[0;32mreturn\u001b[0m \u001b[0mdf\u001b[0m\u001b[0;34m,\u001b[0m \u001b[0mlen\u001b[0m\u001b[0;34m(\u001b[0m\u001b[0mdf\u001b[0m\u001b[0;34m)\u001b[0m\u001b[0;34m\u001b[0m\u001b[0;34m\u001b[0m\u001b[0m\n\u001b[1;32m     93\u001b[0m \u001b[0;34m\u001b[0m\u001b[0m\n",
      "\u001b[0;32m~/.local/share/virtualenvs/tars-dSrcWdcW/lib/python3.8/site-packages/pandas/core/frame.py\u001b[0m in \u001b[0;36mset_index\u001b[0;34m(self, keys, drop, append, inplace, verify_integrity)\u001b[0m\n\u001b[1;32m   4725\u001b[0m \u001b[0;34m\u001b[0m\u001b[0m\n\u001b[1;32m   4726\u001b[0m         \u001b[0;32mif\u001b[0m \u001b[0mmissing\u001b[0m\u001b[0;34m:\u001b[0m\u001b[0;34m\u001b[0m\u001b[0;34m\u001b[0m\u001b[0m\n\u001b[0;32m-> 4727\u001b[0;31m             \u001b[0;32mraise\u001b[0m \u001b[0mKeyError\u001b[0m\u001b[0;34m(\u001b[0m\u001b[0;34mf\"None of {missing} are in the columns\"\u001b[0m\u001b[0;34m)\u001b[0m\u001b[0;34m\u001b[0m\u001b[0;34m\u001b[0m\u001b[0m\n\u001b[0m\u001b[1;32m   4728\u001b[0m \u001b[0;34m\u001b[0m\u001b[0m\n\u001b[1;32m   4729\u001b[0m         \u001b[0;32mif\u001b[0m \u001b[0minplace\u001b[0m\u001b[0;34m:\u001b[0m\u001b[0;34m\u001b[0m\u001b[0;34m\u001b[0m\u001b[0m\n",
      "\u001b[0;31mKeyError\u001b[0m: \"None of ['dtime'] are in the columns\""
     ]
    },
    {
     "name": "stdout",
     "output_type": "stream",
     "text": [
      "attempt: 002 | ['EAPI:Rate limit exceeded']\n"
     ]
    }
   ],
   "source": [
    "#col = 'value'\n",
    "col = 'total net profit'\n",
    "#col = 'profit factor'\n",
    "#col = 'average trade net profit'\n",
    "\n",
    "\n",
    "s1 = strategy_1.evaluator.evaluate()[col]\n",
    "s1.name = 'buy and hold'\n",
    "\n",
    "s2 = strategy_2.evaluator.evaluate()[col]\n",
    "s2.name = 'trend following'\n",
    "\n",
    "s1.plot(legend=True)\n",
    "s2.plot(legend=True);"
   ]
  },
  {
   "cell_type": "code",
   "execution_count": 95,
   "id": "crude-circle",
   "metadata": {},
   "outputs": [
    {
     "name": "stdout",
     "output_type": "stream",
     "text": [
      "attempt: 000 |attempt: 000 | ['EAPI:Rate limit exceeded']\n",
      " ['EAPI:Rate limit exceeded']\n",
      "attempt: 001 |attempt: 001 | ['EAPI:Rate limit exceeded']\n",
      " ['EAPI:Rate limit exceeded']\n",
      "attempt: 002 |attempt: 002 | ['EAPI:Rate limit exceeded']\n",
      " ['EAPI:Rate limit exceeded']\n",
      "attempt: 000 | ['EAPI:Rate limit exceeded']\n"
     ]
    },
    {
     "data": {
      "image/png": "[encoded data removed]",
      "text/plain": [
       "<Figure size 432x288 with 1 Axes>"
      ]
     },
     "metadata": {
      "needs_background": "light"
     },
     "output_type": "display_data"
    },
    {
     "name": "stdout",
     "output_type": "stream",
     "text": [
      "attempt: 001 | ['EAPI:Rate limit exceeded']\n",
      "attempt: 002 | ['EAPI:Rate limit exceeded']\n",
      "attempt: 003 | ['EAPI:Rate limit exceeded']\n",
      "attempt: 000 | ['EAPI:Rate limit exceeded']\n",
      "attempt: 004 | ['EAPI:Rate limit exceeded']\n",
      "attempt: 001 | ['EAPI:Rate limit exceeded']\n",
      "attempt: 005 | ['EAPI:Rate limit exceeded']\n",
      "attempt: 002 | ['EAPI:Rate limit exceeded']\n",
      "attempt: 006 | ['EAPI:Rate limit exceeded']\n",
      "attempt: 003 | ['EAPI:Rate limit exceeded']\n",
      "attempt: 000 | ['EAPI:Rate limit exceeded']\n",
      "attempt: 004 | ['EAPI:Rate limit exceeded']\n",
      "attempt: 001 | ['EAPI:Rate limit exceeded']\n",
      "attempt: 005 | ['EAPI:Rate limit exceeded']\n",
      "attempt: 002 | ['EAPI:Rate limit exceeded']\n",
      "attempt: 006 | ['EAPI:Rate limit exceeded']\n",
      "attempt: 003 | ['EAPI:Rate limit exceeded']\n",
      "attempt: 004 | ['EAPI:Rate limit exceeded']\n",
      "attempt: 005 | ['EAPI:Rate limit exceeded']\n",
      "attempt: 006 | ['EAPI:Rate limit exceeded']\n",
      "attempt: 000 | ['EAPI:Rate limit exceeded']\n",
      "attempt: 001 | ['EAPI:Rate limit exceeded']\n",
      "attempt: 002 | ['EAPI:Rate limit exceeded']\n",
      "attempt: 003 | ['EAPI:Rate limit exceeded']\n",
      "attempt: 000 | ['EAPI:Rate limit exceeded']\n",
      "attempt: 001 | ['EAPI:Rate limit exceeded']\n",
      "attempt: 002 | ['EAPI:Rate limit exceeded']\n",
      "attempt: 000 | ['EAPI:Rate limit exceeded']\n",
      "attempt: 001 | ['EAPI:Rate limit exceeded']\n",
      "attempt: 002 | ['EAPI:Rate limit exceeded']\n",
      "attempt: 000 | ['EAPI:Rate limit exceeded']\n",
      "attempt: 003 | ['EAPI:Rate limit exceeded']\n",
      "attempt: 004 | ['EAPI:Rate limit exceeded']\n",
      "attempt: 005 | ['EAPI:Rate limit exceeded']\n",
      "attempt: 006 | ['EAPI:Rate limit exceeded']\n",
      "attempt: 007 | ['EAPI:Rate limit exceeded']\n",
      "attempt: 000 | ['EAPI:Rate limit exceeded']\n",
      "attempt: 001 | ['EAPI:Rate limit exceeded']\n",
      "attempt: 002 | ['EAPI:Rate limit exceeded']\n",
      "attempt: 003 | ['EAPI:Rate limit exceeded']\n",
      "attempt: 004 | ['EAPI:Rate limit exceeded']\n",
      "attempt: 000 | ['EAPI:Rate limit exceeded']\n",
      "attempt: 001 | ['EAPI:Rate limit exceeded']\n",
      "attempt: 002 | ['EAPI:Rate limit exceeded']\n",
      "attempt: 003 | ['EAPI:Rate limit exceeded']\n",
      "attempt: 004 | ['EAPI:Rate limit exceeded']\n",
      "attempt: 005 | ['EAPI:Rate limit exceeded']\n",
      "attempt: 006 | ['EAPI:Rate limit exceeded']\n",
      "attempt: 007 | ['EAPI:Rate limit exceeded']\n",
      "attempt: 008 | ['EAPI:Rate limit exceeded']\n",
      "attempt: 009 | ['EAPI:Rate limit exceeded']\n",
      "attempt: 010 | ['EAPI:Rate limit exceeded']\n",
      "attempt: 011 | ['EAPI:Rate limit exceeded']\n",
      "attempt: 000 | ['EAPI:Rate limit exceeded']\n",
      "attempt: 001 | ['EAPI:Rate limit exceeded']\n",
      "attempt: 002 | ['EAPI:Rate limit exceeded']\n",
      "attempt: 003 | ['EAPI:Rate limit exceeded']\n",
      "attempt: 000 | ['EAPI:Rate limit exceeded']\n",
      "attempt: 001 | ['EAPI:Rate limit exceeded']\n",
      "attempt: 002 | ['EAPI:Rate limit exceeded']\n",
      "attempt: 003 | ['EAPI:Rate limit exceeded']\n",
      "attempt: 004 | ['EAPI:Rate limit exceeded']\n",
      "attempt: 000 | ['EAPI:Rate limit exceeded']\n",
      "attempt: 001 | ['EAPI:Rate limit exceeded']\n",
      "attempt: 002 | ['EAPI:Rate limit exceeded']\n",
      "attempt: 003 | ['EAPI:Rate limit exceeded']\n",
      "attempt: 004 | ['EAPI:Rate limit exceeded']\n",
      "attempt: 000 | ['EAPI:Rate limit exceeded']\n",
      "attempt: 001 | ['EAPI:Rate limit exceeded']\n",
      "attempt: 002 | ['EAPI:Rate limit exceeded']\n",
      "attempt: 003 | ['EAPI:Rate limit exceeded']\n",
      "attempt: 004 | ['EAPI:Rate limit exceeded']\n",
      "attempt: 005 | ['EAPI:Rate limit exceeded']\n",
      "attempt: 006 | ['EAPI:Rate limit exceeded']\n",
      "attempt: 007 | ['EAPI:Rate limit exceeded']\n",
      "attempt: 000 | ['EAPI:Rate limit exceeded']\n",
      "attempt: 001 | ['EAPI:Rate limit exceeded']\n",
      "attempt: 002 | ['EAPI:Rate limit exceeded']\n",
      "attempt: 003 | ['EAPI:Rate limit exceeded']\n",
      "attempt: 000 | ['EAPI:Rate limit exceeded']\n",
      "attempt: 001 | ['EAPI:Rate limit exceeded']\n",
      "attempt: 002 | ['EAPI:Rate limit exceeded']\n",
      "attempt: 000 | ['EAPI:Rate limit exceeded']\n",
      "attempt: 003 | ['EAPI:Rate limit exceeded']\n",
      "attempt: 004 | ['EAPI:Rate limit exceeded']\n",
      "attempt: 005 | ['EAPI:Rate limit exceeded']\n",
      "attempt: 006 | ['EAPI:Rate limit exceeded']\n",
      "attempt: 007 | ['EAPI:Rate limit exceeded']\n",
      "attempt: 000 | ['EAPI:Rate limit exceeded']\n",
      "attempt: 001 | ['EAPI:Rate limit exceeded']\n",
      "attempt: 002 | ['EAPI:Rate limit exceeded']\n",
      "attempt: 003 | ['EAPI:Rate limit exceeded']\n",
      "attempt: 004 | ['EAPI:Rate limit exceeded']\n",
      "attempt: 000 | ['EAPI:Rate limit exceeded']\n",
      "attempt: 001 | ['EAPI:Rate limit exceeded']\n",
      "attempt: 002 | ['EAPI:Rate limit exceeded']\n",
      "attempt: 003 | ['EAPI:Rate limit exceeded']\n",
      "attempt: 000 | ['EAPI:Rate limit exceeded']\n",
      "attempt: 001 | ['EAPI:Rate limit exceeded']\n",
      "attempt: 002 | ['EAPI:Rate limit exceeded']\n",
      "attempt: 003 | ['EAPI:Rate limit exceeded']\n",
      "attempt: 004 | ['EAPI:Rate limit exceeded']\n",
      "attempt: 000 | ['EAPI:Rate limit exceeded']\n",
      "attempt: 001 | ['EAPI:Rate limit exceeded']\n",
      "attempt: 002 | ['EAPI:Rate limit exceeded']\n",
      "attempt: 003 | ['EAPI:Rate limit exceeded']\n",
      "attempt: 000 | ['EAPI:Rate limit exceeded']\n",
      "attempt: 001 | ['EAPI:Rate limit exceeded']\n",
      "attempt: 002 | ['EAPI:Rate limit exceeded']\n",
      "attempt: 000 | ['EAPI:Rate limit exceeded']\n",
      "attempt: 001 | ['EAPI:Rate limit exceeded']\n",
      "attempt: 002 | ['EAPI:Rate limit exceeded']\n",
      "attempt: 003 | ['EAPI:Rate limit exceeded']\n",
      "attempt: 004 | ['EAPI:Rate limit exceeded']\n",
      "attempt: 005 | ['EAPI:Rate limit exceeded']\n",
      "attempt: 006 | ['EAPI:Rate limit exceeded']\n",
      "attempt: 007 | ['EAPI:Rate limit exceeded']\n",
      "attempt: 000 | ['EAPI:Rate limit exceeded']\n",
      "attempt: 001 | ['EAPI:Rate limit exceeded']\n",
      "attempt: 002 | ['EAPI:Rate limit exceeded']\n",
      "attempt: 003 | ['EAPI:Rate limit exceeded']\n",
      "attempt: 004 | ['EAPI:Rate limit exceeded']\n",
      "attempt: 005 | ['EAPI:Rate limit exceeded']\n",
      "attempt: 006 | ['EAPI:Rate limit exceeded']\n",
      "attempt: 007 | ['EAPI:Rate limit exceeded']\n",
      "attempt: 008 | ['EAPI:Rate limit exceeded']\n",
      "attempt: 009 | ['EAPI:Rate limit exceeded']\n",
      "attempt: 000 | ['EAPI:Rate limit exceeded']\n",
      "attempt: 001 | ['EAPI:Rate limit exceeded']\n",
      "attempt: 002 | ['EAPI:Rate limit exceeded']\n",
      "attempt: 003 | ['EAPI:Rate limit exceeded']\n",
      "attempt: 000 | ['EAPI:Rate limit exceeded']\n",
      "attempt: 001 | ['EAPI:Rate limit exceeded']\n",
      "attempt: 002 | ['EAPI:Rate limit exceeded']\n",
      "attempt: 003 | ['EAPI:Rate limit exceeded']\n",
      "attempt: 000 | ['EAPI:Rate limit exceeded']\n",
      "attempt: 001 | ['EAPI:Rate limit exceeded']\n",
      "attempt: 002 | ['EAPI:Rate limit exceeded']\n",
      "attempt: 003 | ['EAPI:Rate limit exceeded']\n",
      "attempt: 004 | ['EAPI:Rate limit exceeded']\n",
      "attempt: 000 | ['EAPI:Rate limit exceeded']\n",
      "attempt: 001 | ['EAPI:Rate limit exceeded']\n",
      "attempt: 002 | ['EAPI:Rate limit exceeded']\n",
      "attempt: 003 | ['EAPI:Rate limit exceeded']\n",
      "attempt: 004 | ['EAPI:Rate limit exceeded']\n"
     ]
    }
   ],
   "source": [
    "markets.CryptoMarket().get_ohlc_data(pair='XETHZUSD')[0]['close'].plot();"
   ]
  },
  {
   "cell_type": "code",
   "execution_count": 92,
   "id": "challenging-drawing",
   "metadata": {},
   "outputs": [
    {
     "data": {
      "text/plain": [
       "{}"
      ]
     },
     "execution_count": 92,
     "metadata": {},
     "output_type": "execute_result"
    },
    {
     "name": "stdout",
     "output_type": "stream",
     "text": [
      "attempt: 000 | ['EAPI:Rate limit exceeded']\n"
     ]
    }
   ],
   "source": [
    "strategy_2.trader.order_book"
   ]
  },
  {
   "cell_type": "code",
   "execution_count": 93,
   "id": "further-angola",
   "metadata": {},
   "outputs": [
    {
     "data": {
      "text/html": [
       "<div>\n",
       "<style scoped>\n",
       "    .dataframe tbody tr th:only-of-type {\n",
       "        vertical-align: middle;\n",
       "    }\n",
       "\n",
       "    .dataframe tbody tr th {\n",
       "        vertical-align: top;\n",
       "    }\n",
       "\n",
       "    .dataframe thead th {\n",
       "        text-align: right;\n",
       "    }\n",
       "</style>\n",
       "<table border=\"1\" class=\"dataframe\">\n",
       "  <thead>\n",
       "    <tr style=\"text-align: right;\">\n",
       "      <th></th>\n",
       "      <th>vol</th>\n",
       "    </tr>\n",
       "  </thead>\n",
       "  <tbody>\n",
       "    <tr>\n",
       "      <th>ZUSD</th>\n",
       "      <td>73.9</td>\n",
       "    </tr>\n",
       "    <tr>\n",
       "      <th>XETH</th>\n",
       "      <td>0.4</td>\n",
       "    </tr>\n",
       "  </tbody>\n",
       "</table>\n",
       "</div>"
      ],
      "text/plain": [
       "       vol\n",
       "ZUSD  73.9\n",
       "XETH   0.4"
      ]
     },
     "execution_count": 93,
     "metadata": {},
     "output_type": "execute_result"
    },
    {
     "name": "stdout",
     "output_type": "stream",
     "text": [
      "attempt: 001 | ['EAPI:Rate limit exceeded']\n"
     ]
    }
   ],
   "source": [
    "strategy_1.trader.portfolio.get_account_balance()"
   ]
  },
  {
   "cell_type": "code",
   "execution_count": 94,
   "id": "ecological-trading",
   "metadata": {},
   "outputs": [
    {
     "data": {
      "text/html": [
       "<div>\n",
       "<style scoped>\n",
       "    .dataframe tbody tr th:only-of-type {\n",
       "        vertical-align: middle;\n",
       "    }\n",
       "\n",
       "    .dataframe tbody tr th {\n",
       "        vertical-align: top;\n",
       "    }\n",
       "\n",
       "    .dataframe thead th {\n",
       "        text-align: right;\n",
       "    }\n",
       "</style>\n",
       "<table border=\"1\" class=\"dataframe\">\n",
       "  <thead>\n",
       "    <tr style=\"text-align: right;\">\n",
       "      <th></th>\n",
       "      <th>vol</th>\n",
       "    </tr>\n",
       "  </thead>\n",
       "  <tbody>\n",
       "    <tr>\n",
       "      <th>ZUSD</th>\n",
       "      <td>1000</td>\n",
       "    </tr>\n",
       "  </tbody>\n",
       "</table>\n",
       "</div>"
      ],
      "text/plain": [
       "       vol\n",
       "ZUSD  1000"
      ]
     },
     "execution_count": 94,
     "metadata": {},
     "output_type": "execute_result"
    },
    {
     "name": "stdout",
     "output_type": "stream",
     "text": [
      "attempt: 002 | ['EAPI:Rate limit exceeded']\n",
      "attempt: 003 | ['EAPI:Rate limit exceeded']\n",
      "attempt: 004 | ['EAPI:Rate limit exceeded']\n",
      "attempt: 005 | ['EAPI:Rate limit exceeded']\n"
     ]
    }
   ],
   "source": [
    "strategy_2.trader.portfolio.get_account_balance()"
   ]
  },
  {
   "cell_type": "markdown",
   "id": "becoming-classic",
   "metadata": {},
   "source": [
    "## Stop the bot"
   ]
  },
  {
   "cell_type": "code",
   "execution_count": 78,
   "id": "native-missile",
   "metadata": {},
   "outputs": [
    {
     "data": {
      "text/plain": [
       "False"
      ]
     },
     "execution_count": 78,
     "metadata": {},
     "output_type": "execute_result"
    }
   ],
   "source": [
    "tars.stop()\n",
    "tars.is_running"
   ]
  },
  {
   "cell_type": "markdown",
   "id": "communist-romania",
   "metadata": {},
   "source": [
    "---"
   ]
  }
 ],
 "metadata": {
  "kernelspec": {
   "display_name": "Python 3",
   "language": "python",
   "name": "python3"
  },
  "language_info": {
   "codemirror_mode": {
    "name": "ipython",
    "version": 3
   },
   "file_extension": ".py",
   "mimetype": "text/x-python",
   "name": "python",
   "nbconvert_exporter": "python",
   "pygments_lexer": "ipython3",
   "version": "3.8.7"
  }
 },
 "nbformat": 4,
 "nbformat_minor": 5
}
