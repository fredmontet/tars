{
 "cells": [
  {
   "cell_type": "code",
   "execution_count": 12,
   "id": "desperate-deadline",
   "metadata": {
    "collapsed": false,
    "jupyter": {
     "outputs_hidden": false
    },
    "pycharm": {
     "name": "#%%\n"
    }
   },
   "outputs": [],
   "source": [
    "from src import TARS, markets, portfolios, traders, strategies\n",
    "import pandas as pd\n",
    "%matplotlib inline"
   ]
  },
  {
   "cell_type": "markdown",
   "id": "fresh-mounting",
   "metadata": {},
   "source": [
    "# Offline Testing\n",
    "\n",
    "Welcome on the offline testing environment from Tars. It uses the same API than the online environment, but with virtual money. It's the best place to test your strategies before going online!\n"
   ]
  },
  {
   "cell_type": "markdown",
   "id": "prime-response",
   "metadata": {},
   "source": [
    "## Instanciate Tars"
   ]
  },
  {
   "cell_type": "code",
   "execution_count": 3,
   "id": "capital-number",
   "metadata": {},
   "outputs": [],
   "source": [
    "root = '../'\n",
    "api_key = f'{root}kraken.key'"
   ]
  },
  {
   "cell_type": "code",
   "execution_count": 4,
   "id": "outdoor-friendship",
   "metadata": {},
   "outputs": [],
   "source": [
    "# Create Tars and its associated objects\n",
    "tars = TARS()\n",
    "\n",
    "portfolio_1 = portfolios.VirtualPortfolio({'ZUSD': 1000})\n",
    "trader_1 = traders.VirtualCryptoTrader(portfolio_1)\n",
    "\n",
    "portfolio_2 = portfolios.VirtualPortfolio({'ZUSD': 1000})\n",
    "trader_2 = traders.VirtualCryptoTrader(portfolio_2)"
   ]
  },
  {
   "cell_type": "code",
   "execution_count": 5,
   "id": "cultural-electric",
   "metadata": {},
   "outputs": [],
   "source": [
    "# Load strategies\n",
    "strategy_1 = strategies.BuyAndHold(trader_1, 'XETHZUSD', 0.2)\n",
    "strategy_2 = strategies.TrendFollowingMACD(trader_2, 'XETHZUSD', 0.2)\n",
    "\n",
    "tars.load(strategy_1)\n",
    "tars.load(strategy_2)"
   ]
  },
  {
   "cell_type": "markdown",
   "id": "psychological-manchester",
   "metadata": {},
   "source": [
    "## Start the bot"
   ]
  },
  {
   "cell_type": "code",
   "execution_count": 6,
   "id": "agreed-daisy",
   "metadata": {},
   "outputs": [
    {
     "data": {
      "text/plain": [
       "True"
      ]
     },
     "execution_count": 6,
     "metadata": {},
     "output_type": "execute_result"
    }
   ],
   "source": [
    "# Start the bot with a loop frequency ten second\n",
    "tars.start('00:00:10')\n",
    "tars.is_running"
   ]
  },
  {
   "cell_type": "markdown",
   "id": "fixed-ebony",
   "metadata": {},
   "source": [
    "## Evaluate the strategy"
   ]
  },
  {
   "cell_type": "code",
   "execution_count": 23,
   "id": "divine-wallace",
   "metadata": {},
   "outputs": [
    {
     "data": {
      "image/png": "[encoded data removed]",
      "text/plain": [
       "<Figure size 432x288 with 1 Axes>"
      ]
     },
     "metadata": {
      "needs_background": "light"
     },
     "output_type": "display_data"
    }
   ],
   "source": [
    "#col = 'value'\n",
    "col = 'total net profit'\n",
    "#col = 'profit factor'\n",
    "#col = 'average trade net profit'\n",
    "\n",
    "s1 = strategy_1.evaluator.evaluate()[col]\n",
    "s1.name = 'buy and hold'\n",
    "\n",
    "s2 = strategy_2.evaluator.evaluate()[col]\n",
    "s2.name = 'trend following MACD'\n",
    "\n",
    "s1.plot(legend=True)\n",
    "s2.plot(legend=True);"
   ]
  },
  {
   "cell_type": "code",
   "execution_count": 20,
   "id": "stupid-novelty",
   "metadata": {},
   "outputs": [
    {
     "data": {
      "text/html": [
       "<div>\n",
       "<style scoped>\n",
       "    .dataframe tbody tr th:only-of-type {\n",
       "        vertical-align: middle;\n",
       "    }\n",
       "\n",
       "    .dataframe tbody tr th {\n",
       "        vertical-align: top;\n",
       "    }\n",
       "\n",
       "    .dataframe thead th {\n",
       "        text-align: right;\n",
       "    }\n",
       "</style>\n",
       "<table border=\"1\" class=\"dataframe\">\n",
       "  <thead>\n",
       "    <tr style=\"text-align: right;\">\n",
       "      <th></th>\n",
       "      <th>ordertxid</th>\n",
       "      <th>pair</th>\n",
       "      <th>ordertype</th>\n",
       "      <th>type</th>\n",
       "      <th>price</th>\n",
       "      <th>cost</th>\n",
       "      <th>fee</th>\n",
       "      <th>volume</th>\n",
       "    </tr>\n",
       "    <tr>\n",
       "      <th>dtime</th>\n",
       "      <th></th>\n",
       "      <th></th>\n",
       "      <th></th>\n",
       "      <th></th>\n",
       "      <th></th>\n",
       "      <th></th>\n",
       "      <th></th>\n",
       "      <th></th>\n",
       "    </tr>\n",
       "  </thead>\n",
       "  <tbody>\n",
       "    <tr>\n",
       "      <th>2021-08-10 07:53:28.380736+00:00</th>\n",
       "      <td>2f3c86b5</td>\n",
       "      <td>XETHZUSD</td>\n",
       "      <td>buy</td>\n",
       "      <td>market</td>\n",
       "      <td>3132.01</td>\n",
       "      <td>626.402</td>\n",
       "      <td>1.628645</td>\n",
       "      <td>0.2</td>\n",
       "    </tr>\n",
       "  </tbody>\n",
       "</table>\n",
       "</div>"
      ],
      "text/plain": [
       "                                 ordertxid      pair ordertype    type  \\\n",
       "dtime                                                                    \n",
       "2021-08-10 07:53:28.380736+00:00  2f3c86b5  XETHZUSD       buy  market   \n",
       "\n",
       "                                    price     cost       fee  volume  \n",
       "dtime                                                                 \n",
       "2021-08-10 07:53:28.380736+00:00  3132.01  626.402  1.628645     0.2  "
      ]
     },
     "execution_count": 20,
     "metadata": {},
     "output_type": "execute_result"
    }
   ],
   "source": [
    "strategy_1.trader.get_trades_history()[0]"
   ]
  },
  {
   "cell_type": "code",
   "execution_count": 24,
   "id": "insured-landscape",
   "metadata": {},
   "outputs": [
    {
     "data": {
      "text/html": [
       "<div>\n",
       "<style scoped>\n",
       "    .dataframe tbody tr th:only-of-type {\n",
       "        vertical-align: middle;\n",
       "    }\n",
       "\n",
       "    .dataframe tbody tr th {\n",
       "        vertical-align: top;\n",
       "    }\n",
       "\n",
       "    .dataframe thead th {\n",
       "        text-align: right;\n",
       "    }\n",
       "</style>\n",
       "<table border=\"1\" class=\"dataframe\">\n",
       "  <thead>\n",
       "    <tr style=\"text-align: right;\">\n",
       "      <th></th>\n",
       "      <th>ordertxid</th>\n",
       "      <th>pair</th>\n",
       "      <th>ordertype</th>\n",
       "      <th>type</th>\n",
       "      <th>price</th>\n",
       "      <th>cost</th>\n",
       "      <th>fee</th>\n",
       "      <th>volume</th>\n",
       "    </tr>\n",
       "    <tr>\n",
       "      <th>dtime</th>\n",
       "      <th></th>\n",
       "      <th></th>\n",
       "      <th></th>\n",
       "      <th></th>\n",
       "      <th></th>\n",
       "      <th></th>\n",
       "      <th></th>\n",
       "      <th></th>\n",
       "    </tr>\n",
       "  </thead>\n",
       "  <tbody>\n",
       "    <tr>\n",
       "      <th>2021-08-10 07:55:17.976326+00:00</th>\n",
       "      <td>ec57a1f3</td>\n",
       "      <td>XETHZUSD</td>\n",
       "      <td>buy</td>\n",
       "      <td>market</td>\n",
       "      <td>3142.20</td>\n",
       "      <td>628.440</td>\n",
       "      <td>1.633944</td>\n",
       "      <td>0.2</td>\n",
       "    </tr>\n",
       "    <tr>\n",
       "      <th>2021-08-10 07:55:31.338176+00:00</th>\n",
       "      <td>abc90c57</td>\n",
       "      <td>XETHZUSD</td>\n",
       "      <td>buy</td>\n",
       "      <td>market</td>\n",
       "      <td>3143.52</td>\n",
       "      <td>628.704</td>\n",
       "      <td>1.634630</td>\n",
       "      <td>0.2</td>\n",
       "    </tr>\n",
       "    <tr>\n",
       "      <th>2021-08-10 07:55:45.518875+00:00</th>\n",
       "      <td>84da5730</td>\n",
       "      <td>XETHZUSD</td>\n",
       "      <td>buy</td>\n",
       "      <td>market</td>\n",
       "      <td>3142.96</td>\n",
       "      <td>628.592</td>\n",
       "      <td>1.634339</td>\n",
       "      <td>0.2</td>\n",
       "    </tr>\n",
       "    <tr>\n",
       "      <th>2021-08-10 07:55:59.036864+00:00</th>\n",
       "      <td>342e8587</td>\n",
       "      <td>XETHZUSD</td>\n",
       "      <td>buy</td>\n",
       "      <td>market</td>\n",
       "      <td>3144.49</td>\n",
       "      <td>628.898</td>\n",
       "      <td>1.635135</td>\n",
       "      <td>0.2</td>\n",
       "    </tr>\n",
       "    <tr>\n",
       "      <th>2021-08-10 07:56:13.270175+00:00</th>\n",
       "      <td>60d4d2ae</td>\n",
       "      <td>XETHZUSD</td>\n",
       "      <td>buy</td>\n",
       "      <td>market</td>\n",
       "      <td>3147.01</td>\n",
       "      <td>629.402</td>\n",
       "      <td>1.636445</td>\n",
       "      <td>0.2</td>\n",
       "    </tr>\n",
       "  </tbody>\n",
       "</table>\n",
       "</div>"
      ],
      "text/plain": [
       "                                 ordertxid      pair ordertype    type  \\\n",
       "dtime                                                                    \n",
       "2021-08-10 07:55:17.976326+00:00  ec57a1f3  XETHZUSD       buy  market   \n",
       "2021-08-10 07:55:31.338176+00:00  abc90c57  XETHZUSD       buy  market   \n",
       "2021-08-10 07:55:45.518875+00:00  84da5730  XETHZUSD       buy  market   \n",
       "2021-08-10 07:55:59.036864+00:00  342e8587  XETHZUSD       buy  market   \n",
       "2021-08-10 07:56:13.270175+00:00  60d4d2ae  XETHZUSD       buy  market   \n",
       "\n",
       "                                    price     cost       fee  volume  \n",
       "dtime                                                                 \n",
       "2021-08-10 07:55:17.976326+00:00  3142.20  628.440  1.633944     0.2  \n",
       "2021-08-10 07:55:31.338176+00:00  3143.52  628.704  1.634630     0.2  \n",
       "2021-08-10 07:55:45.518875+00:00  3142.96  628.592  1.634339     0.2  \n",
       "2021-08-10 07:55:59.036864+00:00  3144.49  628.898  1.635135     0.2  \n",
       "2021-08-10 07:56:13.270175+00:00  3147.01  629.402  1.636445     0.2  "
      ]
     },
     "execution_count": 24,
     "metadata": {},
     "output_type": "execute_result"
    }
   ],
   "source": [
    "strategy_2.trader.get_trades_history()[0].tail()"
   ]
  },
  {
   "cell_type": "code",
   "execution_count": 16,
   "id": "positive-aurora",
   "metadata": {},
   "outputs": [
    {
     "data": {
      "image/png": "[encoded data removed]",
      "text/plain": [
       "<Figure size 432x288 with 1 Axes>"
      ]
     },
     "metadata": {
      "needs_background": "light"
     },
     "output_type": "display_data"
    },
    {
     "name": "stderr",
     "output_type": "stream",
     "text": [
      "ERROR:root:The base XETH isn't available in the portfolio.\n",
      "ERROR:root:The base XETH isn't available in the portfolio.\n"
     ]
    }
   ],
   "source": [
    "markets.CryptoMarket().get_ohlc_data(pair='XETHZUSD')[0]['close'].plot();"
   ]
  },
  {
   "cell_type": "markdown",
   "id": "muslim-branch",
   "metadata": {},
   "source": [
    "## Stop the bot"
   ]
  },
  {
   "cell_type": "code",
   "execution_count": 24,
   "id": "absent-source",
   "metadata": {},
   "outputs": [
    {
     "data": {
      "text/plain": [
       "False"
      ]
     },
     "execution_count": 24,
     "metadata": {},
     "output_type": "execute_result"
    }
   ],
   "source": [
    "tars.stop()\n",
    "tars.is_running"
   ]
  },
  {
   "cell_type": "markdown",
   "id": "optional-rings",
   "metadata": {},
   "source": [
    "---"
   ]
  }
 ],
 "metadata": {
  "kernelspec": {
   "display_name": "Python 3",
   "language": "python",
   "name": "python3"
  },
  "language_info": {
   "codemirror_mode": {
    "name": "ipython",
    "version": 3
   },
   "file_extension": ".py",
   "mimetype": "text/x-python",
   "name": "python",
   "nbconvert_exporter": "python",
   "pygments_lexer": "ipython3",
   "version": "3.8.7"
  }
 },
 "nbformat": 4,
 "nbformat_minor": 5
}
