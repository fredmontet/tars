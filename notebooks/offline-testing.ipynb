{
 "cells": [
  {
   "cell_type": "code",
   "execution_count": 2,
   "id": "precious-donor",
   "metadata": {
    "collapsed": false,
    "jupyter": {
     "outputs_hidden": false
    },
    "pycharm": {
     "name": "#%%\n"
    }
   },
   "outputs": [],
   "source": [
    "from src import TARS, markets, portfolios, traders, strategies\n",
    "%matplotlib inline"
   ]
  },
  {
   "cell_type": "markdown",
   "id": "regular-viking",
   "metadata": {},
   "source": [
    "# Offline Testing\n",
    "\n",
    "Welcome on the offline testing environment from Tars. It uses the same API than the online environment, but with virtual money. It's the best place to test your strategies before going online!\n"
   ]
  },
  {
   "cell_type": "markdown",
   "id": "super-individual",
   "metadata": {},
   "source": [
    "## Instanciate Tars"
   ]
  },
  {
   "cell_type": "code",
   "execution_count": 3,
   "id": "structured-leave",
   "metadata": {},
   "outputs": [],
   "source": [
    "root = '../'\n",
    "api_key = f'{root}kraken.key'"
   ]
  },
  {
   "cell_type": "code",
   "execution_count": 4,
   "id": "similar-richmond",
   "metadata": {},
   "outputs": [],
   "source": [
    "portfolio_1 = portfolios.VirtualPortfolio({'ZUSD': 1000})\n",
    "trader_1 = traders.VirtualCryptoTrader(portfolio_1)\n",
    "strategy_1 = strategies.BuyAndHold(trader_1, 'XETHZUSD', 0.2)\n",
    "\n",
    "portfolio_2 = portfolios.VirtualPortfolio({'ZUSD': 1000})\n",
    "trader_2 = traders.VirtualCryptoTrader(portfolio_2)\n",
    "strategy_2 = strategies.TrendFollowingMACD(trader_2, 'XETHZUSD', 0.2)\n",
    "\n",
    "portfolio_3 = portfolios.VirtualPortfolio({'ZUSD': 1000})\n",
    "trader_3 = traders.VirtualCryptoTrader(portfolio_3)\n",
    "strategy_3 = strategies.RandomInvestment(trader_3, 'XETHZUSD', 0.2)"
   ]
  },
  {
   "cell_type": "code",
   "execution_count": 5,
   "id": "electrical-female",
   "metadata": {},
   "outputs": [
    {
     "name": "stdout",
     "output_type": "stream",
     "text": [
      " 🤖 TARS : Welcome to Endurance! 👨‍🚀\n",
      " 🤖 TARS : Loaded strategy ➡️ Buy and hold\n",
      " 🤖 TARS : Loaded strategy ➡️ Trend Following with MACD\n",
      " 🤖 TARS : Loaded strategy ➡️ Random Investment\n"
     ]
    }
   ],
   "source": [
    "# Create Tars and load its strategies\n",
    "tars = TARS()\n",
    "tars.load(strategy_1)\n",
    "tars.load(strategy_2)\n",
    "tars.load(strategy_3)"
   ]
  },
  {
   "cell_type": "markdown",
   "id": "polar-valley",
   "metadata": {},
   "source": [
    "## Start the bot"
   ]
  },
  {
   "cell_type": "code",
   "execution_count": 6,
   "id": "stupid-identifier",
   "metadata": {},
   "outputs": [
    {
     "name": "stdout",
     "output_type": "stream",
     "text": [
      " 🤖 TARS : Starting trading session 📈\n",
      " ⏱ Trading decision will be taken every : 00:01:00️ (hh:mm:ss)\n",
      " 💪️ Loading :   \n",
      "   🧵 'Thread-4' ➡️ 'Buy and hold'\n",
      "   🧵 'Thread-5' ➡️ 'Trend Following with MACD'\n",
      "   🧵 'Thread-6' ➡️ 'Random Investment'\n",
      " The base XETH isn't available in the portfolio.\n"
     ]
    }
   ],
   "source": [
    "tars.start('00:01:00')"
   ]
  },
  {
   "cell_type": "markdown",
   "id": "split-daisy",
   "metadata": {},
   "source": [
    "## Evaluate the strategy"
   ]
  },
  {
   "cell_type": "code",
   "execution_count": 17,
   "id": "necessary-provincial",
   "metadata": {},
   "outputs": [
    {
     "data": {
      "image/png": "[encoded data removed]",
      "text/plain": [
       "<Figure size 432x288 with 1 Axes>"
      ]
     },
     "metadata": {
      "needs_background": "light"
     },
     "output_type": "display_data"
    }
   ],
   "source": [
    "tars.plot()"
   ]
  },
  {
   "cell_type": "code",
   "execution_count": 16,
   "id": "dominican-muslim",
   "metadata": {},
   "outputs": [
    {
     "data": {
      "text/html": [
       "<div>\n",
       "<style scoped>\n",
       "    .dataframe tbody tr th:only-of-type {\n",
       "        vertical-align: middle;\n",
       "    }\n",
       "\n",
       "    .dataframe tbody tr th {\n",
       "        vertical-align: top;\n",
       "    }\n",
       "\n",
       "    .dataframe thead th {\n",
       "        text-align: right;\n",
       "    }\n",
       "</style>\n",
       "<table border=\"1\" class=\"dataframe\">\n",
       "  <thead>\n",
       "    <tr style=\"text-align: right;\">\n",
       "      <th></th>\n",
       "      <th>Buy and hold</th>\n",
       "      <th>Trend Following with MACD</th>\n",
       "      <th>Random Investment</th>\n",
       "    </tr>\n",
       "  </thead>\n",
       "  <tbody>\n",
       "    <tr>\n",
       "      <th>2021-08-10 21:19:00+00:00</th>\n",
       "      <td>997.46</td>\n",
       "      <td>987.41</td>\n",
       "      <td>962.88</td>\n",
       "    </tr>\n",
       "    <tr>\n",
       "      <th>2021-08-10 21:20:00+00:00</th>\n",
       "      <td>997.58</td>\n",
       "      <td>987.41</td>\n",
       "      <td>963.67</td>\n",
       "    </tr>\n",
       "    <tr>\n",
       "      <th>2021-08-10 21:21:00+00:00</th>\n",
       "      <td>998.34</td>\n",
       "      <td>987.41</td>\n",
       "      <td>964.39</td>\n",
       "    </tr>\n",
       "    <tr>\n",
       "      <th>2021-08-10 21:22:00+00:00</th>\n",
       "      <td>998.67</td>\n",
       "      <td>987.41</td>\n",
       "      <td>962.75</td>\n",
       "    </tr>\n",
       "    <tr>\n",
       "      <th>2021-08-10 21:23:00+00:00</th>\n",
       "      <td>998.73</td>\n",
       "      <td>987.41</td>\n",
       "      <td>962.75</td>\n",
       "    </tr>\n",
       "  </tbody>\n",
       "</table>\n",
       "</div>"
      ],
      "text/plain": [
       "                           Buy and hold  Trend Following with MACD  \\\n",
       "2021-08-10 21:19:00+00:00        997.46                     987.41   \n",
       "2021-08-10 21:20:00+00:00        997.58                     987.41   \n",
       "2021-08-10 21:21:00+00:00        998.34                     987.41   \n",
       "2021-08-10 21:22:00+00:00        998.67                     987.41   \n",
       "2021-08-10 21:23:00+00:00        998.73                     987.41   \n",
       "\n",
       "                           Random Investment  \n",
       "2021-08-10 21:19:00+00:00             962.88  \n",
       "2021-08-10 21:20:00+00:00             963.67  \n",
       "2021-08-10 21:21:00+00:00             964.39  \n",
       "2021-08-10 21:22:00+00:00             962.75  \n",
       "2021-08-10 21:23:00+00:00             962.75  "
      ]
     },
     "execution_count": 16,
     "metadata": {},
     "output_type": "execute_result"
    },
    {
     "name": "stdout",
     "output_type": "stream",
     "text": [
      " The base XETH isn't available in the portfolio.\n",
      " The base XETH isn't available in the portfolio.\n"
     ]
    }
   ],
   "source": [
    "tars.evaluate().tail()"
   ]
  },
  {
   "cell_type": "markdown",
   "id": "funded-popularity",
   "metadata": {},
   "source": [
    "## Stop the bot"
   ]
  },
  {
   "cell_type": "code",
   "execution_count": 18,
   "id": "devoted-assets",
   "metadata": {},
   "outputs": [
    {
     "name": "stdout",
     "output_type": "stream",
     "text": [
      " 🤖 TARS : ✋ Stopped all strategies\n"
     ]
    }
   ],
   "source": [
    "tars.stop()"
   ]
  },
  {
   "cell_type": "markdown",
   "id": "exposed-supplier",
   "metadata": {},
   "source": [
    "---"
   ]
  }
 ],
 "metadata": {
  "kernelspec": {
   "display_name": "Python 3",
   "language": "python",
   "name": "python3"
  },
  "language_info": {
   "codemirror_mode": {
    "name": "ipython",
    "version": 3
   },
   "file_extension": ".py",
   "mimetype": "text/x-python",
   "name": "python",
   "nbconvert_exporter": "python",
   "pygments_lexer": "ipython3",
   "version": "3.8.7"
  }
 },
 "nbformat": 4,
 "nbformat_minor": 5
}
