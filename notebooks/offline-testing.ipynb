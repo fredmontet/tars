{
 "cells": [
  {
   "cell_type": "code",
   "execution_count": 45,
   "id": "thirty-myrtle",
   "metadata": {
    "collapsed": false,
    "jupyter": {
     "outputs_hidden": false
    },
    "pycharm": {
     "name": "#%%\n"
    }
   },
   "outputs": [],
   "source": [
    "from src import TARS, markets, portfolios, traders, strategies\n",
    "import pandas as pd\n",
    "%matplotlib inline"
   ]
  },
  {
   "cell_type": "markdown",
   "id": "later-boundary",
   "metadata": {},
   "source": [
    "# Offline Testing\n",
    "\n",
    "Welcome on the offline testing environment from Tars. It uses the same API than the online environment, but with virtual money. It's the best place to test your strategies before going online!\n"
   ]
  },
  {
   "cell_type": "markdown",
   "id": "matched-granny",
   "metadata": {},
   "source": [
    "## Instanciate Tars"
   ]
  },
  {
   "cell_type": "code",
   "execution_count": 46,
   "id": "failing-medication",
   "metadata": {},
   "outputs": [],
   "source": [
    "root = '../'\n",
    "api_key = f'{root}kraken.key'"
   ]
  },
  {
   "cell_type": "code",
   "execution_count": 47,
   "id": "rotary-senior",
   "metadata": {},
   "outputs": [],
   "source": [
    "# Create Tars and its associated objects\n",
    "tars = TARS()\n",
    "\n",
    "portfolio_1 = portfolios.VirtualPortfolio({'ZUSD': 1000})\n",
    "trader_1 = traders.VirtualCryptoTrader(portfolio_1)\n",
    "\n",
    "portfolio_2 = portfolios.VirtualPortfolio({'ZUSD': 1000})\n",
    "trader_2 = traders.VirtualCryptoTrader(portfolio_2)\n",
    "\n",
    "portfolio_3 = portfolios.VirtualPortfolio({'ZUSD': 1000})\n",
    "trader_3 = traders.VirtualCryptoTrader(portfolio_3)"
   ]
  },
  {
   "cell_type": "code",
   "execution_count": 48,
   "id": "specific-black",
   "metadata": {},
   "outputs": [],
   "source": [
    "# Load strategies\n",
    "strategy_1 = strategies.BuyAndHold(trader_1, 'XETHZUSD', 0.2)\n",
    "strategy_2 = strategies.TrendFollowingMACD(trader_2, 'XETHZUSD', 0.2)\n",
    "strategy_3 = strategies.RandomInvestment(trader_3, 'XETHZUSD', 0.2)\n",
    "\n",
    "tars.load(strategy_1)\n",
    "tars.load(strategy_2)\n",
    "tars.load(strategy_3)"
   ]
  },
  {
   "cell_type": "markdown",
   "id": "placed-cancellation",
   "metadata": {},
   "source": [
    "## Start the bot"
   ]
  },
  {
   "cell_type": "code",
   "execution_count": 49,
   "id": "serious-platinum",
   "metadata": {},
   "outputs": [
    {
     "data": {
      "text/plain": [
       "True"
      ]
     },
     "execution_count": 49,
     "metadata": {},
     "output_type": "execute_result"
    }
   ],
   "source": [
    "# Start the bot with a loop frequency ten second\n",
    "tars.start('00:00:10')\n",
    "tars.is_running"
   ]
  },
  {
   "cell_type": "markdown",
   "id": "induced-liquid",
   "metadata": {},
   "source": [
    "## Evaluate the strategy"
   ]
  },
  {
   "cell_type": "code",
   "execution_count": 75,
   "id": "attended-butter",
   "metadata": {},
   "outputs": [
    {
     "data": {
      "image/png": "[encoded data removed]",
      "text/plain": [
       "<Figure size 432x288 with 1 Axes>"
      ]
     },
     "metadata": {
      "needs_background": "light"
     },
     "output_type": "display_data"
    },
    {
     "name": "stderr",
     "output_type": "stream",
     "text": [
      "ERROR:root:The base XETH isn't available in the portfolio.\n"
     ]
    }
   ],
   "source": [
    "#col = 'value'\n",
    "col = 'total net profit'\n",
    "#col = 'profit factor'\n",
    "#col = 'average trade net profit'\n",
    "\n",
    "s1 = strategy_1.evaluator.evaluate()[col]\n",
    "s1.name = 'buy and hold'\n",
    "\n",
    "s2 = strategy_2.evaluator.evaluate()[col]\n",
    "s2.name = 'trend following MACD'\n",
    "\n",
    "s3 = strategy_3.evaluator.evaluate()[col]\n",
    "s3.name = 'random'\n",
    "\n",
    "s1.plot(legend=True)\n",
    "s2.plot(legend=True)\n",
    "s3.plot(legend=True);"
   ]
  },
  {
   "cell_type": "code",
   "execution_count": 36,
   "id": "british-certificate",
   "metadata": {},
   "outputs": [
    {
     "data": {
      "text/html": [
       "<div>\n",
       "<style scoped>\n",
       "    .dataframe tbody tr th:only-of-type {\n",
       "        vertical-align: middle;\n",
       "    }\n",
       "\n",
       "    .dataframe tbody tr th {\n",
       "        vertical-align: top;\n",
       "    }\n",
       "\n",
       "    .dataframe thead th {\n",
       "        text-align: right;\n",
       "    }\n",
       "</style>\n",
       "<table border=\"1\" class=\"dataframe\">\n",
       "  <thead>\n",
       "    <tr style=\"text-align: right;\">\n",
       "      <th></th>\n",
       "      <th>value</th>\n",
       "      <th>total net profit</th>\n",
       "      <th>profit factor</th>\n",
       "      <th>average trade net profit</th>\n",
       "    </tr>\n",
       "  </thead>\n",
       "  <tbody>\n",
       "    <tr>\n",
       "      <th>2021-08-10 15:22:46.714391+00:00</th>\n",
       "      <td>1000</td>\n",
       "      <td>0</td>\n",
       "      <td>1.0</td>\n",
       "      <td>0.0</td>\n",
       "    </tr>\n",
       "    <tr>\n",
       "      <th>2021-08-10 15:23:02.107088+00:00</th>\n",
       "      <td>1000</td>\n",
       "      <td>0</td>\n",
       "      <td>1.0</td>\n",
       "      <td>0.0</td>\n",
       "    </tr>\n",
       "    <tr>\n",
       "      <th>2021-08-10 15:23:18.713550+00:00</th>\n",
       "      <td>1000</td>\n",
       "      <td>0</td>\n",
       "      <td>1.0</td>\n",
       "      <td>0.0</td>\n",
       "    </tr>\n",
       "    <tr>\n",
       "      <th>2021-08-10 15:23:34.973466+00:00</th>\n",
       "      <td>1000</td>\n",
       "      <td>0</td>\n",
       "      <td>1.0</td>\n",
       "      <td>0.0</td>\n",
       "    </tr>\n",
       "    <tr>\n",
       "      <th>2021-08-10 15:23:49.024938+00:00</th>\n",
       "      <td>1000</td>\n",
       "      <td>0</td>\n",
       "      <td>1.0</td>\n",
       "      <td>0.0</td>\n",
       "    </tr>\n",
       "    <tr>\n",
       "      <th>2021-08-10 15:24:04.473249+00:00</th>\n",
       "      <td>1000</td>\n",
       "      <td>0</td>\n",
       "      <td>1.0</td>\n",
       "      <td>0.0</td>\n",
       "    </tr>\n",
       "  </tbody>\n",
       "</table>\n",
       "</div>"
      ],
      "text/plain": [
       "                                  value  total net profit  profit factor  \\\n",
       "2021-08-10 15:22:46.714391+00:00   1000                 0            1.0   \n",
       "2021-08-10 15:23:02.107088+00:00   1000                 0            1.0   \n",
       "2021-08-10 15:23:18.713550+00:00   1000                 0            1.0   \n",
       "2021-08-10 15:23:34.973466+00:00   1000                 0            1.0   \n",
       "2021-08-10 15:23:49.024938+00:00   1000                 0            1.0   \n",
       "2021-08-10 15:24:04.473249+00:00   1000                 0            1.0   \n",
       "\n",
       "                                  average trade net profit  \n",
       "2021-08-10 15:22:46.714391+00:00                       0.0  \n",
       "2021-08-10 15:23:02.107088+00:00                       0.0  \n",
       "2021-08-10 15:23:18.713550+00:00                       0.0  \n",
       "2021-08-10 15:23:34.973466+00:00                       0.0  \n",
       "2021-08-10 15:23:49.024938+00:00                       0.0  \n",
       "2021-08-10 15:24:04.473249+00:00                       0.0  "
      ]
     },
     "execution_count": 36,
     "metadata": {},
     "output_type": "execute_result"
    }
   ],
   "source": [
    "strategy_2.evaluator.evaluate()"
   ]
  },
  {
   "cell_type": "code",
   "execution_count": 34,
   "id": "patent-subdivision",
   "metadata": {},
   "outputs": [
    {
     "data": {
      "image/png": "[encoded data removed]",
      "text/plain": [
       "<Figure size 432x288 with 1 Axes>"
      ]
     },
     "metadata": {
      "needs_background": "light"
     },
     "output_type": "display_data"
    }
   ],
   "source": [
    "markets.CryptoMarket().get_ohlc_data(pair='XETHZUSD')[0]['close'].plot();"
   ]
  },
  {
   "cell_type": "markdown",
   "id": "reasonable-glasgow",
   "metadata": {},
   "source": [
    "## Stop the bot"
   ]
  },
  {
   "cell_type": "code",
   "execution_count": 44,
   "id": "adequate-allergy",
   "metadata": {},
   "outputs": [
    {
     "data": {
      "text/plain": [
       "False"
      ]
     },
     "execution_count": 44,
     "metadata": {},
     "output_type": "execute_result"
    }
   ],
   "source": [
    "tars.stop()\n",
    "tars.is_running"
   ]
  },
  {
   "cell_type": "markdown",
   "id": "interior-bearing",
   "metadata": {},
   "source": [
    "---"
   ]
  }
 ],
 "metadata": {
  "kernelspec": {
   "display_name": "Python 3",
   "language": "python",
   "name": "python3"
  },
  "language_info": {
   "codemirror_mode": {
    "name": "ipython",
    "version": 3
   },
   "file_extension": ".py",
   "mimetype": "text/x-python",
   "name": "python",
   "nbconvert_exporter": "python",
   "pygments_lexer": "ipython3",
   "version": "3.8.7"
  }
 },
 "nbformat": 4,
 "nbformat_minor": 5
}
