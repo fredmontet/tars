{
 "cells": [
  {
   "cell_type": "code",
   "execution_count": 11,
   "id": "internal-windsor",
   "metadata": {
    "collapsed": false,
    "jupyter": {
     "outputs_hidden": false
    },
    "pycharm": {
     "name": "#%%\n"
    }
   },
   "outputs": [],
   "source": [
    "from src import TARS, markets, portfolios, traders, strategies\n",
    "import pandas as pd\n",
    "%matplotlib inline"
   ]
  },
  {
   "cell_type": "markdown",
   "id": "familiar-prevention",
   "metadata": {},
   "source": [
    "# Workbench\n",
    "\n",
    "This is your place to try things and build new strategies. Be foolish!"
   ]
  },
  {
   "cell_type": "markdown",
   "id": "random-singapore",
   "metadata": {},
   "source": [
    "## Instanciate Tars"
   ]
  },
  {
   "cell_type": "code",
   "execution_count": 2,
   "id": "divided-spread",
   "metadata": {},
   "outputs": [],
   "source": [
    "root = '../'\n",
    "api_key = f'{root}kraken.key'"
   ]
  },
  {
   "cell_type": "code",
   "execution_count": 3,
   "id": "active-drunk",
   "metadata": {},
   "outputs": [],
   "source": [
    "# Create Tars and its associated objects\n",
    "tars = TARS()\n",
    "\n",
    "portfolio_1 = portfolios.VirtualPortfolio({'ZUSD': 1000})\n",
    "trader_1 = traders.VirtualCryptoTrader(portfolio_1)\n",
    "\n",
    "portfolio_2 = portfolios.VirtualPortfolio({'ZUSD': 1000})\n",
    "trader_2 = traders.VirtualCryptoTrader(portfolio_2)"
   ]
  },
  {
   "cell_type": "code",
   "execution_count": 4,
   "id": "hungry-carol",
   "metadata": {},
   "outputs": [],
   "source": [
    "# Load strategies\n",
    "strategy_1 = strategies.BuyAndHold(trader_1, 'XETHZUSD', 0.2)\n",
    "strategy_2 = strategies.SequentialInvestment(trader_2, 'XETHZUSD', 0.2, 6, \"00:01:00\")\n",
    "\n",
    "tars.load(strategy_1)\n",
    "tars.load(strategy_2)"
   ]
  },
  {
   "cell_type": "markdown",
   "id": "structural-virus",
   "metadata": {},
   "source": [
    "## Start the bot"
   ]
  },
  {
   "cell_type": "code",
   "execution_count": 5,
   "id": "possible-cricket",
   "metadata": {},
   "outputs": [
    {
     "data": {
      "text/plain": [
       "True"
      ]
     },
     "execution_count": 5,
     "metadata": {},
     "output_type": "execute_result"
    }
   ],
   "source": [
    "# Start the bot with a loop frequency ten second\n",
    "tars.start('00:00:10')\n",
    "tars.is_running"
   ]
  },
  {
   "cell_type": "markdown",
   "id": "primary-accounting",
   "metadata": {},
   "source": [
    "## Evaluate the strategy"
   ]
  },
  {
   "cell_type": "code",
   "execution_count": 10,
   "id": "dietary-phoenix",
   "metadata": {},
   "outputs": [
    {
     "data": {
      "image/png": "[encoded data removed]",
      "text/plain": [
       "<Figure size 432x288 with 1 Axes>"
      ]
     },
     "metadata": {
      "needs_background": "light"
     },
     "output_type": "display_data"
    }
   ],
   "source": [
    "#col = 'value'\n",
    "col = 'total net profit'\n",
    "#col = 'profit factor'\n",
    "#col = 'average trade net profit'\n",
    "\n",
    "\n",
    "s1 = strategy_1.evaluator.evaluate()[col]\n",
    "s1.name = 'buy and hold'\n",
    "\n",
    "s2 = strategy_2.evaluator.evaluate()[col]\n",
    "s2.name = 'sequential'\n",
    "\n",
    "s1.plot(legend=True)\n",
    "s2.plot(legend=True);"
   ]
  },
  {
   "cell_type": "code",
   "execution_count": 9,
   "id": "detected-lender",
   "metadata": {},
   "outputs": [
    {
     "data": {
      "text/html": [
       "<div>\n",
       "<style scoped>\n",
       "    .dataframe tbody tr th:only-of-type {\n",
       "        vertical-align: middle;\n",
       "    }\n",
       "\n",
       "    .dataframe tbody tr th {\n",
       "        vertical-align: top;\n",
       "    }\n",
       "\n",
       "    .dataframe thead th {\n",
       "        text-align: right;\n",
       "    }\n",
       "</style>\n",
       "<table border=\"1\" class=\"dataframe\">\n",
       "  <thead>\n",
       "    <tr style=\"text-align: right;\">\n",
       "      <th></th>\n",
       "      <th>value</th>\n",
       "      <th>total net profit</th>\n",
       "      <th>profit factor</th>\n",
       "      <th>average trade net profit</th>\n",
       "    </tr>\n",
       "  </thead>\n",
       "  <tbody>\n",
       "    <tr>\n",
       "      <th>2021-08-10 07:32:39.545386+00:00</th>\n",
       "      <td>1000.000</td>\n",
       "      <td>0.000</td>\n",
       "      <td>1.000000</td>\n",
       "      <td>0.000000</td>\n",
       "    </tr>\n",
       "    <tr>\n",
       "      <th>2021-08-10 07:34:07.625810+00:00</th>\n",
       "      <td>999.590</td>\n",
       "      <td>-0.410</td>\n",
       "      <td>0.999590</td>\n",
       "      <td>-0.068333</td>\n",
       "    </tr>\n",
       "    <tr>\n",
       "      <th>2021-08-10 07:34:17.883032+00:00</th>\n",
       "      <td>999.918</td>\n",
       "      <td>-0.082</td>\n",
       "      <td>0.999918</td>\n",
       "      <td>-0.013667</td>\n",
       "    </tr>\n",
       "    <tr>\n",
       "      <th>2021-08-10 07:34:28.760074+00:00</th>\n",
       "      <td>999.920</td>\n",
       "      <td>-0.080</td>\n",
       "      <td>0.999920</td>\n",
       "      <td>-0.013333</td>\n",
       "    </tr>\n",
       "    <tr>\n",
       "      <th>2021-08-10 07:34:39.016248+00:00</th>\n",
       "      <td>999.640</td>\n",
       "      <td>-0.360</td>\n",
       "      <td>0.999640</td>\n",
       "      <td>-0.060000</td>\n",
       "    </tr>\n",
       "    <tr>\n",
       "      <th>2021-08-10 07:34:49.268243+00:00</th>\n",
       "      <td>999.320</td>\n",
       "      <td>-0.680</td>\n",
       "      <td>0.999320</td>\n",
       "      <td>-0.113333</td>\n",
       "    </tr>\n",
       "    <tr>\n",
       "      <th>2021-08-10 07:34:59.523618+00:00</th>\n",
       "      <td>1000.118</td>\n",
       "      <td>0.118</td>\n",
       "      <td>1.000118</td>\n",
       "      <td>0.019667</td>\n",
       "    </tr>\n",
       "    <tr>\n",
       "      <th>2021-08-10 07:35:09.775762+00:00</th>\n",
       "      <td>999.946</td>\n",
       "      <td>-0.054</td>\n",
       "      <td>0.999946</td>\n",
       "      <td>-0.009000</td>\n",
       "    </tr>\n",
       "    <tr>\n",
       "      <th>2021-08-10 07:35:20.028211+00:00</th>\n",
       "      <td>999.946</td>\n",
       "      <td>-0.054</td>\n",
       "      <td>0.999946</td>\n",
       "      <td>-0.009000</td>\n",
       "    </tr>\n",
       "    <tr>\n",
       "      <th>2021-08-10 07:35:30.287565+00:00</th>\n",
       "      <td>999.946</td>\n",
       "      <td>-0.054</td>\n",
       "      <td>0.999946</td>\n",
       "      <td>-0.009000</td>\n",
       "    </tr>\n",
       "    <tr>\n",
       "      <th>2021-08-10 07:35:40.558771+00:00</th>\n",
       "      <td>999.488</td>\n",
       "      <td>-0.512</td>\n",
       "      <td>0.999488</td>\n",
       "      <td>-0.085333</td>\n",
       "    </tr>\n",
       "    <tr>\n",
       "      <th>2021-08-10 07:35:50.828575+00:00</th>\n",
       "      <td>999.204</td>\n",
       "      <td>-0.796</td>\n",
       "      <td>0.999204</td>\n",
       "      <td>-0.132667</td>\n",
       "    </tr>\n",
       "    <tr>\n",
       "      <th>2021-08-10 07:36:01.087961+00:00</th>\n",
       "      <td>999.204</td>\n",
       "      <td>-0.796</td>\n",
       "      <td>0.999204</td>\n",
       "      <td>-0.132667</td>\n",
       "    </tr>\n",
       "    <tr>\n",
       "      <th>2021-08-10 07:36:11.344137+00:00</th>\n",
       "      <td>998.922</td>\n",
       "      <td>-1.078</td>\n",
       "      <td>0.998922</td>\n",
       "      <td>-0.179667</td>\n",
       "    </tr>\n",
       "  </tbody>\n",
       "</table>\n",
       "</div>"
      ],
      "text/plain": [
       "                                     value  total net profit  profit factor  \\\n",
       "2021-08-10 07:32:39.545386+00:00  1000.000             0.000       1.000000   \n",
       "2021-08-10 07:34:07.625810+00:00   999.590            -0.410       0.999590   \n",
       "2021-08-10 07:34:17.883032+00:00   999.918            -0.082       0.999918   \n",
       "2021-08-10 07:34:28.760074+00:00   999.920            -0.080       0.999920   \n",
       "2021-08-10 07:34:39.016248+00:00   999.640            -0.360       0.999640   \n",
       "2021-08-10 07:34:49.268243+00:00   999.320            -0.680       0.999320   \n",
       "2021-08-10 07:34:59.523618+00:00  1000.118             0.118       1.000118   \n",
       "2021-08-10 07:35:09.775762+00:00   999.946            -0.054       0.999946   \n",
       "2021-08-10 07:35:20.028211+00:00   999.946            -0.054       0.999946   \n",
       "2021-08-10 07:35:30.287565+00:00   999.946            -0.054       0.999946   \n",
       "2021-08-10 07:35:40.558771+00:00   999.488            -0.512       0.999488   \n",
       "2021-08-10 07:35:50.828575+00:00   999.204            -0.796       0.999204   \n",
       "2021-08-10 07:36:01.087961+00:00   999.204            -0.796       0.999204   \n",
       "2021-08-10 07:36:11.344137+00:00   998.922            -1.078       0.998922   \n",
       "\n",
       "                                  average trade net profit  \n",
       "2021-08-10 07:32:39.545386+00:00                  0.000000  \n",
       "2021-08-10 07:34:07.625810+00:00                 -0.068333  \n",
       "2021-08-10 07:34:17.883032+00:00                 -0.013667  \n",
       "2021-08-10 07:34:28.760074+00:00                 -0.013333  \n",
       "2021-08-10 07:34:39.016248+00:00                 -0.060000  \n",
       "2021-08-10 07:34:49.268243+00:00                 -0.113333  \n",
       "2021-08-10 07:34:59.523618+00:00                  0.019667  \n",
       "2021-08-10 07:35:09.775762+00:00                 -0.009000  \n",
       "2021-08-10 07:35:20.028211+00:00                 -0.009000  \n",
       "2021-08-10 07:35:30.287565+00:00                 -0.009000  \n",
       "2021-08-10 07:35:40.558771+00:00                 -0.085333  \n",
       "2021-08-10 07:35:50.828575+00:00                 -0.132667  \n",
       "2021-08-10 07:36:01.087961+00:00                 -0.132667  \n",
       "2021-08-10 07:36:11.344137+00:00                 -0.179667  "
      ]
     },
     "execution_count": 9,
     "metadata": {},
     "output_type": "execute_result"
    }
   ],
   "source": [
    "strategy_2.evaluator.evaluate()"
   ]
  },
  {
   "cell_type": "markdown",
   "id": "certain-skating",
   "metadata": {},
   "source": [
    "## Stop the bot"
   ]
  },
  {
   "cell_type": "code",
   "execution_count": 28,
   "id": "olive-medicine",
   "metadata": {},
   "outputs": [
    {
     "data": {
      "text/plain": [
       "False"
      ]
     },
     "execution_count": 28,
     "metadata": {},
     "output_type": "execute_result"
    }
   ],
   "source": [
    "tars.stop()\n",
    "tars.is_running"
   ]
  },
  {
   "cell_type": "markdown",
   "id": "lasting-scottish",
   "metadata": {},
   "source": [
    "---"
   ]
  }
 ],
 "metadata": {
  "kernelspec": {
   "display_name": "Python 3",
   "language": "python",
   "name": "python3"
  },
  "language_info": {
   "codemirror_mode": {
    "name": "ipython",
    "version": 3
   },
   "file_extension": ".py",
   "mimetype": "text/x-python",
   "name": "python",
   "nbconvert_exporter": "python",
   "pygments_lexer": "ipython3",
   "version": "3.8.7"
  }
 },
 "nbformat": 4,
 "nbformat_minor": 5
}
