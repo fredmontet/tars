{
 "cells": [
  {
   "cell_type": "markdown",
   "metadata": {},
   "source": [
    "In this post we will look at a cross-sectional mean reversion strategy from Ernest Chan's book [Algorithmic Trading: Winning Strategies and Their Rationale](https://amzn.to/2VptDjd) and backtest its performance using [Backtrader](https://www.backtrader.com/)."
   ]
  },
  {
   "cell_type": "markdown",
   "metadata": {},
   "source": [
    "Typically, a cross-sectional mean reversion strategy is fed a universe of stocks, where each stock has its own relative returns compared to the mean returns of the universe. A stock with a *positive* relative return is *shorted* while a stock with a *negative* relative return is *bought*, in hopes that a stock that under or outperformed the universe will soon revert to the mean of the universe."
   ]
  },
  {
   "cell_type": "markdown",
   "metadata": {},
   "source": [
    "The strategy described in Chan's book is as follows: Everyday, every stock $i$ in the universe is assigned a weight $w_i$ according to the following formula:"
   ]
  },
  {
   "cell_type": "markdown",
   "metadata": {},
   "source": [
    "$$ w_i = -(r_i - r_m) / \\sum_k | r_k - r_m | $$"
   ]
  },
  {
   "cell_type": "markdown",
   "metadata": {},
   "source": [
    "Where $r_m$ is the mean returns of the universe. This weight will tell us how much of the portfolio will be long or short that particular stock. As we can see in the formula, the farther an individual stock's returns are from the mean, the greater its weight will be."
   ]
  },
  {
   "cell_type": "markdown",
   "metadata": {},
   "source": [
    "## Collecting Data"
   ]
  },
  {
   "cell_type": "markdown",
   "metadata": {},
   "source": [
    "In order to test this strategy, we will need to select a universe of stocks. In this case we will use the S&P 500. So we don't have to re-download the data between backtests, lets download daily data for all the tickers in the S&P 500. We'll start by reading in the list of tickers from [Wikipedia](https://en.wikipedia.org/wiki/List_of_S%26P_500_companies), and save them to a file `spy/tickers.csv`."
   ]
  },
  {
   "cell_type": "code",
   "execution_count": 53,
   "metadata": {},
   "outputs": [],
   "source": [
    "import pandas as pd\n",
    "import pandas_datareader.data as web\n",
    "import backtrader as bt\n",
    "import numpy as np\n",
    "from datetime import datetime \n",
    "\n",
    "data = pd.read_html('https://en.wikipedia.org/wiki/List_of_S%26P_500_companies')\n",
    "table = data[0]\n",
    "tickers = table[1:][0].tolist()\n",
    "pd.Series(tickers).to_csv(\"spy/tickers.csv\")"
   ]
  },
  {
   "cell_type": "markdown",
   "metadata": {},
   "source": [
    "Now that we have a the list of tickers, we can download all of the data from the past 5 years. We will use `concurrent.futures.ThreadPoolExecutor` to speed up the task."
   ]
  },
  {
   "cell_type": "code",
   "execution_count": 54,
   "metadata": {},
   "outputs": [],
   "source": [
    "from concurrent import futures \n",
    "\n",
    "end = datetime.now() \n",
    "start = datetime(end.year - 5, end.month , end.day)\n",
    "bad = []\n",
    "\n",
    "def download(ticker):\n",
    "    df = web.DataReader(ticker,'iex', start, end)\n",
    "    df.to_csv(f\"spy/{ticker}.csv\")\n",
    "\n",
    "with futures.ThreadPoolExecutor(50) as executor: \n",
    "    res = executor.map(download, tickers) \n"
   ]
  },
  {
   "cell_type": "markdown",
   "metadata": {},
   "source": [
    "Now we should have all our data in the `spy` directory! Now we can get to writing the strategy."
   ]
  },
  {
   "cell_type": "markdown",
   "metadata": {},
   "source": [
    "## Strategy"
   ]
  },
  {
   "cell_type": "markdown",
   "metadata": {},
   "source": [
    "Here is the full strategy using the above formula."
   ]
  },
  {
   "cell_type": "code",
   "execution_count": 55,
   "metadata": {},
   "outputs": [],
   "source": [
    "class CrossSectionalMR(bt.Strategy):\n",
    "    def prenext(self):\n",
    "        self.next()\n",
    "    \n",
    "    def next(self):\n",
    "        # only look at data that existed yesterday\n",
    "        available = list(filter(lambda d: len(d), self.datas)) \n",
    "        \n",
    "        rets = np.zeros(len(available))\n",
    "        for i, d in enumerate(available):\n",
    "            # calculate individual daily returns\n",
    "            rets[i] = (d.close[0]- d.close[-1]) / d.close[-1]\n",
    "\n",
    "        # calculate weights using formula\n",
    "        market_ret = np.mean(rets)\n",
    "        weights = -(rets - market_ret)\n",
    "        weights = weights / np.sum(np.abs(weights))\n",
    "        \n",
    "        for i, d in enumerate(available):\n",
    "            self.order_target_percent(d, target=weights[i])"
   ]
  },
  {
   "cell_type": "markdown",
   "metadata": {},
   "source": [
    "Note: It is worth mentioning that Backtrader only calls a strategy's `next()` method when it has a price tick from every data feed. This means that by default the strategy will not trade if, for example, a company in the universe has not started trading publicly yet. We can circumvent this issue by calling `next()` in `prenext()` and then applying the weight calculation formula to only stocks in which we have data to."
   ]
  },
  {
   "cell_type": "markdown",
   "metadata": {},
   "source": [
    "## Backtesting"
   ]
  },
  {
   "cell_type": "markdown",
   "metadata": {},
   "source": [
    "We're ready to backtest! Lets see how this strategy works with an initial capital of $1,000,000."
   ]
  },
  {
   "cell_type": "code",
   "execution_count": 41,
   "metadata": {},
   "outputs": [],
   "source": [
    "cerebro = bt.Cerebro(stdstats=False)\n",
    "cerebro.broker.set_coc(True)\n",
    "\n",
    "for ticker in tickers:\n",
    "    data = bt.feeds.GenericCSVData(\n",
    "        fromdate=start,\n",
    "        todate=end,\n",
    "        dataname=f\"spy/{ticker}.csv\",\n",
    "        dtformat=('%Y-%m-%d'),\n",
    "        openinterest=-1,\n",
    "        nullvalue=0.0,\n",
    "        plot=False\n",
    "    )\n",
    "    cerebro.adddata(data)\n",
    "\n",
    "cerebro.broker.setcash(1_000_000)\n",
    "cerebro.addobserver(bt.observers.Value)\n",
    "cerebro.addanalyzer(bt.analyzers.SharpeRatio, riskfreerate=0.0)\n",
    "cerebro.addanalyzer(bt.analyzers.Returns)\n",
    "cerebro.addanalyzer(bt.analyzers.DrawDown)\n",
    "cerebro.addstrategy(CrossSectionalMR)\n",
    "results = cerebro.run()"
   ]
  },
  {
   "cell_type": "code",
   "execution_count": 64,
   "metadata": {},
   "outputs": [
    {
     "name": "stdout",
     "output_type": "stream",
     "text": [
      "Sharpe: 1.173\n",
      "Norm. Annual Return: 7.98%\n",
      "Max Drawdown: 6.58%\n"
     ]
    },
    {
     "data": {
      "image/png": "[encoded data removed]",
      "text/plain": [
       "<Figure size 432x288 with 1 Axes>"
      ]
     },
     "execution_count": 64,
     "metadata": {},
     "output_type": "execute_result"
    }
   ],
   "source": [
    "print(f\"Sharpe: {results[0].analyzers.sharperatio.get_analysis()['sharperatio']:.3f}\")\n",
    "print(f\"Norm. Annual Return: {results[0].analyzers.returns.get_analysis()['rnorm100']:.2f}%\")\n",
    "print(f\"Max Drawdown: {results[0].analyzers.drawdown.get_analysis()['max']['drawdown']:.2f}%\")\n",
    "cerebro.plot()[0][0]"
   ]
  },
  {
   "cell_type": "markdown",
   "metadata": {},
   "source": [
    "## Conclusion"
   ]
  },
  {
   "cell_type": "markdown",
   "metadata": {},
   "source": [
    "As we can see the algorithm did fairly well! It had a Sharpe ratio of 1.17 with a normalized annual return of 7.9%. Although the returns might not be much better then buying and holding SPY, the volatility is greatly reduced. We do, however, have to take a few things into consideration:\n",
    "\n",
    "1. The dataset we are using may have a slight survivorship bias as it does not contain companies who where in the S&P 500 5 years ago, but have since been removed.\n",
    "\n",
    "2. The above backtest assumes that it will compute weights at market close then be able to trade at the exact market close price. In reality we wouldn't be able to compute weights with the exact close price, but it would be pretty close.\n",
    "\n",
    "3. Since this particular algorithm trades every stock in the universe at once, the investor will need a large amount of capitol to accurately match the computed weights."
   ]
  }
 ],
 "metadata": {
  "kernelspec": {
   "display_name": "Python 3",
   "language": "python",
   "name": "python3"
  },
  "language_info": {
   "codemirror_mode": {
    "name": "ipython",
    "version": 3
   },
   "file_extension": ".py",
   "mimetype": "text/x-python",
   "name": "python",
   "nbconvert_exporter": "python",
   "pygments_lexer": "ipython3",
   "version": "3.7.3"
  },
  "name": "Backtesting a Cross-Sectional Mean Reversion Strategy in Python"
 },
 "nbformat": 4,
 "nbformat_minor": 2
}
